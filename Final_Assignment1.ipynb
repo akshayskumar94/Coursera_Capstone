{
 "metadata": {
  "language_info": {
   "codemirror_mode": {
    "name": "ipython",
    "version": 3
   },
   "file_extension": ".py",
   "mimetype": "text/x-python",
   "name": "python",
   "nbconvert_exporter": "python",
   "pygments_lexer": "ipython3",
   "version": "3.8.5"
  },
  "orig_nbformat": 2,
  "kernelspec": {
   "name": "python385jvsc74a57bd03677a8e1c44da040dc0906c8dc9e041871967a0aba89dad8041efde5a549d202",
   "display_name": "Python 3.8.5 64-bit ('base': conda)"
  }
 },
 "nbformat": 4,
 "nbformat_minor": 2,
 "cells": [
  {
   "cell_type": "code",
   "execution_count": 49,
   "metadata": {},
   "outputs": [],
   "source": [
    "import pandas as pd \n",
    "from bs4 import BeautifulSoup\n",
    "import requests\n",
    "import re\n",
    "from geopy.geocoders import Nominatim "
   ]
  },
  {
   "cell_type": "code",
   "execution_count": 2,
   "metadata": {},
   "outputs": [],
   "source": [
    "url='https://en.wikipedia.org/wiki/List_of_postal_codes_of_Canada:_M'"
   ]
  },
  {
   "cell_type": "code",
   "execution_count": 3,
   "metadata": {},
   "outputs": [],
   "source": [
    "data=requests.get(url).text"
   ]
  },
  {
   "cell_type": "code",
   "execution_count": 4,
   "metadata": {},
   "outputs": [],
   "source": [
    "soup=BeautifulSoup(data)"
   ]
  },
  {
   "cell_type": "code",
   "execution_count": 5,
   "metadata": {},
   "outputs": [],
   "source": [
    "table=soup.find_all('table')"
   ]
  },
  {
   "cell_type": "code",
   "execution_count": 6,
   "metadata": {},
   "outputs": [],
   "source": [
    "df=pd.DataFrame(columns=['PostalCode','Borough','Neighborhood'])"
   ]
  },
  {
   "cell_type": "code",
   "execution_count": 7,
   "metadata": {},
   "outputs": [],
   "source": [
    "lis1=[]\n",
    "for i  in range(0,20):\n",
    "        for j in range(0,9):\n",
    "                lis1.append(table[0].find_all('tr')[i].find_all('td')[j].text.strip())"
   ]
  },
  {
   "cell_type": "code",
   "execution_count": 31,
   "metadata": {},
   "outputs": [
    {
     "output_type": "execute_result",
     "data": {
      "text/plain": [
       "['North York(Parkwoods)',\n",
       " 'North York(Victoria Village)',\n",
       " 'Downtown Toronto(Regent Park / Harbourfront)',\n",
       " 'North York(Lawrence Manor / Lawrence Heights)',\n",
       " \"Queen's Park(Ontario Provincial Government)\",\n",
       " 'Etobicoke(Islington Avenue)',\n",
       " 'Scarborough(Malvern / Rouge)',\n",
       " 'North York(Don Mills)North',\n",
       " 'East York(Parkview Hill / Woodbine Gardens)',\n",
       " 'Downtown Toronto(Garden District, Ryerson)',\n",
       " 'North York(Glencairn)',\n",
       " 'Etobicoke(West Deane Park / Princess Gardens / Martin Grove / Islington / Cloverdale)',\n",
       " 'Scarborough(Rouge Hill / Port Union / Highland Creek)',\n",
       " 'North York(Don Mills)South(Flemingdon Park)',\n",
       " 'East York(Woodbine Heights)',\n",
       " 'Downtown Toronto(St. James Town)',\n",
       " 'York(Humewood-Cedarvale)',\n",
       " 'Etobicoke(Eringate / Bloordale Gardens / Old Burnhamthorpe / Markland Wood)',\n",
       " 'Scarborough(Guildwood / Morningside / West Hill)',\n",
       " 'East Toronto(The Beaches)',\n",
       " 'Downtown Toronto(Berczy Park)',\n",
       " 'York(Caledonia-Fairbanks)',\n",
       " 'Scarborough(Woburn)',\n",
       " 'East York(Leaside)',\n",
       " 'Downtown Toronto(Central Bay Street)',\n",
       " 'Downtown Toronto(Christie)',\n",
       " 'Scarborough(Cedarbrae)',\n",
       " 'North York(Hillcrest Village)',\n",
       " 'North York(Bathurst Manor / Wilson Heights / Downsview North)',\n",
       " 'East York(Thorncliffe Park)',\n",
       " 'Downtown Toronto(Richmond / Adelaide / King)',\n",
       " 'West Toronto(Dufferin / Dovercourt Village)',\n",
       " 'Scarborough(Scarborough Village)',\n",
       " 'North York(Fairview / Henry Farm / Oriole)',\n",
       " 'North York(Northwood Park / York University)',\n",
       " 'East YorkEast Toronto(The Danforth  East)',\n",
       " 'Downtown Toronto(Harbourfront East / Union Station / Toronto Islands)',\n",
       " 'West Toronto(Little Portugal / Trinity)',\n",
       " 'Scarborough(Kennedy Park / Ionview / East Birchmount Park)',\n",
       " 'North York(Bayview Village)',\n",
       " 'North York(Downsview)East  (CFB Toronto)',\n",
       " 'East Toronto(The Danforth West / Riverdale)',\n",
       " 'Downtown Toronto(Toronto Dominion Centre / Design Exchange)',\n",
       " 'West Toronto(Brockton / Parkdale Village / Exhibition Place)',\n",
       " 'Scarborough(Golden Mile / Clairlea / Oakridge)',\n",
       " 'North York(York Mills / Silver Hills)',\n",
       " 'North York(Downsview)West',\n",
       " 'East Toronto(India Bazaar / The Beaches West)',\n",
       " 'Downtown Toronto(Commerce Court / Victoria Hotel)',\n",
       " 'North York(North Park / Maple Leaf Park / Upwood Park)',\n",
       " 'North York(Humber Summit)',\n",
       " 'Scarborough(Cliffside / Cliffcrest / Scarborough Village West)',\n",
       " 'North York(Willowdale / Newtonbrook)',\n",
       " 'North York(Downsview)Central',\n",
       " 'East Toronto(Studio District)',\n",
       " 'North York(Bedford Park / Lawrence Manor East)',\n",
       " 'York(Del Ray / Mount Dennis / Keelsdale and Silverthorn)',\n",
       " 'North York(Humberlea / Emery)',\n",
       " 'Scarborough(Birch Cliff / Cliffside West)',\n",
       " 'North York(Willowdale)South',\n",
       " 'North York(Downsview)Northwest',\n",
       " 'Central Toronto(Lawrence Park)',\n",
       " 'Central Toronto(Roselawn)',\n",
       " 'York(Runnymede / The Junction North)',\n",
       " 'Scarborough(Dorset Park / Wexford Heights / Scarborough Town Centre)',\n",
       " 'North York(York Mills West)',\n",
       " 'Central Toronto(Davisville North)',\n",
       " 'Central Toronto(Forest Hill North & West)',\n",
       " 'West Toronto(High Park / The Junction South)',\n",
       " 'Etobicoke(Westmount)',\n",
       " 'Scarborough(Wexford / Maryvale)',\n",
       " 'North York(Willowdale)West',\n",
       " 'Central Toronto(North Toronto West)',\n",
       " 'Central Toronto(The Annex / North Midtown / Yorkville)',\n",
       " 'West Toronto(Parkdale / Roncesvalles)',\n",
       " 'MississaugaCanada Post Gateway Processing Centre(Enclave of L4W)',\n",
       " 'Etobicoke(Kingsview Village / St. Phillips / Martin Grove Gardens / Richview Gardens)',\n",
       " 'Scarborough(Agincourt)',\n",
       " 'Central Toronto(Davisville)',\n",
       " 'Downtown Toronto(University of Toronto / Harbord)',\n",
       " 'West Toronto(Runnymede / Swansea)',\n",
       " \"Scarborough(Clarks Corners / Tam O'Shanter / Sullivan)\",\n",
       " 'Central Toronto(Moore Park / Summerhill East)',\n",
       " 'Downtown Toronto(Kensington Market / Chinatown / Grange Park)',\n",
       " \"Scarborough(Milliken / Agincourt North / Steeles East / L'Amoreaux East)\",\n",
       " 'Central Toronto(Summerhill West / Rathnelly / South Hill / Forest Hill SE / Deer Park)',\n",
       " 'Downtown Toronto(CN Tower / King and Spadina / Railway Lands / Harbourfront West / Bathurst Quay / South Niagara / Island airport)',\n",
       " 'Etobicoke(New Toronto / Mimico South / Humber Bay Shores)',\n",
       " 'Etobicoke(South Steeles / Silverstone / Humbergate / Jamestown / Mount Olive / Beaumond Heights / Thistletown / Albion Gardens)',\n",
       " \"Scarborough(Steeles West / L'Amoreaux West)\",\n",
       " 'Downtown Toronto(Rosedale)',\n",
       " 'Downtown TorontoStn A PO Boxes25 The Esplanade(Enclave of M5E)',\n",
       " 'Etobicoke(Alderwood / Long Branch)',\n",
       " 'EtobicokeNorthwest(Clairville / Humberwood / Woodbine Downs / West Humber / Kipling Heights / Rexdale / Elms / Tandridge / Old Rexdale)',\n",
       " 'Scarborough(Upper Rouge)',\n",
       " 'Downtown Toronto(St. James Town / Cabbagetown)',\n",
       " 'Downtown Toronto(First Canadian Place / Underground city)',\n",
       " 'Etobicoke(The Kingsway / Montgomery Road / Old Mill North)',\n",
       " 'Downtown Toronto(Church and Wellesley)',\n",
       " 'East TorontoBusiness reply mail Processing Centre969 Eastern(Enclave of M4L)',\n",
       " \"Etobicoke(Old Mill South / King's Mill Park / Sunnylea / Humber Bay / Mimico NE / The Queensway East / Royal York South East / Kingsway Park South East)\",\n",
       " 'Etobicoke(Mimico NW / The Queensway West / South of Bloor / Kingsway Park South West / Royal York South West)']"
      ]
     },
     "metadata": {},
     "execution_count": 31
    }
   ],
   "source": [
    "lis2=[]\n",
    "for i in lis1:\n",
    "    if len(i)>15:\n",
    "        lis2.append(i)\n",
    "lis3"
   ]
  },
  {
   "cell_type": "code",
   "execution_count": 9,
   "metadata": {},
   "outputs": [],
   "source": [
    "PostalCode=[i[0:3] for i in lis2]\n",
    "PostalCode\n",
    "Borough=[]\n",
    "Neighborhood=[]\n",
    "lis3=[i[3:] for i in lis2]\n",
    "for i in range(0,len(lis3)):\n",
    "    Borough.extend(re.findall('.+(?=\\()',lis3[i]))\n",
    "    Neighborhood.extend(re.findall('(?<=\\().+(?=\\))',lis3[i]))"
   ]
  },
  {
   "cell_type": "code",
   "execution_count": 10,
   "metadata": {},
   "outputs": [
    {
     "output_type": "execute_result",
     "data": {
      "text/plain": [
       "    PostalCode                                            Borough  \\\n",
       "0          M3A                                         North York   \n",
       "1          M4A                                         North York   \n",
       "2          M5A                                   Downtown Toronto   \n",
       "3          M6A                                         North York   \n",
       "4          M7A                                       Queen's Park   \n",
       "..         ...                                                ...   \n",
       "97         M8X                                          Etobicoke   \n",
       "98         M4Y                                   Downtown Toronto   \n",
       "99         M7Y  East TorontoBusiness reply mail Processing Cen...   \n",
       "100        M8Y                                          Etobicoke   \n",
       "101        M8Z                                          Etobicoke   \n",
       "\n",
       "                                          Neighborhood  \n",
       "0                                            Parkwoods  \n",
       "1                                     Victoria Village  \n",
       "2                           Regent Park / Harbourfront  \n",
       "3                    Lawrence Manor / Lawrence Heights  \n",
       "4                        Ontario Provincial Government  \n",
       "..                                                 ...  \n",
       "97     The Kingsway / Montgomery Road / Old Mill North  \n",
       "98                                Church and Wellesley  \n",
       "99                                      Enclave of M4L  \n",
       "100  Old Mill South / King's Mill Park / Sunnylea /...  \n",
       "101  Mimico NW / The Queensway West / South of Bloo...  \n",
       "\n",
       "[102 rows x 3 columns]"
      ],
      "text/html": "<div>\n<style scoped>\n    .dataframe tbody tr th:only-of-type {\n        vertical-align: middle;\n    }\n\n    .dataframe tbody tr th {\n        vertical-align: top;\n    }\n\n    .dataframe thead th {\n        text-align: right;\n    }\n</style>\n<table border=\"1\" class=\"dataframe\">\n  <thead>\n    <tr style=\"text-align: right;\">\n      <th></th>\n      <th>PostalCode</th>\n      <th>Borough</th>\n      <th>Neighborhood</th>\n    </tr>\n  </thead>\n  <tbody>\n    <tr>\n      <th>0</th>\n      <td>M3A</td>\n      <td>North York</td>\n      <td>Parkwoods</td>\n    </tr>\n    <tr>\n      <th>1</th>\n      <td>M4A</td>\n      <td>North York</td>\n      <td>Victoria Village</td>\n    </tr>\n    <tr>\n      <th>2</th>\n      <td>M5A</td>\n      <td>Downtown Toronto</td>\n      <td>Regent Park / Harbourfront</td>\n    </tr>\n    <tr>\n      <th>3</th>\n      <td>M6A</td>\n      <td>North York</td>\n      <td>Lawrence Manor / Lawrence Heights</td>\n    </tr>\n    <tr>\n      <th>4</th>\n      <td>M7A</td>\n      <td>Queen's Park</td>\n      <td>Ontario Provincial Government</td>\n    </tr>\n    <tr>\n      <th>...</th>\n      <td>...</td>\n      <td>...</td>\n      <td>...</td>\n    </tr>\n    <tr>\n      <th>97</th>\n      <td>M8X</td>\n      <td>Etobicoke</td>\n      <td>The Kingsway / Montgomery Road / Old Mill North</td>\n    </tr>\n    <tr>\n      <th>98</th>\n      <td>M4Y</td>\n      <td>Downtown Toronto</td>\n      <td>Church and Wellesley</td>\n    </tr>\n    <tr>\n      <th>99</th>\n      <td>M7Y</td>\n      <td>East TorontoBusiness reply mail Processing Cen...</td>\n      <td>Enclave of M4L</td>\n    </tr>\n    <tr>\n      <th>100</th>\n      <td>M8Y</td>\n      <td>Etobicoke</td>\n      <td>Old Mill South / King's Mill Park / Sunnylea /...</td>\n    </tr>\n    <tr>\n      <th>101</th>\n      <td>M8Z</td>\n      <td>Etobicoke</td>\n      <td>Mimico NW / The Queensway West / South of Bloo...</td>\n    </tr>\n  </tbody>\n</table>\n<p>102 rows × 3 columns</p>\n</div>"
     },
     "metadata": {},
     "execution_count": 10
    }
   ],
   "source": [
    "df['PostalCode']=PostalCode\n",
    "df['Borough']=Borough\n",
    "df['Neighborhood']=Neighborhood\n",
    "df"
   ]
  },
  {
   "cell_type": "code",
   "execution_count": 11,
   "metadata": {},
   "outputs": [
    {
     "output_type": "execute_result",
     "data": {
      "text/plain": [
       "   PostalCode           Borough  \\\n",
       "0         M3A        North York   \n",
       "1         M4A        North York   \n",
       "2         M5A  Downtown Toronto   \n",
       "3         M6A        North York   \n",
       "4         M7A      Queen's Park   \n",
       "5         M9A         Etobicoke   \n",
       "6         M1B       Scarborough   \n",
       "7         M3B        North York   \n",
       "8         M4B         East York   \n",
       "9         M5B  Downtown Toronto   \n",
       "10        M6B        North York   \n",
       "11        M9B         Etobicoke   \n",
       "\n",
       "                                         Neighborhood  \n",
       "0                                           Parkwoods  \n",
       "1                                    Victoria Village  \n",
       "2                          Regent Park / Harbourfront  \n",
       "3                   Lawrence Manor / Lawrence Heights  \n",
       "4                       Ontario Provincial Government  \n",
       "5                                    Islington Avenue  \n",
       "6                                     Malvern / Rouge  \n",
       "7                                           Don Mills  \n",
       "8                    Parkview Hill / Woodbine Gardens  \n",
       "9                            Garden District, Ryerson  \n",
       "10                                          Glencairn  \n",
       "11  West Deane Park / Princess Gardens / Martin Gr...  "
      ],
      "text/html": "<div>\n<style scoped>\n    .dataframe tbody tr th:only-of-type {\n        vertical-align: middle;\n    }\n\n    .dataframe tbody tr th {\n        vertical-align: top;\n    }\n\n    .dataframe thead th {\n        text-align: right;\n    }\n</style>\n<table border=\"1\" class=\"dataframe\">\n  <thead>\n    <tr style=\"text-align: right;\">\n      <th></th>\n      <th>PostalCode</th>\n      <th>Borough</th>\n      <th>Neighborhood</th>\n    </tr>\n  </thead>\n  <tbody>\n    <tr>\n      <th>0</th>\n      <td>M3A</td>\n      <td>North York</td>\n      <td>Parkwoods</td>\n    </tr>\n    <tr>\n      <th>1</th>\n      <td>M4A</td>\n      <td>North York</td>\n      <td>Victoria Village</td>\n    </tr>\n    <tr>\n      <th>2</th>\n      <td>M5A</td>\n      <td>Downtown Toronto</td>\n      <td>Regent Park / Harbourfront</td>\n    </tr>\n    <tr>\n      <th>3</th>\n      <td>M6A</td>\n      <td>North York</td>\n      <td>Lawrence Manor / Lawrence Heights</td>\n    </tr>\n    <tr>\n      <th>4</th>\n      <td>M7A</td>\n      <td>Queen's Park</td>\n      <td>Ontario Provincial Government</td>\n    </tr>\n    <tr>\n      <th>5</th>\n      <td>M9A</td>\n      <td>Etobicoke</td>\n      <td>Islington Avenue</td>\n    </tr>\n    <tr>\n      <th>6</th>\n      <td>M1B</td>\n      <td>Scarborough</td>\n      <td>Malvern / Rouge</td>\n    </tr>\n    <tr>\n      <th>7</th>\n      <td>M3B</td>\n      <td>North York</td>\n      <td>Don Mills</td>\n    </tr>\n    <tr>\n      <th>8</th>\n      <td>M4B</td>\n      <td>East York</td>\n      <td>Parkview Hill / Woodbine Gardens</td>\n    </tr>\n    <tr>\n      <th>9</th>\n      <td>M5B</td>\n      <td>Downtown Toronto</td>\n      <td>Garden District, Ryerson</td>\n    </tr>\n    <tr>\n      <th>10</th>\n      <td>M6B</td>\n      <td>North York</td>\n      <td>Glencairn</td>\n    </tr>\n    <tr>\n      <th>11</th>\n      <td>M9B</td>\n      <td>Etobicoke</td>\n      <td>West Deane Park / Princess Gardens / Martin Gr...</td>\n    </tr>\n  </tbody>\n</table>\n</div>"
     },
     "metadata": {},
     "execution_count": 11
    }
   ],
   "source": [
    "df.head(12)"
   ]
  },
  {
   "cell_type": "code",
   "execution_count": 12,
   "metadata": {},
   "outputs": [
    {
     "output_type": "execute_result",
     "data": {
      "text/plain": [
       "(102, 3)"
      ]
     },
     "metadata": {},
     "execution_count": 12
    }
   ],
   "source": [
    "df.shape"
   ]
  },
  {
   "cell_type": "code",
   "execution_count": 13,
   "metadata": {},
   "outputs": [],
   "source": [
    "geodata=pd.read_csv(r\"C:\\Users\\CHAD\\Desktop\\work\\Coursera\\IBM\\Geospatial_Coordinates.csv\")"
   ]
  },
  {
   "cell_type": "code",
   "execution_count": 14,
   "metadata": {},
   "outputs": [
    {
     "output_type": "execute_result",
     "data": {
      "text/plain": [
       "    Postal Code   Latitude  Longitude\n",
       "0           M1B  43.806686 -79.194353\n",
       "1           M1C  43.784535 -79.160497\n",
       "2           M1E  43.763573 -79.188711\n",
       "3           M1G  43.770992 -79.216917\n",
       "4           M1H  43.773136 -79.239476\n",
       "..          ...        ...        ...\n",
       "98          M9N  43.706876 -79.518188\n",
       "99          M9P  43.696319 -79.532242\n",
       "100         M9R  43.688905 -79.554724\n",
       "101         M9V  43.739416 -79.588437\n",
       "102         M9W  43.706748 -79.594054\n",
       "\n",
       "[103 rows x 3 columns]"
      ],
      "text/html": "<div>\n<style scoped>\n    .dataframe tbody tr th:only-of-type {\n        vertical-align: middle;\n    }\n\n    .dataframe tbody tr th {\n        vertical-align: top;\n    }\n\n    .dataframe thead th {\n        text-align: right;\n    }\n</style>\n<table border=\"1\" class=\"dataframe\">\n  <thead>\n    <tr style=\"text-align: right;\">\n      <th></th>\n      <th>Postal Code</th>\n      <th>Latitude</th>\n      <th>Longitude</th>\n    </tr>\n  </thead>\n  <tbody>\n    <tr>\n      <th>0</th>\n      <td>M1B</td>\n      <td>43.806686</td>\n      <td>-79.194353</td>\n    </tr>\n    <tr>\n      <th>1</th>\n      <td>M1C</td>\n      <td>43.784535</td>\n      <td>-79.160497</td>\n    </tr>\n    <tr>\n      <th>2</th>\n      <td>M1E</td>\n      <td>43.763573</td>\n      <td>-79.188711</td>\n    </tr>\n    <tr>\n      <th>3</th>\n      <td>M1G</td>\n      <td>43.770992</td>\n      <td>-79.216917</td>\n    </tr>\n    <tr>\n      <th>4</th>\n      <td>M1H</td>\n      <td>43.773136</td>\n      <td>-79.239476</td>\n    </tr>\n    <tr>\n      <th>...</th>\n      <td>...</td>\n      <td>...</td>\n      <td>...</td>\n    </tr>\n    <tr>\n      <th>98</th>\n      <td>M9N</td>\n      <td>43.706876</td>\n      <td>-79.518188</td>\n    </tr>\n    <tr>\n      <th>99</th>\n      <td>M9P</td>\n      <td>43.696319</td>\n      <td>-79.532242</td>\n    </tr>\n    <tr>\n      <th>100</th>\n      <td>M9R</td>\n      <td>43.688905</td>\n      <td>-79.554724</td>\n    </tr>\n    <tr>\n      <th>101</th>\n      <td>M9V</td>\n      <td>43.739416</td>\n      <td>-79.588437</td>\n    </tr>\n    <tr>\n      <th>102</th>\n      <td>M9W</td>\n      <td>43.706748</td>\n      <td>-79.594054</td>\n    </tr>\n  </tbody>\n</table>\n<p>103 rows × 3 columns</p>\n</div>"
     },
     "metadata": {},
     "execution_count": 14
    }
   ],
   "source": [
    "geodata"
   ]
  },
  {
   "cell_type": "code",
   "execution_count": 16,
   "metadata": {},
   "outputs": [
    {
     "output_type": "execute_result",
     "data": {
      "text/plain": [
       "    PostalCode                                            Borough  \\\n",
       "0          M3A                                         North York   \n",
       "1          M4A                                         North York   \n",
       "2          M5A                                   Downtown Toronto   \n",
       "3          M6A                                         North York   \n",
       "4          M7A                                       Queen's Park   \n",
       "..         ...                                                ...   \n",
       "97         M8X                                          Etobicoke   \n",
       "98         M4Y                                   Downtown Toronto   \n",
       "99         M7Y  East TorontoBusiness reply mail Processing Cen...   \n",
       "100        M8Y                                          Etobicoke   \n",
       "101        M8Z                                          Etobicoke   \n",
       "\n",
       "                                          Neighborhood  \n",
       "0                                            Parkwoods  \n",
       "1                                     Victoria Village  \n",
       "2                           Regent Park / Harbourfront  \n",
       "3                    Lawrence Manor / Lawrence Heights  \n",
       "4                        Ontario Provincial Government  \n",
       "..                                                 ...  \n",
       "97     The Kingsway / Montgomery Road / Old Mill North  \n",
       "98                                Church and Wellesley  \n",
       "99                                      Enclave of M4L  \n",
       "100  Old Mill South / King's Mill Park / Sunnylea /...  \n",
       "101  Mimico NW / The Queensway West / South of Bloo...  \n",
       "\n",
       "[102 rows x 3 columns]"
      ],
      "text/html": "<div>\n<style scoped>\n    .dataframe tbody tr th:only-of-type {\n        vertical-align: middle;\n    }\n\n    .dataframe tbody tr th {\n        vertical-align: top;\n    }\n\n    .dataframe thead th {\n        text-align: right;\n    }\n</style>\n<table border=\"1\" class=\"dataframe\">\n  <thead>\n    <tr style=\"text-align: right;\">\n      <th></th>\n      <th>PostalCode</th>\n      <th>Borough</th>\n      <th>Neighborhood</th>\n    </tr>\n  </thead>\n  <tbody>\n    <tr>\n      <th>0</th>\n      <td>M3A</td>\n      <td>North York</td>\n      <td>Parkwoods</td>\n    </tr>\n    <tr>\n      <th>1</th>\n      <td>M4A</td>\n      <td>North York</td>\n      <td>Victoria Village</td>\n    </tr>\n    <tr>\n      <th>2</th>\n      <td>M5A</td>\n      <td>Downtown Toronto</td>\n      <td>Regent Park / Harbourfront</td>\n    </tr>\n    <tr>\n      <th>3</th>\n      <td>M6A</td>\n      <td>North York</td>\n      <td>Lawrence Manor / Lawrence Heights</td>\n    </tr>\n    <tr>\n      <th>4</th>\n      <td>M7A</td>\n      <td>Queen's Park</td>\n      <td>Ontario Provincial Government</td>\n    </tr>\n    <tr>\n      <th>...</th>\n      <td>...</td>\n      <td>...</td>\n      <td>...</td>\n    </tr>\n    <tr>\n      <th>97</th>\n      <td>M8X</td>\n      <td>Etobicoke</td>\n      <td>The Kingsway / Montgomery Road / Old Mill North</td>\n    </tr>\n    <tr>\n      <th>98</th>\n      <td>M4Y</td>\n      <td>Downtown Toronto</td>\n      <td>Church and Wellesley</td>\n    </tr>\n    <tr>\n      <th>99</th>\n      <td>M7Y</td>\n      <td>East TorontoBusiness reply mail Processing Cen...</td>\n      <td>Enclave of M4L</td>\n    </tr>\n    <tr>\n      <th>100</th>\n      <td>M8Y</td>\n      <td>Etobicoke</td>\n      <td>Old Mill South / King's Mill Park / Sunnylea /...</td>\n    </tr>\n    <tr>\n      <th>101</th>\n      <td>M8Z</td>\n      <td>Etobicoke</td>\n      <td>Mimico NW / The Queensway West / South of Bloo...</td>\n    </tr>\n  </tbody>\n</table>\n<p>102 rows × 3 columns</p>\n</div>"
     },
     "metadata": {},
     "execution_count": 16
    }
   ],
   "source": [
    "df"
   ]
  },
  {
   "cell_type": "code",
   "execution_count": 22,
   "metadata": {},
   "outputs": [],
   "source": [
    "df=df.rename(columns={'PostalCode':'Postal Code'})"
   ]
  },
  {
   "cell_type": "code",
   "execution_count": 25,
   "metadata": {},
   "outputs": [],
   "source": [
    "new_Data=df.merge(geodata)"
   ]
  },
  {
   "cell_type": "code",
   "execution_count": 26,
   "metadata": {},
   "outputs": [
    {
     "output_type": "execute_result",
     "data": {
      "text/plain": [
       "    Postal Code                                            Borough  \\\n",
       "0           M3A                                         North York   \n",
       "1           M4A                                         North York   \n",
       "2           M5A                                   Downtown Toronto   \n",
       "3           M6A                                         North York   \n",
       "4           M7A                                       Queen's Park   \n",
       "..          ...                                                ...   \n",
       "97          M8X                                          Etobicoke   \n",
       "98          M4Y                                   Downtown Toronto   \n",
       "99          M7Y  East TorontoBusiness reply mail Processing Cen...   \n",
       "100         M8Y                                          Etobicoke   \n",
       "101         M8Z                                          Etobicoke   \n",
       "\n",
       "                                          Neighborhood   Latitude  Longitude  \n",
       "0                                            Parkwoods  43.753259 -79.329656  \n",
       "1                                     Victoria Village  43.725882 -79.315572  \n",
       "2                           Regent Park / Harbourfront  43.654260 -79.360636  \n",
       "3                    Lawrence Manor / Lawrence Heights  43.718518 -79.464763  \n",
       "4                        Ontario Provincial Government  43.662301 -79.389494  \n",
       "..                                                 ...        ...        ...  \n",
       "97     The Kingsway / Montgomery Road / Old Mill North  43.653654 -79.506944  \n",
       "98                                Church and Wellesley  43.665860 -79.383160  \n",
       "99                                      Enclave of M4L  43.662744 -79.321558  \n",
       "100  Old Mill South / King's Mill Park / Sunnylea /...  43.636258 -79.498509  \n",
       "101  Mimico NW / The Queensway West / South of Bloo...  43.628841 -79.520999  \n",
       "\n",
       "[102 rows x 5 columns]"
      ],
      "text/html": "<div>\n<style scoped>\n    .dataframe tbody tr th:only-of-type {\n        vertical-align: middle;\n    }\n\n    .dataframe tbody tr th {\n        vertical-align: top;\n    }\n\n    .dataframe thead th {\n        text-align: right;\n    }\n</style>\n<table border=\"1\" class=\"dataframe\">\n  <thead>\n    <tr style=\"text-align: right;\">\n      <th></th>\n      <th>Postal Code</th>\n      <th>Borough</th>\n      <th>Neighborhood</th>\n      <th>Latitude</th>\n      <th>Longitude</th>\n    </tr>\n  </thead>\n  <tbody>\n    <tr>\n      <th>0</th>\n      <td>M3A</td>\n      <td>North York</td>\n      <td>Parkwoods</td>\n      <td>43.753259</td>\n      <td>-79.329656</td>\n    </tr>\n    <tr>\n      <th>1</th>\n      <td>M4A</td>\n      <td>North York</td>\n      <td>Victoria Village</td>\n      <td>43.725882</td>\n      <td>-79.315572</td>\n    </tr>\n    <tr>\n      <th>2</th>\n      <td>M5A</td>\n      <td>Downtown Toronto</td>\n      <td>Regent Park / Harbourfront</td>\n      <td>43.654260</td>\n      <td>-79.360636</td>\n    </tr>\n    <tr>\n      <th>3</th>\n      <td>M6A</td>\n      <td>North York</td>\n      <td>Lawrence Manor / Lawrence Heights</td>\n      <td>43.718518</td>\n      <td>-79.464763</td>\n    </tr>\n    <tr>\n      <th>4</th>\n      <td>M7A</td>\n      <td>Queen's Park</td>\n      <td>Ontario Provincial Government</td>\n      <td>43.662301</td>\n      <td>-79.389494</td>\n    </tr>\n    <tr>\n      <th>...</th>\n      <td>...</td>\n      <td>...</td>\n      <td>...</td>\n      <td>...</td>\n      <td>...</td>\n    </tr>\n    <tr>\n      <th>97</th>\n      <td>M8X</td>\n      <td>Etobicoke</td>\n      <td>The Kingsway / Montgomery Road / Old Mill North</td>\n      <td>43.653654</td>\n      <td>-79.506944</td>\n    </tr>\n    <tr>\n      <th>98</th>\n      <td>M4Y</td>\n      <td>Downtown Toronto</td>\n      <td>Church and Wellesley</td>\n      <td>43.665860</td>\n      <td>-79.383160</td>\n    </tr>\n    <tr>\n      <th>99</th>\n      <td>M7Y</td>\n      <td>East TorontoBusiness reply mail Processing Cen...</td>\n      <td>Enclave of M4L</td>\n      <td>43.662744</td>\n      <td>-79.321558</td>\n    </tr>\n    <tr>\n      <th>100</th>\n      <td>M8Y</td>\n      <td>Etobicoke</td>\n      <td>Old Mill South / King's Mill Park / Sunnylea /...</td>\n      <td>43.636258</td>\n      <td>-79.498509</td>\n    </tr>\n    <tr>\n      <th>101</th>\n      <td>M8Z</td>\n      <td>Etobicoke</td>\n      <td>Mimico NW / The Queensway West / South of Bloo...</td>\n      <td>43.628841</td>\n      <td>-79.520999</td>\n    </tr>\n  </tbody>\n</table>\n<p>102 rows × 5 columns</p>\n</div>"
     },
     "metadata": {},
     "execution_count": 26
    }
   ],
   "source": [
    "new_Data"
   ]
  },
  {
   "cell_type": "code",
   "execution_count": 45,
   "metadata": {},
   "outputs": [
    {
     "output_type": "execute_result",
     "data": {
      "text/plain": [
       "   Postal Code                                            Borough  \\\n",
       "0          M5A                                   Downtown Toronto   \n",
       "1          M5B                                   Downtown Toronto   \n",
       "2          M5C                                   Downtown Toronto   \n",
       "3          M4E                                       East Toronto   \n",
       "4          M5E                                   Downtown Toronto   \n",
       "5          M5G                                   Downtown Toronto   \n",
       "6          M6G                                   Downtown Toronto   \n",
       "7          M5H                                   Downtown Toronto   \n",
       "8          M6H                                       West Toronto   \n",
       "9          M4J                              East YorkEast Toronto   \n",
       "10         M5J                                   Downtown Toronto   \n",
       "11         M6J                                       West Toronto   \n",
       "12         M4K                                       East Toronto   \n",
       "13         M5K                                   Downtown Toronto   \n",
       "14         M6K                                       West Toronto   \n",
       "15         M4L                                       East Toronto   \n",
       "16         M5L                                   Downtown Toronto   \n",
       "17         M4M                                       East Toronto   \n",
       "18         M4N                                    Central Toronto   \n",
       "19         M5N                                    Central Toronto   \n",
       "20         M4P                                    Central Toronto   \n",
       "21         M5P                                    Central Toronto   \n",
       "22         M6P                                       West Toronto   \n",
       "23         M4R                                    Central Toronto   \n",
       "24         M5R                                    Central Toronto   \n",
       "25         M6R                                       West Toronto   \n",
       "26         M4S                                    Central Toronto   \n",
       "27         M5S                                   Downtown Toronto   \n",
       "28         M6S                                       West Toronto   \n",
       "29         M4T                                    Central Toronto   \n",
       "30         M5T                                   Downtown Toronto   \n",
       "31         M4V                                    Central Toronto   \n",
       "32         M5V                                   Downtown Toronto   \n",
       "33         M4W                                   Downtown Toronto   \n",
       "34         M5W     Downtown TorontoStn A PO Boxes25 The Esplanade   \n",
       "35         M4X                                   Downtown Toronto   \n",
       "36         M5X                                   Downtown Toronto   \n",
       "37         M4Y                                   Downtown Toronto   \n",
       "38         M7Y  East TorontoBusiness reply mail Processing Cen...   \n",
       "\n",
       "                                         Neighborhood   Latitude  Longitude  \n",
       "0                          Regent Park / Harbourfront  43.654260 -79.360636  \n",
       "1                            Garden District, Ryerson  43.657162 -79.378937  \n",
       "2                                      St. James Town  43.651494 -79.375418  \n",
       "3                                         The Beaches  43.676357 -79.293031  \n",
       "4                                         Berczy Park  43.644771 -79.373306  \n",
       "5                                  Central Bay Street  43.657952 -79.387383  \n",
       "6                                            Christie  43.669542 -79.422564  \n",
       "7                          Richmond / Adelaide / King  43.650571 -79.384568  \n",
       "8                       Dufferin / Dovercourt Village  43.669005 -79.442259  \n",
       "9                                  The Danforth  East  43.685347 -79.338106  \n",
       "10  Harbourfront East / Union Station / Toronto Is...  43.640816 -79.381752  \n",
       "11                          Little Portugal / Trinity  43.647927 -79.419750  \n",
       "12                      The Danforth West / Riverdale  43.679557 -79.352188  \n",
       "13          Toronto Dominion Centre / Design Exchange  43.647177 -79.381576  \n",
       "14     Brockton / Parkdale Village / Exhibition Place  43.636847 -79.428191  \n",
       "15                    India Bazaar / The Beaches West  43.668999 -79.315572  \n",
       "16                    Commerce Court / Victoria Hotel  43.648198 -79.379817  \n",
       "17                                    Studio District  43.659526 -79.340923  \n",
       "18                                      Lawrence Park  43.728020 -79.388790  \n",
       "19                                           Roselawn  43.711695 -79.416936  \n",
       "20                                   Davisville North  43.712751 -79.390197  \n",
       "21                           Forest Hill North & West  43.696948 -79.411307  \n",
       "22                     High Park / The Junction South  43.661608 -79.464763  \n",
       "23                                 North Toronto West  43.715383 -79.405678  \n",
       "24              The Annex / North Midtown / Yorkville  43.672710 -79.405678  \n",
       "25                            Parkdale / Roncesvalles  43.648960 -79.456325  \n",
       "26                                         Davisville  43.704324 -79.388790  \n",
       "27                    University of Toronto / Harbord  43.662696 -79.400049  \n",
       "28                                Runnymede / Swansea  43.651571 -79.484450  \n",
       "29                       Moore Park / Summerhill East  43.689574 -79.383160  \n",
       "30        Kensington Market / Chinatown / Grange Park  43.653206 -79.400049  \n",
       "31  Summerhill West / Rathnelly / South Hill / For...  43.686412 -79.400049  \n",
       "32  CN Tower / King and Spadina / Railway Lands / ...  43.628947 -79.394420  \n",
       "33                                           Rosedale  43.679563 -79.377529  \n",
       "34                                     Enclave of M5E  43.646435 -79.374846  \n",
       "35                       St. James Town / Cabbagetown  43.667967 -79.367675  \n",
       "36            First Canadian Place / Underground city  43.648429 -79.382280  \n",
       "37                               Church and Wellesley  43.665860 -79.383160  \n",
       "38                                     Enclave of M4L  43.662744 -79.321558  "
      ],
      "text/html": "<div>\n<style scoped>\n    .dataframe tbody tr th:only-of-type {\n        vertical-align: middle;\n    }\n\n    .dataframe tbody tr th {\n        vertical-align: top;\n    }\n\n    .dataframe thead th {\n        text-align: right;\n    }\n</style>\n<table border=\"1\" class=\"dataframe\">\n  <thead>\n    <tr style=\"text-align: right;\">\n      <th></th>\n      <th>Postal Code</th>\n      <th>Borough</th>\n      <th>Neighborhood</th>\n      <th>Latitude</th>\n      <th>Longitude</th>\n    </tr>\n  </thead>\n  <tbody>\n    <tr>\n      <th>0</th>\n      <td>M5A</td>\n      <td>Downtown Toronto</td>\n      <td>Regent Park / Harbourfront</td>\n      <td>43.654260</td>\n      <td>-79.360636</td>\n    </tr>\n    <tr>\n      <th>1</th>\n      <td>M5B</td>\n      <td>Downtown Toronto</td>\n      <td>Garden District, Ryerson</td>\n      <td>43.657162</td>\n      <td>-79.378937</td>\n    </tr>\n    <tr>\n      <th>2</th>\n      <td>M5C</td>\n      <td>Downtown Toronto</td>\n      <td>St. James Town</td>\n      <td>43.651494</td>\n      <td>-79.375418</td>\n    </tr>\n    <tr>\n      <th>3</th>\n      <td>M4E</td>\n      <td>East Toronto</td>\n      <td>The Beaches</td>\n      <td>43.676357</td>\n      <td>-79.293031</td>\n    </tr>\n    <tr>\n      <th>4</th>\n      <td>M5E</td>\n      <td>Downtown Toronto</td>\n      <td>Berczy Park</td>\n      <td>43.644771</td>\n      <td>-79.373306</td>\n    </tr>\n    <tr>\n      <th>5</th>\n      <td>M5G</td>\n      <td>Downtown Toronto</td>\n      <td>Central Bay Street</td>\n      <td>43.657952</td>\n      <td>-79.387383</td>\n    </tr>\n    <tr>\n      <th>6</th>\n      <td>M6G</td>\n      <td>Downtown Toronto</td>\n      <td>Christie</td>\n      <td>43.669542</td>\n      <td>-79.422564</td>\n    </tr>\n    <tr>\n      <th>7</th>\n      <td>M5H</td>\n      <td>Downtown Toronto</td>\n      <td>Richmond / Adelaide / King</td>\n      <td>43.650571</td>\n      <td>-79.384568</td>\n    </tr>\n    <tr>\n      <th>8</th>\n      <td>M6H</td>\n      <td>West Toronto</td>\n      <td>Dufferin / Dovercourt Village</td>\n      <td>43.669005</td>\n      <td>-79.442259</td>\n    </tr>\n    <tr>\n      <th>9</th>\n      <td>M4J</td>\n      <td>East YorkEast Toronto</td>\n      <td>The Danforth  East</td>\n      <td>43.685347</td>\n      <td>-79.338106</td>\n    </tr>\n    <tr>\n      <th>10</th>\n      <td>M5J</td>\n      <td>Downtown Toronto</td>\n      <td>Harbourfront East / Union Station / Toronto Is...</td>\n      <td>43.640816</td>\n      <td>-79.381752</td>\n    </tr>\n    <tr>\n      <th>11</th>\n      <td>M6J</td>\n      <td>West Toronto</td>\n      <td>Little Portugal / Trinity</td>\n      <td>43.647927</td>\n      <td>-79.419750</td>\n    </tr>\n    <tr>\n      <th>12</th>\n      <td>M4K</td>\n      <td>East Toronto</td>\n      <td>The Danforth West / Riverdale</td>\n      <td>43.679557</td>\n      <td>-79.352188</td>\n    </tr>\n    <tr>\n      <th>13</th>\n      <td>M5K</td>\n      <td>Downtown Toronto</td>\n      <td>Toronto Dominion Centre / Design Exchange</td>\n      <td>43.647177</td>\n      <td>-79.381576</td>\n    </tr>\n    <tr>\n      <th>14</th>\n      <td>M6K</td>\n      <td>West Toronto</td>\n      <td>Brockton / Parkdale Village / Exhibition Place</td>\n      <td>43.636847</td>\n      <td>-79.428191</td>\n    </tr>\n    <tr>\n      <th>15</th>\n      <td>M4L</td>\n      <td>East Toronto</td>\n      <td>India Bazaar / The Beaches West</td>\n      <td>43.668999</td>\n      <td>-79.315572</td>\n    </tr>\n    <tr>\n      <th>16</th>\n      <td>M5L</td>\n      <td>Downtown Toronto</td>\n      <td>Commerce Court / Victoria Hotel</td>\n      <td>43.648198</td>\n      <td>-79.379817</td>\n    </tr>\n    <tr>\n      <th>17</th>\n      <td>M4M</td>\n      <td>East Toronto</td>\n      <td>Studio District</td>\n      <td>43.659526</td>\n      <td>-79.340923</td>\n    </tr>\n    <tr>\n      <th>18</th>\n      <td>M4N</td>\n      <td>Central Toronto</td>\n      <td>Lawrence Park</td>\n      <td>43.728020</td>\n      <td>-79.388790</td>\n    </tr>\n    <tr>\n      <th>19</th>\n      <td>M5N</td>\n      <td>Central Toronto</td>\n      <td>Roselawn</td>\n      <td>43.711695</td>\n      <td>-79.416936</td>\n    </tr>\n    <tr>\n      <th>20</th>\n      <td>M4P</td>\n      <td>Central Toronto</td>\n      <td>Davisville North</td>\n      <td>43.712751</td>\n      <td>-79.390197</td>\n    </tr>\n    <tr>\n      <th>21</th>\n      <td>M5P</td>\n      <td>Central Toronto</td>\n      <td>Forest Hill North &amp; West</td>\n      <td>43.696948</td>\n      <td>-79.411307</td>\n    </tr>\n    <tr>\n      <th>22</th>\n      <td>M6P</td>\n      <td>West Toronto</td>\n      <td>High Park / The Junction South</td>\n      <td>43.661608</td>\n      <td>-79.464763</td>\n    </tr>\n    <tr>\n      <th>23</th>\n      <td>M4R</td>\n      <td>Central Toronto</td>\n      <td>North Toronto West</td>\n      <td>43.715383</td>\n      <td>-79.405678</td>\n    </tr>\n    <tr>\n      <th>24</th>\n      <td>M5R</td>\n      <td>Central Toronto</td>\n      <td>The Annex / North Midtown / Yorkville</td>\n      <td>43.672710</td>\n      <td>-79.405678</td>\n    </tr>\n    <tr>\n      <th>25</th>\n      <td>M6R</td>\n      <td>West Toronto</td>\n      <td>Parkdale / Roncesvalles</td>\n      <td>43.648960</td>\n      <td>-79.456325</td>\n    </tr>\n    <tr>\n      <th>26</th>\n      <td>M4S</td>\n      <td>Central Toronto</td>\n      <td>Davisville</td>\n      <td>43.704324</td>\n      <td>-79.388790</td>\n    </tr>\n    <tr>\n      <th>27</th>\n      <td>M5S</td>\n      <td>Downtown Toronto</td>\n      <td>University of Toronto / Harbord</td>\n      <td>43.662696</td>\n      <td>-79.400049</td>\n    </tr>\n    <tr>\n      <th>28</th>\n      <td>M6S</td>\n      <td>West Toronto</td>\n      <td>Runnymede / Swansea</td>\n      <td>43.651571</td>\n      <td>-79.484450</td>\n    </tr>\n    <tr>\n      <th>29</th>\n      <td>M4T</td>\n      <td>Central Toronto</td>\n      <td>Moore Park / Summerhill East</td>\n      <td>43.689574</td>\n      <td>-79.383160</td>\n    </tr>\n    <tr>\n      <th>30</th>\n      <td>M5T</td>\n      <td>Downtown Toronto</td>\n      <td>Kensington Market / Chinatown / Grange Park</td>\n      <td>43.653206</td>\n      <td>-79.400049</td>\n    </tr>\n    <tr>\n      <th>31</th>\n      <td>M4V</td>\n      <td>Central Toronto</td>\n      <td>Summerhill West / Rathnelly / South Hill / For...</td>\n      <td>43.686412</td>\n      <td>-79.400049</td>\n    </tr>\n    <tr>\n      <th>32</th>\n      <td>M5V</td>\n      <td>Downtown Toronto</td>\n      <td>CN Tower / King and Spadina / Railway Lands / ...</td>\n      <td>43.628947</td>\n      <td>-79.394420</td>\n    </tr>\n    <tr>\n      <th>33</th>\n      <td>M4W</td>\n      <td>Downtown Toronto</td>\n      <td>Rosedale</td>\n      <td>43.679563</td>\n      <td>-79.377529</td>\n    </tr>\n    <tr>\n      <th>34</th>\n      <td>M5W</td>\n      <td>Downtown TorontoStn A PO Boxes25 The Esplanade</td>\n      <td>Enclave of M5E</td>\n      <td>43.646435</td>\n      <td>-79.374846</td>\n    </tr>\n    <tr>\n      <th>35</th>\n      <td>M4X</td>\n      <td>Downtown Toronto</td>\n      <td>St. James Town / Cabbagetown</td>\n      <td>43.667967</td>\n      <td>-79.367675</td>\n    </tr>\n    <tr>\n      <th>36</th>\n      <td>M5X</td>\n      <td>Downtown Toronto</td>\n      <td>First Canadian Place / Underground city</td>\n      <td>43.648429</td>\n      <td>-79.382280</td>\n    </tr>\n    <tr>\n      <th>37</th>\n      <td>M4Y</td>\n      <td>Downtown Toronto</td>\n      <td>Church and Wellesley</td>\n      <td>43.665860</td>\n      <td>-79.383160</td>\n    </tr>\n    <tr>\n      <th>38</th>\n      <td>M7Y</td>\n      <td>East TorontoBusiness reply mail Processing Cen...</td>\n      <td>Enclave of M4L</td>\n      <td>43.662744</td>\n      <td>-79.321558</td>\n    </tr>\n  </tbody>\n</table>\n</div>"
     },
     "metadata": {},
     "execution_count": 45
    }
   ],
   "source": [
    "toronto_data=new_Data[new_Data.Borough.str.contains('Toronto')]\n",
    "toronto_data.reset_index(drop=True,inplace=True)\n",
    "toronto_data"
   ]
  },
  {
   "cell_type": "code",
   "execution_count": 34,
   "metadata": {},
   "outputs": [],
   "source": [
    "#EXPLORE THE FIRST NEIGHBORHOOD"
   ]
  },
  {
   "cell_type": "code",
   "execution_count": 36,
   "metadata": {},
   "outputs": [],
   "source": [
    "CLIENT_ID = 'G5XELWRC2EMZHYGGKF20VTKEWZE3GSGFBAQZNG4NUYHKVHQT' # your Foursquare ID\n",
    "CLIENT_SECRET = 'GKBXNMTGJTWF04VMQVCNDYG5WR4UCRFTQTA2VXFLKF1JIQAX' # your Foursquare Secret\n",
    "ACCESS_TOKEN = 'BOLQGFEKLU1E0CTOOSVPC5SSUTRQSWPXZHYSYMNB4V33DE5C' # your FourSquare Access Token\n",
    "VERSION = '20180604'\n",
    "LIMIT = 100"
   ]
  },
  {
   "cell_type": "code",
   "execution_count": 46,
   "metadata": {},
   "outputs": [
    {
     "output_type": "execute_result",
     "data": {
      "text/plain": [
       "'Regent Park / Harbourfront'"
      ]
     },
     "metadata": {},
     "execution_count": 46
    }
   ],
   "source": [
    "toronto_data.loc[0,'Neighborhood']"
   ]
  },
  {
   "cell_type": "code",
   "execution_count": 51,
   "metadata": {},
   "outputs": [
    {
     "output_type": "stream",
     "name": "stdout",
     "text": [
      "The geograpical coordinate of Toronto are 43.6534817, -79.3839347.\n"
     ]
    }
   ],
   "source": [
    "address='Toronto, CA'\n",
    "geolocator=Nominatim(user_agent=\"ny_explorer\")\n",
    "location= geolocator.geocode(address)\n",
    "latitude=location.latitude\n",
    "longitude=location.longitude\n",
    "print('The geograpical coordinate of Toronto are {}, {}.'.format(latitude, longitude))"
   ]
  },
  {
   "cell_type": "code",
   "execution_count": null,
   "metadata": {},
   "outputs": [],
   "source": []
  }
 ]
}