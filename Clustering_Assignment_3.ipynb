{
 "metadata": {
  "language_info": {
   "codemirror_mode": {
    "name": "ipython",
    "version": 3
   },
   "file_extension": ".py",
   "mimetype": "text/x-python",
   "name": "python",
   "nbconvert_exporter": "python",
   "pygments_lexer": "ipython3",
   "version": "3.8.5"
  },
  "orig_nbformat": 2,
  "kernelspec": {
   "name": "python385jvsc74a57bd03677a8e1c44da040dc0906c8dc9e041871967a0aba89dad8041efde5a549d202",
   "display_name": "Python 3.8.5 64-bit ('base': conda)"
  }
 },
 "nbformat": 4,
 "nbformat_minor": 2,
 "cells": [
  {
   "source": [
    "## Problem 3\n",
    "Explore and cluster the neighborhoods in Toronto.\n",
    "Generate maps to visualize your neighborhoods and how they cluster together"
   ],
   "cell_type": "markdown",
   "metadata": {}
  },
  {
   "cell_type": "code",
   "execution_count": 67,
   "metadata": {},
   "outputs": [
    {
     "output_type": "stream",
     "name": "stdout",
     "text": [
      "Libraries imported.\n"
     ]
    }
   ],
   "source": [
    "import numpy as np # library to handle data in a vectorized manner\n",
    "\n",
    "import pandas as pd # library for data analsysis\n",
    "pd.set_option('display.max_columns', None)\n",
    "pd.set_option('display.max_rows', None)\n",
    "\n",
    "import json # library to handle JSON files\n",
    "\n",
    "#!conda install -c conda-forge geopy --yes # uncomment this line if you haven't completed the Foursquare API lab\n",
    "from geopy.geocoders import Nominatim # convert an address into latitude and longitude values\n",
    "\n",
    "import requests # library to handle requests\n",
    "from pandas.io.json import json_normalize # tranform JSON file into a pandas dataframe\n",
    "\n",
    "# Matplotlib and associated plotting modules\n",
    "import matplotlib.cm as cm\n",
    "import matplotlib.colors as colors\n",
    "\n",
    "# import k-means from clustering stage\n",
    "from sklearn.cluster import KMeans\n",
    "\n",
    "#!conda install -c conda-forge folium=0.5.0 --yes # uncomment this line if you haven't completed the Foursquare API lab\n",
    "import folium # map rendering library\n",
    "\n",
    "print('Libraries imported.')\n",
    "from bs4 import BeautifulSoup\n",
    "import re"
   ]
  },
  {
   "source": [
    "## 1. Scraping And Exploring Dataset\n",
    "Scraping the data from https://en.wikipedia.org/wiki/List_of_postal_codes_of_Canada:_M using BeautifulSoup and converting to a DataFrame"
   ],
   "cell_type": "markdown",
   "metadata": {}
  },
  {
   "cell_type": "code",
   "execution_count": 68,
   "metadata": {},
   "outputs": [],
   "source": [
    "url='https://en.wikipedia.org/wiki/List_of_postal_codes_of_Canada:_M'"
   ]
  },
  {
   "cell_type": "code",
   "execution_count": 69,
   "metadata": {},
   "outputs": [],
   "source": [
    "data=requests.get(url).text"
   ]
  },
  {
   "cell_type": "code",
   "execution_count": 70,
   "metadata": {},
   "outputs": [],
   "source": [
    "soup=BeautifulSoup(data)"
   ]
  },
  {
   "cell_type": "code",
   "execution_count": 71,
   "metadata": {},
   "outputs": [],
   "source": [
    "table=soup.find_all('table')"
   ]
  },
  {
   "cell_type": "code",
   "execution_count": 72,
   "metadata": {},
   "outputs": [],
   "source": [
    "df=pd.DataFrame(columns=['PostalCode','Borough','Neighborhood'])"
   ]
  },
  {
   "cell_type": "code",
   "execution_count": 73,
   "metadata": {},
   "outputs": [],
   "source": [
    "lis1=[]\n",
    "for i  in range(0,20):\n",
    "        for j in range(0,9):\n",
    "                lis1.append(table[0].find_all('tr')[i].find_all('td')[j].text.strip())"
   ]
  },
  {
   "cell_type": "code",
   "execution_count": 74,
   "metadata": {},
   "outputs": [],
   "source": [
    "lis2=[]\n",
    "for i in lis1:\n",
    "    if len(i)>15:\n",
    "        lis2.append(i)"
   ]
  },
  {
   "cell_type": "code",
   "execution_count": 75,
   "metadata": {},
   "outputs": [],
   "source": [
    "PostalCode=[i[0:3] for i in lis2]\n",
    "PostalCode\n",
    "Borough=[]\n",
    "Neighborhood=[]\n",
    "lis3=[i[3:] for i in lis2]\n",
    "for i in range(0,len(lis3)):\n",
    "    Borough.extend(re.findall('.+(?=\\()',lis3[i]))\n",
    "    Neighborhood.extend(re.findall('(?<=\\().+(?=\\))',lis3[i]))"
   ]
  },
  {
   "cell_type": "code",
   "execution_count": 76,
   "metadata": {},
   "outputs": [
    {
     "output_type": "execute_result",
     "data": {
      "text/plain": [
       "  PostalCode           Borough                       Neighborhood\n",
       "0        M3A        North York                          Parkwoods\n",
       "1        M4A        North York                   Victoria Village\n",
       "2        M5A  Downtown Toronto         Regent Park / Harbourfront\n",
       "3        M6A        North York  Lawrence Manor / Lawrence Heights\n",
       "4        M7A      Queen's Park      Ontario Provincial Government"
      ],
      "text/html": "<div>\n<style scoped>\n    .dataframe tbody tr th:only-of-type {\n        vertical-align: middle;\n    }\n\n    .dataframe tbody tr th {\n        vertical-align: top;\n    }\n\n    .dataframe thead th {\n        text-align: right;\n    }\n</style>\n<table border=\"1\" class=\"dataframe\">\n  <thead>\n    <tr style=\"text-align: right;\">\n      <th></th>\n      <th>PostalCode</th>\n      <th>Borough</th>\n      <th>Neighborhood</th>\n    </tr>\n  </thead>\n  <tbody>\n    <tr>\n      <th>0</th>\n      <td>M3A</td>\n      <td>North York</td>\n      <td>Parkwoods</td>\n    </tr>\n    <tr>\n      <th>1</th>\n      <td>M4A</td>\n      <td>North York</td>\n      <td>Victoria Village</td>\n    </tr>\n    <tr>\n      <th>2</th>\n      <td>M5A</td>\n      <td>Downtown Toronto</td>\n      <td>Regent Park / Harbourfront</td>\n    </tr>\n    <tr>\n      <th>3</th>\n      <td>M6A</td>\n      <td>North York</td>\n      <td>Lawrence Manor / Lawrence Heights</td>\n    </tr>\n    <tr>\n      <th>4</th>\n      <td>M7A</td>\n      <td>Queen's Park</td>\n      <td>Ontario Provincial Government</td>\n    </tr>\n  </tbody>\n</table>\n</div>"
     },
     "metadata": {},
     "execution_count": 76
    }
   ],
   "source": [
    "df['PostalCode']=PostalCode\n",
    "df['Borough']=Borough\n",
    "df['Neighborhood']=Neighborhood\n",
    "df.head()"
   ]
  },
  {
   "source": [
    "Dataframe obtained from scraping"
   ],
   "cell_type": "markdown",
   "metadata": {}
  },
  {
   "cell_type": "code",
   "execution_count": 77,
   "metadata": {},
   "outputs": [
    {
     "output_type": "execute_result",
     "data": {
      "text/plain": [
       "   PostalCode           Borough  \\\n",
       "0         M3A        North York   \n",
       "1         M4A        North York   \n",
       "2         M5A  Downtown Toronto   \n",
       "3         M6A        North York   \n",
       "4         M7A      Queen's Park   \n",
       "5         M9A         Etobicoke   \n",
       "6         M1B       Scarborough   \n",
       "7         M3B        North York   \n",
       "8         M4B         East York   \n",
       "9         M5B  Downtown Toronto   \n",
       "10        M6B        North York   \n",
       "11        M9B         Etobicoke   \n",
       "\n",
       "                                         Neighborhood  \n",
       "0                                           Parkwoods  \n",
       "1                                    Victoria Village  \n",
       "2                          Regent Park / Harbourfront  \n",
       "3                   Lawrence Manor / Lawrence Heights  \n",
       "4                       Ontario Provincial Government  \n",
       "5                                    Islington Avenue  \n",
       "6                                     Malvern / Rouge  \n",
       "7                                           Don Mills  \n",
       "8                    Parkview Hill / Woodbine Gardens  \n",
       "9                            Garden District, Ryerson  \n",
       "10                                          Glencairn  \n",
       "11  West Deane Park / Princess Gardens / Martin Gr...  "
      ],
      "text/html": "<div>\n<style scoped>\n    .dataframe tbody tr th:only-of-type {\n        vertical-align: middle;\n    }\n\n    .dataframe tbody tr th {\n        vertical-align: top;\n    }\n\n    .dataframe thead th {\n        text-align: right;\n    }\n</style>\n<table border=\"1\" class=\"dataframe\">\n  <thead>\n    <tr style=\"text-align: right;\">\n      <th></th>\n      <th>PostalCode</th>\n      <th>Borough</th>\n      <th>Neighborhood</th>\n    </tr>\n  </thead>\n  <tbody>\n    <tr>\n      <th>0</th>\n      <td>M3A</td>\n      <td>North York</td>\n      <td>Parkwoods</td>\n    </tr>\n    <tr>\n      <th>1</th>\n      <td>M4A</td>\n      <td>North York</td>\n      <td>Victoria Village</td>\n    </tr>\n    <tr>\n      <th>2</th>\n      <td>M5A</td>\n      <td>Downtown Toronto</td>\n      <td>Regent Park / Harbourfront</td>\n    </tr>\n    <tr>\n      <th>3</th>\n      <td>M6A</td>\n      <td>North York</td>\n      <td>Lawrence Manor / Lawrence Heights</td>\n    </tr>\n    <tr>\n      <th>4</th>\n      <td>M7A</td>\n      <td>Queen's Park</td>\n      <td>Ontario Provincial Government</td>\n    </tr>\n    <tr>\n      <th>5</th>\n      <td>M9A</td>\n      <td>Etobicoke</td>\n      <td>Islington Avenue</td>\n    </tr>\n    <tr>\n      <th>6</th>\n      <td>M1B</td>\n      <td>Scarborough</td>\n      <td>Malvern / Rouge</td>\n    </tr>\n    <tr>\n      <th>7</th>\n      <td>M3B</td>\n      <td>North York</td>\n      <td>Don Mills</td>\n    </tr>\n    <tr>\n      <th>8</th>\n      <td>M4B</td>\n      <td>East York</td>\n      <td>Parkview Hill / Woodbine Gardens</td>\n    </tr>\n    <tr>\n      <th>9</th>\n      <td>M5B</td>\n      <td>Downtown Toronto</td>\n      <td>Garden District, Ryerson</td>\n    </tr>\n    <tr>\n      <th>10</th>\n      <td>M6B</td>\n      <td>North York</td>\n      <td>Glencairn</td>\n    </tr>\n    <tr>\n      <th>11</th>\n      <td>M9B</td>\n      <td>Etobicoke</td>\n      <td>West Deane Park / Princess Gardens / Martin Gr...</td>\n    </tr>\n  </tbody>\n</table>\n</div>"
     },
     "metadata": {},
     "execution_count": 77
    }
   ],
   "source": [
    "df.head(12)"
   ]
  },
  {
   "cell_type": "code",
   "execution_count": 78,
   "metadata": {},
   "outputs": [
    {
     "output_type": "execute_result",
     "data": {
      "text/plain": [
       "(102, 3)"
      ]
     },
     "metadata": {},
     "execution_count": 78
    }
   ],
   "source": [
    "df.shape"
   ]
  },
  {
   "cell_type": "code",
   "execution_count": 79,
   "metadata": {},
   "outputs": [],
   "source": [
    "geodata=pd.read_csv(r\"C:\\Users\\CHAD\\Desktop\\work\\Coursera\\IBM\\Geospatial_Coordinates.csv\")"
   ]
  },
  {
   "cell_type": "code",
   "execution_count": 80,
   "metadata": {},
   "outputs": [
    {
     "output_type": "execute_result",
     "data": {
      "text/plain": [
       "  Postal Code   Latitude  Longitude\n",
       "0         M1B  43.806686 -79.194353\n",
       "1         M1C  43.784535 -79.160497\n",
       "2         M1E  43.763573 -79.188711\n",
       "3         M1G  43.770992 -79.216917\n",
       "4         M1H  43.773136 -79.239476"
      ],
      "text/html": "<div>\n<style scoped>\n    .dataframe tbody tr th:only-of-type {\n        vertical-align: middle;\n    }\n\n    .dataframe tbody tr th {\n        vertical-align: top;\n    }\n\n    .dataframe thead th {\n        text-align: right;\n    }\n</style>\n<table border=\"1\" class=\"dataframe\">\n  <thead>\n    <tr style=\"text-align: right;\">\n      <th></th>\n      <th>Postal Code</th>\n      <th>Latitude</th>\n      <th>Longitude</th>\n    </tr>\n  </thead>\n  <tbody>\n    <tr>\n      <th>0</th>\n      <td>M1B</td>\n      <td>43.806686</td>\n      <td>-79.194353</td>\n    </tr>\n    <tr>\n      <th>1</th>\n      <td>M1C</td>\n      <td>43.784535</td>\n      <td>-79.160497</td>\n    </tr>\n    <tr>\n      <th>2</th>\n      <td>M1E</td>\n      <td>43.763573</td>\n      <td>-79.188711</td>\n    </tr>\n    <tr>\n      <th>3</th>\n      <td>M1G</td>\n      <td>43.770992</td>\n      <td>-79.216917</td>\n    </tr>\n    <tr>\n      <th>4</th>\n      <td>M1H</td>\n      <td>43.773136</td>\n      <td>-79.239476</td>\n    </tr>\n  </tbody>\n</table>\n</div>"
     },
     "metadata": {},
     "execution_count": 80
    }
   ],
   "source": [
    "geodata.head()"
   ]
  },
  {
   "cell_type": "code",
   "execution_count": 81,
   "metadata": {},
   "outputs": [
    {
     "output_type": "execute_result",
     "data": {
      "text/plain": [
       "  PostalCode           Borough                       Neighborhood\n",
       "0        M3A        North York                          Parkwoods\n",
       "1        M4A        North York                   Victoria Village\n",
       "2        M5A  Downtown Toronto         Regent Park / Harbourfront\n",
       "3        M6A        North York  Lawrence Manor / Lawrence Heights\n",
       "4        M7A      Queen's Park      Ontario Provincial Government"
      ],
      "text/html": "<div>\n<style scoped>\n    .dataframe tbody tr th:only-of-type {\n        vertical-align: middle;\n    }\n\n    .dataframe tbody tr th {\n        vertical-align: top;\n    }\n\n    .dataframe thead th {\n        text-align: right;\n    }\n</style>\n<table border=\"1\" class=\"dataframe\">\n  <thead>\n    <tr style=\"text-align: right;\">\n      <th></th>\n      <th>PostalCode</th>\n      <th>Borough</th>\n      <th>Neighborhood</th>\n    </tr>\n  </thead>\n  <tbody>\n    <tr>\n      <th>0</th>\n      <td>M3A</td>\n      <td>North York</td>\n      <td>Parkwoods</td>\n    </tr>\n    <tr>\n      <th>1</th>\n      <td>M4A</td>\n      <td>North York</td>\n      <td>Victoria Village</td>\n    </tr>\n    <tr>\n      <th>2</th>\n      <td>M5A</td>\n      <td>Downtown Toronto</td>\n      <td>Regent Park / Harbourfront</td>\n    </tr>\n    <tr>\n      <th>3</th>\n      <td>M6A</td>\n      <td>North York</td>\n      <td>Lawrence Manor / Lawrence Heights</td>\n    </tr>\n    <tr>\n      <th>4</th>\n      <td>M7A</td>\n      <td>Queen's Park</td>\n      <td>Ontario Provincial Government</td>\n    </tr>\n  </tbody>\n</table>\n</div>"
     },
     "metadata": {},
     "execution_count": 81
    }
   ],
   "source": [
    "df.head()"
   ]
  },
  {
   "cell_type": "code",
   "execution_count": 82,
   "metadata": {},
   "outputs": [],
   "source": [
    "df=df.rename(columns={'PostalCode':'Postal Code'})"
   ]
  },
  {
   "cell_type": "code",
   "execution_count": 83,
   "metadata": {},
   "outputs": [],
   "source": [
    "new_Data=df.merge(geodata)"
   ]
  },
  {
   "cell_type": "code",
   "execution_count": 84,
   "metadata": {},
   "outputs": [
    {
     "output_type": "execute_result",
     "data": {
      "text/plain": [
       "  Postal Code           Borough                       Neighborhood   Latitude  \\\n",
       "0         M3A        North York                          Parkwoods  43.753259   \n",
       "1         M4A        North York                   Victoria Village  43.725882   \n",
       "2         M5A  Downtown Toronto         Regent Park / Harbourfront  43.654260   \n",
       "3         M6A        North York  Lawrence Manor / Lawrence Heights  43.718518   \n",
       "4         M7A      Queen's Park      Ontario Provincial Government  43.662301   \n",
       "\n",
       "   Longitude  \n",
       "0 -79.329656  \n",
       "1 -79.315572  \n",
       "2 -79.360636  \n",
       "3 -79.464763  \n",
       "4 -79.389494  "
      ],
      "text/html": "<div>\n<style scoped>\n    .dataframe tbody tr th:only-of-type {\n        vertical-align: middle;\n    }\n\n    .dataframe tbody tr th {\n        vertical-align: top;\n    }\n\n    .dataframe thead th {\n        text-align: right;\n    }\n</style>\n<table border=\"1\" class=\"dataframe\">\n  <thead>\n    <tr style=\"text-align: right;\">\n      <th></th>\n      <th>Postal Code</th>\n      <th>Borough</th>\n      <th>Neighborhood</th>\n      <th>Latitude</th>\n      <th>Longitude</th>\n    </tr>\n  </thead>\n  <tbody>\n    <tr>\n      <th>0</th>\n      <td>M3A</td>\n      <td>North York</td>\n      <td>Parkwoods</td>\n      <td>43.753259</td>\n      <td>-79.329656</td>\n    </tr>\n    <tr>\n      <th>1</th>\n      <td>M4A</td>\n      <td>North York</td>\n      <td>Victoria Village</td>\n      <td>43.725882</td>\n      <td>-79.315572</td>\n    </tr>\n    <tr>\n      <th>2</th>\n      <td>M5A</td>\n      <td>Downtown Toronto</td>\n      <td>Regent Park / Harbourfront</td>\n      <td>43.654260</td>\n      <td>-79.360636</td>\n    </tr>\n    <tr>\n      <th>3</th>\n      <td>M6A</td>\n      <td>North York</td>\n      <td>Lawrence Manor / Lawrence Heights</td>\n      <td>43.718518</td>\n      <td>-79.464763</td>\n    </tr>\n    <tr>\n      <th>4</th>\n      <td>M7A</td>\n      <td>Queen's Park</td>\n      <td>Ontario Provincial Government</td>\n      <td>43.662301</td>\n      <td>-79.389494</td>\n    </tr>\n  </tbody>\n</table>\n</div>"
     },
     "metadata": {},
     "execution_count": 84
    }
   ],
   "source": [
    "new_Data.head()"
   ]
  },
  {
   "source": [
    "Data with geodata"
   ],
   "cell_type": "markdown",
   "metadata": {}
  },
  {
   "cell_type": "code",
   "execution_count": 85,
   "metadata": {},
   "outputs": [
    {
     "output_type": "execute_result",
     "data": {
      "text/plain": [
       "  Postal Code           Borough                Neighborhood   Latitude  \\\n",
       "0         M5A  Downtown Toronto  Regent Park / Harbourfront  43.654260   \n",
       "1         M5B  Downtown Toronto    Garden District, Ryerson  43.657162   \n",
       "2         M5C  Downtown Toronto              St. James Town  43.651494   \n",
       "3         M4E      East Toronto                 The Beaches  43.676357   \n",
       "4         M5E  Downtown Toronto                 Berczy Park  43.644771   \n",
       "\n",
       "   Longitude  \n",
       "0 -79.360636  \n",
       "1 -79.378937  \n",
       "2 -79.375418  \n",
       "3 -79.293031  \n",
       "4 -79.373306  "
      ],
      "text/html": "<div>\n<style scoped>\n    .dataframe tbody tr th:only-of-type {\n        vertical-align: middle;\n    }\n\n    .dataframe tbody tr th {\n        vertical-align: top;\n    }\n\n    .dataframe thead th {\n        text-align: right;\n    }\n</style>\n<table border=\"1\" class=\"dataframe\">\n  <thead>\n    <tr style=\"text-align: right;\">\n      <th></th>\n      <th>Postal Code</th>\n      <th>Borough</th>\n      <th>Neighborhood</th>\n      <th>Latitude</th>\n      <th>Longitude</th>\n    </tr>\n  </thead>\n  <tbody>\n    <tr>\n      <th>0</th>\n      <td>M5A</td>\n      <td>Downtown Toronto</td>\n      <td>Regent Park / Harbourfront</td>\n      <td>43.654260</td>\n      <td>-79.360636</td>\n    </tr>\n    <tr>\n      <th>1</th>\n      <td>M5B</td>\n      <td>Downtown Toronto</td>\n      <td>Garden District, Ryerson</td>\n      <td>43.657162</td>\n      <td>-79.378937</td>\n    </tr>\n    <tr>\n      <th>2</th>\n      <td>M5C</td>\n      <td>Downtown Toronto</td>\n      <td>St. James Town</td>\n      <td>43.651494</td>\n      <td>-79.375418</td>\n    </tr>\n    <tr>\n      <th>3</th>\n      <td>M4E</td>\n      <td>East Toronto</td>\n      <td>The Beaches</td>\n      <td>43.676357</td>\n      <td>-79.293031</td>\n    </tr>\n    <tr>\n      <th>4</th>\n      <td>M5E</td>\n      <td>Downtown Toronto</td>\n      <td>Berczy Park</td>\n      <td>43.644771</td>\n      <td>-79.373306</td>\n    </tr>\n  </tbody>\n</table>\n</div>"
     },
     "metadata": {},
     "execution_count": 85
    }
   ],
   "source": [
    "toronto_data=new_Data[new_Data.Borough.str.contains('Toronto')]\n",
    "toronto_data.reset_index(drop=True,inplace=True)\n",
    "toronto_data.head()"
   ]
  },
  {
   "cell_type": "code",
   "execution_count": 86,
   "metadata": {},
   "outputs": [],
   "source": [
    "#EXPLORE THE FIRST NEIGHBORHOOD"
   ]
  },
  {
   "cell_type": "code",
   "execution_count": 87,
   "metadata": {},
   "outputs": [],
   "source": [
    "CLIENT_ID = 'G5XELWRC2EMZHYGGKF20VTKEWZE3GSGFBAQZNG4NUYHKVHQT' # your Foursquare ID\n",
    "CLIENT_SECRET = 'GKBXNMTGJTWF04VMQVCNDYG5WR4UCRFTQTA2VXFLKF1JIQAX' # your Foursquare Secret\n",
    "ACCESS_TOKEN = 'BOLQGFEKLU1E0CTOOSVPC5SSUTRQSWPXZHYSYMNB4V33DE5C' # your FourSquare Access Token\n",
    "VERSION = '20180604'\n",
    "LIMIT = 100"
   ]
  },
  {
   "cell_type": "code",
   "execution_count": 88,
   "metadata": {},
   "outputs": [
    {
     "output_type": "execute_result",
     "data": {
      "text/plain": [
       "'Regent Park / Harbourfront'"
      ]
     },
     "metadata": {},
     "execution_count": 88
    }
   ],
   "source": [
    "toronto_data.loc[0,'Neighborhood']"
   ]
  },
  {
   "cell_type": "code",
   "execution_count": 89,
   "metadata": {},
   "outputs": [
    {
     "output_type": "stream",
     "name": "stdout",
     "text": [
      "The geograpical coordinate of Toronto are 43.6534817, -79.3839347.\n"
     ]
    }
   ],
   "source": [
    "address='Toronto, CA'\n",
    "geolocator=Nominatim(user_agent=\"ny_explorer\")\n",
    "location= geolocator.geocode(address)\n",
    "latitude=location.latitude\n",
    "longitude=location.longitude\n",
    "print('The geograpical coordinate of Toronto are {}, {}.'.format(latitude, longitude))"
   ]
  },
  {
   "cell_type": "code",
   "execution_count": 90,
   "metadata": {},
   "outputs": [
    {
     "output_type": "execute_result",
     "data": {
      "text/plain": [
       "<folium.folium.Map at 0x283906a4f10>"
      ],
      "text/html": "<div style=\"width:100%;\"><div style=\"position:relative;width:100%;height:0;padding-bottom:60%;\"><span style=\"color:#565656\">Make this Notebook Trusted to load map: File -> Trust Notebook</span><iframe src=\"about:blank\" style=\"position:absolute;width:100%;height:100%;left:0;top:0;border:none !important;\" data-html=%3C%21DOCTYPE%20html%3E%0A%3Chead%3E%20%20%20%20%0A%20%20%20%20%3Cmeta%20http-equiv%3D%22content-type%22%20content%3D%22text/html%3B%20charset%3DUTF-8%22%20/%3E%0A%20%20%20%20%0A%20%20%20%20%20%20%20%20%3Cscript%3E%0A%20%20%20%20%20%20%20%20%20%20%20%20L_NO_TOUCH%20%3D%20false%3B%0A%20%20%20%20%20%20%20%20%20%20%20%20L_DISABLE_3D%20%3D%20false%3B%0A%20%20%20%20%20%20%20%20%3C/script%3E%0A%20%20%20%20%0A%20%20%20%20%3Cstyle%3Ehtml%2C%20body%20%7Bwidth%3A%20100%25%3Bheight%3A%20100%25%3Bmargin%3A%200%3Bpadding%3A%200%3B%7D%3C/style%3E%0A%20%20%20%20%3Cstyle%3E%23map%20%7Bposition%3Aabsolute%3Btop%3A0%3Bbottom%3A0%3Bright%3A0%3Bleft%3A0%3B%7D%3C/style%3E%0A%20%20%20%20%3Cscript%20src%3D%22https%3A//cdn.jsdelivr.net/npm/leaflet%401.6.0/dist/leaflet.js%22%3E%3C/script%3E%0A%20%20%20%20%3Cscript%20src%3D%22https%3A//code.jquery.com/jquery-1.12.4.min.js%22%3E%3C/script%3E%0A%20%20%20%20%3Cscript%20src%3D%22https%3A//maxcdn.bootstrapcdn.com/bootstrap/3.2.0/js/bootstrap.min.js%22%3E%3C/script%3E%0A%20%20%20%20%3Cscript%20src%3D%22https%3A//cdnjs.cloudflare.com/ajax/libs/Leaflet.awesome-markers/2.0.2/leaflet.awesome-markers.js%22%3E%3C/script%3E%0A%20%20%20%20%3Clink%20rel%3D%22stylesheet%22%20href%3D%22https%3A//cdn.jsdelivr.net/npm/leaflet%401.6.0/dist/leaflet.css%22/%3E%0A%20%20%20%20%3Clink%20rel%3D%22stylesheet%22%20href%3D%22https%3A//maxcdn.bootstrapcdn.com/bootstrap/3.2.0/css/bootstrap.min.css%22/%3E%0A%20%20%20%20%3Clink%20rel%3D%22stylesheet%22%20href%3D%22https%3A//maxcdn.bootstrapcdn.com/bootstrap/3.2.0/css/bootstrap-theme.min.css%22/%3E%0A%20%20%20%20%3Clink%20rel%3D%22stylesheet%22%20href%3D%22https%3A//maxcdn.bootstrapcdn.com/font-awesome/4.6.3/css/font-awesome.min.css%22/%3E%0A%20%20%20%20%3Clink%20rel%3D%22stylesheet%22%20href%3D%22https%3A//cdnjs.cloudflare.com/ajax/libs/Leaflet.awesome-markers/2.0.2/leaflet.awesome-markers.css%22/%3E%0A%20%20%20%20%3Clink%20rel%3D%22stylesheet%22%20href%3D%22https%3A//cdn.jsdelivr.net/gh/python-visualization/folium/folium/templates/leaflet.awesome.rotate.min.css%22/%3E%0A%20%20%20%20%0A%20%20%20%20%20%20%20%20%20%20%20%20%3Cmeta%20name%3D%22viewport%22%20content%3D%22width%3Ddevice-width%2C%0A%20%20%20%20%20%20%20%20%20%20%20%20%20%20%20%20initial-scale%3D1.0%2C%20maximum-scale%3D1.0%2C%20user-scalable%3Dno%22%20/%3E%0A%20%20%20%20%20%20%20%20%20%20%20%20%3Cstyle%3E%0A%20%20%20%20%20%20%20%20%20%20%20%20%20%20%20%20%23map_1871bc62eb614a49aa2479b0087bd4af%20%7B%0A%20%20%20%20%20%20%20%20%20%20%20%20%20%20%20%20%20%20%20%20position%3A%20relative%3B%0A%20%20%20%20%20%20%20%20%20%20%20%20%20%20%20%20%20%20%20%20width%3A%20100.0%25%3B%0A%20%20%20%20%20%20%20%20%20%20%20%20%20%20%20%20%20%20%20%20height%3A%20100.0%25%3B%0A%20%20%20%20%20%20%20%20%20%20%20%20%20%20%20%20%20%20%20%20left%3A%200.0%25%3B%0A%20%20%20%20%20%20%20%20%20%20%20%20%20%20%20%20%20%20%20%20top%3A%200.0%25%3B%0A%20%20%20%20%20%20%20%20%20%20%20%20%20%20%20%20%7D%0A%20%20%20%20%20%20%20%20%20%20%20%20%3C/style%3E%0A%20%20%20%20%20%20%20%20%0A%3C/head%3E%0A%3Cbody%3E%20%20%20%20%0A%20%20%20%20%0A%20%20%20%20%20%20%20%20%20%20%20%20%3Cdiv%20class%3D%22folium-map%22%20id%3D%22map_1871bc62eb614a49aa2479b0087bd4af%22%20%3E%3C/div%3E%0A%20%20%20%20%20%20%20%20%0A%3C/body%3E%0A%3Cscript%3E%20%20%20%20%0A%20%20%20%20%0A%20%20%20%20%20%20%20%20%20%20%20%20var%20map_1871bc62eb614a49aa2479b0087bd4af%20%3D%20L.map%28%0A%20%20%20%20%20%20%20%20%20%20%20%20%20%20%20%20%22map_1871bc62eb614a49aa2479b0087bd4af%22%2C%0A%20%20%20%20%20%20%20%20%20%20%20%20%20%20%20%20%7B%0A%20%20%20%20%20%20%20%20%20%20%20%20%20%20%20%20%20%20%20%20center%3A%20%5B43.6534817%2C%20-79.3839347%5D%2C%0A%20%20%20%20%20%20%20%20%20%20%20%20%20%20%20%20%20%20%20%20crs%3A%20L.CRS.EPSG3857%2C%0A%20%20%20%20%20%20%20%20%20%20%20%20%20%20%20%20%20%20%20%20zoom%3A%2010%2C%0A%20%20%20%20%20%20%20%20%20%20%20%20%20%20%20%20%20%20%20%20zoomControl%3A%20true%2C%0A%20%20%20%20%20%20%20%20%20%20%20%20%20%20%20%20%20%20%20%20preferCanvas%3A%20false%2C%0A%20%20%20%20%20%20%20%20%20%20%20%20%20%20%20%20%7D%0A%20%20%20%20%20%20%20%20%20%20%20%20%29%3B%0A%0A%20%20%20%20%20%20%20%20%20%20%20%20%0A%0A%20%20%20%20%20%20%20%20%0A%20%20%20%20%0A%20%20%20%20%20%20%20%20%20%20%20%20var%20tile_layer_45d225477bab423082fe502ffc427461%20%3D%20L.tileLayer%28%0A%20%20%20%20%20%20%20%20%20%20%20%20%20%20%20%20%22https%3A//%7Bs%7D.tile.openstreetmap.org/%7Bz%7D/%7Bx%7D/%7By%7D.png%22%2C%0A%20%20%20%20%20%20%20%20%20%20%20%20%20%20%20%20%7B%22attribution%22%3A%20%22Data%20by%20%5Cu0026copy%3B%20%5Cu003ca%20href%3D%5C%22http%3A//openstreetmap.org%5C%22%5Cu003eOpenStreetMap%5Cu003c/a%5Cu003e%2C%20under%20%5Cu003ca%20href%3D%5C%22http%3A//www.openstreetmap.org/copyright%5C%22%5Cu003eODbL%5Cu003c/a%5Cu003e.%22%2C%20%22detectRetina%22%3A%20false%2C%20%22maxNativeZoom%22%3A%2018%2C%20%22maxZoom%22%3A%2018%2C%20%22minZoom%22%3A%200%2C%20%22noWrap%22%3A%20false%2C%20%22opacity%22%3A%201%2C%20%22subdomains%22%3A%20%22abc%22%2C%20%22tms%22%3A%20false%7D%0A%20%20%20%20%20%20%20%20%20%20%20%20%29.addTo%28map_1871bc62eb614a49aa2479b0087bd4af%29%3B%0A%20%20%20%20%20%20%20%20%0A%20%20%20%20%0A%20%20%20%20%20%20%20%20%20%20%20%20var%20circle_marker_2cb8e3a0995041f8961980d89f3fc0d3%20%3D%20L.circleMarker%28%0A%20%20%20%20%20%20%20%20%20%20%20%20%20%20%20%20%5B43.6542599%2C%20-79.3606359%5D%2C%0A%20%20%20%20%20%20%20%20%20%20%20%20%20%20%20%20%7B%22bubblingMouseEvents%22%3A%20true%2C%20%22color%22%3A%20%22blue%22%2C%20%22dashArray%22%3A%20null%2C%20%22dashOffset%22%3A%20null%2C%20%22fill%22%3A%20true%2C%20%22fillColor%22%3A%20%22%233186cc%22%2C%20%22fillOpacity%22%3A%200.7%2C%20%22fillRule%22%3A%20%22evenodd%22%2C%20%22lineCap%22%3A%20%22round%22%2C%20%22lineJoin%22%3A%20%22round%22%2C%20%22opacity%22%3A%201.0%2C%20%22radius%22%3A%205%2C%20%22stroke%22%3A%20true%2C%20%22weight%22%3A%203%7D%0A%20%20%20%20%20%20%20%20%20%20%20%20%29.addTo%28map_1871bc62eb614a49aa2479b0087bd4af%29%3B%0A%20%20%20%20%20%20%20%20%0A%20%20%20%20%0A%20%20%20%20%20%20%20%20var%20popup_0c6bfc8e0b7449d7b1a273bde64bf235%20%3D%20L.popup%28%7B%22maxWidth%22%3A%20%22100%25%22%7D%29%3B%0A%0A%20%20%20%20%20%20%20%20%0A%20%20%20%20%20%20%20%20%20%20%20%20var%20html_f145690a7ec445e387459138f952632e%20%3D%20%24%28%60%3Cdiv%20id%3D%22html_f145690a7ec445e387459138f952632e%22%20style%3D%22width%3A%20100.0%25%3B%20height%3A%20100.0%25%3B%22%3ERegent%20Park%20/%20HarbourfrontDowntown%20Toronto%3C/div%3E%60%29%5B0%5D%3B%0A%20%20%20%20%20%20%20%20%20%20%20%20popup_0c6bfc8e0b7449d7b1a273bde64bf235.setContent%28html_f145690a7ec445e387459138f952632e%29%3B%0A%20%20%20%20%20%20%20%20%0A%0A%20%20%20%20%20%20%20%20circle_marker_2cb8e3a0995041f8961980d89f3fc0d3.bindPopup%28popup_0c6bfc8e0b7449d7b1a273bde64bf235%29%0A%20%20%20%20%20%20%20%20%3B%0A%0A%20%20%20%20%20%20%20%20%0A%20%20%20%20%0A%20%20%20%20%0A%20%20%20%20%20%20%20%20%20%20%20%20var%20circle_marker_7d98ca1226f5463fb14d126feca54a7d%20%3D%20L.circleMarker%28%0A%20%20%20%20%20%20%20%20%20%20%20%20%20%20%20%20%5B43.6571618%2C%20-79.37893709999999%5D%2C%0A%20%20%20%20%20%20%20%20%20%20%20%20%20%20%20%20%7B%22bubblingMouseEvents%22%3A%20true%2C%20%22color%22%3A%20%22blue%22%2C%20%22dashArray%22%3A%20null%2C%20%22dashOffset%22%3A%20null%2C%20%22fill%22%3A%20true%2C%20%22fillColor%22%3A%20%22%233186cc%22%2C%20%22fillOpacity%22%3A%200.7%2C%20%22fillRule%22%3A%20%22evenodd%22%2C%20%22lineCap%22%3A%20%22round%22%2C%20%22lineJoin%22%3A%20%22round%22%2C%20%22opacity%22%3A%201.0%2C%20%22radius%22%3A%205%2C%20%22stroke%22%3A%20true%2C%20%22weight%22%3A%203%7D%0A%20%20%20%20%20%20%20%20%20%20%20%20%29.addTo%28map_1871bc62eb614a49aa2479b0087bd4af%29%3B%0A%20%20%20%20%20%20%20%20%0A%20%20%20%20%0A%20%20%20%20%20%20%20%20var%20popup_bf4f7d35bc7743f597966b12f201aa7c%20%3D%20L.popup%28%7B%22maxWidth%22%3A%20%22100%25%22%7D%29%3B%0A%0A%20%20%20%20%20%20%20%20%0A%20%20%20%20%20%20%20%20%20%20%20%20var%20html_2c6d018dd23f43279d011eec5d97bd07%20%3D%20%24%28%60%3Cdiv%20id%3D%22html_2c6d018dd23f43279d011eec5d97bd07%22%20style%3D%22width%3A%20100.0%25%3B%20height%3A%20100.0%25%3B%22%3EGarden%20District%2C%20RyersonDowntown%20Toronto%3C/div%3E%60%29%5B0%5D%3B%0A%20%20%20%20%20%20%20%20%20%20%20%20popup_bf4f7d35bc7743f597966b12f201aa7c.setContent%28html_2c6d018dd23f43279d011eec5d97bd07%29%3B%0A%20%20%20%20%20%20%20%20%0A%0A%20%20%20%20%20%20%20%20circle_marker_7d98ca1226f5463fb14d126feca54a7d.bindPopup%28popup_bf4f7d35bc7743f597966b12f201aa7c%29%0A%20%20%20%20%20%20%20%20%3B%0A%0A%20%20%20%20%20%20%20%20%0A%20%20%20%20%0A%20%20%20%20%0A%20%20%20%20%20%20%20%20%20%20%20%20var%20circle_marker_021d0c59738f4c6c9ba117df32079497%20%3D%20L.circleMarker%28%0A%20%20%20%20%20%20%20%20%20%20%20%20%20%20%20%20%5B43.6514939%2C%20-79.3754179%5D%2C%0A%20%20%20%20%20%20%20%20%20%20%20%20%20%20%20%20%7B%22bubblingMouseEvents%22%3A%20true%2C%20%22color%22%3A%20%22blue%22%2C%20%22dashArray%22%3A%20null%2C%20%22dashOffset%22%3A%20null%2C%20%22fill%22%3A%20true%2C%20%22fillColor%22%3A%20%22%233186cc%22%2C%20%22fillOpacity%22%3A%200.7%2C%20%22fillRule%22%3A%20%22evenodd%22%2C%20%22lineCap%22%3A%20%22round%22%2C%20%22lineJoin%22%3A%20%22round%22%2C%20%22opacity%22%3A%201.0%2C%20%22radius%22%3A%205%2C%20%22stroke%22%3A%20true%2C%20%22weight%22%3A%203%7D%0A%20%20%20%20%20%20%20%20%20%20%20%20%29.addTo%28map_1871bc62eb614a49aa2479b0087bd4af%29%3B%0A%20%20%20%20%20%20%20%20%0A%20%20%20%20%0A%20%20%20%20%20%20%20%20var%20popup_8cc8741db61747008c1738b628b9f3b6%20%3D%20L.popup%28%7B%22maxWidth%22%3A%20%22100%25%22%7D%29%3B%0A%0A%20%20%20%20%20%20%20%20%0A%20%20%20%20%20%20%20%20%20%20%20%20var%20html_6c64f4f40ea848e89cb83098b7b6972a%20%3D%20%24%28%60%3Cdiv%20id%3D%22html_6c64f4f40ea848e89cb83098b7b6972a%22%20style%3D%22width%3A%20100.0%25%3B%20height%3A%20100.0%25%3B%22%3ESt.%20James%20TownDowntown%20Toronto%3C/div%3E%60%29%5B0%5D%3B%0A%20%20%20%20%20%20%20%20%20%20%20%20popup_8cc8741db61747008c1738b628b9f3b6.setContent%28html_6c64f4f40ea848e89cb83098b7b6972a%29%3B%0A%20%20%20%20%20%20%20%20%0A%0A%20%20%20%20%20%20%20%20circle_marker_021d0c59738f4c6c9ba117df32079497.bindPopup%28popup_8cc8741db61747008c1738b628b9f3b6%29%0A%20%20%20%20%20%20%20%20%3B%0A%0A%20%20%20%20%20%20%20%20%0A%20%20%20%20%0A%20%20%20%20%0A%20%20%20%20%20%20%20%20%20%20%20%20var%20circle_marker_7538f3976fb94aadaafa18505d2129a1%20%3D%20L.circleMarker%28%0A%20%20%20%20%20%20%20%20%20%20%20%20%20%20%20%20%5B43.67635739999999%2C%20-79.2930312%5D%2C%0A%20%20%20%20%20%20%20%20%20%20%20%20%20%20%20%20%7B%22bubblingMouseEvents%22%3A%20true%2C%20%22color%22%3A%20%22blue%22%2C%20%22dashArray%22%3A%20null%2C%20%22dashOffset%22%3A%20null%2C%20%22fill%22%3A%20true%2C%20%22fillColor%22%3A%20%22%233186cc%22%2C%20%22fillOpacity%22%3A%200.7%2C%20%22fillRule%22%3A%20%22evenodd%22%2C%20%22lineCap%22%3A%20%22round%22%2C%20%22lineJoin%22%3A%20%22round%22%2C%20%22opacity%22%3A%201.0%2C%20%22radius%22%3A%205%2C%20%22stroke%22%3A%20true%2C%20%22weight%22%3A%203%7D%0A%20%20%20%20%20%20%20%20%20%20%20%20%29.addTo%28map_1871bc62eb614a49aa2479b0087bd4af%29%3B%0A%20%20%20%20%20%20%20%20%0A%20%20%20%20%0A%20%20%20%20%20%20%20%20var%20popup_0723db836855423e99cb90f459d551f1%20%3D%20L.popup%28%7B%22maxWidth%22%3A%20%22100%25%22%7D%29%3B%0A%0A%20%20%20%20%20%20%20%20%0A%20%20%20%20%20%20%20%20%20%20%20%20var%20html_cfbbbc4652604521b7025e0f83a1ff26%20%3D%20%24%28%60%3Cdiv%20id%3D%22html_cfbbbc4652604521b7025e0f83a1ff26%22%20style%3D%22width%3A%20100.0%25%3B%20height%3A%20100.0%25%3B%22%3EThe%20BeachesEast%20Toronto%3C/div%3E%60%29%5B0%5D%3B%0A%20%20%20%20%20%20%20%20%20%20%20%20popup_0723db836855423e99cb90f459d551f1.setContent%28html_cfbbbc4652604521b7025e0f83a1ff26%29%3B%0A%20%20%20%20%20%20%20%20%0A%0A%20%20%20%20%20%20%20%20circle_marker_7538f3976fb94aadaafa18505d2129a1.bindPopup%28popup_0723db836855423e99cb90f459d551f1%29%0A%20%20%20%20%20%20%20%20%3B%0A%0A%20%20%20%20%20%20%20%20%0A%20%20%20%20%0A%20%20%20%20%0A%20%20%20%20%20%20%20%20%20%20%20%20var%20circle_marker_faeb02349910435eb1831201550722fc%20%3D%20L.circleMarker%28%0A%20%20%20%20%20%20%20%20%20%20%20%20%20%20%20%20%5B43.644770799999996%2C%20-79.3733064%5D%2C%0A%20%20%20%20%20%20%20%20%20%20%20%20%20%20%20%20%7B%22bubblingMouseEvents%22%3A%20true%2C%20%22color%22%3A%20%22blue%22%2C%20%22dashArray%22%3A%20null%2C%20%22dashOffset%22%3A%20null%2C%20%22fill%22%3A%20true%2C%20%22fillColor%22%3A%20%22%233186cc%22%2C%20%22fillOpacity%22%3A%200.7%2C%20%22fillRule%22%3A%20%22evenodd%22%2C%20%22lineCap%22%3A%20%22round%22%2C%20%22lineJoin%22%3A%20%22round%22%2C%20%22opacity%22%3A%201.0%2C%20%22radius%22%3A%205%2C%20%22stroke%22%3A%20true%2C%20%22weight%22%3A%203%7D%0A%20%20%20%20%20%20%20%20%20%20%20%20%29.addTo%28map_1871bc62eb614a49aa2479b0087bd4af%29%3B%0A%20%20%20%20%20%20%20%20%0A%20%20%20%20%0A%20%20%20%20%20%20%20%20var%20popup_48acd624de6646b6abfa1abdc50a2d06%20%3D%20L.popup%28%7B%22maxWidth%22%3A%20%22100%25%22%7D%29%3B%0A%0A%20%20%20%20%20%20%20%20%0A%20%20%20%20%20%20%20%20%20%20%20%20var%20html_1a103dc5472442ccab85e2925c86869b%20%3D%20%24%28%60%3Cdiv%20id%3D%22html_1a103dc5472442ccab85e2925c86869b%22%20style%3D%22width%3A%20100.0%25%3B%20height%3A%20100.0%25%3B%22%3EBerczy%20ParkDowntown%20Toronto%3C/div%3E%60%29%5B0%5D%3B%0A%20%20%20%20%20%20%20%20%20%20%20%20popup_48acd624de6646b6abfa1abdc50a2d06.setContent%28html_1a103dc5472442ccab85e2925c86869b%29%3B%0A%20%20%20%20%20%20%20%20%0A%0A%20%20%20%20%20%20%20%20circle_marker_faeb02349910435eb1831201550722fc.bindPopup%28popup_48acd624de6646b6abfa1abdc50a2d06%29%0A%20%20%20%20%20%20%20%20%3B%0A%0A%20%20%20%20%20%20%20%20%0A%20%20%20%20%0A%20%20%20%20%0A%20%20%20%20%20%20%20%20%20%20%20%20var%20circle_marker_67bf541bd5da499c8e54f8921db2d8f8%20%3D%20L.circleMarker%28%0A%20%20%20%20%20%20%20%20%20%20%20%20%20%20%20%20%5B43.6579524%2C%20-79.3873826%5D%2C%0A%20%20%20%20%20%20%20%20%20%20%20%20%20%20%20%20%7B%22bubblingMouseEvents%22%3A%20true%2C%20%22color%22%3A%20%22blue%22%2C%20%22dashArray%22%3A%20null%2C%20%22dashOffset%22%3A%20null%2C%20%22fill%22%3A%20true%2C%20%22fillColor%22%3A%20%22%233186cc%22%2C%20%22fillOpacity%22%3A%200.7%2C%20%22fillRule%22%3A%20%22evenodd%22%2C%20%22lineCap%22%3A%20%22round%22%2C%20%22lineJoin%22%3A%20%22round%22%2C%20%22opacity%22%3A%201.0%2C%20%22radius%22%3A%205%2C%20%22stroke%22%3A%20true%2C%20%22weight%22%3A%203%7D%0A%20%20%20%20%20%20%20%20%20%20%20%20%29.addTo%28map_1871bc62eb614a49aa2479b0087bd4af%29%3B%0A%20%20%20%20%20%20%20%20%0A%20%20%20%20%0A%20%20%20%20%20%20%20%20var%20popup_24cfe3f085b94642b590f8b9af8ee8fd%20%3D%20L.popup%28%7B%22maxWidth%22%3A%20%22100%25%22%7D%29%3B%0A%0A%20%20%20%20%20%20%20%20%0A%20%20%20%20%20%20%20%20%20%20%20%20var%20html_a86f4f6fa2314905aed113f7c56135e5%20%3D%20%24%28%60%3Cdiv%20id%3D%22html_a86f4f6fa2314905aed113f7c56135e5%22%20style%3D%22width%3A%20100.0%25%3B%20height%3A%20100.0%25%3B%22%3ECentral%20Bay%20StreetDowntown%20Toronto%3C/div%3E%60%29%5B0%5D%3B%0A%20%20%20%20%20%20%20%20%20%20%20%20popup_24cfe3f085b94642b590f8b9af8ee8fd.setContent%28html_a86f4f6fa2314905aed113f7c56135e5%29%3B%0A%20%20%20%20%20%20%20%20%0A%0A%20%20%20%20%20%20%20%20circle_marker_67bf541bd5da499c8e54f8921db2d8f8.bindPopup%28popup_24cfe3f085b94642b590f8b9af8ee8fd%29%0A%20%20%20%20%20%20%20%20%3B%0A%0A%20%20%20%20%20%20%20%20%0A%20%20%20%20%0A%20%20%20%20%0A%20%20%20%20%20%20%20%20%20%20%20%20var%20circle_marker_289a6c8c1dc94fa3abde3cfcbe94c911%20%3D%20L.circleMarker%28%0A%20%20%20%20%20%20%20%20%20%20%20%20%20%20%20%20%5B43.669542%2C%20-79.4225637%5D%2C%0A%20%20%20%20%20%20%20%20%20%20%20%20%20%20%20%20%7B%22bubblingMouseEvents%22%3A%20true%2C%20%22color%22%3A%20%22blue%22%2C%20%22dashArray%22%3A%20null%2C%20%22dashOffset%22%3A%20null%2C%20%22fill%22%3A%20true%2C%20%22fillColor%22%3A%20%22%233186cc%22%2C%20%22fillOpacity%22%3A%200.7%2C%20%22fillRule%22%3A%20%22evenodd%22%2C%20%22lineCap%22%3A%20%22round%22%2C%20%22lineJoin%22%3A%20%22round%22%2C%20%22opacity%22%3A%201.0%2C%20%22radius%22%3A%205%2C%20%22stroke%22%3A%20true%2C%20%22weight%22%3A%203%7D%0A%20%20%20%20%20%20%20%20%20%20%20%20%29.addTo%28map_1871bc62eb614a49aa2479b0087bd4af%29%3B%0A%20%20%20%20%20%20%20%20%0A%20%20%20%20%0A%20%20%20%20%20%20%20%20var%20popup_1ded39d5e54347f68bc4ffb2d7a7e5a1%20%3D%20L.popup%28%7B%22maxWidth%22%3A%20%22100%25%22%7D%29%3B%0A%0A%20%20%20%20%20%20%20%20%0A%20%20%20%20%20%20%20%20%20%20%20%20var%20html_0b4ef5626db84f26bb741f560b24505b%20%3D%20%24%28%60%3Cdiv%20id%3D%22html_0b4ef5626db84f26bb741f560b24505b%22%20style%3D%22width%3A%20100.0%25%3B%20height%3A%20100.0%25%3B%22%3EChristieDowntown%20Toronto%3C/div%3E%60%29%5B0%5D%3B%0A%20%20%20%20%20%20%20%20%20%20%20%20popup_1ded39d5e54347f68bc4ffb2d7a7e5a1.setContent%28html_0b4ef5626db84f26bb741f560b24505b%29%3B%0A%20%20%20%20%20%20%20%20%0A%0A%20%20%20%20%20%20%20%20circle_marker_289a6c8c1dc94fa3abde3cfcbe94c911.bindPopup%28popup_1ded39d5e54347f68bc4ffb2d7a7e5a1%29%0A%20%20%20%20%20%20%20%20%3B%0A%0A%20%20%20%20%20%20%20%20%0A%20%20%20%20%0A%20%20%20%20%0A%20%20%20%20%20%20%20%20%20%20%20%20var%20circle_marker_9de1e5b06e234db284d4cf24cad3534b%20%3D%20L.circleMarker%28%0A%20%20%20%20%20%20%20%20%20%20%20%20%20%20%20%20%5B43.65057120000001%2C%20-79.3845675%5D%2C%0A%20%20%20%20%20%20%20%20%20%20%20%20%20%20%20%20%7B%22bubblingMouseEvents%22%3A%20true%2C%20%22color%22%3A%20%22blue%22%2C%20%22dashArray%22%3A%20null%2C%20%22dashOffset%22%3A%20null%2C%20%22fill%22%3A%20true%2C%20%22fillColor%22%3A%20%22%233186cc%22%2C%20%22fillOpacity%22%3A%200.7%2C%20%22fillRule%22%3A%20%22evenodd%22%2C%20%22lineCap%22%3A%20%22round%22%2C%20%22lineJoin%22%3A%20%22round%22%2C%20%22opacity%22%3A%201.0%2C%20%22radius%22%3A%205%2C%20%22stroke%22%3A%20true%2C%20%22weight%22%3A%203%7D%0A%20%20%20%20%20%20%20%20%20%20%20%20%29.addTo%28map_1871bc62eb614a49aa2479b0087bd4af%29%3B%0A%20%20%20%20%20%20%20%20%0A%20%20%20%20%0A%20%20%20%20%20%20%20%20var%20popup_d642c5db761d4c7bb090123fad0dfbc8%20%3D%20L.popup%28%7B%22maxWidth%22%3A%20%22100%25%22%7D%29%3B%0A%0A%20%20%20%20%20%20%20%20%0A%20%20%20%20%20%20%20%20%20%20%20%20var%20html_99c9d44f52b44fb9b7de7161c32e6477%20%3D%20%24%28%60%3Cdiv%20id%3D%22html_99c9d44f52b44fb9b7de7161c32e6477%22%20style%3D%22width%3A%20100.0%25%3B%20height%3A%20100.0%25%3B%22%3ERichmond%20/%20Adelaide%20/%20KingDowntown%20Toronto%3C/div%3E%60%29%5B0%5D%3B%0A%20%20%20%20%20%20%20%20%20%20%20%20popup_d642c5db761d4c7bb090123fad0dfbc8.setContent%28html_99c9d44f52b44fb9b7de7161c32e6477%29%3B%0A%20%20%20%20%20%20%20%20%0A%0A%20%20%20%20%20%20%20%20circle_marker_9de1e5b06e234db284d4cf24cad3534b.bindPopup%28popup_d642c5db761d4c7bb090123fad0dfbc8%29%0A%20%20%20%20%20%20%20%20%3B%0A%0A%20%20%20%20%20%20%20%20%0A%20%20%20%20%0A%20%20%20%20%0A%20%20%20%20%20%20%20%20%20%20%20%20var%20circle_marker_7c72d179c838426780db74032a4c92eb%20%3D%20L.circleMarker%28%0A%20%20%20%20%20%20%20%20%20%20%20%20%20%20%20%20%5B43.66900510000001%2C%20-79.4422593%5D%2C%0A%20%20%20%20%20%20%20%20%20%20%20%20%20%20%20%20%7B%22bubblingMouseEvents%22%3A%20true%2C%20%22color%22%3A%20%22blue%22%2C%20%22dashArray%22%3A%20null%2C%20%22dashOffset%22%3A%20null%2C%20%22fill%22%3A%20true%2C%20%22fillColor%22%3A%20%22%233186cc%22%2C%20%22fillOpacity%22%3A%200.7%2C%20%22fillRule%22%3A%20%22evenodd%22%2C%20%22lineCap%22%3A%20%22round%22%2C%20%22lineJoin%22%3A%20%22round%22%2C%20%22opacity%22%3A%201.0%2C%20%22radius%22%3A%205%2C%20%22stroke%22%3A%20true%2C%20%22weight%22%3A%203%7D%0A%20%20%20%20%20%20%20%20%20%20%20%20%29.addTo%28map_1871bc62eb614a49aa2479b0087bd4af%29%3B%0A%20%20%20%20%20%20%20%20%0A%20%20%20%20%0A%20%20%20%20%20%20%20%20var%20popup_7b4600ee54df4277af1c34b420624407%20%3D%20L.popup%28%7B%22maxWidth%22%3A%20%22100%25%22%7D%29%3B%0A%0A%20%20%20%20%20%20%20%20%0A%20%20%20%20%20%20%20%20%20%20%20%20var%20html_76c4d6e6840c49eb9a581fcbc22a99d4%20%3D%20%24%28%60%3Cdiv%20id%3D%22html_76c4d6e6840c49eb9a581fcbc22a99d4%22%20style%3D%22width%3A%20100.0%25%3B%20height%3A%20100.0%25%3B%22%3EDufferin%20/%20Dovercourt%20VillageWest%20Toronto%3C/div%3E%60%29%5B0%5D%3B%0A%20%20%20%20%20%20%20%20%20%20%20%20popup_7b4600ee54df4277af1c34b420624407.setContent%28html_76c4d6e6840c49eb9a581fcbc22a99d4%29%3B%0A%20%20%20%20%20%20%20%20%0A%0A%20%20%20%20%20%20%20%20circle_marker_7c72d179c838426780db74032a4c92eb.bindPopup%28popup_7b4600ee54df4277af1c34b420624407%29%0A%20%20%20%20%20%20%20%20%3B%0A%0A%20%20%20%20%20%20%20%20%0A%20%20%20%20%0A%20%20%20%20%0A%20%20%20%20%20%20%20%20%20%20%20%20var%20circle_marker_8a546b37e6fc463eb6ed025c72035047%20%3D%20L.circleMarker%28%0A%20%20%20%20%20%20%20%20%20%20%20%20%20%20%20%20%5B43.685347%2C%20-79.3381065%5D%2C%0A%20%20%20%20%20%20%20%20%20%20%20%20%20%20%20%20%7B%22bubblingMouseEvents%22%3A%20true%2C%20%22color%22%3A%20%22blue%22%2C%20%22dashArray%22%3A%20null%2C%20%22dashOffset%22%3A%20null%2C%20%22fill%22%3A%20true%2C%20%22fillColor%22%3A%20%22%233186cc%22%2C%20%22fillOpacity%22%3A%200.7%2C%20%22fillRule%22%3A%20%22evenodd%22%2C%20%22lineCap%22%3A%20%22round%22%2C%20%22lineJoin%22%3A%20%22round%22%2C%20%22opacity%22%3A%201.0%2C%20%22radius%22%3A%205%2C%20%22stroke%22%3A%20true%2C%20%22weight%22%3A%203%7D%0A%20%20%20%20%20%20%20%20%20%20%20%20%29.addTo%28map_1871bc62eb614a49aa2479b0087bd4af%29%3B%0A%20%20%20%20%20%20%20%20%0A%20%20%20%20%0A%20%20%20%20%20%20%20%20var%20popup_bfee7f85360a418fb79bea0bacc39623%20%3D%20L.popup%28%7B%22maxWidth%22%3A%20%22100%25%22%7D%29%3B%0A%0A%20%20%20%20%20%20%20%20%0A%20%20%20%20%20%20%20%20%20%20%20%20var%20html_9599b293719542f1a3a0a00b1e3c18eb%20%3D%20%24%28%60%3Cdiv%20id%3D%22html_9599b293719542f1a3a0a00b1e3c18eb%22%20style%3D%22width%3A%20100.0%25%3B%20height%3A%20100.0%25%3B%22%3EThe%20Danforth%20%20EastEast%20YorkEast%20Toronto%3C/div%3E%60%29%5B0%5D%3B%0A%20%20%20%20%20%20%20%20%20%20%20%20popup_bfee7f85360a418fb79bea0bacc39623.setContent%28html_9599b293719542f1a3a0a00b1e3c18eb%29%3B%0A%20%20%20%20%20%20%20%20%0A%0A%20%20%20%20%20%20%20%20circle_marker_8a546b37e6fc463eb6ed025c72035047.bindPopup%28popup_bfee7f85360a418fb79bea0bacc39623%29%0A%20%20%20%20%20%20%20%20%3B%0A%0A%20%20%20%20%20%20%20%20%0A%20%20%20%20%0A%20%20%20%20%0A%20%20%20%20%20%20%20%20%20%20%20%20var%20circle_marker_b0755fece8264806aa6012e149b77936%20%3D%20L.circleMarker%28%0A%20%20%20%20%20%20%20%20%20%20%20%20%20%20%20%20%5B43.6408157%2C%20-79.38175229999999%5D%2C%0A%20%20%20%20%20%20%20%20%20%20%20%20%20%20%20%20%7B%22bubblingMouseEvents%22%3A%20true%2C%20%22color%22%3A%20%22blue%22%2C%20%22dashArray%22%3A%20null%2C%20%22dashOffset%22%3A%20null%2C%20%22fill%22%3A%20true%2C%20%22fillColor%22%3A%20%22%233186cc%22%2C%20%22fillOpacity%22%3A%200.7%2C%20%22fillRule%22%3A%20%22evenodd%22%2C%20%22lineCap%22%3A%20%22round%22%2C%20%22lineJoin%22%3A%20%22round%22%2C%20%22opacity%22%3A%201.0%2C%20%22radius%22%3A%205%2C%20%22stroke%22%3A%20true%2C%20%22weight%22%3A%203%7D%0A%20%20%20%20%20%20%20%20%20%20%20%20%29.addTo%28map_1871bc62eb614a49aa2479b0087bd4af%29%3B%0A%20%20%20%20%20%20%20%20%0A%20%20%20%20%0A%20%20%20%20%20%20%20%20var%20popup_ac315cf354864da3b9754b99d6cda3eb%20%3D%20L.popup%28%7B%22maxWidth%22%3A%20%22100%25%22%7D%29%3B%0A%0A%20%20%20%20%20%20%20%20%0A%20%20%20%20%20%20%20%20%20%20%20%20var%20html_9e90711362954bbfa57c87dfb5679fba%20%3D%20%24%28%60%3Cdiv%20id%3D%22html_9e90711362954bbfa57c87dfb5679fba%22%20style%3D%22width%3A%20100.0%25%3B%20height%3A%20100.0%25%3B%22%3EHarbourfront%20East%20/%20Union%20Station%20/%20Toronto%20IslandsDowntown%20Toronto%3C/div%3E%60%29%5B0%5D%3B%0A%20%20%20%20%20%20%20%20%20%20%20%20popup_ac315cf354864da3b9754b99d6cda3eb.setContent%28html_9e90711362954bbfa57c87dfb5679fba%29%3B%0A%20%20%20%20%20%20%20%20%0A%0A%20%20%20%20%20%20%20%20circle_marker_b0755fece8264806aa6012e149b77936.bindPopup%28popup_ac315cf354864da3b9754b99d6cda3eb%29%0A%20%20%20%20%20%20%20%20%3B%0A%0A%20%20%20%20%20%20%20%20%0A%20%20%20%20%0A%20%20%20%20%0A%20%20%20%20%20%20%20%20%20%20%20%20var%20circle_marker_c57f9118dfe145d588be89e6484667ec%20%3D%20L.circleMarker%28%0A%20%20%20%20%20%20%20%20%20%20%20%20%20%20%20%20%5B43.647926700000006%2C%20-79.4197497%5D%2C%0A%20%20%20%20%20%20%20%20%20%20%20%20%20%20%20%20%7B%22bubblingMouseEvents%22%3A%20true%2C%20%22color%22%3A%20%22blue%22%2C%20%22dashArray%22%3A%20null%2C%20%22dashOffset%22%3A%20null%2C%20%22fill%22%3A%20true%2C%20%22fillColor%22%3A%20%22%233186cc%22%2C%20%22fillOpacity%22%3A%200.7%2C%20%22fillRule%22%3A%20%22evenodd%22%2C%20%22lineCap%22%3A%20%22round%22%2C%20%22lineJoin%22%3A%20%22round%22%2C%20%22opacity%22%3A%201.0%2C%20%22radius%22%3A%205%2C%20%22stroke%22%3A%20true%2C%20%22weight%22%3A%203%7D%0A%20%20%20%20%20%20%20%20%20%20%20%20%29.addTo%28map_1871bc62eb614a49aa2479b0087bd4af%29%3B%0A%20%20%20%20%20%20%20%20%0A%20%20%20%20%0A%20%20%20%20%20%20%20%20var%20popup_e503a03043834116a705165623484f3e%20%3D%20L.popup%28%7B%22maxWidth%22%3A%20%22100%25%22%7D%29%3B%0A%0A%20%20%20%20%20%20%20%20%0A%20%20%20%20%20%20%20%20%20%20%20%20var%20html_a2b865227a8e42eab673b1d4957cdb86%20%3D%20%24%28%60%3Cdiv%20id%3D%22html_a2b865227a8e42eab673b1d4957cdb86%22%20style%3D%22width%3A%20100.0%25%3B%20height%3A%20100.0%25%3B%22%3ELittle%20Portugal%20/%20TrinityWest%20Toronto%3C/div%3E%60%29%5B0%5D%3B%0A%20%20%20%20%20%20%20%20%20%20%20%20popup_e503a03043834116a705165623484f3e.setContent%28html_a2b865227a8e42eab673b1d4957cdb86%29%3B%0A%20%20%20%20%20%20%20%20%0A%0A%20%20%20%20%20%20%20%20circle_marker_c57f9118dfe145d588be89e6484667ec.bindPopup%28popup_e503a03043834116a705165623484f3e%29%0A%20%20%20%20%20%20%20%20%3B%0A%0A%20%20%20%20%20%20%20%20%0A%20%20%20%20%0A%20%20%20%20%0A%20%20%20%20%20%20%20%20%20%20%20%20var%20circle_marker_8020354c93fc414cb131996c0d7719b2%20%3D%20L.circleMarker%28%0A%20%20%20%20%20%20%20%20%20%20%20%20%20%20%20%20%5B43.6795571%2C%20-79.352188%5D%2C%0A%20%20%20%20%20%20%20%20%20%20%20%20%20%20%20%20%7B%22bubblingMouseEvents%22%3A%20true%2C%20%22color%22%3A%20%22blue%22%2C%20%22dashArray%22%3A%20null%2C%20%22dashOffset%22%3A%20null%2C%20%22fill%22%3A%20true%2C%20%22fillColor%22%3A%20%22%233186cc%22%2C%20%22fillOpacity%22%3A%200.7%2C%20%22fillRule%22%3A%20%22evenodd%22%2C%20%22lineCap%22%3A%20%22round%22%2C%20%22lineJoin%22%3A%20%22round%22%2C%20%22opacity%22%3A%201.0%2C%20%22radius%22%3A%205%2C%20%22stroke%22%3A%20true%2C%20%22weight%22%3A%203%7D%0A%20%20%20%20%20%20%20%20%20%20%20%20%29.addTo%28map_1871bc62eb614a49aa2479b0087bd4af%29%3B%0A%20%20%20%20%20%20%20%20%0A%20%20%20%20%0A%20%20%20%20%20%20%20%20var%20popup_de10841689d048ae89fa5b6c95143c26%20%3D%20L.popup%28%7B%22maxWidth%22%3A%20%22100%25%22%7D%29%3B%0A%0A%20%20%20%20%20%20%20%20%0A%20%20%20%20%20%20%20%20%20%20%20%20var%20html_266a917cdf4646be9c1317b4d2ed2781%20%3D%20%24%28%60%3Cdiv%20id%3D%22html_266a917cdf4646be9c1317b4d2ed2781%22%20style%3D%22width%3A%20100.0%25%3B%20height%3A%20100.0%25%3B%22%3EThe%20Danforth%20West%20/%20RiverdaleEast%20Toronto%3C/div%3E%60%29%5B0%5D%3B%0A%20%20%20%20%20%20%20%20%20%20%20%20popup_de10841689d048ae89fa5b6c95143c26.setContent%28html_266a917cdf4646be9c1317b4d2ed2781%29%3B%0A%20%20%20%20%20%20%20%20%0A%0A%20%20%20%20%20%20%20%20circle_marker_8020354c93fc414cb131996c0d7719b2.bindPopup%28popup_de10841689d048ae89fa5b6c95143c26%29%0A%20%20%20%20%20%20%20%20%3B%0A%0A%20%20%20%20%20%20%20%20%0A%20%20%20%20%0A%20%20%20%20%0A%20%20%20%20%20%20%20%20%20%20%20%20var%20circle_marker_b508f96fa5a94a89a6b10267db560c76%20%3D%20L.circleMarker%28%0A%20%20%20%20%20%20%20%20%20%20%20%20%20%20%20%20%5B43.6471768%2C%20-79.38157640000001%5D%2C%0A%20%20%20%20%20%20%20%20%20%20%20%20%20%20%20%20%7B%22bubblingMouseEvents%22%3A%20true%2C%20%22color%22%3A%20%22blue%22%2C%20%22dashArray%22%3A%20null%2C%20%22dashOffset%22%3A%20null%2C%20%22fill%22%3A%20true%2C%20%22fillColor%22%3A%20%22%233186cc%22%2C%20%22fillOpacity%22%3A%200.7%2C%20%22fillRule%22%3A%20%22evenodd%22%2C%20%22lineCap%22%3A%20%22round%22%2C%20%22lineJoin%22%3A%20%22round%22%2C%20%22opacity%22%3A%201.0%2C%20%22radius%22%3A%205%2C%20%22stroke%22%3A%20true%2C%20%22weight%22%3A%203%7D%0A%20%20%20%20%20%20%20%20%20%20%20%20%29.addTo%28map_1871bc62eb614a49aa2479b0087bd4af%29%3B%0A%20%20%20%20%20%20%20%20%0A%20%20%20%20%0A%20%20%20%20%20%20%20%20var%20popup_59146e31429544b2ba7ff1493e4b97fd%20%3D%20L.popup%28%7B%22maxWidth%22%3A%20%22100%25%22%7D%29%3B%0A%0A%20%20%20%20%20%20%20%20%0A%20%20%20%20%20%20%20%20%20%20%20%20var%20html_8b1fedf1820b447d95c33591d075e7ab%20%3D%20%24%28%60%3Cdiv%20id%3D%22html_8b1fedf1820b447d95c33591d075e7ab%22%20style%3D%22width%3A%20100.0%25%3B%20height%3A%20100.0%25%3B%22%3EToronto%20Dominion%20Centre%20/%20Design%20ExchangeDowntown%20Toronto%3C/div%3E%60%29%5B0%5D%3B%0A%20%20%20%20%20%20%20%20%20%20%20%20popup_59146e31429544b2ba7ff1493e4b97fd.setContent%28html_8b1fedf1820b447d95c33591d075e7ab%29%3B%0A%20%20%20%20%20%20%20%20%0A%0A%20%20%20%20%20%20%20%20circle_marker_b508f96fa5a94a89a6b10267db560c76.bindPopup%28popup_59146e31429544b2ba7ff1493e4b97fd%29%0A%20%20%20%20%20%20%20%20%3B%0A%0A%20%20%20%20%20%20%20%20%0A%20%20%20%20%0A%20%20%20%20%0A%20%20%20%20%20%20%20%20%20%20%20%20var%20circle_marker_86c3065cdb604640a9bd488cc045359a%20%3D%20L.circleMarker%28%0A%20%20%20%20%20%20%20%20%20%20%20%20%20%20%20%20%5B43.6368472%2C%20-79.42819140000002%5D%2C%0A%20%20%20%20%20%20%20%20%20%20%20%20%20%20%20%20%7B%22bubblingMouseEvents%22%3A%20true%2C%20%22color%22%3A%20%22blue%22%2C%20%22dashArray%22%3A%20null%2C%20%22dashOffset%22%3A%20null%2C%20%22fill%22%3A%20true%2C%20%22fillColor%22%3A%20%22%233186cc%22%2C%20%22fillOpacity%22%3A%200.7%2C%20%22fillRule%22%3A%20%22evenodd%22%2C%20%22lineCap%22%3A%20%22round%22%2C%20%22lineJoin%22%3A%20%22round%22%2C%20%22opacity%22%3A%201.0%2C%20%22radius%22%3A%205%2C%20%22stroke%22%3A%20true%2C%20%22weight%22%3A%203%7D%0A%20%20%20%20%20%20%20%20%20%20%20%20%29.addTo%28map_1871bc62eb614a49aa2479b0087bd4af%29%3B%0A%20%20%20%20%20%20%20%20%0A%20%20%20%20%0A%20%20%20%20%20%20%20%20var%20popup_eb0b5be0f4db4fe99c5fec900156a87a%20%3D%20L.popup%28%7B%22maxWidth%22%3A%20%22100%25%22%7D%29%3B%0A%0A%20%20%20%20%20%20%20%20%0A%20%20%20%20%20%20%20%20%20%20%20%20var%20html_cdbad2fb1c394316a73b5d1ad4749a5d%20%3D%20%24%28%60%3Cdiv%20id%3D%22html_cdbad2fb1c394316a73b5d1ad4749a5d%22%20style%3D%22width%3A%20100.0%25%3B%20height%3A%20100.0%25%3B%22%3EBrockton%20/%20Parkdale%20Village%20/%20Exhibition%20PlaceWest%20Toronto%3C/div%3E%60%29%5B0%5D%3B%0A%20%20%20%20%20%20%20%20%20%20%20%20popup_eb0b5be0f4db4fe99c5fec900156a87a.setContent%28html_cdbad2fb1c394316a73b5d1ad4749a5d%29%3B%0A%20%20%20%20%20%20%20%20%0A%0A%20%20%20%20%20%20%20%20circle_marker_86c3065cdb604640a9bd488cc045359a.bindPopup%28popup_eb0b5be0f4db4fe99c5fec900156a87a%29%0A%20%20%20%20%20%20%20%20%3B%0A%0A%20%20%20%20%20%20%20%20%0A%20%20%20%20%0A%20%20%20%20%0A%20%20%20%20%20%20%20%20%20%20%20%20var%20circle_marker_82823e88d11e4ce18273a7b6a760d86e%20%3D%20L.circleMarker%28%0A%20%20%20%20%20%20%20%20%20%20%20%20%20%20%20%20%5B43.6689985%2C%20-79.31557159999998%5D%2C%0A%20%20%20%20%20%20%20%20%20%20%20%20%20%20%20%20%7B%22bubblingMouseEvents%22%3A%20true%2C%20%22color%22%3A%20%22blue%22%2C%20%22dashArray%22%3A%20null%2C%20%22dashOffset%22%3A%20null%2C%20%22fill%22%3A%20true%2C%20%22fillColor%22%3A%20%22%233186cc%22%2C%20%22fillOpacity%22%3A%200.7%2C%20%22fillRule%22%3A%20%22evenodd%22%2C%20%22lineCap%22%3A%20%22round%22%2C%20%22lineJoin%22%3A%20%22round%22%2C%20%22opacity%22%3A%201.0%2C%20%22radius%22%3A%205%2C%20%22stroke%22%3A%20true%2C%20%22weight%22%3A%203%7D%0A%20%20%20%20%20%20%20%20%20%20%20%20%29.addTo%28map_1871bc62eb614a49aa2479b0087bd4af%29%3B%0A%20%20%20%20%20%20%20%20%0A%20%20%20%20%0A%20%20%20%20%20%20%20%20var%20popup_74622808805a42e8b619482a7d2abfe4%20%3D%20L.popup%28%7B%22maxWidth%22%3A%20%22100%25%22%7D%29%3B%0A%0A%20%20%20%20%20%20%20%20%0A%20%20%20%20%20%20%20%20%20%20%20%20var%20html_31c9ad81e3e14dd6b8e44be86cf91ad1%20%3D%20%24%28%60%3Cdiv%20id%3D%22html_31c9ad81e3e14dd6b8e44be86cf91ad1%22%20style%3D%22width%3A%20100.0%25%3B%20height%3A%20100.0%25%3B%22%3EIndia%20Bazaar%20/%20The%20Beaches%20WestEast%20Toronto%3C/div%3E%60%29%5B0%5D%3B%0A%20%20%20%20%20%20%20%20%20%20%20%20popup_74622808805a42e8b619482a7d2abfe4.setContent%28html_31c9ad81e3e14dd6b8e44be86cf91ad1%29%3B%0A%20%20%20%20%20%20%20%20%0A%0A%20%20%20%20%20%20%20%20circle_marker_82823e88d11e4ce18273a7b6a760d86e.bindPopup%28popup_74622808805a42e8b619482a7d2abfe4%29%0A%20%20%20%20%20%20%20%20%3B%0A%0A%20%20%20%20%20%20%20%20%0A%20%20%20%20%0A%20%20%20%20%0A%20%20%20%20%20%20%20%20%20%20%20%20var%20circle_marker_1e59a3a75d1f433fb4a53508d13b5ac1%20%3D%20L.circleMarker%28%0A%20%20%20%20%20%20%20%20%20%20%20%20%20%20%20%20%5B43.6481985%2C%20-79.37981690000001%5D%2C%0A%20%20%20%20%20%20%20%20%20%20%20%20%20%20%20%20%7B%22bubblingMouseEvents%22%3A%20true%2C%20%22color%22%3A%20%22blue%22%2C%20%22dashArray%22%3A%20null%2C%20%22dashOffset%22%3A%20null%2C%20%22fill%22%3A%20true%2C%20%22fillColor%22%3A%20%22%233186cc%22%2C%20%22fillOpacity%22%3A%200.7%2C%20%22fillRule%22%3A%20%22evenodd%22%2C%20%22lineCap%22%3A%20%22round%22%2C%20%22lineJoin%22%3A%20%22round%22%2C%20%22opacity%22%3A%201.0%2C%20%22radius%22%3A%205%2C%20%22stroke%22%3A%20true%2C%20%22weight%22%3A%203%7D%0A%20%20%20%20%20%20%20%20%20%20%20%20%29.addTo%28map_1871bc62eb614a49aa2479b0087bd4af%29%3B%0A%20%20%20%20%20%20%20%20%0A%20%20%20%20%0A%20%20%20%20%20%20%20%20var%20popup_cc661e82ed4443ba8347e8d706fed292%20%3D%20L.popup%28%7B%22maxWidth%22%3A%20%22100%25%22%7D%29%3B%0A%0A%20%20%20%20%20%20%20%20%0A%20%20%20%20%20%20%20%20%20%20%20%20var%20html_599d5783572a40dea38d5a846b75210b%20%3D%20%24%28%60%3Cdiv%20id%3D%22html_599d5783572a40dea38d5a846b75210b%22%20style%3D%22width%3A%20100.0%25%3B%20height%3A%20100.0%25%3B%22%3ECommerce%20Court%20/%20Victoria%20HotelDowntown%20Toronto%3C/div%3E%60%29%5B0%5D%3B%0A%20%20%20%20%20%20%20%20%20%20%20%20popup_cc661e82ed4443ba8347e8d706fed292.setContent%28html_599d5783572a40dea38d5a846b75210b%29%3B%0A%20%20%20%20%20%20%20%20%0A%0A%20%20%20%20%20%20%20%20circle_marker_1e59a3a75d1f433fb4a53508d13b5ac1.bindPopup%28popup_cc661e82ed4443ba8347e8d706fed292%29%0A%20%20%20%20%20%20%20%20%3B%0A%0A%20%20%20%20%20%20%20%20%0A%20%20%20%20%0A%20%20%20%20%0A%20%20%20%20%20%20%20%20%20%20%20%20var%20circle_marker_eed42d5e8e444c46b87a5bc0b6c7343f%20%3D%20L.circleMarker%28%0A%20%20%20%20%20%20%20%20%20%20%20%20%20%20%20%20%5B43.6595255%2C%20-79.340923%5D%2C%0A%20%20%20%20%20%20%20%20%20%20%20%20%20%20%20%20%7B%22bubblingMouseEvents%22%3A%20true%2C%20%22color%22%3A%20%22blue%22%2C%20%22dashArray%22%3A%20null%2C%20%22dashOffset%22%3A%20null%2C%20%22fill%22%3A%20true%2C%20%22fillColor%22%3A%20%22%233186cc%22%2C%20%22fillOpacity%22%3A%200.7%2C%20%22fillRule%22%3A%20%22evenodd%22%2C%20%22lineCap%22%3A%20%22round%22%2C%20%22lineJoin%22%3A%20%22round%22%2C%20%22opacity%22%3A%201.0%2C%20%22radius%22%3A%205%2C%20%22stroke%22%3A%20true%2C%20%22weight%22%3A%203%7D%0A%20%20%20%20%20%20%20%20%20%20%20%20%29.addTo%28map_1871bc62eb614a49aa2479b0087bd4af%29%3B%0A%20%20%20%20%20%20%20%20%0A%20%20%20%20%0A%20%20%20%20%20%20%20%20var%20popup_e8623460a0194da8b78e9c748fecb404%20%3D%20L.popup%28%7B%22maxWidth%22%3A%20%22100%25%22%7D%29%3B%0A%0A%20%20%20%20%20%20%20%20%0A%20%20%20%20%20%20%20%20%20%20%20%20var%20html_10a102400c3d48f58594aee0c915557d%20%3D%20%24%28%60%3Cdiv%20id%3D%22html_10a102400c3d48f58594aee0c915557d%22%20style%3D%22width%3A%20100.0%25%3B%20height%3A%20100.0%25%3B%22%3EStudio%20DistrictEast%20Toronto%3C/div%3E%60%29%5B0%5D%3B%0A%20%20%20%20%20%20%20%20%20%20%20%20popup_e8623460a0194da8b78e9c748fecb404.setContent%28html_10a102400c3d48f58594aee0c915557d%29%3B%0A%20%20%20%20%20%20%20%20%0A%0A%20%20%20%20%20%20%20%20circle_marker_eed42d5e8e444c46b87a5bc0b6c7343f.bindPopup%28popup_e8623460a0194da8b78e9c748fecb404%29%0A%20%20%20%20%20%20%20%20%3B%0A%0A%20%20%20%20%20%20%20%20%0A%20%20%20%20%0A%20%20%20%20%0A%20%20%20%20%20%20%20%20%20%20%20%20var%20circle_marker_e28883db04294f739ace4f4e86b6483f%20%3D%20L.circleMarker%28%0A%20%20%20%20%20%20%20%20%20%20%20%20%20%20%20%20%5B43.7280205%2C%20-79.3887901%5D%2C%0A%20%20%20%20%20%20%20%20%20%20%20%20%20%20%20%20%7B%22bubblingMouseEvents%22%3A%20true%2C%20%22color%22%3A%20%22blue%22%2C%20%22dashArray%22%3A%20null%2C%20%22dashOffset%22%3A%20null%2C%20%22fill%22%3A%20true%2C%20%22fillColor%22%3A%20%22%233186cc%22%2C%20%22fillOpacity%22%3A%200.7%2C%20%22fillRule%22%3A%20%22evenodd%22%2C%20%22lineCap%22%3A%20%22round%22%2C%20%22lineJoin%22%3A%20%22round%22%2C%20%22opacity%22%3A%201.0%2C%20%22radius%22%3A%205%2C%20%22stroke%22%3A%20true%2C%20%22weight%22%3A%203%7D%0A%20%20%20%20%20%20%20%20%20%20%20%20%29.addTo%28map_1871bc62eb614a49aa2479b0087bd4af%29%3B%0A%20%20%20%20%20%20%20%20%0A%20%20%20%20%0A%20%20%20%20%20%20%20%20var%20popup_6018687485a24b21bec1ec493f88a07c%20%3D%20L.popup%28%7B%22maxWidth%22%3A%20%22100%25%22%7D%29%3B%0A%0A%20%20%20%20%20%20%20%20%0A%20%20%20%20%20%20%20%20%20%20%20%20var%20html_db0ae906b5f64169a94b661b3ae71377%20%3D%20%24%28%60%3Cdiv%20id%3D%22html_db0ae906b5f64169a94b661b3ae71377%22%20style%3D%22width%3A%20100.0%25%3B%20height%3A%20100.0%25%3B%22%3ELawrence%20ParkCentral%20Toronto%3C/div%3E%60%29%5B0%5D%3B%0A%20%20%20%20%20%20%20%20%20%20%20%20popup_6018687485a24b21bec1ec493f88a07c.setContent%28html_db0ae906b5f64169a94b661b3ae71377%29%3B%0A%20%20%20%20%20%20%20%20%0A%0A%20%20%20%20%20%20%20%20circle_marker_e28883db04294f739ace4f4e86b6483f.bindPopup%28popup_6018687485a24b21bec1ec493f88a07c%29%0A%20%20%20%20%20%20%20%20%3B%0A%0A%20%20%20%20%20%20%20%20%0A%20%20%20%20%0A%20%20%20%20%0A%20%20%20%20%20%20%20%20%20%20%20%20var%20circle_marker_38faf5a98d8e4a99a56ba2339e967738%20%3D%20L.circleMarker%28%0A%20%20%20%20%20%20%20%20%20%20%20%20%20%20%20%20%5B43.7116948%2C%20-79.41693559999999%5D%2C%0A%20%20%20%20%20%20%20%20%20%20%20%20%20%20%20%20%7B%22bubblingMouseEvents%22%3A%20true%2C%20%22color%22%3A%20%22blue%22%2C%20%22dashArray%22%3A%20null%2C%20%22dashOffset%22%3A%20null%2C%20%22fill%22%3A%20true%2C%20%22fillColor%22%3A%20%22%233186cc%22%2C%20%22fillOpacity%22%3A%200.7%2C%20%22fillRule%22%3A%20%22evenodd%22%2C%20%22lineCap%22%3A%20%22round%22%2C%20%22lineJoin%22%3A%20%22round%22%2C%20%22opacity%22%3A%201.0%2C%20%22radius%22%3A%205%2C%20%22stroke%22%3A%20true%2C%20%22weight%22%3A%203%7D%0A%20%20%20%20%20%20%20%20%20%20%20%20%29.addTo%28map_1871bc62eb614a49aa2479b0087bd4af%29%3B%0A%20%20%20%20%20%20%20%20%0A%20%20%20%20%0A%20%20%20%20%20%20%20%20var%20popup_a4e0689ad1e74a62949a873dacb0c126%20%3D%20L.popup%28%7B%22maxWidth%22%3A%20%22100%25%22%7D%29%3B%0A%0A%20%20%20%20%20%20%20%20%0A%20%20%20%20%20%20%20%20%20%20%20%20var%20html_954a462b2d2341fd912fba156a11bc9b%20%3D%20%24%28%60%3Cdiv%20id%3D%22html_954a462b2d2341fd912fba156a11bc9b%22%20style%3D%22width%3A%20100.0%25%3B%20height%3A%20100.0%25%3B%22%3ERoselawnCentral%20Toronto%3C/div%3E%60%29%5B0%5D%3B%0A%20%20%20%20%20%20%20%20%20%20%20%20popup_a4e0689ad1e74a62949a873dacb0c126.setContent%28html_954a462b2d2341fd912fba156a11bc9b%29%3B%0A%20%20%20%20%20%20%20%20%0A%0A%20%20%20%20%20%20%20%20circle_marker_38faf5a98d8e4a99a56ba2339e967738.bindPopup%28popup_a4e0689ad1e74a62949a873dacb0c126%29%0A%20%20%20%20%20%20%20%20%3B%0A%0A%20%20%20%20%20%20%20%20%0A%20%20%20%20%0A%20%20%20%20%0A%20%20%20%20%20%20%20%20%20%20%20%20var%20circle_marker_4056d0638b9b489bbcdddeac36571db3%20%3D%20L.circleMarker%28%0A%20%20%20%20%20%20%20%20%20%20%20%20%20%20%20%20%5B43.7127511%2C%20-79.3901975%5D%2C%0A%20%20%20%20%20%20%20%20%20%20%20%20%20%20%20%20%7B%22bubblingMouseEvents%22%3A%20true%2C%20%22color%22%3A%20%22blue%22%2C%20%22dashArray%22%3A%20null%2C%20%22dashOffset%22%3A%20null%2C%20%22fill%22%3A%20true%2C%20%22fillColor%22%3A%20%22%233186cc%22%2C%20%22fillOpacity%22%3A%200.7%2C%20%22fillRule%22%3A%20%22evenodd%22%2C%20%22lineCap%22%3A%20%22round%22%2C%20%22lineJoin%22%3A%20%22round%22%2C%20%22opacity%22%3A%201.0%2C%20%22radius%22%3A%205%2C%20%22stroke%22%3A%20true%2C%20%22weight%22%3A%203%7D%0A%20%20%20%20%20%20%20%20%20%20%20%20%29.addTo%28map_1871bc62eb614a49aa2479b0087bd4af%29%3B%0A%20%20%20%20%20%20%20%20%0A%20%20%20%20%0A%20%20%20%20%20%20%20%20var%20popup_34740f9f27604082bf68bc1dea91ba88%20%3D%20L.popup%28%7B%22maxWidth%22%3A%20%22100%25%22%7D%29%3B%0A%0A%20%20%20%20%20%20%20%20%0A%20%20%20%20%20%20%20%20%20%20%20%20var%20html_703fba7ef4434679b1b699fd4c563ec4%20%3D%20%24%28%60%3Cdiv%20id%3D%22html_703fba7ef4434679b1b699fd4c563ec4%22%20style%3D%22width%3A%20100.0%25%3B%20height%3A%20100.0%25%3B%22%3EDavisville%20NorthCentral%20Toronto%3C/div%3E%60%29%5B0%5D%3B%0A%20%20%20%20%20%20%20%20%20%20%20%20popup_34740f9f27604082bf68bc1dea91ba88.setContent%28html_703fba7ef4434679b1b699fd4c563ec4%29%3B%0A%20%20%20%20%20%20%20%20%0A%0A%20%20%20%20%20%20%20%20circle_marker_4056d0638b9b489bbcdddeac36571db3.bindPopup%28popup_34740f9f27604082bf68bc1dea91ba88%29%0A%20%20%20%20%20%20%20%20%3B%0A%0A%20%20%20%20%20%20%20%20%0A%20%20%20%20%0A%20%20%20%20%0A%20%20%20%20%20%20%20%20%20%20%20%20var%20circle_marker_c32db6a0e5284c8f841efac1ef9ef2a3%20%3D%20L.circleMarker%28%0A%20%20%20%20%20%20%20%20%20%20%20%20%20%20%20%20%5B43.6969476%2C%20-79.41130720000001%5D%2C%0A%20%20%20%20%20%20%20%20%20%20%20%20%20%20%20%20%7B%22bubblingMouseEvents%22%3A%20true%2C%20%22color%22%3A%20%22blue%22%2C%20%22dashArray%22%3A%20null%2C%20%22dashOffset%22%3A%20null%2C%20%22fill%22%3A%20true%2C%20%22fillColor%22%3A%20%22%233186cc%22%2C%20%22fillOpacity%22%3A%200.7%2C%20%22fillRule%22%3A%20%22evenodd%22%2C%20%22lineCap%22%3A%20%22round%22%2C%20%22lineJoin%22%3A%20%22round%22%2C%20%22opacity%22%3A%201.0%2C%20%22radius%22%3A%205%2C%20%22stroke%22%3A%20true%2C%20%22weight%22%3A%203%7D%0A%20%20%20%20%20%20%20%20%20%20%20%20%29.addTo%28map_1871bc62eb614a49aa2479b0087bd4af%29%3B%0A%20%20%20%20%20%20%20%20%0A%20%20%20%20%0A%20%20%20%20%20%20%20%20var%20popup_8a971be5be464abc807489b5c8f345b6%20%3D%20L.popup%28%7B%22maxWidth%22%3A%20%22100%25%22%7D%29%3B%0A%0A%20%20%20%20%20%20%20%20%0A%20%20%20%20%20%20%20%20%20%20%20%20var%20html_a1fee312bd364866bb720b6ec7f8be60%20%3D%20%24%28%60%3Cdiv%20id%3D%22html_a1fee312bd364866bb720b6ec7f8be60%22%20style%3D%22width%3A%20100.0%25%3B%20height%3A%20100.0%25%3B%22%3EForest%20Hill%20North%20%26amp%3B%20WestCentral%20Toronto%3C/div%3E%60%29%5B0%5D%3B%0A%20%20%20%20%20%20%20%20%20%20%20%20popup_8a971be5be464abc807489b5c8f345b6.setContent%28html_a1fee312bd364866bb720b6ec7f8be60%29%3B%0A%20%20%20%20%20%20%20%20%0A%0A%20%20%20%20%20%20%20%20circle_marker_c32db6a0e5284c8f841efac1ef9ef2a3.bindPopup%28popup_8a971be5be464abc807489b5c8f345b6%29%0A%20%20%20%20%20%20%20%20%3B%0A%0A%20%20%20%20%20%20%20%20%0A%20%20%20%20%0A%20%20%20%20%0A%20%20%20%20%20%20%20%20%20%20%20%20var%20circle_marker_19e45ab662dc4d6b856c038435b5ee18%20%3D%20L.circleMarker%28%0A%20%20%20%20%20%20%20%20%20%20%20%20%20%20%20%20%5B43.6616083%2C%20-79.46476329999999%5D%2C%0A%20%20%20%20%20%20%20%20%20%20%20%20%20%20%20%20%7B%22bubblingMouseEvents%22%3A%20true%2C%20%22color%22%3A%20%22blue%22%2C%20%22dashArray%22%3A%20null%2C%20%22dashOffset%22%3A%20null%2C%20%22fill%22%3A%20true%2C%20%22fillColor%22%3A%20%22%233186cc%22%2C%20%22fillOpacity%22%3A%200.7%2C%20%22fillRule%22%3A%20%22evenodd%22%2C%20%22lineCap%22%3A%20%22round%22%2C%20%22lineJoin%22%3A%20%22round%22%2C%20%22opacity%22%3A%201.0%2C%20%22radius%22%3A%205%2C%20%22stroke%22%3A%20true%2C%20%22weight%22%3A%203%7D%0A%20%20%20%20%20%20%20%20%20%20%20%20%29.addTo%28map_1871bc62eb614a49aa2479b0087bd4af%29%3B%0A%20%20%20%20%20%20%20%20%0A%20%20%20%20%0A%20%20%20%20%20%20%20%20var%20popup_d17359efbf9f4a9c9e5d13f21f84c054%20%3D%20L.popup%28%7B%22maxWidth%22%3A%20%22100%25%22%7D%29%3B%0A%0A%20%20%20%20%20%20%20%20%0A%20%20%20%20%20%20%20%20%20%20%20%20var%20html_251520f36fd94173940854687c417df6%20%3D%20%24%28%60%3Cdiv%20id%3D%22html_251520f36fd94173940854687c417df6%22%20style%3D%22width%3A%20100.0%25%3B%20height%3A%20100.0%25%3B%22%3EHigh%20Park%20/%20The%20Junction%20SouthWest%20Toronto%3C/div%3E%60%29%5B0%5D%3B%0A%20%20%20%20%20%20%20%20%20%20%20%20popup_d17359efbf9f4a9c9e5d13f21f84c054.setContent%28html_251520f36fd94173940854687c417df6%29%3B%0A%20%20%20%20%20%20%20%20%0A%0A%20%20%20%20%20%20%20%20circle_marker_19e45ab662dc4d6b856c038435b5ee18.bindPopup%28popup_d17359efbf9f4a9c9e5d13f21f84c054%29%0A%20%20%20%20%20%20%20%20%3B%0A%0A%20%20%20%20%20%20%20%20%0A%20%20%20%20%0A%20%20%20%20%0A%20%20%20%20%20%20%20%20%20%20%20%20var%20circle_marker_b5047efbda8b49869a9936a771ddeca3%20%3D%20L.circleMarker%28%0A%20%20%20%20%20%20%20%20%20%20%20%20%20%20%20%20%5B43.7153834%2C%20-79.40567840000001%5D%2C%0A%20%20%20%20%20%20%20%20%20%20%20%20%20%20%20%20%7B%22bubblingMouseEvents%22%3A%20true%2C%20%22color%22%3A%20%22blue%22%2C%20%22dashArray%22%3A%20null%2C%20%22dashOffset%22%3A%20null%2C%20%22fill%22%3A%20true%2C%20%22fillColor%22%3A%20%22%233186cc%22%2C%20%22fillOpacity%22%3A%200.7%2C%20%22fillRule%22%3A%20%22evenodd%22%2C%20%22lineCap%22%3A%20%22round%22%2C%20%22lineJoin%22%3A%20%22round%22%2C%20%22opacity%22%3A%201.0%2C%20%22radius%22%3A%205%2C%20%22stroke%22%3A%20true%2C%20%22weight%22%3A%203%7D%0A%20%20%20%20%20%20%20%20%20%20%20%20%29.addTo%28map_1871bc62eb614a49aa2479b0087bd4af%29%3B%0A%20%20%20%20%20%20%20%20%0A%20%20%20%20%0A%20%20%20%20%20%20%20%20var%20popup_70e01f8042c24765a383a8c873fbf261%20%3D%20L.popup%28%7B%22maxWidth%22%3A%20%22100%25%22%7D%29%3B%0A%0A%20%20%20%20%20%20%20%20%0A%20%20%20%20%20%20%20%20%20%20%20%20var%20html_d9e301ab14104f17bb23d9fdb9942fff%20%3D%20%24%28%60%3Cdiv%20id%3D%22html_d9e301ab14104f17bb23d9fdb9942fff%22%20style%3D%22width%3A%20100.0%25%3B%20height%3A%20100.0%25%3B%22%3ENorth%20Toronto%20WestCentral%20Toronto%3C/div%3E%60%29%5B0%5D%3B%0A%20%20%20%20%20%20%20%20%20%20%20%20popup_70e01f8042c24765a383a8c873fbf261.setContent%28html_d9e301ab14104f17bb23d9fdb9942fff%29%3B%0A%20%20%20%20%20%20%20%20%0A%0A%20%20%20%20%20%20%20%20circle_marker_b5047efbda8b49869a9936a771ddeca3.bindPopup%28popup_70e01f8042c24765a383a8c873fbf261%29%0A%20%20%20%20%20%20%20%20%3B%0A%0A%20%20%20%20%20%20%20%20%0A%20%20%20%20%0A%20%20%20%20%0A%20%20%20%20%20%20%20%20%20%20%20%20var%20circle_marker_1daab5fce15c4362af6bc2180b0b83ef%20%3D%20L.circleMarker%28%0A%20%20%20%20%20%20%20%20%20%20%20%20%20%20%20%20%5B43.6727097%2C%20-79.40567840000001%5D%2C%0A%20%20%20%20%20%20%20%20%20%20%20%20%20%20%20%20%7B%22bubblingMouseEvents%22%3A%20true%2C%20%22color%22%3A%20%22blue%22%2C%20%22dashArray%22%3A%20null%2C%20%22dashOffset%22%3A%20null%2C%20%22fill%22%3A%20true%2C%20%22fillColor%22%3A%20%22%233186cc%22%2C%20%22fillOpacity%22%3A%200.7%2C%20%22fillRule%22%3A%20%22evenodd%22%2C%20%22lineCap%22%3A%20%22round%22%2C%20%22lineJoin%22%3A%20%22round%22%2C%20%22opacity%22%3A%201.0%2C%20%22radius%22%3A%205%2C%20%22stroke%22%3A%20true%2C%20%22weight%22%3A%203%7D%0A%20%20%20%20%20%20%20%20%20%20%20%20%29.addTo%28map_1871bc62eb614a49aa2479b0087bd4af%29%3B%0A%20%20%20%20%20%20%20%20%0A%20%20%20%20%0A%20%20%20%20%20%20%20%20var%20popup_eff4fc74f7124e8eb201fdaba6700897%20%3D%20L.popup%28%7B%22maxWidth%22%3A%20%22100%25%22%7D%29%3B%0A%0A%20%20%20%20%20%20%20%20%0A%20%20%20%20%20%20%20%20%20%20%20%20var%20html_e57d23d69b504c1a8474db18056f7d73%20%3D%20%24%28%60%3Cdiv%20id%3D%22html_e57d23d69b504c1a8474db18056f7d73%22%20style%3D%22width%3A%20100.0%25%3B%20height%3A%20100.0%25%3B%22%3EThe%20Annex%20/%20North%20Midtown%20/%20YorkvilleCentral%20Toronto%3C/div%3E%60%29%5B0%5D%3B%0A%20%20%20%20%20%20%20%20%20%20%20%20popup_eff4fc74f7124e8eb201fdaba6700897.setContent%28html_e57d23d69b504c1a8474db18056f7d73%29%3B%0A%20%20%20%20%20%20%20%20%0A%0A%20%20%20%20%20%20%20%20circle_marker_1daab5fce15c4362af6bc2180b0b83ef.bindPopup%28popup_eff4fc74f7124e8eb201fdaba6700897%29%0A%20%20%20%20%20%20%20%20%3B%0A%0A%20%20%20%20%20%20%20%20%0A%20%20%20%20%0A%20%20%20%20%0A%20%20%20%20%20%20%20%20%20%20%20%20var%20circle_marker_f136ef1cfb394502a0d50d79237c97c0%20%3D%20L.circleMarker%28%0A%20%20%20%20%20%20%20%20%20%20%20%20%20%20%20%20%5B43.6489597%2C%20-79.456325%5D%2C%0A%20%20%20%20%20%20%20%20%20%20%20%20%20%20%20%20%7B%22bubblingMouseEvents%22%3A%20true%2C%20%22color%22%3A%20%22blue%22%2C%20%22dashArray%22%3A%20null%2C%20%22dashOffset%22%3A%20null%2C%20%22fill%22%3A%20true%2C%20%22fillColor%22%3A%20%22%233186cc%22%2C%20%22fillOpacity%22%3A%200.7%2C%20%22fillRule%22%3A%20%22evenodd%22%2C%20%22lineCap%22%3A%20%22round%22%2C%20%22lineJoin%22%3A%20%22round%22%2C%20%22opacity%22%3A%201.0%2C%20%22radius%22%3A%205%2C%20%22stroke%22%3A%20true%2C%20%22weight%22%3A%203%7D%0A%20%20%20%20%20%20%20%20%20%20%20%20%29.addTo%28map_1871bc62eb614a49aa2479b0087bd4af%29%3B%0A%20%20%20%20%20%20%20%20%0A%20%20%20%20%0A%20%20%20%20%20%20%20%20var%20popup_5ce44e610e1149cd8ad4baae9db20da6%20%3D%20L.popup%28%7B%22maxWidth%22%3A%20%22100%25%22%7D%29%3B%0A%0A%20%20%20%20%20%20%20%20%0A%20%20%20%20%20%20%20%20%20%20%20%20var%20html_f373f8e397fc4ef0a72adcfe1f15ef8a%20%3D%20%24%28%60%3Cdiv%20id%3D%22html_f373f8e397fc4ef0a72adcfe1f15ef8a%22%20style%3D%22width%3A%20100.0%25%3B%20height%3A%20100.0%25%3B%22%3EParkdale%20/%20RoncesvallesWest%20Toronto%3C/div%3E%60%29%5B0%5D%3B%0A%20%20%20%20%20%20%20%20%20%20%20%20popup_5ce44e610e1149cd8ad4baae9db20da6.setContent%28html_f373f8e397fc4ef0a72adcfe1f15ef8a%29%3B%0A%20%20%20%20%20%20%20%20%0A%0A%20%20%20%20%20%20%20%20circle_marker_f136ef1cfb394502a0d50d79237c97c0.bindPopup%28popup_5ce44e610e1149cd8ad4baae9db20da6%29%0A%20%20%20%20%20%20%20%20%3B%0A%0A%20%20%20%20%20%20%20%20%0A%20%20%20%20%0A%20%20%20%20%0A%20%20%20%20%20%20%20%20%20%20%20%20var%20circle_marker_e370d119b8944f8d875c4d912ee808ae%20%3D%20L.circleMarker%28%0A%20%20%20%20%20%20%20%20%20%20%20%20%20%20%20%20%5B43.7043244%2C%20-79.3887901%5D%2C%0A%20%20%20%20%20%20%20%20%20%20%20%20%20%20%20%20%7B%22bubblingMouseEvents%22%3A%20true%2C%20%22color%22%3A%20%22blue%22%2C%20%22dashArray%22%3A%20null%2C%20%22dashOffset%22%3A%20null%2C%20%22fill%22%3A%20true%2C%20%22fillColor%22%3A%20%22%233186cc%22%2C%20%22fillOpacity%22%3A%200.7%2C%20%22fillRule%22%3A%20%22evenodd%22%2C%20%22lineCap%22%3A%20%22round%22%2C%20%22lineJoin%22%3A%20%22round%22%2C%20%22opacity%22%3A%201.0%2C%20%22radius%22%3A%205%2C%20%22stroke%22%3A%20true%2C%20%22weight%22%3A%203%7D%0A%20%20%20%20%20%20%20%20%20%20%20%20%29.addTo%28map_1871bc62eb614a49aa2479b0087bd4af%29%3B%0A%20%20%20%20%20%20%20%20%0A%20%20%20%20%0A%20%20%20%20%20%20%20%20var%20popup_80c84518aa424c1cbcd09971a0e1885b%20%3D%20L.popup%28%7B%22maxWidth%22%3A%20%22100%25%22%7D%29%3B%0A%0A%20%20%20%20%20%20%20%20%0A%20%20%20%20%20%20%20%20%20%20%20%20var%20html_4fb9ad301b1c473aad0fd574beb1c7b2%20%3D%20%24%28%60%3Cdiv%20id%3D%22html_4fb9ad301b1c473aad0fd574beb1c7b2%22%20style%3D%22width%3A%20100.0%25%3B%20height%3A%20100.0%25%3B%22%3EDavisvilleCentral%20Toronto%3C/div%3E%60%29%5B0%5D%3B%0A%20%20%20%20%20%20%20%20%20%20%20%20popup_80c84518aa424c1cbcd09971a0e1885b.setContent%28html_4fb9ad301b1c473aad0fd574beb1c7b2%29%3B%0A%20%20%20%20%20%20%20%20%0A%0A%20%20%20%20%20%20%20%20circle_marker_e370d119b8944f8d875c4d912ee808ae.bindPopup%28popup_80c84518aa424c1cbcd09971a0e1885b%29%0A%20%20%20%20%20%20%20%20%3B%0A%0A%20%20%20%20%20%20%20%20%0A%20%20%20%20%0A%20%20%20%20%0A%20%20%20%20%20%20%20%20%20%20%20%20var%20circle_marker_bb26095d4c5943aea8409680cb40eaf6%20%3D%20L.circleMarker%28%0A%20%20%20%20%20%20%20%20%20%20%20%20%20%20%20%20%5B43.6626956%2C%20-79.4000493%5D%2C%0A%20%20%20%20%20%20%20%20%20%20%20%20%20%20%20%20%7B%22bubblingMouseEvents%22%3A%20true%2C%20%22color%22%3A%20%22blue%22%2C%20%22dashArray%22%3A%20null%2C%20%22dashOffset%22%3A%20null%2C%20%22fill%22%3A%20true%2C%20%22fillColor%22%3A%20%22%233186cc%22%2C%20%22fillOpacity%22%3A%200.7%2C%20%22fillRule%22%3A%20%22evenodd%22%2C%20%22lineCap%22%3A%20%22round%22%2C%20%22lineJoin%22%3A%20%22round%22%2C%20%22opacity%22%3A%201.0%2C%20%22radius%22%3A%205%2C%20%22stroke%22%3A%20true%2C%20%22weight%22%3A%203%7D%0A%20%20%20%20%20%20%20%20%20%20%20%20%29.addTo%28map_1871bc62eb614a49aa2479b0087bd4af%29%3B%0A%20%20%20%20%20%20%20%20%0A%20%20%20%20%0A%20%20%20%20%20%20%20%20var%20popup_3680469c85794fbdb0741c5b873f6499%20%3D%20L.popup%28%7B%22maxWidth%22%3A%20%22100%25%22%7D%29%3B%0A%0A%20%20%20%20%20%20%20%20%0A%20%20%20%20%20%20%20%20%20%20%20%20var%20html_ad829ef47e7c42d6850b0e4ce4a1ec09%20%3D%20%24%28%60%3Cdiv%20id%3D%22html_ad829ef47e7c42d6850b0e4ce4a1ec09%22%20style%3D%22width%3A%20100.0%25%3B%20height%3A%20100.0%25%3B%22%3EUniversity%20of%20Toronto%20/%20HarbordDowntown%20Toronto%3C/div%3E%60%29%5B0%5D%3B%0A%20%20%20%20%20%20%20%20%20%20%20%20popup_3680469c85794fbdb0741c5b873f6499.setContent%28html_ad829ef47e7c42d6850b0e4ce4a1ec09%29%3B%0A%20%20%20%20%20%20%20%20%0A%0A%20%20%20%20%20%20%20%20circle_marker_bb26095d4c5943aea8409680cb40eaf6.bindPopup%28popup_3680469c85794fbdb0741c5b873f6499%29%0A%20%20%20%20%20%20%20%20%3B%0A%0A%20%20%20%20%20%20%20%20%0A%20%20%20%20%0A%20%20%20%20%0A%20%20%20%20%20%20%20%20%20%20%20%20var%20circle_marker_dc1de653c6f340c98a96cbe6fe4a63c3%20%3D%20L.circleMarker%28%0A%20%20%20%20%20%20%20%20%20%20%20%20%20%20%20%20%5B43.6515706%2C%20-79.4844499%5D%2C%0A%20%20%20%20%20%20%20%20%20%20%20%20%20%20%20%20%7B%22bubblingMouseEvents%22%3A%20true%2C%20%22color%22%3A%20%22blue%22%2C%20%22dashArray%22%3A%20null%2C%20%22dashOffset%22%3A%20null%2C%20%22fill%22%3A%20true%2C%20%22fillColor%22%3A%20%22%233186cc%22%2C%20%22fillOpacity%22%3A%200.7%2C%20%22fillRule%22%3A%20%22evenodd%22%2C%20%22lineCap%22%3A%20%22round%22%2C%20%22lineJoin%22%3A%20%22round%22%2C%20%22opacity%22%3A%201.0%2C%20%22radius%22%3A%205%2C%20%22stroke%22%3A%20true%2C%20%22weight%22%3A%203%7D%0A%20%20%20%20%20%20%20%20%20%20%20%20%29.addTo%28map_1871bc62eb614a49aa2479b0087bd4af%29%3B%0A%20%20%20%20%20%20%20%20%0A%20%20%20%20%0A%20%20%20%20%20%20%20%20var%20popup_51eb75b7722d47e3bd15461510c35868%20%3D%20L.popup%28%7B%22maxWidth%22%3A%20%22100%25%22%7D%29%3B%0A%0A%20%20%20%20%20%20%20%20%0A%20%20%20%20%20%20%20%20%20%20%20%20var%20html_3596318e55474944a7f2d592d18dc914%20%3D%20%24%28%60%3Cdiv%20id%3D%22html_3596318e55474944a7f2d592d18dc914%22%20style%3D%22width%3A%20100.0%25%3B%20height%3A%20100.0%25%3B%22%3ERunnymede%20/%20SwanseaWest%20Toronto%3C/div%3E%60%29%5B0%5D%3B%0A%20%20%20%20%20%20%20%20%20%20%20%20popup_51eb75b7722d47e3bd15461510c35868.setContent%28html_3596318e55474944a7f2d592d18dc914%29%3B%0A%20%20%20%20%20%20%20%20%0A%0A%20%20%20%20%20%20%20%20circle_marker_dc1de653c6f340c98a96cbe6fe4a63c3.bindPopup%28popup_51eb75b7722d47e3bd15461510c35868%29%0A%20%20%20%20%20%20%20%20%3B%0A%0A%20%20%20%20%20%20%20%20%0A%20%20%20%20%0A%20%20%20%20%0A%20%20%20%20%20%20%20%20%20%20%20%20var%20circle_marker_ef4b7b2b24f94c118164ce32efea8757%20%3D%20L.circleMarker%28%0A%20%20%20%20%20%20%20%20%20%20%20%20%20%20%20%20%5B43.6895743%2C%20-79.38315990000001%5D%2C%0A%20%20%20%20%20%20%20%20%20%20%20%20%20%20%20%20%7B%22bubblingMouseEvents%22%3A%20true%2C%20%22color%22%3A%20%22blue%22%2C%20%22dashArray%22%3A%20null%2C%20%22dashOffset%22%3A%20null%2C%20%22fill%22%3A%20true%2C%20%22fillColor%22%3A%20%22%233186cc%22%2C%20%22fillOpacity%22%3A%200.7%2C%20%22fillRule%22%3A%20%22evenodd%22%2C%20%22lineCap%22%3A%20%22round%22%2C%20%22lineJoin%22%3A%20%22round%22%2C%20%22opacity%22%3A%201.0%2C%20%22radius%22%3A%205%2C%20%22stroke%22%3A%20true%2C%20%22weight%22%3A%203%7D%0A%20%20%20%20%20%20%20%20%20%20%20%20%29.addTo%28map_1871bc62eb614a49aa2479b0087bd4af%29%3B%0A%20%20%20%20%20%20%20%20%0A%20%20%20%20%0A%20%20%20%20%20%20%20%20var%20popup_a914a190ba574c79aa0fef4cf1d4f059%20%3D%20L.popup%28%7B%22maxWidth%22%3A%20%22100%25%22%7D%29%3B%0A%0A%20%20%20%20%20%20%20%20%0A%20%20%20%20%20%20%20%20%20%20%20%20var%20html_838146f2adf34556bf2827eddde207b2%20%3D%20%24%28%60%3Cdiv%20id%3D%22html_838146f2adf34556bf2827eddde207b2%22%20style%3D%22width%3A%20100.0%25%3B%20height%3A%20100.0%25%3B%22%3EMoore%20Park%20/%20Summerhill%20EastCentral%20Toronto%3C/div%3E%60%29%5B0%5D%3B%0A%20%20%20%20%20%20%20%20%20%20%20%20popup_a914a190ba574c79aa0fef4cf1d4f059.setContent%28html_838146f2adf34556bf2827eddde207b2%29%3B%0A%20%20%20%20%20%20%20%20%0A%0A%20%20%20%20%20%20%20%20circle_marker_ef4b7b2b24f94c118164ce32efea8757.bindPopup%28popup_a914a190ba574c79aa0fef4cf1d4f059%29%0A%20%20%20%20%20%20%20%20%3B%0A%0A%20%20%20%20%20%20%20%20%0A%20%20%20%20%0A%20%20%20%20%0A%20%20%20%20%20%20%20%20%20%20%20%20var%20circle_marker_5751afe7557c416baa6a7b3b07a099b6%20%3D%20L.circleMarker%28%0A%20%20%20%20%20%20%20%20%20%20%20%20%20%20%20%20%5B43.6532057%2C%20-79.4000493%5D%2C%0A%20%20%20%20%20%20%20%20%20%20%20%20%20%20%20%20%7B%22bubblingMouseEvents%22%3A%20true%2C%20%22color%22%3A%20%22blue%22%2C%20%22dashArray%22%3A%20null%2C%20%22dashOffset%22%3A%20null%2C%20%22fill%22%3A%20true%2C%20%22fillColor%22%3A%20%22%233186cc%22%2C%20%22fillOpacity%22%3A%200.7%2C%20%22fillRule%22%3A%20%22evenodd%22%2C%20%22lineCap%22%3A%20%22round%22%2C%20%22lineJoin%22%3A%20%22round%22%2C%20%22opacity%22%3A%201.0%2C%20%22radius%22%3A%205%2C%20%22stroke%22%3A%20true%2C%20%22weight%22%3A%203%7D%0A%20%20%20%20%20%20%20%20%20%20%20%20%29.addTo%28map_1871bc62eb614a49aa2479b0087bd4af%29%3B%0A%20%20%20%20%20%20%20%20%0A%20%20%20%20%0A%20%20%20%20%20%20%20%20var%20popup_b45b42e3c97f4f7bb5c83441b0e816dd%20%3D%20L.popup%28%7B%22maxWidth%22%3A%20%22100%25%22%7D%29%3B%0A%0A%20%20%20%20%20%20%20%20%0A%20%20%20%20%20%20%20%20%20%20%20%20var%20html_dd833afd10654f7798b6b672df3f356c%20%3D%20%24%28%60%3Cdiv%20id%3D%22html_dd833afd10654f7798b6b672df3f356c%22%20style%3D%22width%3A%20100.0%25%3B%20height%3A%20100.0%25%3B%22%3EKensington%20Market%20/%20Chinatown%20/%20Grange%20ParkDowntown%20Toronto%3C/div%3E%60%29%5B0%5D%3B%0A%20%20%20%20%20%20%20%20%20%20%20%20popup_b45b42e3c97f4f7bb5c83441b0e816dd.setContent%28html_dd833afd10654f7798b6b672df3f356c%29%3B%0A%20%20%20%20%20%20%20%20%0A%0A%20%20%20%20%20%20%20%20circle_marker_5751afe7557c416baa6a7b3b07a099b6.bindPopup%28popup_b45b42e3c97f4f7bb5c83441b0e816dd%29%0A%20%20%20%20%20%20%20%20%3B%0A%0A%20%20%20%20%20%20%20%20%0A%20%20%20%20%0A%20%20%20%20%0A%20%20%20%20%20%20%20%20%20%20%20%20var%20circle_marker_4efc2d4fdb21435abdc9f6a9c4fc70d9%20%3D%20L.circleMarker%28%0A%20%20%20%20%20%20%20%20%20%20%20%20%20%20%20%20%5B43.68641229999999%2C%20-79.4000493%5D%2C%0A%20%20%20%20%20%20%20%20%20%20%20%20%20%20%20%20%7B%22bubblingMouseEvents%22%3A%20true%2C%20%22color%22%3A%20%22blue%22%2C%20%22dashArray%22%3A%20null%2C%20%22dashOffset%22%3A%20null%2C%20%22fill%22%3A%20true%2C%20%22fillColor%22%3A%20%22%233186cc%22%2C%20%22fillOpacity%22%3A%200.7%2C%20%22fillRule%22%3A%20%22evenodd%22%2C%20%22lineCap%22%3A%20%22round%22%2C%20%22lineJoin%22%3A%20%22round%22%2C%20%22opacity%22%3A%201.0%2C%20%22radius%22%3A%205%2C%20%22stroke%22%3A%20true%2C%20%22weight%22%3A%203%7D%0A%20%20%20%20%20%20%20%20%20%20%20%20%29.addTo%28map_1871bc62eb614a49aa2479b0087bd4af%29%3B%0A%20%20%20%20%20%20%20%20%0A%20%20%20%20%0A%20%20%20%20%20%20%20%20var%20popup_2b8f25ab05a342c08f814e9d41668ef2%20%3D%20L.popup%28%7B%22maxWidth%22%3A%20%22100%25%22%7D%29%3B%0A%0A%20%20%20%20%20%20%20%20%0A%20%20%20%20%20%20%20%20%20%20%20%20var%20html_b1b431d1c15b4da79dd85110e7be0b1b%20%3D%20%24%28%60%3Cdiv%20id%3D%22html_b1b431d1c15b4da79dd85110e7be0b1b%22%20style%3D%22width%3A%20100.0%25%3B%20height%3A%20100.0%25%3B%22%3ESummerhill%20West%20/%20Rathnelly%20/%20South%20Hill%20/%20Forest%20Hill%20SE%20/%20Deer%20ParkCentral%20Toronto%3C/div%3E%60%29%5B0%5D%3B%0A%20%20%20%20%20%20%20%20%20%20%20%20popup_2b8f25ab05a342c08f814e9d41668ef2.setContent%28html_b1b431d1c15b4da79dd85110e7be0b1b%29%3B%0A%20%20%20%20%20%20%20%20%0A%0A%20%20%20%20%20%20%20%20circle_marker_4efc2d4fdb21435abdc9f6a9c4fc70d9.bindPopup%28popup_2b8f25ab05a342c08f814e9d41668ef2%29%0A%20%20%20%20%20%20%20%20%3B%0A%0A%20%20%20%20%20%20%20%20%0A%20%20%20%20%0A%20%20%20%20%0A%20%20%20%20%20%20%20%20%20%20%20%20var%20circle_marker_a901b0da5242430198926552b3703891%20%3D%20L.circleMarker%28%0A%20%20%20%20%20%20%20%20%20%20%20%20%20%20%20%20%5B43.6289467%2C%20-79.3944199%5D%2C%0A%20%20%20%20%20%20%20%20%20%20%20%20%20%20%20%20%7B%22bubblingMouseEvents%22%3A%20true%2C%20%22color%22%3A%20%22blue%22%2C%20%22dashArray%22%3A%20null%2C%20%22dashOffset%22%3A%20null%2C%20%22fill%22%3A%20true%2C%20%22fillColor%22%3A%20%22%233186cc%22%2C%20%22fillOpacity%22%3A%200.7%2C%20%22fillRule%22%3A%20%22evenodd%22%2C%20%22lineCap%22%3A%20%22round%22%2C%20%22lineJoin%22%3A%20%22round%22%2C%20%22opacity%22%3A%201.0%2C%20%22radius%22%3A%205%2C%20%22stroke%22%3A%20true%2C%20%22weight%22%3A%203%7D%0A%20%20%20%20%20%20%20%20%20%20%20%20%29.addTo%28map_1871bc62eb614a49aa2479b0087bd4af%29%3B%0A%20%20%20%20%20%20%20%20%0A%20%20%20%20%0A%20%20%20%20%20%20%20%20var%20popup_3afcf7d93ad04003a87cc88bed9a8026%20%3D%20L.popup%28%7B%22maxWidth%22%3A%20%22100%25%22%7D%29%3B%0A%0A%20%20%20%20%20%20%20%20%0A%20%20%20%20%20%20%20%20%20%20%20%20var%20html_797f364b2f1b480fb974eedc93dec2c6%20%3D%20%24%28%60%3Cdiv%20id%3D%22html_797f364b2f1b480fb974eedc93dec2c6%22%20style%3D%22width%3A%20100.0%25%3B%20height%3A%20100.0%25%3B%22%3ECN%20Tower%20/%20King%20and%20Spadina%20/%20Railway%20Lands%20/%20Harbourfront%20West%20/%20Bathurst%20Quay%20/%20South%20Niagara%20/%20Island%20airportDowntown%20Toronto%3C/div%3E%60%29%5B0%5D%3B%0A%20%20%20%20%20%20%20%20%20%20%20%20popup_3afcf7d93ad04003a87cc88bed9a8026.setContent%28html_797f364b2f1b480fb974eedc93dec2c6%29%3B%0A%20%20%20%20%20%20%20%20%0A%0A%20%20%20%20%20%20%20%20circle_marker_a901b0da5242430198926552b3703891.bindPopup%28popup_3afcf7d93ad04003a87cc88bed9a8026%29%0A%20%20%20%20%20%20%20%20%3B%0A%0A%20%20%20%20%20%20%20%20%0A%20%20%20%20%0A%20%20%20%20%0A%20%20%20%20%20%20%20%20%20%20%20%20var%20circle_marker_e71617f662454152a18dce5797f16d46%20%3D%20L.circleMarker%28%0A%20%20%20%20%20%20%20%20%20%20%20%20%20%20%20%20%5B43.6795626%2C%20-79.37752940000001%5D%2C%0A%20%20%20%20%20%20%20%20%20%20%20%20%20%20%20%20%7B%22bubblingMouseEvents%22%3A%20true%2C%20%22color%22%3A%20%22blue%22%2C%20%22dashArray%22%3A%20null%2C%20%22dashOffset%22%3A%20null%2C%20%22fill%22%3A%20true%2C%20%22fillColor%22%3A%20%22%233186cc%22%2C%20%22fillOpacity%22%3A%200.7%2C%20%22fillRule%22%3A%20%22evenodd%22%2C%20%22lineCap%22%3A%20%22round%22%2C%20%22lineJoin%22%3A%20%22round%22%2C%20%22opacity%22%3A%201.0%2C%20%22radius%22%3A%205%2C%20%22stroke%22%3A%20true%2C%20%22weight%22%3A%203%7D%0A%20%20%20%20%20%20%20%20%20%20%20%20%29.addTo%28map_1871bc62eb614a49aa2479b0087bd4af%29%3B%0A%20%20%20%20%20%20%20%20%0A%20%20%20%20%0A%20%20%20%20%20%20%20%20var%20popup_3d764a7b05194adaa2842f6329a27c72%20%3D%20L.popup%28%7B%22maxWidth%22%3A%20%22100%25%22%7D%29%3B%0A%0A%20%20%20%20%20%20%20%20%0A%20%20%20%20%20%20%20%20%20%20%20%20var%20html_3729e1a0ac854fbfa7db804b02464248%20%3D%20%24%28%60%3Cdiv%20id%3D%22html_3729e1a0ac854fbfa7db804b02464248%22%20style%3D%22width%3A%20100.0%25%3B%20height%3A%20100.0%25%3B%22%3ERosedaleDowntown%20Toronto%3C/div%3E%60%29%5B0%5D%3B%0A%20%20%20%20%20%20%20%20%20%20%20%20popup_3d764a7b05194adaa2842f6329a27c72.setContent%28html_3729e1a0ac854fbfa7db804b02464248%29%3B%0A%20%20%20%20%20%20%20%20%0A%0A%20%20%20%20%20%20%20%20circle_marker_e71617f662454152a18dce5797f16d46.bindPopup%28popup_3d764a7b05194adaa2842f6329a27c72%29%0A%20%20%20%20%20%20%20%20%3B%0A%0A%20%20%20%20%20%20%20%20%0A%20%20%20%20%0A%20%20%20%20%0A%20%20%20%20%20%20%20%20%20%20%20%20var%20circle_marker_8a28a3a4511344399463dbd068a4fd8d%20%3D%20L.circleMarker%28%0A%20%20%20%20%20%20%20%20%20%20%20%20%20%20%20%20%5B43.6464352%2C%20-79.37484599999999%5D%2C%0A%20%20%20%20%20%20%20%20%20%20%20%20%20%20%20%20%7B%22bubblingMouseEvents%22%3A%20true%2C%20%22color%22%3A%20%22blue%22%2C%20%22dashArray%22%3A%20null%2C%20%22dashOffset%22%3A%20null%2C%20%22fill%22%3A%20true%2C%20%22fillColor%22%3A%20%22%233186cc%22%2C%20%22fillOpacity%22%3A%200.7%2C%20%22fillRule%22%3A%20%22evenodd%22%2C%20%22lineCap%22%3A%20%22round%22%2C%20%22lineJoin%22%3A%20%22round%22%2C%20%22opacity%22%3A%201.0%2C%20%22radius%22%3A%205%2C%20%22stroke%22%3A%20true%2C%20%22weight%22%3A%203%7D%0A%20%20%20%20%20%20%20%20%20%20%20%20%29.addTo%28map_1871bc62eb614a49aa2479b0087bd4af%29%3B%0A%20%20%20%20%20%20%20%20%0A%20%20%20%20%0A%20%20%20%20%20%20%20%20var%20popup_0fa9bd8b3133439f8f045fc6e74e1467%20%3D%20L.popup%28%7B%22maxWidth%22%3A%20%22100%25%22%7D%29%3B%0A%0A%20%20%20%20%20%20%20%20%0A%20%20%20%20%20%20%20%20%20%20%20%20var%20html_a6c5e9072dcf481791b75c2f2eed6905%20%3D%20%24%28%60%3Cdiv%20id%3D%22html_a6c5e9072dcf481791b75c2f2eed6905%22%20style%3D%22width%3A%20100.0%25%3B%20height%3A%20100.0%25%3B%22%3EEnclave%20of%20M5EDowntown%20TorontoStn%20A%20PO%20Boxes25%20The%20Esplanade%3C/div%3E%60%29%5B0%5D%3B%0A%20%20%20%20%20%20%20%20%20%20%20%20popup_0fa9bd8b3133439f8f045fc6e74e1467.setContent%28html_a6c5e9072dcf481791b75c2f2eed6905%29%3B%0A%20%20%20%20%20%20%20%20%0A%0A%20%20%20%20%20%20%20%20circle_marker_8a28a3a4511344399463dbd068a4fd8d.bindPopup%28popup_0fa9bd8b3133439f8f045fc6e74e1467%29%0A%20%20%20%20%20%20%20%20%3B%0A%0A%20%20%20%20%20%20%20%20%0A%20%20%20%20%0A%20%20%20%20%0A%20%20%20%20%20%20%20%20%20%20%20%20var%20circle_marker_782184657dc4487aa5d1e0df966c3186%20%3D%20L.circleMarker%28%0A%20%20%20%20%20%20%20%20%20%20%20%20%20%20%20%20%5B43.667967%2C%20-79.3676753%5D%2C%0A%20%20%20%20%20%20%20%20%20%20%20%20%20%20%20%20%7B%22bubblingMouseEvents%22%3A%20true%2C%20%22color%22%3A%20%22blue%22%2C%20%22dashArray%22%3A%20null%2C%20%22dashOffset%22%3A%20null%2C%20%22fill%22%3A%20true%2C%20%22fillColor%22%3A%20%22%233186cc%22%2C%20%22fillOpacity%22%3A%200.7%2C%20%22fillRule%22%3A%20%22evenodd%22%2C%20%22lineCap%22%3A%20%22round%22%2C%20%22lineJoin%22%3A%20%22round%22%2C%20%22opacity%22%3A%201.0%2C%20%22radius%22%3A%205%2C%20%22stroke%22%3A%20true%2C%20%22weight%22%3A%203%7D%0A%20%20%20%20%20%20%20%20%20%20%20%20%29.addTo%28map_1871bc62eb614a49aa2479b0087bd4af%29%3B%0A%20%20%20%20%20%20%20%20%0A%20%20%20%20%0A%20%20%20%20%20%20%20%20var%20popup_de0ade719b2f4279a44e45ff702b6772%20%3D%20L.popup%28%7B%22maxWidth%22%3A%20%22100%25%22%7D%29%3B%0A%0A%20%20%20%20%20%20%20%20%0A%20%20%20%20%20%20%20%20%20%20%20%20var%20html_424c383759ea46499897ba62f934bf31%20%3D%20%24%28%60%3Cdiv%20id%3D%22html_424c383759ea46499897ba62f934bf31%22%20style%3D%22width%3A%20100.0%25%3B%20height%3A%20100.0%25%3B%22%3ESt.%20James%20Town%20/%20CabbagetownDowntown%20Toronto%3C/div%3E%60%29%5B0%5D%3B%0A%20%20%20%20%20%20%20%20%20%20%20%20popup_de0ade719b2f4279a44e45ff702b6772.setContent%28html_424c383759ea46499897ba62f934bf31%29%3B%0A%20%20%20%20%20%20%20%20%0A%0A%20%20%20%20%20%20%20%20circle_marker_782184657dc4487aa5d1e0df966c3186.bindPopup%28popup_de0ade719b2f4279a44e45ff702b6772%29%0A%20%20%20%20%20%20%20%20%3B%0A%0A%20%20%20%20%20%20%20%20%0A%20%20%20%20%0A%20%20%20%20%0A%20%20%20%20%20%20%20%20%20%20%20%20var%20circle_marker_cee547c6e4e1406d903f455e6bb1160e%20%3D%20L.circleMarker%28%0A%20%20%20%20%20%20%20%20%20%20%20%20%20%20%20%20%5B43.6484292%2C%20-79.3822802%5D%2C%0A%20%20%20%20%20%20%20%20%20%20%20%20%20%20%20%20%7B%22bubblingMouseEvents%22%3A%20true%2C%20%22color%22%3A%20%22blue%22%2C%20%22dashArray%22%3A%20null%2C%20%22dashOffset%22%3A%20null%2C%20%22fill%22%3A%20true%2C%20%22fillColor%22%3A%20%22%233186cc%22%2C%20%22fillOpacity%22%3A%200.7%2C%20%22fillRule%22%3A%20%22evenodd%22%2C%20%22lineCap%22%3A%20%22round%22%2C%20%22lineJoin%22%3A%20%22round%22%2C%20%22opacity%22%3A%201.0%2C%20%22radius%22%3A%205%2C%20%22stroke%22%3A%20true%2C%20%22weight%22%3A%203%7D%0A%20%20%20%20%20%20%20%20%20%20%20%20%29.addTo%28map_1871bc62eb614a49aa2479b0087bd4af%29%3B%0A%20%20%20%20%20%20%20%20%0A%20%20%20%20%0A%20%20%20%20%20%20%20%20var%20popup_0b79f12b367840f897087cb25afdefc6%20%3D%20L.popup%28%7B%22maxWidth%22%3A%20%22100%25%22%7D%29%3B%0A%0A%20%20%20%20%20%20%20%20%0A%20%20%20%20%20%20%20%20%20%20%20%20var%20html_43fba6ca3a1447ef83430df51f1647db%20%3D%20%24%28%60%3Cdiv%20id%3D%22html_43fba6ca3a1447ef83430df51f1647db%22%20style%3D%22width%3A%20100.0%25%3B%20height%3A%20100.0%25%3B%22%3EFirst%20Canadian%20Place%20/%20Underground%20cityDowntown%20Toronto%3C/div%3E%60%29%5B0%5D%3B%0A%20%20%20%20%20%20%20%20%20%20%20%20popup_0b79f12b367840f897087cb25afdefc6.setContent%28html_43fba6ca3a1447ef83430df51f1647db%29%3B%0A%20%20%20%20%20%20%20%20%0A%0A%20%20%20%20%20%20%20%20circle_marker_cee547c6e4e1406d903f455e6bb1160e.bindPopup%28popup_0b79f12b367840f897087cb25afdefc6%29%0A%20%20%20%20%20%20%20%20%3B%0A%0A%20%20%20%20%20%20%20%20%0A%20%20%20%20%0A%20%20%20%20%0A%20%20%20%20%20%20%20%20%20%20%20%20var%20circle_marker_84196dba0f6f40bd8e98a3e672aa8d59%20%3D%20L.circleMarker%28%0A%20%20%20%20%20%20%20%20%20%20%20%20%20%20%20%20%5B43.6658599%2C%20-79.38315990000001%5D%2C%0A%20%20%20%20%20%20%20%20%20%20%20%20%20%20%20%20%7B%22bubblingMouseEvents%22%3A%20true%2C%20%22color%22%3A%20%22blue%22%2C%20%22dashArray%22%3A%20null%2C%20%22dashOffset%22%3A%20null%2C%20%22fill%22%3A%20true%2C%20%22fillColor%22%3A%20%22%233186cc%22%2C%20%22fillOpacity%22%3A%200.7%2C%20%22fillRule%22%3A%20%22evenodd%22%2C%20%22lineCap%22%3A%20%22round%22%2C%20%22lineJoin%22%3A%20%22round%22%2C%20%22opacity%22%3A%201.0%2C%20%22radius%22%3A%205%2C%20%22stroke%22%3A%20true%2C%20%22weight%22%3A%203%7D%0A%20%20%20%20%20%20%20%20%20%20%20%20%29.addTo%28map_1871bc62eb614a49aa2479b0087bd4af%29%3B%0A%20%20%20%20%20%20%20%20%0A%20%20%20%20%0A%20%20%20%20%20%20%20%20var%20popup_a6cb41df00354fe6978e8630bdde0c14%20%3D%20L.popup%28%7B%22maxWidth%22%3A%20%22100%25%22%7D%29%3B%0A%0A%20%20%20%20%20%20%20%20%0A%20%20%20%20%20%20%20%20%20%20%20%20var%20html_153994d67e8a463388a10dfeb0c5b4c7%20%3D%20%24%28%60%3Cdiv%20id%3D%22html_153994d67e8a463388a10dfeb0c5b4c7%22%20style%3D%22width%3A%20100.0%25%3B%20height%3A%20100.0%25%3B%22%3EChurch%20and%20WellesleyDowntown%20Toronto%3C/div%3E%60%29%5B0%5D%3B%0A%20%20%20%20%20%20%20%20%20%20%20%20popup_a6cb41df00354fe6978e8630bdde0c14.setContent%28html_153994d67e8a463388a10dfeb0c5b4c7%29%3B%0A%20%20%20%20%20%20%20%20%0A%0A%20%20%20%20%20%20%20%20circle_marker_84196dba0f6f40bd8e98a3e672aa8d59.bindPopup%28popup_a6cb41df00354fe6978e8630bdde0c14%29%0A%20%20%20%20%20%20%20%20%3B%0A%0A%20%20%20%20%20%20%20%20%0A%20%20%20%20%0A%20%20%20%20%0A%20%20%20%20%20%20%20%20%20%20%20%20var%20circle_marker_cc768f1121954c61b0d5cfa79cbfec45%20%3D%20L.circleMarker%28%0A%20%20%20%20%20%20%20%20%20%20%20%20%20%20%20%20%5B43.6627439%2C%20-79.321558%5D%2C%0A%20%20%20%20%20%20%20%20%20%20%20%20%20%20%20%20%7B%22bubblingMouseEvents%22%3A%20true%2C%20%22color%22%3A%20%22blue%22%2C%20%22dashArray%22%3A%20null%2C%20%22dashOffset%22%3A%20null%2C%20%22fill%22%3A%20true%2C%20%22fillColor%22%3A%20%22%233186cc%22%2C%20%22fillOpacity%22%3A%200.7%2C%20%22fillRule%22%3A%20%22evenodd%22%2C%20%22lineCap%22%3A%20%22round%22%2C%20%22lineJoin%22%3A%20%22round%22%2C%20%22opacity%22%3A%201.0%2C%20%22radius%22%3A%205%2C%20%22stroke%22%3A%20true%2C%20%22weight%22%3A%203%7D%0A%20%20%20%20%20%20%20%20%20%20%20%20%29.addTo%28map_1871bc62eb614a49aa2479b0087bd4af%29%3B%0A%20%20%20%20%20%20%20%20%0A%20%20%20%20%0A%20%20%20%20%20%20%20%20var%20popup_1507048136ee4c298df9a75aa0c14851%20%3D%20L.popup%28%7B%22maxWidth%22%3A%20%22100%25%22%7D%29%3B%0A%0A%20%20%20%20%20%20%20%20%0A%20%20%20%20%20%20%20%20%20%20%20%20var%20html_7ef0480470d24f5398ad7220be1817f8%20%3D%20%24%28%60%3Cdiv%20id%3D%22html_7ef0480470d24f5398ad7220be1817f8%22%20style%3D%22width%3A%20100.0%25%3B%20height%3A%20100.0%25%3B%22%3EEnclave%20of%20M4LEast%20TorontoBusiness%20reply%20mail%20Processing%20Centre969%20Eastern%3C/div%3E%60%29%5B0%5D%3B%0A%20%20%20%20%20%20%20%20%20%20%20%20popup_1507048136ee4c298df9a75aa0c14851.setContent%28html_7ef0480470d24f5398ad7220be1817f8%29%3B%0A%20%20%20%20%20%20%20%20%0A%0A%20%20%20%20%20%20%20%20circle_marker_cc768f1121954c61b0d5cfa79cbfec45.bindPopup%28popup_1507048136ee4c298df9a75aa0c14851%29%0A%20%20%20%20%20%20%20%20%3B%0A%0A%20%20%20%20%20%20%20%20%0A%20%20%20%20%0A%3C/script%3E onload=\"this.contentDocument.open();this.contentDocument.write(    decodeURIComponent(this.getAttribute('data-html')));this.contentDocument.close();\" allowfullscreen webkitallowfullscreen mozallowfullscreen></iframe></div></div>"
     },
     "metadata": {},
     "execution_count": 90
    }
   ],
   "source": [
    "map_toronto=folium.Map(location=[latitude,longitude],zoom_start=10)\n",
    "\n",
    "for lat,lng,borough,neighborhood in zip(toronto_data[\"Latitude\"],toronto_data[\"Longitude\"],toronto_data[\"Borough\"],toronto_data[\"Neighborhood\"]):\n",
    "    label='{}{}'.format(neighborhood,borough)\n",
    "    label=folium.Popup(label,parse_html=True)\n",
    "    folium.CircleMarker([lat,lng],radius=5,color='blue',popup=label,fill=True,fill_color='#3186cc',fill_opacity=0.7,parse_html=False).add_to(map_toronto)\n",
    "map_toronto\n"
   ]
  },
  {
   "cell_type": "code",
   "execution_count": 91,
   "metadata": {},
   "outputs": [
    {
     "output_type": "stream",
     "name": "stdout",
     "text": [
      "Your credentails:\nCLIENT_ID: G5XELWRC2EMZHYGGKF20VTKEWZE3GSGFBAQZNG4NUYHKVHQT\nCLIENT_SECRET:GKBXNMTGJTWF04VMQVCNDYG5WR4UCRFTQTA2VXFLKF1JIQAX\n"
     ]
    }
   ],
   "source": [
    "CLIENT_ID = 'G5XELWRC2EMZHYGGKF20VTKEWZE3GSGFBAQZNG4NUYHKVHQT' # your Foursquare ID\n",
    "CLIENT_SECRET = 'GKBXNMTGJTWF04VMQVCNDYG5WR4UCRFTQTA2VXFLKF1JIQAX' # your Foursquare Secret\n",
    "ACCESS_TOKEN = 'BOLQGFEKLU1E0CTOOSVPC5SSUTRQSWPXZHYSYMNB4V33DE5C' # your FourSquare Access Token\n",
    "VERSION = '20180604'\n",
    "LIMIT = 100 # A default Foursquare API limit value\n",
    "\n",
    "print('Your credentails:')\n",
    "print('CLIENT_ID: ' + CLIENT_ID)\n",
    "print('CLIENT_SECRET:' + CLIENT_SECRET)"
   ]
  },
  {
   "cell_type": "code",
   "execution_count": 92,
   "metadata": {},
   "outputs": [],
   "source": [
    "#Exploring first neighborhood in DataFrame"
   ]
  },
  {
   "cell_type": "code",
   "execution_count": 93,
   "metadata": {},
   "outputs": [
    {
     "output_type": "execute_result",
     "data": {
      "text/plain": [
       "'Regent Park / Harbourfront'"
      ]
     },
     "metadata": {},
     "execution_count": 93
    }
   ],
   "source": [
    "toronto_data.loc[0,'Neighborhood']"
   ]
  },
  {
   "cell_type": "code",
   "execution_count": 94,
   "metadata": {},
   "outputs": [],
   "source": [
    "#Getting longitude and latitude"
   ]
  },
  {
   "cell_type": "code",
   "execution_count": 95,
   "metadata": {},
   "outputs": [
    {
     "output_type": "stream",
     "name": "stdout",
     "text": [
      "Latitude and longitude values of Regent Park / Harbourfront are 43.6542599, -79.3606359.\n"
     ]
    }
   ],
   "source": [
    "neighborhood_longitude=toronto_data.loc[0,'Longitude']\n",
    "neighborhood_latitude=toronto_data.loc[0,'Latitude']\n",
    "neighborhood_name=toronto_data.loc[0,'Neighborhood']\n",
    "print('Latitude and longitude values of {} are {}, {}.'.format(neighborhood_name, \n",
    "                                                               neighborhood_latitude, \n",
    "                                                               neighborhood_longitude))"
   ]
  },
  {
   "cell_type": "code",
   "execution_count": 96,
   "metadata": {},
   "outputs": [],
   "source": [
    "#TOP 100 VENUES IN REGENTPARK/HARBOURFRONT"
   ]
  },
  {
   "cell_type": "code",
   "execution_count": 97,
   "metadata": {},
   "outputs": [
    {
     "output_type": "execute_result",
     "data": {
      "text/plain": [
       "'https://api.foursquare.com/v2/venues/explore?&client_id=G5XELWRC2EMZHYGGKF20VTKEWZE3GSGFBAQZNG4NUYHKVHQT&client_secret=GKBXNMTGJTWF04VMQVCNDYG5WR4UCRFTQTA2VXFLKF1JIQAX&v=20180604&ll=43.6542599,-79.3606359&r=500&limit=100'"
      ]
     },
     "metadata": {},
     "execution_count": 97
    }
   ],
   "source": [
    "limit=100\n",
    "radius=500\n",
    "url='https://api.foursquare.com/v2/venues/explore?&client_id={}&client_secret={}&v={}&ll={},{}&r={}&limit={}'.format(\n",
    "    CLIENT_ID, \n",
    "    CLIENT_SECRET, \n",
    "    VERSION, \n",
    "    neighborhood_latitude, \n",
    "    neighborhood_longitude, \n",
    "    radius, \n",
    "    LIMIT)\n",
    "url"
   ]
  },
  {
   "cell_type": "code",
   "execution_count": 84,
   "metadata": {},
   "outputs": [],
   "source": []
  },
  {
   "cell_type": "code",
   "execution_count": 98,
   "metadata": {},
   "outputs": [],
   "source": [
    "def get_category_type(row):\n",
    "    try:\n",
    "        categories_list=row['categories']\n",
    "    except:\n",
    "        categories_list=row['venue.categories']\n",
    "    if len(categories_list)==0:\n",
    "        return None\n",
    "    else:\n",
    "        return categories_list[0]['name']"
   ]
  },
  {
   "cell_type": "code",
   "execution_count": 99,
   "metadata": {},
   "outputs": [],
   "source": [
    "venues=requests.get(url).json()['response']['groups'][0]['items']"
   ]
  },
  {
   "cell_type": "code",
   "execution_count": 100,
   "metadata": {},
   "outputs": [],
   "source": [
    "import json\n",
    "from pandas import json_normalize # tranform JSON file into a pandas dataframe\n",
    "nearby_venues=json_normalize(venues).head()"
   ]
  },
  {
   "cell_type": "code",
   "execution_count": 101,
   "metadata": {},
   "outputs": [
    {
     "output_type": "execute_result",
     "data": {
      "text/plain": [
       "                       referralId  reasons.count  \\\n",
       "0  e-0-53b8466a498e83df908c3f21-0              0   \n",
       "1  e-0-54ea41ad498e9a11e9e13308-1              0   \n",
       "2  e-0-5612b1cc498e3dd742af0dc8-2              0   \n",
       "3  e-0-4ad4c05ef964a520bff620e3-3              0   \n",
       "4  e-0-51ccc048498ec7792efc955e-4              0   \n",
       "\n",
       "                                       reasons.items  \\\n",
       "0  [{'summary': 'This spot is popular', 'type': '...   \n",
       "1  [{'summary': 'This spot is popular', 'type': '...   \n",
       "2  [{'summary': 'This spot is popular', 'type': '...   \n",
       "3  [{'summary': 'This spot is popular', 'type': '...   \n",
       "4  [{'summary': 'This spot is popular', 'type': '...   \n",
       "\n",
       "                   venue.id                        venue.name  \\\n",
       "0  53b8466a498e83df908c3f21                     Tandem Coffee   \n",
       "1  54ea41ad498e9a11e9e13308                  Roselle Desserts   \n",
       "2  5612b1cc498e3dd742af0dc8                    Impact Kitchen   \n",
       "3  4ad4c05ef964a520bff620e3  The Distillery Historic District   \n",
       "4  51ccc048498ec7792efc955e                   Corktown Common   \n",
       "\n",
       "                      venue.location.address venue.location.crossStreet  \\\n",
       "0                              368 King St E              at Trinity St   \n",
       "1                              362 King St E                 Trinity St   \n",
       "2                              573 King St E          at St Lawrence St   \n",
       "3  btwn Front, Cherry, Gardiner & Parliament                        NaN   \n",
       "4                                        NaN                        NaN   \n",
       "\n",
       "   venue.location.lat  venue.location.lng  \\\n",
       "0           43.653559          -79.361809   \n",
       "1           43.653447          -79.362017   \n",
       "2           43.656369          -79.356980   \n",
       "3           43.650244          -79.359323   \n",
       "4           43.655618          -79.356211   \n",
       "\n",
       "                       venue.location.labeledLatLngs  venue.location.distance  \\\n",
       "0  [{'label': 'display', 'lat': 43.65355870959944...                      122   \n",
       "1  [{'label': 'display', 'lat': 43.65344672305267...                      143   \n",
       "2  [{'label': 'display', 'lat': 43.65636850543279...                      376   \n",
       "3  [{'label': 'display', 'lat': 43.65024435658077...                      459   \n",
       "4  [{'label': 'display', 'lat': 43.65561779974973...                      387   \n",
       "\n",
       "  venue.location.cc venue.location.city venue.location.state  \\\n",
       "0                CA             Toronto                   ON   \n",
       "1                CA             Toronto                   ON   \n",
       "2                CA             Toronto                   ON   \n",
       "3                CA             Toronto                   ON   \n",
       "4                CA                 NaN                  NaN   \n",
       "\n",
       "  venue.location.country                    venue.location.formattedAddress  \\\n",
       "0                 Canada  [368 King St E (at Trinity St), Toronto ON, Ca...   \n",
       "1                 Canada  [362 King St E (Trinity St), Toronto ON M5A 1K...   \n",
       "2                 Canada  [573 King St E (at St Lawrence St), Toronto ON...   \n",
       "3                 Canada  [btwn Front, Cherry, Gardiner & Parliament, To...   \n",
       "4                 Canada                                           [Canada]   \n",
       "\n",
       "                                    venue.categories  venue.photos.count  \\\n",
       "0  [{'id': '4bf58dd8d48988d1e0931735', 'name': 'C...                   0   \n",
       "1  [{'id': '4bf58dd8d48988d16a941735', 'name': 'B...                   0   \n",
       "2  [{'id': '4bf58dd8d48988d1c4941735', 'name': 'R...                   0   \n",
       "3  [{'id': '4deefb944765f83613cdba6e', 'name': 'H...                   0   \n",
       "4  [{'id': '4bf58dd8d48988d163941735', 'name': 'P...                   0   \n",
       "\n",
       "  venue.photos.groups venue.location.postalCode venue.location.neighborhood  \\\n",
       "0                  []                       NaN                         NaN   \n",
       "1                  []                   M5A 1K9                         NaN   \n",
       "2                  []                   M5A 4L3                         NaN   \n",
       "3                  []                   M5A 3C4                         NaN   \n",
       "4                  []                       NaN                         NaN   \n",
       "\n",
       "  venue.venuePage.id  \n",
       "0                NaN  \n",
       "1                NaN  \n",
       "2                NaN  \n",
       "3                NaN  \n",
       "4                NaN  "
      ],
      "text/html": "<div>\n<style scoped>\n    .dataframe tbody tr th:only-of-type {\n        vertical-align: middle;\n    }\n\n    .dataframe tbody tr th {\n        vertical-align: top;\n    }\n\n    .dataframe thead th {\n        text-align: right;\n    }\n</style>\n<table border=\"1\" class=\"dataframe\">\n  <thead>\n    <tr style=\"text-align: right;\">\n      <th></th>\n      <th>referralId</th>\n      <th>reasons.count</th>\n      <th>reasons.items</th>\n      <th>venue.id</th>\n      <th>venue.name</th>\n      <th>venue.location.address</th>\n      <th>venue.location.crossStreet</th>\n      <th>venue.location.lat</th>\n      <th>venue.location.lng</th>\n      <th>venue.location.labeledLatLngs</th>\n      <th>venue.location.distance</th>\n      <th>venue.location.cc</th>\n      <th>venue.location.city</th>\n      <th>venue.location.state</th>\n      <th>venue.location.country</th>\n      <th>venue.location.formattedAddress</th>\n      <th>venue.categories</th>\n      <th>venue.photos.count</th>\n      <th>venue.photos.groups</th>\n      <th>venue.location.postalCode</th>\n      <th>venue.location.neighborhood</th>\n      <th>venue.venuePage.id</th>\n    </tr>\n  </thead>\n  <tbody>\n    <tr>\n      <th>0</th>\n      <td>e-0-53b8466a498e83df908c3f21-0</td>\n      <td>0</td>\n      <td>[{'summary': 'This spot is popular', 'type': '...</td>\n      <td>53b8466a498e83df908c3f21</td>\n      <td>Tandem Coffee</td>\n      <td>368 King St E</td>\n      <td>at Trinity St</td>\n      <td>43.653559</td>\n      <td>-79.361809</td>\n      <td>[{'label': 'display', 'lat': 43.65355870959944...</td>\n      <td>122</td>\n      <td>CA</td>\n      <td>Toronto</td>\n      <td>ON</td>\n      <td>Canada</td>\n      <td>[368 King St E (at Trinity St), Toronto ON, Ca...</td>\n      <td>[{'id': '4bf58dd8d48988d1e0931735', 'name': 'C...</td>\n      <td>0</td>\n      <td>[]</td>\n      <td>NaN</td>\n      <td>NaN</td>\n      <td>NaN</td>\n    </tr>\n    <tr>\n      <th>1</th>\n      <td>e-0-54ea41ad498e9a11e9e13308-1</td>\n      <td>0</td>\n      <td>[{'summary': 'This spot is popular', 'type': '...</td>\n      <td>54ea41ad498e9a11e9e13308</td>\n      <td>Roselle Desserts</td>\n      <td>362 King St E</td>\n      <td>Trinity St</td>\n      <td>43.653447</td>\n      <td>-79.362017</td>\n      <td>[{'label': 'display', 'lat': 43.65344672305267...</td>\n      <td>143</td>\n      <td>CA</td>\n      <td>Toronto</td>\n      <td>ON</td>\n      <td>Canada</td>\n      <td>[362 King St E (Trinity St), Toronto ON M5A 1K...</td>\n      <td>[{'id': '4bf58dd8d48988d16a941735', 'name': 'B...</td>\n      <td>0</td>\n      <td>[]</td>\n      <td>M5A 1K9</td>\n      <td>NaN</td>\n      <td>NaN</td>\n    </tr>\n    <tr>\n      <th>2</th>\n      <td>e-0-5612b1cc498e3dd742af0dc8-2</td>\n      <td>0</td>\n      <td>[{'summary': 'This spot is popular', 'type': '...</td>\n      <td>5612b1cc498e3dd742af0dc8</td>\n      <td>Impact Kitchen</td>\n      <td>573 King St E</td>\n      <td>at St Lawrence St</td>\n      <td>43.656369</td>\n      <td>-79.356980</td>\n      <td>[{'label': 'display', 'lat': 43.65636850543279...</td>\n      <td>376</td>\n      <td>CA</td>\n      <td>Toronto</td>\n      <td>ON</td>\n      <td>Canada</td>\n      <td>[573 King St E (at St Lawrence St), Toronto ON...</td>\n      <td>[{'id': '4bf58dd8d48988d1c4941735', 'name': 'R...</td>\n      <td>0</td>\n      <td>[]</td>\n      <td>M5A 4L3</td>\n      <td>NaN</td>\n      <td>NaN</td>\n    </tr>\n    <tr>\n      <th>3</th>\n      <td>e-0-4ad4c05ef964a520bff620e3-3</td>\n      <td>0</td>\n      <td>[{'summary': 'This spot is popular', 'type': '...</td>\n      <td>4ad4c05ef964a520bff620e3</td>\n      <td>The Distillery Historic District</td>\n      <td>btwn Front, Cherry, Gardiner &amp; Parliament</td>\n      <td>NaN</td>\n      <td>43.650244</td>\n      <td>-79.359323</td>\n      <td>[{'label': 'display', 'lat': 43.65024435658077...</td>\n      <td>459</td>\n      <td>CA</td>\n      <td>Toronto</td>\n      <td>ON</td>\n      <td>Canada</td>\n      <td>[btwn Front, Cherry, Gardiner &amp; Parliament, To...</td>\n      <td>[{'id': '4deefb944765f83613cdba6e', 'name': 'H...</td>\n      <td>0</td>\n      <td>[]</td>\n      <td>M5A 3C4</td>\n      <td>NaN</td>\n      <td>NaN</td>\n    </tr>\n    <tr>\n      <th>4</th>\n      <td>e-0-51ccc048498ec7792efc955e-4</td>\n      <td>0</td>\n      <td>[{'summary': 'This spot is popular', 'type': '...</td>\n      <td>51ccc048498ec7792efc955e</td>\n      <td>Corktown Common</td>\n      <td>NaN</td>\n      <td>NaN</td>\n      <td>43.655618</td>\n      <td>-79.356211</td>\n      <td>[{'label': 'display', 'lat': 43.65561779974973...</td>\n      <td>387</td>\n      <td>CA</td>\n      <td>NaN</td>\n      <td>NaN</td>\n      <td>Canada</td>\n      <td>[Canada]</td>\n      <td>[{'id': '4bf58dd8d48988d163941735', 'name': 'P...</td>\n      <td>0</td>\n      <td>[]</td>\n      <td>NaN</td>\n      <td>NaN</td>\n      <td>NaN</td>\n    </tr>\n  </tbody>\n</table>\n</div>"
     },
     "metadata": {},
     "execution_count": 101
    }
   ],
   "source": [
    "nearby_venues"
   ]
  },
  {
   "cell_type": "code",
   "execution_count": 102,
   "metadata": {},
   "outputs": [],
   "source": [
    "filtered_columns=['venue.name','venue.categories','venue.location.lat','venue.location.lng']"
   ]
  },
  {
   "cell_type": "code",
   "execution_count": 103,
   "metadata": {},
   "outputs": [],
   "source": [
    "nearby_venues =nearby_venues.loc[:, filtered_columns]"
   ]
  },
  {
   "cell_type": "code",
   "execution_count": 104,
   "metadata": {},
   "outputs": [
    {
     "output_type": "execute_result",
     "data": {
      "text/plain": [
       "0    [{'id': '4bf58dd8d48988d1e0931735', 'name': 'C...\n",
       "1    [{'id': '4bf58dd8d48988d16a941735', 'name': 'B...\n",
       "2    [{'id': '4bf58dd8d48988d1c4941735', 'name': 'R...\n",
       "3    [{'id': '4deefb944765f83613cdba6e', 'name': 'H...\n",
       "4    [{'id': '4bf58dd8d48988d163941735', 'name': 'P...\n",
       "Name: venue.categories, dtype: object"
      ]
     },
     "metadata": {},
     "execution_count": 104
    }
   ],
   "source": [
    "nearby_venues['venue.categories'].head()"
   ]
  },
  {
   "cell_type": "code",
   "execution_count": 105,
   "metadata": {},
   "outputs": [],
   "source": [
    "nearby_venues['venue.categories']=nearby_venues['venue.categories'].apply(lambda x:x[0]['name'])"
   ]
  },
  {
   "cell_type": "code",
   "execution_count": 106,
   "metadata": {},
   "outputs": [
    {
     "output_type": "execute_result",
     "data": {
      "text/plain": [
       "                         venue.name venue.categories  venue.location.lat  \\\n",
       "0                     Tandem Coffee      Coffee Shop           43.653559   \n",
       "1                  Roselle Desserts           Bakery           43.653447   \n",
       "2                    Impact Kitchen       Restaurant           43.656369   \n",
       "3  The Distillery Historic District    Historic Site           43.650244   \n",
       "4                   Corktown Common             Park           43.655618   \n",
       "\n",
       "   venue.location.lng  \n",
       "0          -79.361809  \n",
       "1          -79.362017  \n",
       "2          -79.356980  \n",
       "3          -79.359323  \n",
       "4          -79.356211  "
      ],
      "text/html": "<div>\n<style scoped>\n    .dataframe tbody tr th:only-of-type {\n        vertical-align: middle;\n    }\n\n    .dataframe tbody tr th {\n        vertical-align: top;\n    }\n\n    .dataframe thead th {\n        text-align: right;\n    }\n</style>\n<table border=\"1\" class=\"dataframe\">\n  <thead>\n    <tr style=\"text-align: right;\">\n      <th></th>\n      <th>venue.name</th>\n      <th>venue.categories</th>\n      <th>venue.location.lat</th>\n      <th>venue.location.lng</th>\n    </tr>\n  </thead>\n  <tbody>\n    <tr>\n      <th>0</th>\n      <td>Tandem Coffee</td>\n      <td>Coffee Shop</td>\n      <td>43.653559</td>\n      <td>-79.361809</td>\n    </tr>\n    <tr>\n      <th>1</th>\n      <td>Roselle Desserts</td>\n      <td>Bakery</td>\n      <td>43.653447</td>\n      <td>-79.362017</td>\n    </tr>\n    <tr>\n      <th>2</th>\n      <td>Impact Kitchen</td>\n      <td>Restaurant</td>\n      <td>43.656369</td>\n      <td>-79.356980</td>\n    </tr>\n    <tr>\n      <th>3</th>\n      <td>The Distillery Historic District</td>\n      <td>Historic Site</td>\n      <td>43.650244</td>\n      <td>-79.359323</td>\n    </tr>\n    <tr>\n      <th>4</th>\n      <td>Corktown Common</td>\n      <td>Park</td>\n      <td>43.655618</td>\n      <td>-79.356211</td>\n    </tr>\n  </tbody>\n</table>\n</div>"
     },
     "metadata": {},
     "execution_count": 106
    }
   ],
   "source": [
    "nearby_venues.head()"
   ]
  },
  {
   "cell_type": "code",
   "execution_count": 107,
   "metadata": {},
   "outputs": [],
   "source": [
    "nearby_venues.columns=[col.split('.')[-1] for col in nearby_venues.columns]"
   ]
  },
  {
   "cell_type": "code",
   "execution_count": 108,
   "metadata": {},
   "outputs": [
    {
     "output_type": "execute_result",
     "data": {
      "text/plain": [
       "                               name     categories        lat        lng\n",
       "0                     Tandem Coffee    Coffee Shop  43.653559 -79.361809\n",
       "1                  Roselle Desserts         Bakery  43.653447 -79.362017\n",
       "2                    Impact Kitchen     Restaurant  43.656369 -79.356980\n",
       "3  The Distillery Historic District  Historic Site  43.650244 -79.359323\n",
       "4                   Corktown Common           Park  43.655618 -79.356211"
      ],
      "text/html": "<div>\n<style scoped>\n    .dataframe tbody tr th:only-of-type {\n        vertical-align: middle;\n    }\n\n    .dataframe tbody tr th {\n        vertical-align: top;\n    }\n\n    .dataframe thead th {\n        text-align: right;\n    }\n</style>\n<table border=\"1\" class=\"dataframe\">\n  <thead>\n    <tr style=\"text-align: right;\">\n      <th></th>\n      <th>name</th>\n      <th>categories</th>\n      <th>lat</th>\n      <th>lng</th>\n    </tr>\n  </thead>\n  <tbody>\n    <tr>\n      <th>0</th>\n      <td>Tandem Coffee</td>\n      <td>Coffee Shop</td>\n      <td>43.653559</td>\n      <td>-79.361809</td>\n    </tr>\n    <tr>\n      <th>1</th>\n      <td>Roselle Desserts</td>\n      <td>Bakery</td>\n      <td>43.653447</td>\n      <td>-79.362017</td>\n    </tr>\n    <tr>\n      <th>2</th>\n      <td>Impact Kitchen</td>\n      <td>Restaurant</td>\n      <td>43.656369</td>\n      <td>-79.356980</td>\n    </tr>\n    <tr>\n      <th>3</th>\n      <td>The Distillery Historic District</td>\n      <td>Historic Site</td>\n      <td>43.650244</td>\n      <td>-79.359323</td>\n    </tr>\n    <tr>\n      <th>4</th>\n      <td>Corktown Common</td>\n      <td>Park</td>\n      <td>43.655618</td>\n      <td>-79.356211</td>\n    </tr>\n  </tbody>\n</table>\n</div>"
     },
     "metadata": {},
     "execution_count": 108
    }
   ],
   "source": [
    "nearby_venues"
   ]
  },
  {
   "cell_type": "code",
   "execution_count": 109,
   "metadata": {},
   "outputs": [
    {
     "output_type": "stream",
     "name": "stdout",
     "text": [
      "5 venues were returned by Foursquare.\n"
     ]
    }
   ],
   "source": [
    "print('{} venues were returned by Foursquare.'.format(nearby_venues.shape[0]))"
   ]
  },
  {
   "source": [],
   "cell_type": "markdown",
   "metadata": {}
  },
  {
   "source": [
    "## 2. Explore Neighborhoods in Manhattan\r\n",
    "\r\n",
    "Let's create a function to repeat the same process to all the neighborhoods in Manhattan"
   ],
   "cell_type": "markdown",
   "metadata": {}
  },
  {
   "cell_type": "code",
   "execution_count": 110,
   "metadata": {},
   "outputs": [
    {
     "output_type": "execute_result",
     "data": {
      "text/plain": [
       "  Postal Code           Borough                Neighborhood   Latitude  \\\n",
       "0         M5A  Downtown Toronto  Regent Park / Harbourfront  43.654260   \n",
       "1         M5B  Downtown Toronto    Garden District, Ryerson  43.657162   \n",
       "2         M5C  Downtown Toronto              St. James Town  43.651494   \n",
       "3         M4E      East Toronto                 The Beaches  43.676357   \n",
       "4         M5E  Downtown Toronto                 Berczy Park  43.644771   \n",
       "\n",
       "   Longitude  \n",
       "0 -79.360636  \n",
       "1 -79.378937  \n",
       "2 -79.375418  \n",
       "3 -79.293031  \n",
       "4 -79.373306  "
      ],
      "text/html": "<div>\n<style scoped>\n    .dataframe tbody tr th:only-of-type {\n        vertical-align: middle;\n    }\n\n    .dataframe tbody tr th {\n        vertical-align: top;\n    }\n\n    .dataframe thead th {\n        text-align: right;\n    }\n</style>\n<table border=\"1\" class=\"dataframe\">\n  <thead>\n    <tr style=\"text-align: right;\">\n      <th></th>\n      <th>Postal Code</th>\n      <th>Borough</th>\n      <th>Neighborhood</th>\n      <th>Latitude</th>\n      <th>Longitude</th>\n    </tr>\n  </thead>\n  <tbody>\n    <tr>\n      <th>0</th>\n      <td>M5A</td>\n      <td>Downtown Toronto</td>\n      <td>Regent Park / Harbourfront</td>\n      <td>43.654260</td>\n      <td>-79.360636</td>\n    </tr>\n    <tr>\n      <th>1</th>\n      <td>M5B</td>\n      <td>Downtown Toronto</td>\n      <td>Garden District, Ryerson</td>\n      <td>43.657162</td>\n      <td>-79.378937</td>\n    </tr>\n    <tr>\n      <th>2</th>\n      <td>M5C</td>\n      <td>Downtown Toronto</td>\n      <td>St. James Town</td>\n      <td>43.651494</td>\n      <td>-79.375418</td>\n    </tr>\n    <tr>\n      <th>3</th>\n      <td>M4E</td>\n      <td>East Toronto</td>\n      <td>The Beaches</td>\n      <td>43.676357</td>\n      <td>-79.293031</td>\n    </tr>\n    <tr>\n      <th>4</th>\n      <td>M5E</td>\n      <td>Downtown Toronto</td>\n      <td>Berczy Park</td>\n      <td>43.644771</td>\n      <td>-79.373306</td>\n    </tr>\n  </tbody>\n</table>\n</div>"
     },
     "metadata": {},
     "execution_count": 110
    }
   ],
   "source": [
    "toronto_data.head()"
   ]
  },
  {
   "cell_type": "code",
   "execution_count": 111,
   "metadata": {},
   "outputs": [],
   "source": [
    "def getNearbyVenues(names, latitudes, longitudes, radius=500):\n",
    "    \n",
    "    venues_list=[]\n",
    "    for name, lat, lng in zip(names, latitudes, longitudes):\n",
    "        print(name)\n",
    "            \n",
    "        # create the API request URL\n",
    "        url = 'https://api.foursquare.com/v2/venues/explore?&client_id={}&client_secret={}&v={}&ll={},{}&radius={}&limit={}'.format(\n",
    "            CLIENT_ID, \n",
    "            CLIENT_SECRET, \n",
    "            VERSION, \n",
    "            lat, \n",
    "            lng, \n",
    "            radius, \n",
    "            LIMIT)\n",
    "            \n",
    "        # make the GET request\n",
    "        results = requests.get(url).json()[\"response\"]['groups'][0]['items']\n",
    "        \n",
    "        # return only relevant information for each nearby venue\n",
    "        venues_list.append([(\n",
    "            name, \n",
    "            lat, \n",
    "            lng, \n",
    "            v['venue']['name'], \n",
    "            v['venue']['location']['lat'], \n",
    "            v['venue']['location']['lng'],  \n",
    "            v['venue']['categories'][0]['name']) for v in results])\n",
    "\n",
    "    nearby_venues = pd.DataFrame([item for venue_list in venues_list for item in venue_list])\n",
    "    nearby_venues.columns = ['Neighborhood', \n",
    "                  'Neighborhood Latitude', \n",
    "                  'Neighborhood Longitude', \n",
    "                  'Venue', \n",
    "                  'Venue Latitude', \n",
    "                  'Venue Longitude', \n",
    "                  'Venue Category']\n",
    "    \n",
    "    return(nearby_venues)"
   ]
  },
  {
   "cell_type": "code",
   "execution_count": 112,
   "metadata": {},
   "outputs": [
    {
     "output_type": "execute_result",
     "data": {
      "text/plain": [
       "39"
      ]
     },
     "metadata": {},
     "execution_count": 112
    }
   ],
   "source": [
    "len(toronto_data)"
   ]
  },
  {
   "cell_type": "code",
   "execution_count": 113,
   "metadata": {},
   "outputs": [
    {
     "output_type": "stream",
     "name": "stdout",
     "text": [
      "Regent Park / Harbourfront\n",
      "Garden District, Ryerson\n",
      "St. James Town\n",
      "The Beaches\n",
      "Berczy Park\n",
      "Central Bay Street\n",
      "Christie\n",
      "Richmond / Adelaide / King\n",
      "Dufferin / Dovercourt Village\n",
      "The Danforth  East\n",
      "Harbourfront East / Union Station / Toronto Islands\n",
      "Little Portugal / Trinity\n",
      "The Danforth West / Riverdale\n",
      "Toronto Dominion Centre / Design Exchange\n",
      "Brockton / Parkdale Village / Exhibition Place\n",
      "India Bazaar / The Beaches West\n",
      "Commerce Court / Victoria Hotel\n",
      "Studio District\n",
      "Lawrence Park\n",
      "Roselawn\n",
      "Davisville North\n",
      "Forest Hill North & West\n",
      "High Park / The Junction South\n",
      "North Toronto West\n",
      "The Annex / North Midtown / Yorkville\n",
      "Parkdale / Roncesvalles\n",
      "Davisville\n",
      "University of Toronto / Harbord\n",
      "Runnymede / Swansea\n",
      "Moore Park / Summerhill East\n",
      "Kensington Market / Chinatown / Grange Park\n",
      "Summerhill West / Rathnelly / South Hill / Forest Hill SE / Deer Park\n",
      "CN Tower / King and Spadina / Railway Lands / Harbourfront West / Bathurst Quay / South Niagara / Island airport\n",
      "Rosedale\n",
      "Enclave of M5E\n",
      "St. James Town / Cabbagetown\n",
      "First Canadian Place / Underground city\n",
      "Church and Wellesley\n",
      "Enclave of M4L\n"
     ]
    }
   ],
   "source": [
    "toronto_venues = getNearbyVenues(names=toronto_data['Neighborhood'],\n",
    "                                   latitudes=toronto_data['Latitude'],\n",
    "                                   longitudes=toronto_data['Longitude'])"
   ]
  },
  {
   "cell_type": "code",
   "execution_count": 114,
   "metadata": {},
   "outputs": [
    {
     "output_type": "execute_result",
     "data": {
      "text/plain": [
       "                 Neighborhood  Neighborhood Latitude  Neighborhood Longitude  \\\n",
       "0  Regent Park / Harbourfront               43.65426              -79.360636   \n",
       "1  Regent Park / Harbourfront               43.65426              -79.360636   \n",
       "2  Regent Park / Harbourfront               43.65426              -79.360636   \n",
       "3  Regent Park / Harbourfront               43.65426              -79.360636   \n",
       "4  Regent Park / Harbourfront               43.65426              -79.360636   \n",
       "\n",
       "                    Venue  Venue Latitude  Venue Longitude  \\\n",
       "0           Tandem Coffee       43.653559       -79.361809   \n",
       "1        Roselle Desserts       43.653447       -79.362017   \n",
       "2  Cooper Koo Family YMCA       43.653249       -79.358008   \n",
       "3     Body Blitz Spa East       43.654735       -79.359874   \n",
       "4          Impact Kitchen       43.656369       -79.356980   \n",
       "\n",
       "        Venue Category  \n",
       "0          Coffee Shop  \n",
       "1               Bakery  \n",
       "2  Distribution Center  \n",
       "3                  Spa  \n",
       "4           Restaurant  "
      ],
      "text/html": "<div>\n<style scoped>\n    .dataframe tbody tr th:only-of-type {\n        vertical-align: middle;\n    }\n\n    .dataframe tbody tr th {\n        vertical-align: top;\n    }\n\n    .dataframe thead th {\n        text-align: right;\n    }\n</style>\n<table border=\"1\" class=\"dataframe\">\n  <thead>\n    <tr style=\"text-align: right;\">\n      <th></th>\n      <th>Neighborhood</th>\n      <th>Neighborhood Latitude</th>\n      <th>Neighborhood Longitude</th>\n      <th>Venue</th>\n      <th>Venue Latitude</th>\n      <th>Venue Longitude</th>\n      <th>Venue Category</th>\n    </tr>\n  </thead>\n  <tbody>\n    <tr>\n      <th>0</th>\n      <td>Regent Park / Harbourfront</td>\n      <td>43.65426</td>\n      <td>-79.360636</td>\n      <td>Tandem Coffee</td>\n      <td>43.653559</td>\n      <td>-79.361809</td>\n      <td>Coffee Shop</td>\n    </tr>\n    <tr>\n      <th>1</th>\n      <td>Regent Park / Harbourfront</td>\n      <td>43.65426</td>\n      <td>-79.360636</td>\n      <td>Roselle Desserts</td>\n      <td>43.653447</td>\n      <td>-79.362017</td>\n      <td>Bakery</td>\n    </tr>\n    <tr>\n      <th>2</th>\n      <td>Regent Park / Harbourfront</td>\n      <td>43.65426</td>\n      <td>-79.360636</td>\n      <td>Cooper Koo Family YMCA</td>\n      <td>43.653249</td>\n      <td>-79.358008</td>\n      <td>Distribution Center</td>\n    </tr>\n    <tr>\n      <th>3</th>\n      <td>Regent Park / Harbourfront</td>\n      <td>43.65426</td>\n      <td>-79.360636</td>\n      <td>Body Blitz Spa East</td>\n      <td>43.654735</td>\n      <td>-79.359874</td>\n      <td>Spa</td>\n    </tr>\n    <tr>\n      <th>4</th>\n      <td>Regent Park / Harbourfront</td>\n      <td>43.65426</td>\n      <td>-79.360636</td>\n      <td>Impact Kitchen</td>\n      <td>43.656369</td>\n      <td>-79.356980</td>\n      <td>Restaurant</td>\n    </tr>\n  </tbody>\n</table>\n</div>"
     },
     "metadata": {},
     "execution_count": 114
    }
   ],
   "source": [
    "toronto_venues.head()"
   ]
  },
  {
   "cell_type": "code",
   "execution_count": 115,
   "metadata": {},
   "outputs": [
    {
     "output_type": "execute_result",
     "data": {
      "text/plain": [
       "Neighborhood\n",
       "Berczy Park                                                                                                          60\n",
       "Brockton / Parkdale Village / Exhibition Place                                                                       22\n",
       "CN Tower / King and Spadina / Railway Lands / Harbourfront West / Bathurst Quay / South Niagara / Island airport     17\n",
       "Central Bay Street                                                                                                   61\n",
       "Christie                                                                                                             16\n",
       "Church and Wellesley                                                                                                 77\n",
       "Commerce Court / Victoria Hotel                                                                                     100\n",
       "Davisville                                                                                                           34\n",
       "Davisville North                                                                                                      8\n",
       "Dufferin / Dovercourt Village                                                                                        16\n",
       "Enclave of M4L                                                                                                       18\n",
       "Enclave of M5E                                                                                                      100\n",
       "First Canadian Place / Underground city                                                                             100\n",
       "Forest Hill North & West                                                                                              4\n",
       "Garden District, Ryerson                                                                                            100\n",
       "Harbourfront East / Union Station / Toronto Islands                                                                 100\n",
       "High Park / The Junction South                                                                                       24\n",
       "India Bazaar / The Beaches West                                                                                      21\n",
       "Kensington Market / Chinatown / Grange Park                                                                          60\n",
       "Lawrence Park                                                                                                         4\n",
       "Little Portugal / Trinity                                                                                            43\n",
       "Moore Park / Summerhill East                                                                                          2\n",
       "North Toronto West                                                                                                   22\n",
       "Parkdale / Roncesvalles                                                                                              14\n",
       "Regent Park / Harbourfront                                                                                           45\n",
       "Richmond / Adelaide / King                                                                                           95\n",
       "Rosedale                                                                                                              4\n",
       "Roselawn                                                                                                              3\n",
       "Runnymede / Swansea                                                                                                  34\n",
       "St. James Town                                                                                                       82\n",
       "St. James Town / Cabbagetown                                                                                         45\n",
       "Studio District                                                                                                      39\n",
       "Summerhill West / Rathnelly / South Hill / Forest Hill SE / Deer Park                                                15\n",
       "The Annex / North Midtown / Yorkville                                                                                19\n",
       "The Beaches                                                                                                           4\n",
       "The Danforth  East                                                                                                    2\n",
       "The Danforth West / Riverdale                                                                                        41\n",
       "Toronto Dominion Centre / Design Exchange                                                                           100\n",
       "University of Toronto / Harbord                                                                                      32\n",
       "Name: Venue, dtype: int64"
      ]
     },
     "metadata": {},
     "execution_count": 115
    }
   ],
   "source": [
    "toronto_venues.groupby('Neighborhood')['Venue'].count()"
   ]
  },
  {
   "cell_type": "code",
   "execution_count": 116,
   "metadata": {},
   "outputs": [
    {
     "output_type": "stream",
     "name": "stdout",
     "text": [
      "There are 235 uniques categories.\n"
     ]
    }
   ],
   "source": [
    "#Number of unique categories\n",
    "print('There are {} uniques categories.'.format(len(toronto_venues['Venue Category'].unique())))\n"
   ]
  },
  {
   "source": [
    "## 3. Analyze Each Neighborhood"
   ],
   "cell_type": "markdown",
   "metadata": {}
  },
  {
   "cell_type": "code",
   "execution_count": 117,
   "metadata": {},
   "outputs": [],
   "source": [
    "# one hot encoding\n",
    "toronto_onehot=pd.get_dummies(toronto_venues['Venue Category'])"
   ]
  },
  {
   "cell_type": "code",
   "execution_count": 118,
   "metadata": {},
   "outputs": [
    {
     "output_type": "execute_result",
     "data": {
      "text/plain": [
       "                 Neighborhood  Adult Boutique  Afghan Restaurant  Airport  \\\n",
       "0  Regent Park / Harbourfront               0                  0        0   \n",
       "1  Regent Park / Harbourfront               0                  0        0   \n",
       "2  Regent Park / Harbourfront               0                  0        0   \n",
       "3  Regent Park / Harbourfront               0                  0        0   \n",
       "4  Regent Park / Harbourfront               0                  0        0   \n",
       "\n",
       "   Airport Food Court  Airport Gate  Airport Lounge  Airport Service  \\\n",
       "0                   0             0               0                0   \n",
       "1                   0             0               0                0   \n",
       "2                   0             0               0                0   \n",
       "3                   0             0               0                0   \n",
       "4                   0             0               0                0   \n",
       "\n",
       "   Airport Terminal  American Restaurant  Antique Shop  Aquarium  Art Gallery  \\\n",
       "0                 0                    0             0         0            0   \n",
       "1                 0                    0             0         0            0   \n",
       "2                 0                    0             0         0            0   \n",
       "3                 0                    0             0         0            0   \n",
       "4                 0                    0             0         0            0   \n",
       "\n",
       "   Art Museum  Arts & Crafts Store  Asian Restaurant  Athletics & Sports  \\\n",
       "0           0                    0                 0                   0   \n",
       "1           0                    0                 0                   0   \n",
       "2           0                    0                 0                   0   \n",
       "3           0                    0                 0                   0   \n",
       "4           0                    0                 0                   0   \n",
       "\n",
       "   Auto Workshop  BBQ Joint  Baby Store  Bagel Shop  Bakery  Bank  Bar  \\\n",
       "0              0          0           0           0       0     0    0   \n",
       "1              0          0           0           0       1     0    0   \n",
       "2              0          0           0           0       0     0    0   \n",
       "3              0          0           0           0       0     0    0   \n",
       "4              0          0           0           0       0     0    0   \n",
       "\n",
       "   Baseball Stadium  Basketball Stadium  Beach  Bed & Breakfast  Beer Bar  \\\n",
       "0                 0                   0      0                0         0   \n",
       "1                 0                   0      0                0         0   \n",
       "2                 0                   0      0                0         0   \n",
       "3                 0                   0      0                0         0   \n",
       "4                 0                   0      0                0         0   \n",
       "\n",
       "   Beer Store  Belgian Restaurant  Bistro  Boat or Ferry  Bookstore  Boutique  \\\n",
       "0           0                   0       0              0          0         0   \n",
       "1           0                   0       0              0          0         0   \n",
       "2           0                   0       0              0          0         0   \n",
       "3           0                   0       0              0          0         0   \n",
       "4           0                   0       0              0          0         0   \n",
       "\n",
       "   Brazilian Restaurant  Breakfast Spot  Brewery  Bubble Tea Shop  \\\n",
       "0                     0               0        0                0   \n",
       "1                     0               0        0                0   \n",
       "2                     0               0        0                0   \n",
       "3                     0               0        0                0   \n",
       "4                     0               0        0                0   \n",
       "\n",
       "   Burger Joint  Burrito Place  Bus Line  Butcher  Café  \\\n",
       "0             0              0         0        0     0   \n",
       "1             0              0         0        0     0   \n",
       "2             0              0         0        0     0   \n",
       "3             0              0         0        0     0   \n",
       "4             0              0         0        0     0   \n",
       "\n",
       "   Cajun / Creole Restaurant  Camera Store  Candy Store  Caribbean Restaurant  \\\n",
       "0                          0             0            0                     0   \n",
       "1                          0             0            0                     0   \n",
       "2                          0             0            0                     0   \n",
       "3                          0             0            0                     0   \n",
       "4                          0             0            0                     0   \n",
       "\n",
       "   Cheese Shop  Chinese Restaurant  Chocolate Shop  Church  Climbing Gym  \\\n",
       "0            0                   0               0       0             0   \n",
       "1            0                   0               0       0             0   \n",
       "2            0                   0               0       0             0   \n",
       "3            0                   0               0       0             0   \n",
       "4            0                   0               0       0             0   \n",
       "\n",
       "   Clothing Store  Cocktail Bar  Coffee Shop  College Arts Building  \\\n",
       "0               0             0            1                      0   \n",
       "1               0             0            0                      0   \n",
       "2               0             0            0                      0   \n",
       "3               0             0            0                      0   \n",
       "4               0             0            0                      0   \n",
       "\n",
       "   College Gym  College Rec Center  Colombian Restaurant  \\\n",
       "0            0                   0                     0   \n",
       "1            0                   0                     0   \n",
       "2            0                   0                     0   \n",
       "3            0                   0                     0   \n",
       "4            0                   0                     0   \n",
       "\n",
       "   Comfort Food Restaurant  Comic Shop  Concert Hall  Convenience Store  \\\n",
       "0                        0           0             0                  0   \n",
       "1                        0           0             0                  0   \n",
       "2                        0           0             0                  0   \n",
       "3                        0           0             0                  0   \n",
       "4                        0           0             0                  0   \n",
       "\n",
       "   Cosmetics Shop  Coworking Space  Creperie  Cuban Restaurant  Cupcake Shop  \\\n",
       "0               0                0         0                 0             0   \n",
       "1               0                0         0                 0             0   \n",
       "2               0                0         0                 0             0   \n",
       "3               0                0         0                 0             0   \n",
       "4               0                0         0                 0             0   \n",
       "\n",
       "   Dance Studio  Deli / Bodega  Department Store  Dessert Shop  Diner  \\\n",
       "0             0              0                 0             0      0   \n",
       "1             0              0                 0             0      0   \n",
       "2             0              0                 0             0      0   \n",
       "3             0              0                 0             0      0   \n",
       "4             0              0                 0             0      0   \n",
       "\n",
       "   Discount Store  Distribution Center  Dog Run  Doner Restaurant  Donut Shop  \\\n",
       "0               0                    0        0                 0           0   \n",
       "1               0                    0        0                 0           0   \n",
       "2               0                    1        0                 0           0   \n",
       "3               0                    0        0                 0           0   \n",
       "4               0                    0        0                 0           0   \n",
       "\n",
       "   Dumpling Restaurant  Eastern European Restaurant  Electronics Store  \\\n",
       "0                    0                            0                  0   \n",
       "1                    0                            0                  0   \n",
       "2                    0                            0                  0   \n",
       "3                    0                            0                  0   \n",
       "4                    0                            0                  0   \n",
       "\n",
       "   Escape Room  Ethiopian Restaurant  Event Space  Falafel Restaurant  \\\n",
       "0            0                     0            0                   0   \n",
       "1            0                     0            0                   0   \n",
       "2            0                     0            0                   0   \n",
       "3            0                     0            0                   0   \n",
       "4            0                     0            0                   0   \n",
       "\n",
       "   Farmers Market  Fast Food Restaurant  Filipino Restaurant  \\\n",
       "0               0                     0                    0   \n",
       "1               0                     0                    0   \n",
       "2               0                     0                    0   \n",
       "3               0                     0                    0   \n",
       "4               0                     0                    0   \n",
       "\n",
       "   Fish & Chips Shop  Fish Market  Flea Market  Flower Shop  \\\n",
       "0                  0            0            0            0   \n",
       "1                  0            0            0            0   \n",
       "2                  0            0            0            0   \n",
       "3                  0            0            0            0   \n",
       "4                  0            0            0            0   \n",
       "\n",
       "   Food & Drink Shop  Food Court  Food Truck  Fountain  French Restaurant  \\\n",
       "0                  0           0           0         0                  0   \n",
       "1                  0           0           0         0                  0   \n",
       "2                  0           0           0         0                  0   \n",
       "3                  0           0           0         0                  0   \n",
       "4                  0           0           0         0                  0   \n",
       "\n",
       "   Fried Chicken Joint  Frozen Yogurt Shop  Fruit & Vegetable Store  \\\n",
       "0                    0                   0                        0   \n",
       "1                    0                   0                        0   \n",
       "2                    0                   0                        0   \n",
       "3                    0                   0                        0   \n",
       "4                    0                   0                        0   \n",
       "\n",
       "   Furniture / Home Store  Gaming Cafe  Garden  Garden Center  Gas Station  \\\n",
       "0                       0            0       0              0            0   \n",
       "1                       0            0       0              0            0   \n",
       "2                       0            0       0              0            0   \n",
       "3                       0            0       0              0            0   \n",
       "4                       0            0       0              0            0   \n",
       "\n",
       "   Gastropub  Gay Bar  General Entertainment  General Travel  \\\n",
       "0          0        0                      0               0   \n",
       "1          0        0                      0               0   \n",
       "2          0        0                      0               0   \n",
       "3          0        0                      0               0   \n",
       "4          0        0                      0               0   \n",
       "\n",
       "   German Restaurant  Gift Shop  Gluten-free Restaurant  Gourmet Shop  \\\n",
       "0                  0          0                       0             0   \n",
       "1                  0          0                       0             0   \n",
       "2                  0          0                       0             0   \n",
       "3                  0          0                       0             0   \n",
       "4                  0          0                       0             0   \n",
       "\n",
       "   Greek Restaurant  Grocery Store  Gym  Gym / Fitness Center  Gym Pool  \\\n",
       "0                 0              0    0                     0         0   \n",
       "1                 0              0    0                     0         0   \n",
       "2                 0              0    0                     0         0   \n",
       "3                 0              0    0                     0         0   \n",
       "4                 0              0    0                     0         0   \n",
       "\n",
       "   Harbor / Marina  Health & Beauty Service  Health Food Store  Historic Site  \\\n",
       "0                0                        0                  0              0   \n",
       "1                0                        0                  0              0   \n",
       "2                0                        0                  0              0   \n",
       "3                0                        0                  0              0   \n",
       "4                0                        0                  0              0   \n",
       "\n",
       "   History Museum  Home Service  Hookah Bar  Hospital  Hostel  Hotel  \\\n",
       "0               0             0           0         0       0      0   \n",
       "1               0             0           0         0       0      0   \n",
       "2               0             0           0         0       0      0   \n",
       "3               0             0           0         0       0      0   \n",
       "4               0             0           0         0       0      0   \n",
       "\n",
       "   Hotel Bar  IT Services  Ice Cream Shop  Indian Restaurant  \\\n",
       "0          0            0               0                  0   \n",
       "1          0            0               0                  0   \n",
       "2          0            0               0                  0   \n",
       "3          0            0               0                  0   \n",
       "4          0            0               0                  0   \n",
       "\n",
       "   Indie Movie Theater  Intersection  Irish Pub  Italian Restaurant  \\\n",
       "0                    0             0          0                   0   \n",
       "1                    0             0          0                   0   \n",
       "2                    0             0          0                   0   \n",
       "3                    0             0          0                   0   \n",
       "4                    0             0          0                   0   \n",
       "\n",
       "   Japanese Restaurant  Jazz Club  Jewelry Store  Juice Bar  \\\n",
       "0                    0          0              0          0   \n",
       "1                    0          0              0          0   \n",
       "2                    0          0              0          0   \n",
       "3                    0          0              0          0   \n",
       "4                    0          0              0          0   \n",
       "\n",
       "   Korean Restaurant  Lake  Latin American Restaurant  Light Rail Station  \\\n",
       "0                  0     0                          0                   0   \n",
       "1                  0     0                          0                   0   \n",
       "2                  0     0                          0                   0   \n",
       "3                  0     0                          0                   0   \n",
       "4                  0     0                          0                   0   \n",
       "\n",
       "   Lingerie Store  Liquor Store  Lounge  Market  Martial Arts School  \\\n",
       "0               0             0       0       0                    0   \n",
       "1               0             0       0       0                    0   \n",
       "2               0             0       0       0                    0   \n",
       "3               0             0       0       0                    0   \n",
       "4               0             0       0       0                    0   \n",
       "\n",
       "   Mediterranean Restaurant  Men's Store  Mexican Restaurant  \\\n",
       "0                         0            0                   0   \n",
       "1                         0            0                   0   \n",
       "2                         0            0                   0   \n",
       "3                         0            0                   0   \n",
       "4                         0            0                   0   \n",
       "\n",
       "   Middle Eastern Restaurant  Miscellaneous Shop  Modern European Restaurant  \\\n",
       "0                          0                   0                           0   \n",
       "1                          0                   0                           0   \n",
       "2                          0                   0                           0   \n",
       "3                          0                   0                           0   \n",
       "4                          0                   0                           0   \n",
       "\n",
       "   Molecular Gastronomy Restaurant  Monument / Landmark  Moroccan Restaurant  \\\n",
       "0                                0                    0                    0   \n",
       "1                                0                    0                    0   \n",
       "2                                0                    0                    0   \n",
       "3                                0                    0                    0   \n",
       "4                                0                    0                    0   \n",
       "\n",
       "   Movie Theater  Museum  Music Store  Music Venue  New American Restaurant  \\\n",
       "0              0       0            0            0                        0   \n",
       "1              0       0            0            0                        0   \n",
       "2              0       0            0            0                        0   \n",
       "3              0       0            0            0                        0   \n",
       "4              0       0            0            0                        0   \n",
       "\n",
       "   Nightclub  Noodle House  Office  Opera House  Optical Shop  \\\n",
       "0          0             0       0            0             0   \n",
       "1          0             0       0            0             0   \n",
       "2          0             0       0            0             0   \n",
       "3          0             0       0            0             0   \n",
       "4          0             0       0            0             0   \n",
       "\n",
       "   Organic Grocery  Other Great Outdoors  Outdoor Sculpture  Park  \\\n",
       "0                0                     0                  0     0   \n",
       "1                0                     0                  0     0   \n",
       "2                0                     0                  0     0   \n",
       "3                0                     0                  0     0   \n",
       "4                0                     0                  0     0   \n",
       "\n",
       "   Performing Arts Venue  Pet Store  Pharmacy  Pizza Place  Plane  Playground  \\\n",
       "0                      0          0         0            0      0           0   \n",
       "1                      0          0         0            0      0           0   \n",
       "2                      0          0         0            0      0           0   \n",
       "3                      0          0         0            0      0           0   \n",
       "4                      0          0         0            0      0           0   \n",
       "\n",
       "   Plaza  Poke Place  Portuguese Restaurant  Poutine Place  Pub  \\\n",
       "0      0           0                      0              0    0   \n",
       "1      0           0                      0              0    0   \n",
       "2      0           0                      0              0    0   \n",
       "3      0           0                      0              0    0   \n",
       "4      0           0                      0              0    0   \n",
       "\n",
       "   Ramen Restaurant  Record Shop  Recording Studio  Rental Car Location  \\\n",
       "0                 0            0                 0                    0   \n",
       "1                 0            0                 0                    0   \n",
       "2                 0            0                 0                    0   \n",
       "3                 0            0                 0                    0   \n",
       "4                 0            0                 0                    0   \n",
       "\n",
       "   Restaurant  Roof Deck  Sake Bar  Salad Place  Salon / Barbershop  \\\n",
       "0           0          0         0            0                   0   \n",
       "1           0          0         0            0                   0   \n",
       "2           0          0         0            0                   0   \n",
       "3           0          0         0            0                   0   \n",
       "4           1          0         0            0                   0   \n",
       "\n",
       "   Sandwich Place  Scenic Lookout  Sculpture Garden  Seafood Restaurant  \\\n",
       "0               0               0                 0                   0   \n",
       "1               0               0                 0                   0   \n",
       "2               0               0                 0                   0   \n",
       "3               0               0                 0                   0   \n",
       "4               0               0                 0                   0   \n",
       "\n",
       "   Shoe Store  Shopping Mall  Skate Park  Skating Rink  Smoke Shop  \\\n",
       "0           0              0           0             0           0   \n",
       "1           0              0           0             0           0   \n",
       "2           0              0           0             0           0   \n",
       "3           0              0           0             0           0   \n",
       "4           0              0           0             0           0   \n",
       "\n",
       "   Smoothie Shop  Snack Place  Soup Place  Spa  Speakeasy  \\\n",
       "0              0            0           0    0          0   \n",
       "1              0            0           0    0          0   \n",
       "2              0            0           0    0          0   \n",
       "3              0            0           0    1          0   \n",
       "4              0            0           0    0          0   \n",
       "\n",
       "   Sporting Goods Shop  Sports Bar  Stadium  Stationery Store  Steakhouse  \\\n",
       "0                    0           0        0                 0           0   \n",
       "1                    0           0        0                 0           0   \n",
       "2                    0           0        0                 0           0   \n",
       "3                    0           0        0                 0           0   \n",
       "4                    0           0        0                 0           0   \n",
       "\n",
       "   Strip Club  Supermarket  Sushi Restaurant  Swim School  Taco Place  \\\n",
       "0           0            0                 0            0           0   \n",
       "1           0            0                 0            0           0   \n",
       "2           0            0                 0            0           0   \n",
       "3           0            0                 0            0           0   \n",
       "4           0            0                 0            0           0   \n",
       "\n",
       "   Tailor Shop  Taiwanese Restaurant  Tanning Salon  Tea Room  Tennis Court  \\\n",
       "0            0                     0              0         0             0   \n",
       "1            0                     0              0         0             0   \n",
       "2            0                     0              0         0             0   \n",
       "3            0                     0              0         0             0   \n",
       "4            0                     0              0         0             0   \n",
       "\n",
       "   Thai Restaurant  Theater  Theme Restaurant  Tibetan Restaurant  \\\n",
       "0                0        0                 0                   0   \n",
       "1                0        0                 0                   0   \n",
       "2                0        0                 0                   0   \n",
       "3                0        0                 0                   0   \n",
       "4                0        0                 0                   0   \n",
       "\n",
       "   Toy / Game Store  Trail  Train Station  Vegetarian / Vegan Restaurant  \\\n",
       "0                 0      0              0                              0   \n",
       "1                 0      0              0                              0   \n",
       "2                 0      0              0                              0   \n",
       "3                 0      0              0                              0   \n",
       "4                 0      0              0                              0   \n",
       "\n",
       "   Video Game Store  Vietnamese Restaurant  Wine Bar  Wine Shop  Yoga Studio  \n",
       "0                 0                      0         0          0            0  \n",
       "1                 0                      0         0          0            0  \n",
       "2                 0                      0         0          0            0  \n",
       "3                 0                      0         0          0            0  \n",
       "4                 0                      0         0          0            0  "
      ],
      "text/html": "<div>\n<style scoped>\n    .dataframe tbody tr th:only-of-type {\n        vertical-align: middle;\n    }\n\n    .dataframe tbody tr th {\n        vertical-align: top;\n    }\n\n    .dataframe thead th {\n        text-align: right;\n    }\n</style>\n<table border=\"1\" class=\"dataframe\">\n  <thead>\n    <tr style=\"text-align: right;\">\n      <th></th>\n      <th>Neighborhood</th>\n      <th>Adult Boutique</th>\n      <th>Afghan Restaurant</th>\n      <th>Airport</th>\n      <th>Airport Food Court</th>\n      <th>Airport Gate</th>\n      <th>Airport Lounge</th>\n      <th>Airport Service</th>\n      <th>Airport Terminal</th>\n      <th>American Restaurant</th>\n      <th>Antique Shop</th>\n      <th>Aquarium</th>\n      <th>Art Gallery</th>\n      <th>Art Museum</th>\n      <th>Arts &amp; Crafts Store</th>\n      <th>Asian Restaurant</th>\n      <th>Athletics &amp; Sports</th>\n      <th>Auto Workshop</th>\n      <th>BBQ Joint</th>\n      <th>Baby Store</th>\n      <th>Bagel Shop</th>\n      <th>Bakery</th>\n      <th>Bank</th>\n      <th>Bar</th>\n      <th>Baseball Stadium</th>\n      <th>Basketball Stadium</th>\n      <th>Beach</th>\n      <th>Bed &amp; Breakfast</th>\n      <th>Beer Bar</th>\n      <th>Beer Store</th>\n      <th>Belgian Restaurant</th>\n      <th>Bistro</th>\n      <th>Boat or Ferry</th>\n      <th>Bookstore</th>\n      <th>Boutique</th>\n      <th>Brazilian Restaurant</th>\n      <th>Breakfast Spot</th>\n      <th>Brewery</th>\n      <th>Bubble Tea Shop</th>\n      <th>Burger Joint</th>\n      <th>Burrito Place</th>\n      <th>Bus Line</th>\n      <th>Butcher</th>\n      <th>Café</th>\n      <th>Cajun / Creole Restaurant</th>\n      <th>Camera Store</th>\n      <th>Candy Store</th>\n      <th>Caribbean Restaurant</th>\n      <th>Cheese Shop</th>\n      <th>Chinese Restaurant</th>\n      <th>Chocolate Shop</th>\n      <th>Church</th>\n      <th>Climbing Gym</th>\n      <th>Clothing Store</th>\n      <th>Cocktail Bar</th>\n      <th>Coffee Shop</th>\n      <th>College Arts Building</th>\n      <th>College Gym</th>\n      <th>College Rec Center</th>\n      <th>Colombian Restaurant</th>\n      <th>Comfort Food Restaurant</th>\n      <th>Comic Shop</th>\n      <th>Concert Hall</th>\n      <th>Convenience Store</th>\n      <th>Cosmetics Shop</th>\n      <th>Coworking Space</th>\n      <th>Creperie</th>\n      <th>Cuban Restaurant</th>\n      <th>Cupcake Shop</th>\n      <th>Dance Studio</th>\n      <th>Deli / Bodega</th>\n      <th>Department Store</th>\n      <th>Dessert Shop</th>\n      <th>Diner</th>\n      <th>Discount Store</th>\n      <th>Distribution Center</th>\n      <th>Dog Run</th>\n      <th>Doner Restaurant</th>\n      <th>Donut Shop</th>\n      <th>Dumpling Restaurant</th>\n      <th>Eastern European Restaurant</th>\n      <th>Electronics Store</th>\n      <th>Escape Room</th>\n      <th>Ethiopian Restaurant</th>\n      <th>Event Space</th>\n      <th>Falafel Restaurant</th>\n      <th>Farmers Market</th>\n      <th>Fast Food Restaurant</th>\n      <th>Filipino Restaurant</th>\n      <th>Fish &amp; Chips Shop</th>\n      <th>Fish Market</th>\n      <th>Flea Market</th>\n      <th>Flower Shop</th>\n      <th>Food &amp; Drink Shop</th>\n      <th>Food Court</th>\n      <th>Food Truck</th>\n      <th>Fountain</th>\n      <th>French Restaurant</th>\n      <th>Fried Chicken Joint</th>\n      <th>Frozen Yogurt Shop</th>\n      <th>Fruit &amp; Vegetable Store</th>\n      <th>Furniture / Home Store</th>\n      <th>Gaming Cafe</th>\n      <th>Garden</th>\n      <th>Garden Center</th>\n      <th>Gas Station</th>\n      <th>Gastropub</th>\n      <th>Gay Bar</th>\n      <th>General Entertainment</th>\n      <th>General Travel</th>\n      <th>German Restaurant</th>\n      <th>Gift Shop</th>\n      <th>Gluten-free Restaurant</th>\n      <th>Gourmet Shop</th>\n      <th>Greek Restaurant</th>\n      <th>Grocery Store</th>\n      <th>Gym</th>\n      <th>Gym / Fitness Center</th>\n      <th>Gym Pool</th>\n      <th>Harbor / Marina</th>\n      <th>Health &amp; Beauty Service</th>\n      <th>Health Food Store</th>\n      <th>Historic Site</th>\n      <th>History Museum</th>\n      <th>Home Service</th>\n      <th>Hookah Bar</th>\n      <th>Hospital</th>\n      <th>Hostel</th>\n      <th>Hotel</th>\n      <th>Hotel Bar</th>\n      <th>IT Services</th>\n      <th>Ice Cream Shop</th>\n      <th>Indian Restaurant</th>\n      <th>Indie Movie Theater</th>\n      <th>Intersection</th>\n      <th>Irish Pub</th>\n      <th>Italian Restaurant</th>\n      <th>Japanese Restaurant</th>\n      <th>Jazz Club</th>\n      <th>Jewelry Store</th>\n      <th>Juice Bar</th>\n      <th>Korean Restaurant</th>\n      <th>Lake</th>\n      <th>Latin American Restaurant</th>\n      <th>Light Rail Station</th>\n      <th>Lingerie Store</th>\n      <th>Liquor Store</th>\n      <th>Lounge</th>\n      <th>Market</th>\n      <th>Martial Arts School</th>\n      <th>Mediterranean Restaurant</th>\n      <th>Men's Store</th>\n      <th>Mexican Restaurant</th>\n      <th>Middle Eastern Restaurant</th>\n      <th>Miscellaneous Shop</th>\n      <th>Modern European Restaurant</th>\n      <th>Molecular Gastronomy Restaurant</th>\n      <th>Monument / Landmark</th>\n      <th>Moroccan Restaurant</th>\n      <th>Movie Theater</th>\n      <th>Museum</th>\n      <th>Music Store</th>\n      <th>Music Venue</th>\n      <th>New American Restaurant</th>\n      <th>Nightclub</th>\n      <th>Noodle House</th>\n      <th>Office</th>\n      <th>Opera House</th>\n      <th>Optical Shop</th>\n      <th>Organic Grocery</th>\n      <th>Other Great Outdoors</th>\n      <th>Outdoor Sculpture</th>\n      <th>Park</th>\n      <th>Performing Arts Venue</th>\n      <th>Pet Store</th>\n      <th>Pharmacy</th>\n      <th>Pizza Place</th>\n      <th>Plane</th>\n      <th>Playground</th>\n      <th>Plaza</th>\n      <th>Poke Place</th>\n      <th>Portuguese Restaurant</th>\n      <th>Poutine Place</th>\n      <th>Pub</th>\n      <th>Ramen Restaurant</th>\n      <th>Record Shop</th>\n      <th>Recording Studio</th>\n      <th>Rental Car Location</th>\n      <th>Restaurant</th>\n      <th>Roof Deck</th>\n      <th>Sake Bar</th>\n      <th>Salad Place</th>\n      <th>Salon / Barbershop</th>\n      <th>Sandwich Place</th>\n      <th>Scenic Lookout</th>\n      <th>Sculpture Garden</th>\n      <th>Seafood Restaurant</th>\n      <th>Shoe Store</th>\n      <th>Shopping Mall</th>\n      <th>Skate Park</th>\n      <th>Skating Rink</th>\n      <th>Smoke Shop</th>\n      <th>Smoothie Shop</th>\n      <th>Snack Place</th>\n      <th>Soup Place</th>\n      <th>Spa</th>\n      <th>Speakeasy</th>\n      <th>Sporting Goods Shop</th>\n      <th>Sports Bar</th>\n      <th>Stadium</th>\n      <th>Stationery Store</th>\n      <th>Steakhouse</th>\n      <th>Strip Club</th>\n      <th>Supermarket</th>\n      <th>Sushi Restaurant</th>\n      <th>Swim School</th>\n      <th>Taco Place</th>\n      <th>Tailor Shop</th>\n      <th>Taiwanese Restaurant</th>\n      <th>Tanning Salon</th>\n      <th>Tea Room</th>\n      <th>Tennis Court</th>\n      <th>Thai Restaurant</th>\n      <th>Theater</th>\n      <th>Theme Restaurant</th>\n      <th>Tibetan Restaurant</th>\n      <th>Toy / Game Store</th>\n      <th>Trail</th>\n      <th>Train Station</th>\n      <th>Vegetarian / Vegan Restaurant</th>\n      <th>Video Game Store</th>\n      <th>Vietnamese Restaurant</th>\n      <th>Wine Bar</th>\n      <th>Wine Shop</th>\n      <th>Yoga Studio</th>\n    </tr>\n  </thead>\n  <tbody>\n    <tr>\n      <th>0</th>\n      <td>Regent Park / Harbourfront</td>\n      <td>0</td>\n      <td>0</td>\n      <td>0</td>\n      <td>0</td>\n      <td>0</td>\n      <td>0</td>\n      <td>0</td>\n      <td>0</td>\n      <td>0</td>\n      <td>0</td>\n      <td>0</td>\n      <td>0</td>\n      <td>0</td>\n      <td>0</td>\n      <td>0</td>\n      <td>0</td>\n      <td>0</td>\n      <td>0</td>\n      <td>0</td>\n      <td>0</td>\n      <td>0</td>\n      <td>0</td>\n      <td>0</td>\n      <td>0</td>\n      <td>0</td>\n      <td>0</td>\n      <td>0</td>\n      <td>0</td>\n      <td>0</td>\n      <td>0</td>\n      <td>0</td>\n      <td>0</td>\n      <td>0</td>\n      <td>0</td>\n      <td>0</td>\n      <td>0</td>\n      <td>0</td>\n      <td>0</td>\n      <td>0</td>\n      <td>0</td>\n      <td>0</td>\n      <td>0</td>\n      <td>0</td>\n      <td>0</td>\n      <td>0</td>\n      <td>0</td>\n      <td>0</td>\n      <td>0</td>\n      <td>0</td>\n      <td>0</td>\n      <td>0</td>\n      <td>0</td>\n      <td>0</td>\n      <td>0</td>\n      <td>1</td>\n      <td>0</td>\n      <td>0</td>\n      <td>0</td>\n      <td>0</td>\n      <td>0</td>\n      <td>0</td>\n      <td>0</td>\n      <td>0</td>\n      <td>0</td>\n      <td>0</td>\n      <td>0</td>\n      <td>0</td>\n      <td>0</td>\n      <td>0</td>\n      <td>0</td>\n      <td>0</td>\n      <td>0</td>\n      <td>0</td>\n      <td>0</td>\n      <td>0</td>\n      <td>0</td>\n      <td>0</td>\n      <td>0</td>\n      <td>0</td>\n      <td>0</td>\n      <td>0</td>\n      <td>0</td>\n      <td>0</td>\n      <td>0</td>\n      <td>0</td>\n      <td>0</td>\n      <td>0</td>\n      <td>0</td>\n      <td>0</td>\n      <td>0</td>\n      <td>0</td>\n      <td>0</td>\n      <td>0</td>\n      <td>0</td>\n      <td>0</td>\n      <td>0</td>\n      <td>0</td>\n      <td>0</td>\n      <td>0</td>\n      <td>0</td>\n      <td>0</td>\n      <td>0</td>\n      <td>0</td>\n      <td>0</td>\n      <td>0</td>\n      <td>0</td>\n      <td>0</td>\n      <td>0</td>\n      <td>0</td>\n      <td>0</td>\n      <td>0</td>\n      <td>0</td>\n      <td>0</td>\n      <td>0</td>\n      <td>0</td>\n      <td>0</td>\n      <td>0</td>\n      <td>0</td>\n      <td>0</td>\n      <td>0</td>\n      <td>0</td>\n      <td>0</td>\n      <td>0</td>\n      <td>0</td>\n      <td>0</td>\n      <td>0</td>\n      <td>0</td>\n      <td>0</td>\n      <td>0</td>\n      <td>0</td>\n      <td>0</td>\n      <td>0</td>\n      <td>0</td>\n      <td>0</td>\n      <td>0</td>\n      <td>0</td>\n      <td>0</td>\n      <td>0</td>\n      <td>0</td>\n      <td>0</td>\n      <td>0</td>\n      <td>0</td>\n      <td>0</td>\n      <td>0</td>\n      <td>0</td>\n      <td>0</td>\n      <td>0</td>\n      <td>0</td>\n      <td>0</td>\n      <td>0</td>\n      <td>0</td>\n      <td>0</td>\n      <td>0</td>\n      <td>0</td>\n      <td>0</td>\n      <td>0</td>\n      <td>0</td>\n      <td>0</td>\n      <td>0</td>\n      <td>0</td>\n      <td>0</td>\n      <td>0</td>\n      <td>0</td>\n      <td>0</td>\n      <td>0</td>\n      <td>0</td>\n      <td>0</td>\n      <td>0</td>\n      <td>0</td>\n      <td>0</td>\n      <td>0</td>\n      <td>0</td>\n      <td>0</td>\n      <td>0</td>\n      <td>0</td>\n      <td>0</td>\n      <td>0</td>\n      <td>0</td>\n      <td>0</td>\n      <td>0</td>\n      <td>0</td>\n      <td>0</td>\n      <td>0</td>\n      <td>0</td>\n      <td>0</td>\n      <td>0</td>\n      <td>0</td>\n      <td>0</td>\n      <td>0</td>\n      <td>0</td>\n      <td>0</td>\n      <td>0</td>\n      <td>0</td>\n      <td>0</td>\n      <td>0</td>\n      <td>0</td>\n      <td>0</td>\n      <td>0</td>\n      <td>0</td>\n      <td>0</td>\n      <td>0</td>\n      <td>0</td>\n      <td>0</td>\n      <td>0</td>\n      <td>0</td>\n      <td>0</td>\n      <td>0</td>\n      <td>0</td>\n      <td>0</td>\n      <td>0</td>\n      <td>0</td>\n      <td>0</td>\n      <td>0</td>\n      <td>0</td>\n      <td>0</td>\n      <td>0</td>\n      <td>0</td>\n      <td>0</td>\n      <td>0</td>\n      <td>0</td>\n      <td>0</td>\n      <td>0</td>\n      <td>0</td>\n      <td>0</td>\n      <td>0</td>\n      <td>0</td>\n      <td>0</td>\n      <td>0</td>\n      <td>0</td>\n      <td>0</td>\n      <td>0</td>\n      <td>0</td>\n      <td>0</td>\n      <td>0</td>\n    </tr>\n    <tr>\n      <th>1</th>\n      <td>Regent Park / Harbourfront</td>\n      <td>0</td>\n      <td>0</td>\n      <td>0</td>\n      <td>0</td>\n      <td>0</td>\n      <td>0</td>\n      <td>0</td>\n      <td>0</td>\n      <td>0</td>\n      <td>0</td>\n      <td>0</td>\n      <td>0</td>\n      <td>0</td>\n      <td>0</td>\n      <td>0</td>\n      <td>0</td>\n      <td>0</td>\n      <td>0</td>\n      <td>0</td>\n      <td>0</td>\n      <td>1</td>\n      <td>0</td>\n      <td>0</td>\n      <td>0</td>\n      <td>0</td>\n      <td>0</td>\n      <td>0</td>\n      <td>0</td>\n      <td>0</td>\n      <td>0</td>\n      <td>0</td>\n      <td>0</td>\n      <td>0</td>\n      <td>0</td>\n      <td>0</td>\n      <td>0</td>\n      <td>0</td>\n      <td>0</td>\n      <td>0</td>\n      <td>0</td>\n      <td>0</td>\n      <td>0</td>\n      <td>0</td>\n      <td>0</td>\n      <td>0</td>\n      <td>0</td>\n      <td>0</td>\n      <td>0</td>\n      <td>0</td>\n      <td>0</td>\n      <td>0</td>\n      <td>0</td>\n      <td>0</td>\n      <td>0</td>\n      <td>0</td>\n      <td>0</td>\n      <td>0</td>\n      <td>0</td>\n      <td>0</td>\n      <td>0</td>\n      <td>0</td>\n      <td>0</td>\n      <td>0</td>\n      <td>0</td>\n      <td>0</td>\n      <td>0</td>\n      <td>0</td>\n      <td>0</td>\n      <td>0</td>\n      <td>0</td>\n      <td>0</td>\n      <td>0</td>\n      <td>0</td>\n      <td>0</td>\n      <td>0</td>\n      <td>0</td>\n      <td>0</td>\n      <td>0</td>\n      <td>0</td>\n      <td>0</td>\n      <td>0</td>\n      <td>0</td>\n      <td>0</td>\n      <td>0</td>\n      <td>0</td>\n      <td>0</td>\n      <td>0</td>\n      <td>0</td>\n      <td>0</td>\n      <td>0</td>\n      <td>0</td>\n      <td>0</td>\n      <td>0</td>\n      <td>0</td>\n      <td>0</td>\n      <td>0</td>\n      <td>0</td>\n      <td>0</td>\n      <td>0</td>\n      <td>0</td>\n      <td>0</td>\n      <td>0</td>\n      <td>0</td>\n      <td>0</td>\n      <td>0</td>\n      <td>0</td>\n      <td>0</td>\n      <td>0</td>\n      <td>0</td>\n      <td>0</td>\n      <td>0</td>\n      <td>0</td>\n      <td>0</td>\n      <td>0</td>\n      <td>0</td>\n      <td>0</td>\n      <td>0</td>\n      <td>0</td>\n      <td>0</td>\n      <td>0</td>\n      <td>0</td>\n      <td>0</td>\n      <td>0</td>\n      <td>0</td>\n      <td>0</td>\n      <td>0</td>\n      <td>0</td>\n      <td>0</td>\n      <td>0</td>\n      <td>0</td>\n      <td>0</td>\n      <td>0</td>\n      <td>0</td>\n      <td>0</td>\n      <td>0</td>\n      <td>0</td>\n      <td>0</td>\n      <td>0</td>\n      <td>0</td>\n      <td>0</td>\n      <td>0</td>\n      <td>0</td>\n      <td>0</td>\n      <td>0</td>\n      <td>0</td>\n      <td>0</td>\n      <td>0</td>\n      <td>0</td>\n      <td>0</td>\n      <td>0</td>\n      <td>0</td>\n      <td>0</td>\n      <td>0</td>\n      <td>0</td>\n      <td>0</td>\n      <td>0</td>\n      <td>0</td>\n      <td>0</td>\n      <td>0</td>\n      <td>0</td>\n      <td>0</td>\n      <td>0</td>\n      <td>0</td>\n      <td>0</td>\n      <td>0</td>\n      <td>0</td>\n      <td>0</td>\n      <td>0</td>\n      <td>0</td>\n      <td>0</td>\n      <td>0</td>\n      <td>0</td>\n      <td>0</td>\n      <td>0</td>\n      <td>0</td>\n      <td>0</td>\n      <td>0</td>\n      <td>0</td>\n      <td>0</td>\n      <td>0</td>\n      <td>0</td>\n      <td>0</td>\n      <td>0</td>\n      <td>0</td>\n      <td>0</td>\n      <td>0</td>\n      <td>0</td>\n      <td>0</td>\n      <td>0</td>\n      <td>0</td>\n      <td>0</td>\n      <td>0</td>\n      <td>0</td>\n      <td>0</td>\n      <td>0</td>\n      <td>0</td>\n      <td>0</td>\n      <td>0</td>\n      <td>0</td>\n      <td>0</td>\n      <td>0</td>\n      <td>0</td>\n      <td>0</td>\n      <td>0</td>\n      <td>0</td>\n      <td>0</td>\n      <td>0</td>\n      <td>0</td>\n      <td>0</td>\n      <td>0</td>\n      <td>0</td>\n      <td>0</td>\n      <td>0</td>\n      <td>0</td>\n      <td>0</td>\n      <td>0</td>\n      <td>0</td>\n      <td>0</td>\n      <td>0</td>\n      <td>0</td>\n      <td>0</td>\n      <td>0</td>\n      <td>0</td>\n      <td>0</td>\n      <td>0</td>\n      <td>0</td>\n      <td>0</td>\n      <td>0</td>\n      <td>0</td>\n      <td>0</td>\n      <td>0</td>\n      <td>0</td>\n      <td>0</td>\n      <td>0</td>\n    </tr>\n    <tr>\n      <th>2</th>\n      <td>Regent Park / Harbourfront</td>\n      <td>0</td>\n      <td>0</td>\n      <td>0</td>\n      <td>0</td>\n      <td>0</td>\n      <td>0</td>\n      <td>0</td>\n      <td>0</td>\n      <td>0</td>\n      <td>0</td>\n      <td>0</td>\n      <td>0</td>\n      <td>0</td>\n      <td>0</td>\n      <td>0</td>\n      <td>0</td>\n      <td>0</td>\n      <td>0</td>\n      <td>0</td>\n      <td>0</td>\n      <td>0</td>\n      <td>0</td>\n      <td>0</td>\n      <td>0</td>\n      <td>0</td>\n      <td>0</td>\n      <td>0</td>\n      <td>0</td>\n      <td>0</td>\n      <td>0</td>\n      <td>0</td>\n      <td>0</td>\n      <td>0</td>\n      <td>0</td>\n      <td>0</td>\n      <td>0</td>\n      <td>0</td>\n      <td>0</td>\n      <td>0</td>\n      <td>0</td>\n      <td>0</td>\n      <td>0</td>\n      <td>0</td>\n      <td>0</td>\n      <td>0</td>\n      <td>0</td>\n      <td>0</td>\n      <td>0</td>\n      <td>0</td>\n      <td>0</td>\n      <td>0</td>\n      <td>0</td>\n      <td>0</td>\n      <td>0</td>\n      <td>0</td>\n      <td>0</td>\n      <td>0</td>\n      <td>0</td>\n      <td>0</td>\n      <td>0</td>\n      <td>0</td>\n      <td>0</td>\n      <td>0</td>\n      <td>0</td>\n      <td>0</td>\n      <td>0</td>\n      <td>0</td>\n      <td>0</td>\n      <td>0</td>\n      <td>0</td>\n      <td>0</td>\n      <td>0</td>\n      <td>0</td>\n      <td>0</td>\n      <td>1</td>\n      <td>0</td>\n      <td>0</td>\n      <td>0</td>\n      <td>0</td>\n      <td>0</td>\n      <td>0</td>\n      <td>0</td>\n      <td>0</td>\n      <td>0</td>\n      <td>0</td>\n      <td>0</td>\n      <td>0</td>\n      <td>0</td>\n      <td>0</td>\n      <td>0</td>\n      <td>0</td>\n      <td>0</td>\n      <td>0</td>\n      <td>0</td>\n      <td>0</td>\n      <td>0</td>\n      <td>0</td>\n      <td>0</td>\n      <td>0</td>\n      <td>0</td>\n      <td>0</td>\n      <td>0</td>\n      <td>0</td>\n      <td>0</td>\n      <td>0</td>\n      <td>0</td>\n      <td>0</td>\n      <td>0</td>\n      <td>0</td>\n      <td>0</td>\n      <td>0</td>\n      <td>0</td>\n      <td>0</td>\n      <td>0</td>\n      <td>0</td>\n      <td>0</td>\n      <td>0</td>\n      <td>0</td>\n      <td>0</td>\n      <td>0</td>\n      <td>0</td>\n      <td>0</td>\n      <td>0</td>\n      <td>0</td>\n      <td>0</td>\n      <td>0</td>\n      <td>0</td>\n      <td>0</td>\n      <td>0</td>\n      <td>0</td>\n      <td>0</td>\n      <td>0</td>\n      <td>0</td>\n      <td>0</td>\n      <td>0</td>\n      <td>0</td>\n      <td>0</td>\n      <td>0</td>\n      <td>0</td>\n      <td>0</td>\n      <td>0</td>\n      <td>0</td>\n      <td>0</td>\n      <td>0</td>\n      <td>0</td>\n      <td>0</td>\n      <td>0</td>\n      <td>0</td>\n      <td>0</td>\n      <td>0</td>\n      <td>0</td>\n      <td>0</td>\n      <td>0</td>\n      <td>0</td>\n      <td>0</td>\n      <td>0</td>\n      <td>0</td>\n      <td>0</td>\n      <td>0</td>\n      <td>0</td>\n      <td>0</td>\n      <td>0</td>\n      <td>0</td>\n      <td>0</td>\n      <td>0</td>\n      <td>0</td>\n      <td>0</td>\n      <td>0</td>\n      <td>0</td>\n      <td>0</td>\n      <td>0</td>\n      <td>0</td>\n      <td>0</td>\n      <td>0</td>\n      <td>0</td>\n      <td>0</td>\n      <td>0</td>\n      <td>0</td>\n      <td>0</td>\n      <td>0</td>\n      <td>0</td>\n      <td>0</td>\n      <td>0</td>\n      <td>0</td>\n      <td>0</td>\n      <td>0</td>\n      <td>0</td>\n      <td>0</td>\n      <td>0</td>\n      <td>0</td>\n      <td>0</td>\n      <td>0</td>\n      <td>0</td>\n      <td>0</td>\n      <td>0</td>\n      <td>0</td>\n      <td>0</td>\n      <td>0</td>\n      <td>0</td>\n      <td>0</td>\n      <td>0</td>\n      <td>0</td>\n      <td>0</td>\n      <td>0</td>\n      <td>0</td>\n      <td>0</td>\n      <td>0</td>\n      <td>0</td>\n      <td>0</td>\n      <td>0</td>\n      <td>0</td>\n      <td>0</td>\n      <td>0</td>\n      <td>0</td>\n      <td>0</td>\n      <td>0</td>\n      <td>0</td>\n      <td>0</td>\n      <td>0</td>\n      <td>0</td>\n      <td>0</td>\n      <td>0</td>\n      <td>0</td>\n      <td>0</td>\n      <td>0</td>\n      <td>0</td>\n      <td>0</td>\n      <td>0</td>\n      <td>0</td>\n      <td>0</td>\n      <td>0</td>\n      <td>0</td>\n      <td>0</td>\n      <td>0</td>\n    </tr>\n    <tr>\n      <th>3</th>\n      <td>Regent Park / Harbourfront</td>\n      <td>0</td>\n      <td>0</td>\n      <td>0</td>\n      <td>0</td>\n      <td>0</td>\n      <td>0</td>\n      <td>0</td>\n      <td>0</td>\n      <td>0</td>\n      <td>0</td>\n      <td>0</td>\n      <td>0</td>\n      <td>0</td>\n      <td>0</td>\n      <td>0</td>\n      <td>0</td>\n      <td>0</td>\n      <td>0</td>\n      <td>0</td>\n      <td>0</td>\n      <td>0</td>\n      <td>0</td>\n      <td>0</td>\n      <td>0</td>\n      <td>0</td>\n      <td>0</td>\n      <td>0</td>\n      <td>0</td>\n      <td>0</td>\n      <td>0</td>\n      <td>0</td>\n      <td>0</td>\n      <td>0</td>\n      <td>0</td>\n      <td>0</td>\n      <td>0</td>\n      <td>0</td>\n      <td>0</td>\n      <td>0</td>\n      <td>0</td>\n      <td>0</td>\n      <td>0</td>\n      <td>0</td>\n      <td>0</td>\n      <td>0</td>\n      <td>0</td>\n      <td>0</td>\n      <td>0</td>\n      <td>0</td>\n      <td>0</td>\n      <td>0</td>\n      <td>0</td>\n      <td>0</td>\n      <td>0</td>\n      <td>0</td>\n      <td>0</td>\n      <td>0</td>\n      <td>0</td>\n      <td>0</td>\n      <td>0</td>\n      <td>0</td>\n      <td>0</td>\n      <td>0</td>\n      <td>0</td>\n      <td>0</td>\n      <td>0</td>\n      <td>0</td>\n      <td>0</td>\n      <td>0</td>\n      <td>0</td>\n      <td>0</td>\n      <td>0</td>\n      <td>0</td>\n      <td>0</td>\n      <td>0</td>\n      <td>0</td>\n      <td>0</td>\n      <td>0</td>\n      <td>0</td>\n      <td>0</td>\n      <td>0</td>\n      <td>0</td>\n      <td>0</td>\n      <td>0</td>\n      <td>0</td>\n      <td>0</td>\n      <td>0</td>\n      <td>0</td>\n      <td>0</td>\n      <td>0</td>\n      <td>0</td>\n      <td>0</td>\n      <td>0</td>\n      <td>0</td>\n      <td>0</td>\n      <td>0</td>\n      <td>0</td>\n      <td>0</td>\n      <td>0</td>\n      <td>0</td>\n      <td>0</td>\n      <td>0</td>\n      <td>0</td>\n      <td>0</td>\n      <td>0</td>\n      <td>0</td>\n      <td>0</td>\n      <td>0</td>\n      <td>0</td>\n      <td>0</td>\n      <td>0</td>\n      <td>0</td>\n      <td>0</td>\n      <td>0</td>\n      <td>0</td>\n      <td>0</td>\n      <td>0</td>\n      <td>0</td>\n      <td>0</td>\n      <td>0</td>\n      <td>0</td>\n      <td>0</td>\n      <td>0</td>\n      <td>0</td>\n      <td>0</td>\n      <td>0</td>\n      <td>0</td>\n      <td>0</td>\n      <td>0</td>\n      <td>0</td>\n      <td>0</td>\n      <td>0</td>\n      <td>0</td>\n      <td>0</td>\n      <td>0</td>\n      <td>0</td>\n      <td>0</td>\n      <td>0</td>\n      <td>0</td>\n      <td>0</td>\n      <td>0</td>\n      <td>0</td>\n      <td>0</td>\n      <td>0</td>\n      <td>0</td>\n      <td>0</td>\n      <td>0</td>\n      <td>0</td>\n      <td>0</td>\n      <td>0</td>\n      <td>0</td>\n      <td>0</td>\n      <td>0</td>\n      <td>0</td>\n      <td>0</td>\n      <td>0</td>\n      <td>0</td>\n      <td>0</td>\n      <td>0</td>\n      <td>0</td>\n      <td>0</td>\n      <td>0</td>\n      <td>0</td>\n      <td>0</td>\n      <td>0</td>\n      <td>0</td>\n      <td>0</td>\n      <td>0</td>\n      <td>0</td>\n      <td>0</td>\n      <td>0</td>\n      <td>0</td>\n      <td>0</td>\n      <td>0</td>\n      <td>0</td>\n      <td>0</td>\n      <td>0</td>\n      <td>0</td>\n      <td>0</td>\n      <td>0</td>\n      <td>0</td>\n      <td>0</td>\n      <td>0</td>\n      <td>0</td>\n      <td>0</td>\n      <td>0</td>\n      <td>0</td>\n      <td>0</td>\n      <td>0</td>\n      <td>0</td>\n      <td>0</td>\n      <td>0</td>\n      <td>0</td>\n      <td>0</td>\n      <td>0</td>\n      <td>0</td>\n      <td>0</td>\n      <td>0</td>\n      <td>0</td>\n      <td>0</td>\n      <td>0</td>\n      <td>0</td>\n      <td>0</td>\n      <td>0</td>\n      <td>1</td>\n      <td>0</td>\n      <td>0</td>\n      <td>0</td>\n      <td>0</td>\n      <td>0</td>\n      <td>0</td>\n      <td>0</td>\n      <td>0</td>\n      <td>0</td>\n      <td>0</td>\n      <td>0</td>\n      <td>0</td>\n      <td>0</td>\n      <td>0</td>\n      <td>0</td>\n      <td>0</td>\n      <td>0</td>\n      <td>0</td>\n      <td>0</td>\n      <td>0</td>\n      <td>0</td>\n      <td>0</td>\n      <td>0</td>\n      <td>0</td>\n      <td>0</td>\n      <td>0</td>\n      <td>0</td>\n      <td>0</td>\n      <td>0</td>\n    </tr>\n    <tr>\n      <th>4</th>\n      <td>Regent Park / Harbourfront</td>\n      <td>0</td>\n      <td>0</td>\n      <td>0</td>\n      <td>0</td>\n      <td>0</td>\n      <td>0</td>\n      <td>0</td>\n      <td>0</td>\n      <td>0</td>\n      <td>0</td>\n      <td>0</td>\n      <td>0</td>\n      <td>0</td>\n      <td>0</td>\n      <td>0</td>\n      <td>0</td>\n      <td>0</td>\n      <td>0</td>\n      <td>0</td>\n      <td>0</td>\n      <td>0</td>\n      <td>0</td>\n      <td>0</td>\n      <td>0</td>\n      <td>0</td>\n      <td>0</td>\n      <td>0</td>\n      <td>0</td>\n      <td>0</td>\n      <td>0</td>\n      <td>0</td>\n      <td>0</td>\n      <td>0</td>\n      <td>0</td>\n      <td>0</td>\n      <td>0</td>\n      <td>0</td>\n      <td>0</td>\n      <td>0</td>\n      <td>0</td>\n      <td>0</td>\n      <td>0</td>\n      <td>0</td>\n      <td>0</td>\n      <td>0</td>\n      <td>0</td>\n      <td>0</td>\n      <td>0</td>\n      <td>0</td>\n      <td>0</td>\n      <td>0</td>\n      <td>0</td>\n      <td>0</td>\n      <td>0</td>\n      <td>0</td>\n      <td>0</td>\n      <td>0</td>\n      <td>0</td>\n      <td>0</td>\n      <td>0</td>\n      <td>0</td>\n      <td>0</td>\n      <td>0</td>\n      <td>0</td>\n      <td>0</td>\n      <td>0</td>\n      <td>0</td>\n      <td>0</td>\n      <td>0</td>\n      <td>0</td>\n      <td>0</td>\n      <td>0</td>\n      <td>0</td>\n      <td>0</td>\n      <td>0</td>\n      <td>0</td>\n      <td>0</td>\n      <td>0</td>\n      <td>0</td>\n      <td>0</td>\n      <td>0</td>\n      <td>0</td>\n      <td>0</td>\n      <td>0</td>\n      <td>0</td>\n      <td>0</td>\n      <td>0</td>\n      <td>0</td>\n      <td>0</td>\n      <td>0</td>\n      <td>0</td>\n      <td>0</td>\n      <td>0</td>\n      <td>0</td>\n      <td>0</td>\n      <td>0</td>\n      <td>0</td>\n      <td>0</td>\n      <td>0</td>\n      <td>0</td>\n      <td>0</td>\n      <td>0</td>\n      <td>0</td>\n      <td>0</td>\n      <td>0</td>\n      <td>0</td>\n      <td>0</td>\n      <td>0</td>\n      <td>0</td>\n      <td>0</td>\n      <td>0</td>\n      <td>0</td>\n      <td>0</td>\n      <td>0</td>\n      <td>0</td>\n      <td>0</td>\n      <td>0</td>\n      <td>0</td>\n      <td>0</td>\n      <td>0</td>\n      <td>0</td>\n      <td>0</td>\n      <td>0</td>\n      <td>0</td>\n      <td>0</td>\n      <td>0</td>\n      <td>0</td>\n      <td>0</td>\n      <td>0</td>\n      <td>0</td>\n      <td>0</td>\n      <td>0</td>\n      <td>0</td>\n      <td>0</td>\n      <td>0</td>\n      <td>0</td>\n      <td>0</td>\n      <td>0</td>\n      <td>0</td>\n      <td>0</td>\n      <td>0</td>\n      <td>0</td>\n      <td>0</td>\n      <td>0</td>\n      <td>0</td>\n      <td>0</td>\n      <td>0</td>\n      <td>0</td>\n      <td>0</td>\n      <td>0</td>\n      <td>0</td>\n      <td>0</td>\n      <td>0</td>\n      <td>0</td>\n      <td>0</td>\n      <td>0</td>\n      <td>0</td>\n      <td>0</td>\n      <td>0</td>\n      <td>0</td>\n      <td>0</td>\n      <td>0</td>\n      <td>0</td>\n      <td>0</td>\n      <td>0</td>\n      <td>0</td>\n      <td>0</td>\n      <td>0</td>\n      <td>0</td>\n      <td>0</td>\n      <td>0</td>\n      <td>0</td>\n      <td>0</td>\n      <td>0</td>\n      <td>0</td>\n      <td>0</td>\n      <td>0</td>\n      <td>0</td>\n      <td>0</td>\n      <td>0</td>\n      <td>0</td>\n      <td>0</td>\n      <td>0</td>\n      <td>0</td>\n      <td>0</td>\n      <td>0</td>\n      <td>0</td>\n      <td>1</td>\n      <td>0</td>\n      <td>0</td>\n      <td>0</td>\n      <td>0</td>\n      <td>0</td>\n      <td>0</td>\n      <td>0</td>\n      <td>0</td>\n      <td>0</td>\n      <td>0</td>\n      <td>0</td>\n      <td>0</td>\n      <td>0</td>\n      <td>0</td>\n      <td>0</td>\n      <td>0</td>\n      <td>0</td>\n      <td>0</td>\n      <td>0</td>\n      <td>0</td>\n      <td>0</td>\n      <td>0</td>\n      <td>0</td>\n      <td>0</td>\n      <td>0</td>\n      <td>0</td>\n      <td>0</td>\n      <td>0</td>\n      <td>0</td>\n      <td>0</td>\n      <td>0</td>\n      <td>0</td>\n      <td>0</td>\n      <td>0</td>\n      <td>0</td>\n      <td>0</td>\n      <td>0</td>\n      <td>0</td>\n      <td>0</td>\n      <td>0</td>\n      <td>0</td>\n      <td>0</td>\n      <td>0</td>\n      <td>0</td>\n      <td>0</td>\n      <td>0</td>\n    </tr>\n  </tbody>\n</table>\n</div>"
     },
     "metadata": {},
     "execution_count": 118
    }
   ],
   "source": [
    "# add neighborhood column back to dataframe\n",
    "toronto_onehot['Neighborhood'] = toronto_venues['Neighborhood'] \n",
    "\n",
    "# move neighborhood column to the first column\n",
    "fixed_columns = [toronto_onehot.columns[162]] + list(toronto_onehot.columns[:162])+list(toronto_onehot.columns[163:])\n",
    "toronto_onehot = toronto_onehot[fixed_columns]\n",
    "toronto_onehot.head()\n"
   ]
  },
  {
   "source": [
    "And let's examine the new dataframe size."
   ],
   "cell_type": "markdown",
   "metadata": {}
  },
  {
   "cell_type": "code",
   "execution_count": 119,
   "metadata": {},
   "outputs": [
    {
     "output_type": "execute_result",
     "data": {
      "text/plain": [
       "(1583, 235)"
      ]
     },
     "metadata": {},
     "execution_count": 119
    }
   ],
   "source": [
    "toronto_onehot.shape"
   ]
  },
  {
   "source": [
    "#### Next, let's group rows by neighborhood and by taking the mean of the frequency of occurrence of each category\n"
   ],
   "cell_type": "markdown",
   "metadata": {}
  },
  {
   "cell_type": "code",
   "execution_count": 120,
   "metadata": {},
   "outputs": [],
   "source": [
    "toronto_grouped=toronto_onehot.groupby('Neighborhood').mean().reset_index()"
   ]
  },
  {
   "source": [
    "#### Let's print each neighborhood along with the top 5 most common venues\n"
   ],
   "cell_type": "markdown",
   "metadata": {}
  },
  {
   "cell_type": "code",
   "execution_count": 121,
   "metadata": {},
   "outputs": [
    {
     "output_type": "stream",
     "name": "stdout",
     "text": [
      "----Berczy Park----\n",
      "          venue  freq\n",
      "0   Coffee Shop  0.10\n",
      "1  Cocktail Bar  0.07\n",
      "2        Bakery  0.05\n",
      "3    Restaurant  0.03\n",
      "4      Pharmacy  0.03\n",
      "\n",
      "\n",
      "----Brockton / Parkdale Village / Exhibition Place----\n",
      "                venue  freq\n",
      "0                Café  0.14\n",
      "1      Breakfast Spot  0.09\n",
      "2         Coffee Shop  0.09\n",
      "3       Burrito Place  0.05\n",
      "4  Italian Restaurant  0.05\n",
      "\n",
      "\n",
      "----CN Tower / King and Spadina / Railway Lands / Harbourfront West / Bathurst Quay / South Niagara / Island airport----\n",
      "              venue  freq\n",
      "0   Airport Service  0.18\n",
      "1    Airport Lounge  0.12\n",
      "2  Airport Terminal  0.12\n",
      "3          Boutique  0.06\n",
      "4   Harbor / Marina  0.06\n",
      "\n",
      "\n",
      "----Central Bay Street----\n",
      "                venue  freq\n",
      "0         Coffee Shop  0.20\n",
      "1      Sandwich Place  0.07\n",
      "2                Café  0.05\n",
      "3  Italian Restaurant  0.05\n",
      "4     Bubble Tea Shop  0.03\n",
      "\n",
      "\n",
      "----Christie----\n",
      "           venue  freq\n",
      "0  Grocery Store  0.25\n",
      "1           Café  0.19\n",
      "2           Park  0.12\n",
      "3    Coffee Shop  0.06\n",
      "4     Baby Store  0.06\n",
      "\n",
      "\n",
      "----Church and Wellesley----\n",
      "                 venue  freq\n",
      "0          Coffee Shop  0.08\n",
      "1  Japanese Restaurant  0.06\n",
      "2     Sushi Restaurant  0.06\n",
      "3              Gay Bar  0.04\n",
      "4           Restaurant  0.04\n",
      "\n",
      "\n",
      "----Commerce Court / Victoria Hotel----\n",
      "         venue  freq\n",
      "0  Coffee Shop  0.14\n",
      "1   Restaurant  0.07\n",
      "2        Hotel  0.06\n",
      "3         Café  0.06\n",
      "4          Gym  0.04\n",
      "\n",
      "\n",
      "----Davisville----\n",
      "                venue  freq\n",
      "0         Pizza Place  0.09\n",
      "1        Dessert Shop  0.09\n",
      "2      Sandwich Place  0.09\n",
      "3  Italian Restaurant  0.06\n",
      "4                Café  0.06\n",
      "\n",
      "\n",
      "----Davisville North----\n",
      "               venue  freq\n",
      "0       Dance Studio  0.12\n",
      "1     Breakfast Spot  0.12\n",
      "2   Department Store  0.12\n",
      "3              Hotel  0.12\n",
      "4  Food & Drink Shop  0.12\n",
      "\n",
      "\n",
      "----Dufferin / Dovercourt Village----\n",
      "                       venue  freq\n",
      "0                   Pharmacy  0.12\n",
      "1                     Bakery  0.12\n",
      "2           Recording Studio  0.06\n",
      "3  Middle Eastern Restaurant  0.06\n",
      "4               Liquor Store  0.06\n",
      "\n",
      "\n",
      "----Enclave of M4L----\n",
      "                  venue  freq\n",
      "0           Yoga Studio  0.06\n",
      "1                   Spa  0.06\n",
      "2  Gym / Fitness Center  0.06\n",
      "3         Garden Center  0.06\n",
      "4                Garden  0.06\n",
      "\n",
      "\n",
      "----Enclave of M5E----\n",
      "                 venue  freq\n",
      "0          Coffee Shop  0.12\n",
      "1   Seafood Restaurant  0.04\n",
      "2         Cocktail Bar  0.04\n",
      "3  Japanese Restaurant  0.03\n",
      "4               Bakery  0.03\n",
      "\n",
      "\n",
      "----First Canadian Place / Underground city----\n",
      "         venue  freq\n",
      "0  Coffee Shop  0.10\n",
      "1         Café  0.07\n",
      "2        Hotel  0.06\n",
      "3   Restaurant  0.04\n",
      "4          Gym  0.04\n",
      "\n",
      "\n",
      "----Forest Hill North & West----\n",
      "              venue  freq\n",
      "0             Trail  0.25\n",
      "1          Bus Line  0.25\n",
      "2     Jewelry Store  0.25\n",
      "3  Sushi Restaurant  0.25\n",
      "4    Adult Boutique  0.00\n",
      "\n",
      "\n",
      "----Garden District, Ryerson----\n",
      "                venue  freq\n",
      "0         Coffee Shop  0.10\n",
      "1      Clothing Store  0.09\n",
      "2                Café  0.03\n",
      "3               Hotel  0.03\n",
      "4  Italian Restaurant  0.03\n",
      "\n",
      "\n",
      "----Harbourfront East / Union Station / Toronto Islands----\n",
      "                venue  freq\n",
      "0         Coffee Shop  0.13\n",
      "1            Aquarium  0.05\n",
      "2               Hotel  0.04\n",
      "3                Café  0.04\n",
      "4  Italian Restaurant  0.03\n",
      "\n",
      "\n",
      "----High Park / The Junction South----\n",
      "                 venue  freq\n",
      "0   Mexican Restaurant  0.08\n",
      "1                 Café  0.08\n",
      "2      Thai Restaurant  0.08\n",
      "3  Fried Chicken Joint  0.04\n",
      "4  Arts & Crafts Store  0.04\n",
      "\n",
      "\n",
      "----India Bazaar / The Beaches West----\n",
      "                  venue  freq\n",
      "0  Fast Food Restaurant  0.10\n",
      "1                  Park  0.10\n",
      "2        Sandwich Place  0.10\n",
      "3             Pet Store  0.05\n",
      "4    Italian Restaurant  0.05\n",
      "\n",
      "\n",
      "----Kensington Market / Chinatown / Grange Park----\n",
      "                           venue  freq\n",
      "0                           Café  0.08\n",
      "1          Vietnamese Restaurant  0.05\n",
      "2  Vegetarian / Vegan Restaurant  0.05\n",
      "3                    Coffee Shop  0.05\n",
      "4                    Gaming Cafe  0.03\n",
      "\n",
      "\n",
      "----Lawrence Park----\n",
      "            venue  freq\n",
      "0            Park  0.50\n",
      "1     Swim School  0.25\n",
      "2        Bus Line  0.25\n",
      "3  Adult Boutique  0.00\n",
      "4          Museum  0.00\n",
      "\n",
      "\n",
      "----Little Portugal / Trinity----\n",
      "                           venue  freq\n",
      "0                            Bar  0.09\n",
      "1               Asian Restaurant  0.05\n",
      "2          Vietnamese Restaurant  0.05\n",
      "3  Vegetarian / Vegan Restaurant  0.05\n",
      "4                     Restaurant  0.05\n",
      "\n",
      "\n",
      "----Moore Park / Summerhill East----\n",
      "                 venue  freq\n",
      "0                 Park   0.5\n",
      "1         Tennis Court   0.5\n",
      "2       Adult Boutique   0.0\n",
      "3          Music Store   0.0\n",
      "4  Martial Arts School   0.0\n",
      "\n",
      "\n",
      "----North Toronto West----\n",
      "                 venue  freq\n",
      "0       Clothing Store  0.14\n",
      "1       Cosmetics Shop  0.09\n",
      "2          Coffee Shop  0.09\n",
      "3          Yoga Studio  0.05\n",
      "4  Sporting Goods Shop  0.05\n",
      "\n",
      "\n",
      "----Parkdale / Roncesvalles----\n",
      "            venue  freq\n",
      "0  Breakfast Spot  0.14\n",
      "1       Gift Shop  0.14\n",
      "2         Dog Run  0.07\n",
      "3     Coffee Shop  0.07\n",
      "4   Movie Theater  0.07\n",
      "\n",
      "\n",
      "----Regent Park / Harbourfront----\n",
      "            venue  freq\n",
      "0     Coffee Shop  0.18\n",
      "1          Bakery  0.07\n",
      "2            Park  0.07\n",
      "3  Breakfast Spot  0.04\n",
      "4            Café  0.04\n",
      "\n",
      "\n",
      "----Richmond / Adelaide / King----\n",
      "             venue  freq\n",
      "0      Coffee Shop  0.11\n",
      "1             Café  0.05\n",
      "2       Restaurant  0.04\n",
      "3  Thai Restaurant  0.04\n",
      "4            Hotel  0.03\n",
      "\n",
      "\n",
      "----Rosedale----\n",
      "            venue  freq\n",
      "0            Park  0.50\n",
      "1      Playground  0.25\n",
      "2           Trail  0.25\n",
      "3  Adult Boutique  0.00\n",
      "4          Museum  0.00\n",
      "\n",
      "\n",
      "----Roselawn----\n",
      "                      venue  freq\n",
      "0      Fast Food Restaurant  0.33\n",
      "1                    Garden  0.33\n",
      "2              Home Service  0.33\n",
      "3  Mediterranean Restaurant  0.00\n",
      "4               Men's Store  0.00\n",
      "\n",
      "\n",
      "----Runnymede / Swansea----\n",
      "                venue  freq\n",
      "0         Coffee Shop  0.09\n",
      "1         Pizza Place  0.09\n",
      "2                Café  0.09\n",
      "3  Italian Restaurant  0.06\n",
      "4    Sushi Restaurant  0.06\n",
      "\n",
      "\n",
      "----St. James Town----\n",
      "            venue  freq\n",
      "0     Coffee Shop  0.07\n",
      "1            Café  0.06\n",
      "2    Cocktail Bar  0.04\n",
      "3       Gastropub  0.04\n",
      "4  Lingerie Store  0.02\n",
      "\n",
      "\n",
      "----St. James Town / Cabbagetown----\n",
      "         venue  freq\n",
      "0         Café  0.07\n",
      "1  Pizza Place  0.07\n",
      "2  Coffee Shop  0.07\n",
      "3       Bakery  0.04\n",
      "4          Pub  0.04\n",
      "\n",
      "\n",
      "----Studio District----\n",
      "                 venue  freq\n",
      "0          Coffee Shop  0.08\n",
      "1          Music Store  0.05\n",
      "2  American Restaurant  0.05\n",
      "3               Bakery  0.05\n",
      "4              Brewery  0.05\n",
      "\n",
      "\n",
      "----Summerhill West / Rathnelly / South Hill / Forest Hill SE / Deer Park----\n",
      "                venue  freq\n",
      "0         Coffee Shop  0.13\n",
      "1        Liquor Store  0.07\n",
      "2  Light Rail Station  0.07\n",
      "3          Bagel Shop  0.07\n",
      "4    Sushi Restaurant  0.07\n",
      "\n",
      "\n",
      "----The Annex / North Midtown / Yorkville----\n",
      "            venue  freq\n",
      "0            Café  0.16\n",
      "1  Sandwich Place  0.16\n",
      "2     Coffee Shop  0.11\n",
      "3        Pharmacy  0.05\n",
      "4     Pizza Place  0.05\n",
      "\n",
      "\n",
      "----The Beaches----\n",
      "               venue  freq\n",
      "0  Health Food Store  0.25\n",
      "1              Trail  0.25\n",
      "2                Pub  0.25\n",
      "3     Adult Boutique  0.00\n",
      "4        Music Store  0.00\n",
      "\n",
      "\n",
      "----The Danforth  East----\n",
      "                      venue  freq\n",
      "0         Convenience Store   0.5\n",
      "1                      Park   0.5\n",
      "2            Adult Boutique   0.0\n",
      "3               Music Store   0.0\n",
      "4  Mediterranean Restaurant   0.0\n",
      "\n",
      "\n",
      "----The Danforth West / Riverdale----\n",
      "                    venue  freq\n",
      "0        Greek Restaurant  0.17\n",
      "1             Coffee Shop  0.10\n",
      "2      Italian Restaurant  0.07\n",
      "3  Furniture / Home Store  0.05\n",
      "4          Ice Cream Shop  0.05\n",
      "\n",
      "\n",
      "----Toronto Dominion Centre / Design Exchange----\n",
      "                venue  freq\n",
      "0         Coffee Shop  0.11\n",
      "1               Hotel  0.07\n",
      "2                Café  0.06\n",
      "3  Seafood Restaurant  0.03\n",
      "4  Italian Restaurant  0.03\n",
      "\n",
      "\n",
      "----University of Toronto / Harbord----\n",
      "                 venue  freq\n",
      "0                 Café  0.16\n",
      "1            Bookstore  0.09\n",
      "2                  Bar  0.06\n",
      "3  Japanese Restaurant  0.06\n",
      "4               Bakery  0.06\n",
      "\n",
      "\n"
     ]
    }
   ],
   "source": [
    "num_top_venues = 5\n",
    "\n",
    "for hood in toronto_grouped['Neighborhood']:\n",
    "    print(\"----\"+hood+\"----\")\n",
    "    temp = toronto_grouped[toronto_grouped['Neighborhood'] == hood].T.reset_index()\n",
    "    temp.columns = ['venue','freq']\n",
    "    temp = temp.iloc[1:]\n",
    "    temp['freq'] = temp['freq'].astype(float)\n",
    "    temp = temp.round({'freq': 2})\n",
    "    print(temp.sort_values('freq', ascending=False).reset_index(drop=True).head(num_top_venues))\n",
    "    print('\\n')"
   ]
  },
  {
   "cell_type": "code",
   "execution_count": 122,
   "metadata": {},
   "outputs": [],
   "source": [
    "def return_most_common_venues(row, num_top_venues):\n",
    "    row_categories = row.iloc[1:]\n",
    "    row_categories_sorted = row_categories.sort_values(ascending=False)\n",
    "    \n",
    "    return row_categories_sorted.index.values[0:num_top_venues]"
   ]
  },
  {
   "cell_type": "code",
   "execution_count": 123,
   "metadata": {},
   "outputs": [
    {
     "output_type": "execute_result",
     "data": {
      "text/plain": [
       "                                        Neighborhood 1st Most Common Venue  \\\n",
       "0                                        Berczy Park           Coffee Shop   \n",
       "1     Brockton / Parkdale Village / Exhibition Place                  Café   \n",
       "2  CN Tower / King and Spadina / Railway Lands / ...       Airport Service   \n",
       "3                                 Central Bay Street           Coffee Shop   \n",
       "4                                           Christie         Grocery Store   \n",
       "\n",
       "  2nd Most Common Venue 3rd Most Common Venue 4th Most Common Venue  \\\n",
       "0          Cocktail Bar                Bakery    Seafood Restaurant   \n",
       "1           Coffee Shop        Breakfast Spot             Pet Store   \n",
       "2        Airport Lounge      Airport Terminal         Boat or Ferry   \n",
       "3        Sandwich Place                  Café    Italian Restaurant   \n",
       "4                  Café                  Park             Nightclub   \n",
       "\n",
       "  5th Most Common Venue  6th Most Common Venue 7th Most Common Venue  \\\n",
       "0              Beer Bar         Farmers Market              Pharmacy   \n",
       "1                Bakery  Performing Arts Venue             Nightclub   \n",
       "2      Sculpture Garden                Airport    Airport Food Court   \n",
       "3           Salad Place            Pizza Place          Burger Joint   \n",
       "4    Italian Restaurant             Baby Store            Restaurant   \n",
       "\n",
       "  8th Most Common Venue 9th Most Common Venue 10th Most Common Venue  \n",
       "0           Cheese Shop            Restaurant              Jazz Club  \n",
       "1          Climbing Gym            Restaurant          Burrito Place  \n",
       "2          Airport Gate              Boutique        Harbor / Marina  \n",
       "3       Bubble Tea Shop   Japanese Restaurant             Poke Place  \n",
       "4           Candy Store    Athletics & Sports            Coffee Shop  "
      ],
      "text/html": "<div>\n<style scoped>\n    .dataframe tbody tr th:only-of-type {\n        vertical-align: middle;\n    }\n\n    .dataframe tbody tr th {\n        vertical-align: top;\n    }\n\n    .dataframe thead th {\n        text-align: right;\n    }\n</style>\n<table border=\"1\" class=\"dataframe\">\n  <thead>\n    <tr style=\"text-align: right;\">\n      <th></th>\n      <th>Neighborhood</th>\n      <th>1st Most Common Venue</th>\n      <th>2nd Most Common Venue</th>\n      <th>3rd Most Common Venue</th>\n      <th>4th Most Common Venue</th>\n      <th>5th Most Common Venue</th>\n      <th>6th Most Common Venue</th>\n      <th>7th Most Common Venue</th>\n      <th>8th Most Common Venue</th>\n      <th>9th Most Common Venue</th>\n      <th>10th Most Common Venue</th>\n    </tr>\n  </thead>\n  <tbody>\n    <tr>\n      <th>0</th>\n      <td>Berczy Park</td>\n      <td>Coffee Shop</td>\n      <td>Cocktail Bar</td>\n      <td>Bakery</td>\n      <td>Seafood Restaurant</td>\n      <td>Beer Bar</td>\n      <td>Farmers Market</td>\n      <td>Pharmacy</td>\n      <td>Cheese Shop</td>\n      <td>Restaurant</td>\n      <td>Jazz Club</td>\n    </tr>\n    <tr>\n      <th>1</th>\n      <td>Brockton / Parkdale Village / Exhibition Place</td>\n      <td>Café</td>\n      <td>Coffee Shop</td>\n      <td>Breakfast Spot</td>\n      <td>Pet Store</td>\n      <td>Bakery</td>\n      <td>Performing Arts Venue</td>\n      <td>Nightclub</td>\n      <td>Climbing Gym</td>\n      <td>Restaurant</td>\n      <td>Burrito Place</td>\n    </tr>\n    <tr>\n      <th>2</th>\n      <td>CN Tower / King and Spadina / Railway Lands / ...</td>\n      <td>Airport Service</td>\n      <td>Airport Lounge</td>\n      <td>Airport Terminal</td>\n      <td>Boat or Ferry</td>\n      <td>Sculpture Garden</td>\n      <td>Airport</td>\n      <td>Airport Food Court</td>\n      <td>Airport Gate</td>\n      <td>Boutique</td>\n      <td>Harbor / Marina</td>\n    </tr>\n    <tr>\n      <th>3</th>\n      <td>Central Bay Street</td>\n      <td>Coffee Shop</td>\n      <td>Sandwich Place</td>\n      <td>Café</td>\n      <td>Italian Restaurant</td>\n      <td>Salad Place</td>\n      <td>Pizza Place</td>\n      <td>Burger Joint</td>\n      <td>Bubble Tea Shop</td>\n      <td>Japanese Restaurant</td>\n      <td>Poke Place</td>\n    </tr>\n    <tr>\n      <th>4</th>\n      <td>Christie</td>\n      <td>Grocery Store</td>\n      <td>Café</td>\n      <td>Park</td>\n      <td>Nightclub</td>\n      <td>Italian Restaurant</td>\n      <td>Baby Store</td>\n      <td>Restaurant</td>\n      <td>Candy Store</td>\n      <td>Athletics &amp; Sports</td>\n      <td>Coffee Shop</td>\n    </tr>\n  </tbody>\n</table>\n</div>"
     },
     "metadata": {},
     "execution_count": 123
    }
   ],
   "source": [
    "num_top_venues = 10\n",
    "\n",
    "indicators = ['st', 'nd', 'rd']\n",
    "\n",
    "# create columns according to number of top venues\n",
    "columns = ['Neighborhood']\n",
    "for ind in np.arange(num_top_venues):\n",
    "    try:\n",
    "        columns.append('{}{} Most Common Venue'.format(ind+1, indicators[ind]))\n",
    "    except:\n",
    "        columns.append('{}th Most Common Venue'.format(ind+1))\n",
    "\n",
    "# create a new dataframe\n",
    "neighborhoods_venues_sorted = pd.DataFrame(columns=columns)\n",
    "neighborhoods_venues_sorted['Neighborhood'] = toronto_grouped['Neighborhood']\n",
    "\n",
    "for ind in np.arange(toronto_grouped.shape[0]):\n",
    "    neighborhoods_venues_sorted.iloc[ind, 1:] = return_most_common_venues(toronto_grouped.iloc[ind, :], num_top_venues)\n",
    "\n",
    "neighborhoods_venues_sorted.head()"
   ]
  },
  {
   "source": [
    "## 4. Cluster Neighborhoods Using K-Means"
   ],
   "cell_type": "markdown",
   "metadata": {}
  },
  {
   "cell_type": "code",
   "execution_count": 124,
   "metadata": {},
   "outputs": [
    {
     "output_type": "execute_result",
     "data": {
      "text/plain": [
       "array([0, 0, 0, 0, 0, 0, 0, 0, 0, 0])"
      ]
     },
     "metadata": {},
     "execution_count": 124
    }
   ],
   "source": [
    "# import k-means from clustering stage\n",
    "from sklearn.cluster import KMeans\n",
    "# set number of clusters\n",
    "kclusters = 5\n",
    "\n",
    "toronto_grouped_clustering = toronto_grouped.drop('Neighborhood', 1)\n",
    "\n",
    "# run k-means clustering\n",
    "kmeans = KMeans(n_clusters=kclusters, random_state=0).fit(toronto_grouped_clustering)\n",
    "\n",
    "# check cluster labels generated for each row in the dataframe\n",
    "kmeans.labels_[0:10] "
   ]
  },
  {
   "cell_type": "code",
   "execution_count": 125,
   "metadata": {},
   "outputs": [
    {
     "output_type": "execute_result",
     "data": {
      "text/plain": [
       "  Postal Code           Borough                Neighborhood   Latitude  \\\n",
       "0         M5A  Downtown Toronto  Regent Park / Harbourfront  43.654260   \n",
       "1         M5B  Downtown Toronto    Garden District, Ryerson  43.657162   \n",
       "2         M5C  Downtown Toronto              St. James Town  43.651494   \n",
       "3         M4E      East Toronto                 The Beaches  43.676357   \n",
       "4         M5E  Downtown Toronto                 Berczy Park  43.644771   \n",
       "\n",
       "   Longitude  Cluster Labels 1st Most Common Venue 2nd Most Common Venue  \\\n",
       "0 -79.360636               0           Coffee Shop                Bakery   \n",
       "1 -79.378937               0           Coffee Shop        Clothing Store   \n",
       "2 -79.375418               0           Coffee Shop                  Café   \n",
       "3 -79.293031               0     Health Food Store                 Trail   \n",
       "4 -79.373306               0           Coffee Shop          Cocktail Bar   \n",
       "\n",
       "  3rd Most Common Venue 4th Most Common Venue 5th Most Common Venue  \\\n",
       "0                  Park        Breakfast Spot               Theater   \n",
       "1    Italian Restaurant                  Café       Bubble Tea Shop   \n",
       "2             Gastropub          Cocktail Bar            Restaurant   \n",
       "3                   Pub           Yoga Studio            Donut Shop   \n",
       "4                Bakery    Seafood Restaurant              Beer Bar   \n",
       "\n",
       "       6th Most Common Venue 7th Most Common Venue 8th Most Common Venue  \\\n",
       "0                        Pub                  Café     French Restaurant   \n",
       "1  Middle Eastern Restaurant   Japanese Restaurant                 Hotel   \n",
       "2                        Gym        Lingerie Store        Farmers Market   \n",
       "3             Discount Store   Distribution Center               Dog Run   \n",
       "4             Farmers Market              Pharmacy           Cheese Shop   \n",
       "\n",
       "  9th Most Common Venue       10th Most Common Venue  \n",
       "0     Health Food Store                Historic Site  \n",
       "1        Cosmetics Shop             Ramen Restaurant  \n",
       "2    Seafood Restaurant          American Restaurant  \n",
       "3      Doner Restaurant  Eastern European Restaurant  \n",
       "4            Restaurant                    Jazz Club  "
      ],
      "text/html": "<div>\n<style scoped>\n    .dataframe tbody tr th:only-of-type {\n        vertical-align: middle;\n    }\n\n    .dataframe tbody tr th {\n        vertical-align: top;\n    }\n\n    .dataframe thead th {\n        text-align: right;\n    }\n</style>\n<table border=\"1\" class=\"dataframe\">\n  <thead>\n    <tr style=\"text-align: right;\">\n      <th></th>\n      <th>Postal Code</th>\n      <th>Borough</th>\n      <th>Neighborhood</th>\n      <th>Latitude</th>\n      <th>Longitude</th>\n      <th>Cluster Labels</th>\n      <th>1st Most Common Venue</th>\n      <th>2nd Most Common Venue</th>\n      <th>3rd Most Common Venue</th>\n      <th>4th Most Common Venue</th>\n      <th>5th Most Common Venue</th>\n      <th>6th Most Common Venue</th>\n      <th>7th Most Common Venue</th>\n      <th>8th Most Common Venue</th>\n      <th>9th Most Common Venue</th>\n      <th>10th Most Common Venue</th>\n    </tr>\n  </thead>\n  <tbody>\n    <tr>\n      <th>0</th>\n      <td>M5A</td>\n      <td>Downtown Toronto</td>\n      <td>Regent Park / Harbourfront</td>\n      <td>43.654260</td>\n      <td>-79.360636</td>\n      <td>0</td>\n      <td>Coffee Shop</td>\n      <td>Bakery</td>\n      <td>Park</td>\n      <td>Breakfast Spot</td>\n      <td>Theater</td>\n      <td>Pub</td>\n      <td>Café</td>\n      <td>French Restaurant</td>\n      <td>Health Food Store</td>\n      <td>Historic Site</td>\n    </tr>\n    <tr>\n      <th>1</th>\n      <td>M5B</td>\n      <td>Downtown Toronto</td>\n      <td>Garden District, Ryerson</td>\n      <td>43.657162</td>\n      <td>-79.378937</td>\n      <td>0</td>\n      <td>Coffee Shop</td>\n      <td>Clothing Store</td>\n      <td>Italian Restaurant</td>\n      <td>Café</td>\n      <td>Bubble Tea Shop</td>\n      <td>Middle Eastern Restaurant</td>\n      <td>Japanese Restaurant</td>\n      <td>Hotel</td>\n      <td>Cosmetics Shop</td>\n      <td>Ramen Restaurant</td>\n    </tr>\n    <tr>\n      <th>2</th>\n      <td>M5C</td>\n      <td>Downtown Toronto</td>\n      <td>St. James Town</td>\n      <td>43.651494</td>\n      <td>-79.375418</td>\n      <td>0</td>\n      <td>Coffee Shop</td>\n      <td>Café</td>\n      <td>Gastropub</td>\n      <td>Cocktail Bar</td>\n      <td>Restaurant</td>\n      <td>Gym</td>\n      <td>Lingerie Store</td>\n      <td>Farmers Market</td>\n      <td>Seafood Restaurant</td>\n      <td>American Restaurant</td>\n    </tr>\n    <tr>\n      <th>3</th>\n      <td>M4E</td>\n      <td>East Toronto</td>\n      <td>The Beaches</td>\n      <td>43.676357</td>\n      <td>-79.293031</td>\n      <td>0</td>\n      <td>Health Food Store</td>\n      <td>Trail</td>\n      <td>Pub</td>\n      <td>Yoga Studio</td>\n      <td>Donut Shop</td>\n      <td>Discount Store</td>\n      <td>Distribution Center</td>\n      <td>Dog Run</td>\n      <td>Doner Restaurant</td>\n      <td>Eastern European Restaurant</td>\n    </tr>\n    <tr>\n      <th>4</th>\n      <td>M5E</td>\n      <td>Downtown Toronto</td>\n      <td>Berczy Park</td>\n      <td>43.644771</td>\n      <td>-79.373306</td>\n      <td>0</td>\n      <td>Coffee Shop</td>\n      <td>Cocktail Bar</td>\n      <td>Bakery</td>\n      <td>Seafood Restaurant</td>\n      <td>Beer Bar</td>\n      <td>Farmers Market</td>\n      <td>Pharmacy</td>\n      <td>Cheese Shop</td>\n      <td>Restaurant</td>\n      <td>Jazz Club</td>\n    </tr>\n  </tbody>\n</table>\n</div>"
     },
     "metadata": {},
     "execution_count": 125
    }
   ],
   "source": [
    "# add clustering labels\n",
    "neighborhoods_venues_sorted.insert(0, 'Cluster Labels', kmeans.labels_)\n",
    "\n",
    "toronto_merged = toronto_data\n",
    "\n",
    "# merge manhattan_grouped with manhattan_data to add latitude/longitude for each neighborhood\n",
    "toronto_merged = toronto_merged.join(neighborhoods_venues_sorted.set_index('Neighborhood'), on='Neighborhood')\n",
    "\n",
    "toronto_merged.head() # check the last columns!"
   ]
  },
  {
   "cell_type": "code",
   "execution_count": 126,
   "metadata": {},
   "outputs": [
    {
     "output_type": "execute_result",
     "data": {
      "text/plain": [
       "0    33\n",
       "1     3\n",
       "4     1\n",
       "3     1\n",
       "2     1\n",
       "Name: Cluster Labels, dtype: int64"
      ]
     },
     "metadata": {},
     "execution_count": 126
    }
   ],
   "source": [
    "toronto_merged[\"Cluster Labels\"].value_counts()"
   ]
  },
  {
   "source": [],
   "cell_type": "markdown",
   "metadata": {}
  },
  {
   "source": [
    "Finally, let's visualize the resulting clusters"
   ],
   "cell_type": "markdown",
   "metadata": {}
  },
  {
   "cell_type": "code",
   "execution_count": 127,
   "metadata": {},
   "outputs": [
    {
     "output_type": "execute_result",
     "data": {
      "text/plain": [
       "<folium.folium.Map at 0x283906fab20>"
      ],
      "text/html": "<div style=\"width:100%;\"><div style=\"position:relative;width:100%;height:0;padding-bottom:60%;\"><span style=\"color:#565656\">Make this Notebook Trusted to load map: File -> Trust Notebook</span><iframe src=\"about:blank\" style=\"position:absolute;width:100%;height:100%;left:0;top:0;border:none !important;\" data-html=%3C%21DOCTYPE%20html%3E%0A%3Chead%3E%20%20%20%20%0A%20%20%20%20%3Cmeta%20http-equiv%3D%22content-type%22%20content%3D%22text/html%3B%20charset%3DUTF-8%22%20/%3E%0A%20%20%20%20%0A%20%20%20%20%20%20%20%20%3Cscript%3E%0A%20%20%20%20%20%20%20%20%20%20%20%20L_NO_TOUCH%20%3D%20false%3B%0A%20%20%20%20%20%20%20%20%20%20%20%20L_DISABLE_3D%20%3D%20false%3B%0A%20%20%20%20%20%20%20%20%3C/script%3E%0A%20%20%20%20%0A%20%20%20%20%3Cstyle%3Ehtml%2C%20body%20%7Bwidth%3A%20100%25%3Bheight%3A%20100%25%3Bmargin%3A%200%3Bpadding%3A%200%3B%7D%3C/style%3E%0A%20%20%20%20%3Cstyle%3E%23map%20%7Bposition%3Aabsolute%3Btop%3A0%3Bbottom%3A0%3Bright%3A0%3Bleft%3A0%3B%7D%3C/style%3E%0A%20%20%20%20%3Cscript%20src%3D%22https%3A//cdn.jsdelivr.net/npm/leaflet%401.6.0/dist/leaflet.js%22%3E%3C/script%3E%0A%20%20%20%20%3Cscript%20src%3D%22https%3A//code.jquery.com/jquery-1.12.4.min.js%22%3E%3C/script%3E%0A%20%20%20%20%3Cscript%20src%3D%22https%3A//maxcdn.bootstrapcdn.com/bootstrap/3.2.0/js/bootstrap.min.js%22%3E%3C/script%3E%0A%20%20%20%20%3Cscript%20src%3D%22https%3A//cdnjs.cloudflare.com/ajax/libs/Leaflet.awesome-markers/2.0.2/leaflet.awesome-markers.js%22%3E%3C/script%3E%0A%20%20%20%20%3Clink%20rel%3D%22stylesheet%22%20href%3D%22https%3A//cdn.jsdelivr.net/npm/leaflet%401.6.0/dist/leaflet.css%22/%3E%0A%20%20%20%20%3Clink%20rel%3D%22stylesheet%22%20href%3D%22https%3A//maxcdn.bootstrapcdn.com/bootstrap/3.2.0/css/bootstrap.min.css%22/%3E%0A%20%20%20%20%3Clink%20rel%3D%22stylesheet%22%20href%3D%22https%3A//maxcdn.bootstrapcdn.com/bootstrap/3.2.0/css/bootstrap-theme.min.css%22/%3E%0A%20%20%20%20%3Clink%20rel%3D%22stylesheet%22%20href%3D%22https%3A//maxcdn.bootstrapcdn.com/font-awesome/4.6.3/css/font-awesome.min.css%22/%3E%0A%20%20%20%20%3Clink%20rel%3D%22stylesheet%22%20href%3D%22https%3A//cdnjs.cloudflare.com/ajax/libs/Leaflet.awesome-markers/2.0.2/leaflet.awesome-markers.css%22/%3E%0A%20%20%20%20%3Clink%20rel%3D%22stylesheet%22%20href%3D%22https%3A//cdn.jsdelivr.net/gh/python-visualization/folium/folium/templates/leaflet.awesome.rotate.min.css%22/%3E%0A%20%20%20%20%0A%20%20%20%20%20%20%20%20%20%20%20%20%3Cmeta%20name%3D%22viewport%22%20content%3D%22width%3Ddevice-width%2C%0A%20%20%20%20%20%20%20%20%20%20%20%20%20%20%20%20initial-scale%3D1.0%2C%20maximum-scale%3D1.0%2C%20user-scalable%3Dno%22%20/%3E%0A%20%20%20%20%20%20%20%20%20%20%20%20%3Cstyle%3E%0A%20%20%20%20%20%20%20%20%20%20%20%20%20%20%20%20%23map_8f2ce8572d1c42fbadeaa75fa45da255%20%7B%0A%20%20%20%20%20%20%20%20%20%20%20%20%20%20%20%20%20%20%20%20position%3A%20relative%3B%0A%20%20%20%20%20%20%20%20%20%20%20%20%20%20%20%20%20%20%20%20width%3A%20100.0%25%3B%0A%20%20%20%20%20%20%20%20%20%20%20%20%20%20%20%20%20%20%20%20height%3A%20100.0%25%3B%0A%20%20%20%20%20%20%20%20%20%20%20%20%20%20%20%20%20%20%20%20left%3A%200.0%25%3B%0A%20%20%20%20%20%20%20%20%20%20%20%20%20%20%20%20%20%20%20%20top%3A%200.0%25%3B%0A%20%20%20%20%20%20%20%20%20%20%20%20%20%20%20%20%7D%0A%20%20%20%20%20%20%20%20%20%20%20%20%3C/style%3E%0A%20%20%20%20%20%20%20%20%0A%3C/head%3E%0A%3Cbody%3E%20%20%20%20%0A%20%20%20%20%0A%20%20%20%20%20%20%20%20%20%20%20%20%3Cdiv%20class%3D%22folium-map%22%20id%3D%22map_8f2ce8572d1c42fbadeaa75fa45da255%22%20%3E%3C/div%3E%0A%20%20%20%20%20%20%20%20%0A%3C/body%3E%0A%3Cscript%3E%20%20%20%20%0A%20%20%20%20%0A%20%20%20%20%20%20%20%20%20%20%20%20var%20map_8f2ce8572d1c42fbadeaa75fa45da255%20%3D%20L.map%28%0A%20%20%20%20%20%20%20%20%20%20%20%20%20%20%20%20%22map_8f2ce8572d1c42fbadeaa75fa45da255%22%2C%0A%20%20%20%20%20%20%20%20%20%20%20%20%20%20%20%20%7B%0A%20%20%20%20%20%20%20%20%20%20%20%20%20%20%20%20%20%20%20%20center%3A%20%5B43.6534817%2C%20-79.3839347%5D%2C%0A%20%20%20%20%20%20%20%20%20%20%20%20%20%20%20%20%20%20%20%20crs%3A%20L.CRS.EPSG3857%2C%0A%20%20%20%20%20%20%20%20%20%20%20%20%20%20%20%20%20%20%20%20zoom%3A%2011%2C%0A%20%20%20%20%20%20%20%20%20%20%20%20%20%20%20%20%20%20%20%20zoomControl%3A%20true%2C%0A%20%20%20%20%20%20%20%20%20%20%20%20%20%20%20%20%20%20%20%20preferCanvas%3A%20false%2C%0A%20%20%20%20%20%20%20%20%20%20%20%20%20%20%20%20%7D%0A%20%20%20%20%20%20%20%20%20%20%20%20%29%3B%0A%0A%20%20%20%20%20%20%20%20%20%20%20%20%0A%0A%20%20%20%20%20%20%20%20%0A%20%20%20%20%0A%20%20%20%20%20%20%20%20%20%20%20%20var%20tile_layer_70579305aa624a5ba9c35f5c86208bfd%20%3D%20L.tileLayer%28%0A%20%20%20%20%20%20%20%20%20%20%20%20%20%20%20%20%22https%3A//%7Bs%7D.tile.openstreetmap.org/%7Bz%7D/%7Bx%7D/%7By%7D.png%22%2C%0A%20%20%20%20%20%20%20%20%20%20%20%20%20%20%20%20%7B%22attribution%22%3A%20%22Data%20by%20%5Cu0026copy%3B%20%5Cu003ca%20href%3D%5C%22http%3A//openstreetmap.org%5C%22%5Cu003eOpenStreetMap%5Cu003c/a%5Cu003e%2C%20under%20%5Cu003ca%20href%3D%5C%22http%3A//www.openstreetmap.org/copyright%5C%22%5Cu003eODbL%5Cu003c/a%5Cu003e.%22%2C%20%22detectRetina%22%3A%20false%2C%20%22maxNativeZoom%22%3A%2018%2C%20%22maxZoom%22%3A%2018%2C%20%22minZoom%22%3A%200%2C%20%22noWrap%22%3A%20false%2C%20%22opacity%22%3A%201%2C%20%22subdomains%22%3A%20%22abc%22%2C%20%22tms%22%3A%20false%7D%0A%20%20%20%20%20%20%20%20%20%20%20%20%29.addTo%28map_8f2ce8572d1c42fbadeaa75fa45da255%29%3B%0A%20%20%20%20%20%20%20%20%0A%20%20%20%20%0A%20%20%20%20%20%20%20%20%20%20%20%20var%20circle_marker_a6b21c4972374176a58d2c77ae11a6aa%20%3D%20L.circleMarker%28%0A%20%20%20%20%20%20%20%20%20%20%20%20%20%20%20%20%5B43.6542599%2C%20-79.3606359%5D%2C%0A%20%20%20%20%20%20%20%20%20%20%20%20%20%20%20%20%7B%22bubblingMouseEvents%22%3A%20true%2C%20%22color%22%3A%20%22%23ff0000%22%2C%20%22dashArray%22%3A%20null%2C%20%22dashOffset%22%3A%20null%2C%20%22fill%22%3A%20true%2C%20%22fillColor%22%3A%20%22%23ff0000%22%2C%20%22fillOpacity%22%3A%200.7%2C%20%22fillRule%22%3A%20%22evenodd%22%2C%20%22lineCap%22%3A%20%22round%22%2C%20%22lineJoin%22%3A%20%22round%22%2C%20%22opacity%22%3A%201.0%2C%20%22radius%22%3A%205%2C%20%22stroke%22%3A%20true%2C%20%22weight%22%3A%203%7D%0A%20%20%20%20%20%20%20%20%20%20%20%20%29.addTo%28map_8f2ce8572d1c42fbadeaa75fa45da255%29%3B%0A%20%20%20%20%20%20%20%20%0A%20%20%20%20%0A%20%20%20%20%20%20%20%20var%20popup_cf8d2ceb8a01422993dd1442929a3d17%20%3D%20L.popup%28%7B%22maxWidth%22%3A%20%22100%25%22%7D%29%3B%0A%0A%20%20%20%20%20%20%20%20%0A%20%20%20%20%20%20%20%20%20%20%20%20var%20html_7b6a02ff948142fda215b11abf1506cd%20%3D%20%24%28%60%3Cdiv%20id%3D%22html_7b6a02ff948142fda215b11abf1506cd%22%20style%3D%22width%3A%20100.0%25%3B%20height%3A%20100.0%25%3B%22%3ERegent%20Park%20/%20Harbourfront%20Cluster%200%3C/div%3E%60%29%5B0%5D%3B%0A%20%20%20%20%20%20%20%20%20%20%20%20popup_cf8d2ceb8a01422993dd1442929a3d17.setContent%28html_7b6a02ff948142fda215b11abf1506cd%29%3B%0A%20%20%20%20%20%20%20%20%0A%0A%20%20%20%20%20%20%20%20circle_marker_a6b21c4972374176a58d2c77ae11a6aa.bindPopup%28popup_cf8d2ceb8a01422993dd1442929a3d17%29%0A%20%20%20%20%20%20%20%20%3B%0A%0A%20%20%20%20%20%20%20%20%0A%20%20%20%20%0A%20%20%20%20%0A%20%20%20%20%20%20%20%20%20%20%20%20var%20circle_marker_15539add568747ac85fc3df35099cf19%20%3D%20L.circleMarker%28%0A%20%20%20%20%20%20%20%20%20%20%20%20%20%20%20%20%5B43.6571618%2C%20-79.37893709999999%5D%2C%0A%20%20%20%20%20%20%20%20%20%20%20%20%20%20%20%20%7B%22bubblingMouseEvents%22%3A%20true%2C%20%22color%22%3A%20%22%23ff0000%22%2C%20%22dashArray%22%3A%20null%2C%20%22dashOffset%22%3A%20null%2C%20%22fill%22%3A%20true%2C%20%22fillColor%22%3A%20%22%23ff0000%22%2C%20%22fillOpacity%22%3A%200.7%2C%20%22fillRule%22%3A%20%22evenodd%22%2C%20%22lineCap%22%3A%20%22round%22%2C%20%22lineJoin%22%3A%20%22round%22%2C%20%22opacity%22%3A%201.0%2C%20%22radius%22%3A%205%2C%20%22stroke%22%3A%20true%2C%20%22weight%22%3A%203%7D%0A%20%20%20%20%20%20%20%20%20%20%20%20%29.addTo%28map_8f2ce8572d1c42fbadeaa75fa45da255%29%3B%0A%20%20%20%20%20%20%20%20%0A%20%20%20%20%0A%20%20%20%20%20%20%20%20var%20popup_f5d6bd0172fa4ea38cc598ae636cf611%20%3D%20L.popup%28%7B%22maxWidth%22%3A%20%22100%25%22%7D%29%3B%0A%0A%20%20%20%20%20%20%20%20%0A%20%20%20%20%20%20%20%20%20%20%20%20var%20html_50426c55b8eb47b7a5e51b67defb5901%20%3D%20%24%28%60%3Cdiv%20id%3D%22html_50426c55b8eb47b7a5e51b67defb5901%22%20style%3D%22width%3A%20100.0%25%3B%20height%3A%20100.0%25%3B%22%3EGarden%20District%2C%20Ryerson%20Cluster%200%3C/div%3E%60%29%5B0%5D%3B%0A%20%20%20%20%20%20%20%20%20%20%20%20popup_f5d6bd0172fa4ea38cc598ae636cf611.setContent%28html_50426c55b8eb47b7a5e51b67defb5901%29%3B%0A%20%20%20%20%20%20%20%20%0A%0A%20%20%20%20%20%20%20%20circle_marker_15539add568747ac85fc3df35099cf19.bindPopup%28popup_f5d6bd0172fa4ea38cc598ae636cf611%29%0A%20%20%20%20%20%20%20%20%3B%0A%0A%20%20%20%20%20%20%20%20%0A%20%20%20%20%0A%20%20%20%20%0A%20%20%20%20%20%20%20%20%20%20%20%20var%20circle_marker_407055c4913649a0874f0676a5cf7bf7%20%3D%20L.circleMarker%28%0A%20%20%20%20%20%20%20%20%20%20%20%20%20%20%20%20%5B43.6514939%2C%20-79.3754179%5D%2C%0A%20%20%20%20%20%20%20%20%20%20%20%20%20%20%20%20%7B%22bubblingMouseEvents%22%3A%20true%2C%20%22color%22%3A%20%22%23ff0000%22%2C%20%22dashArray%22%3A%20null%2C%20%22dashOffset%22%3A%20null%2C%20%22fill%22%3A%20true%2C%20%22fillColor%22%3A%20%22%23ff0000%22%2C%20%22fillOpacity%22%3A%200.7%2C%20%22fillRule%22%3A%20%22evenodd%22%2C%20%22lineCap%22%3A%20%22round%22%2C%20%22lineJoin%22%3A%20%22round%22%2C%20%22opacity%22%3A%201.0%2C%20%22radius%22%3A%205%2C%20%22stroke%22%3A%20true%2C%20%22weight%22%3A%203%7D%0A%20%20%20%20%20%20%20%20%20%20%20%20%29.addTo%28map_8f2ce8572d1c42fbadeaa75fa45da255%29%3B%0A%20%20%20%20%20%20%20%20%0A%20%20%20%20%0A%20%20%20%20%20%20%20%20var%20popup_777938fc1e56450cad16f70e2890bbcb%20%3D%20L.popup%28%7B%22maxWidth%22%3A%20%22100%25%22%7D%29%3B%0A%0A%20%20%20%20%20%20%20%20%0A%20%20%20%20%20%20%20%20%20%20%20%20var%20html_9506c64ddc134ca2ba7209803f8013b4%20%3D%20%24%28%60%3Cdiv%20id%3D%22html_9506c64ddc134ca2ba7209803f8013b4%22%20style%3D%22width%3A%20100.0%25%3B%20height%3A%20100.0%25%3B%22%3ESt.%20James%20Town%20Cluster%200%3C/div%3E%60%29%5B0%5D%3B%0A%20%20%20%20%20%20%20%20%20%20%20%20popup_777938fc1e56450cad16f70e2890bbcb.setContent%28html_9506c64ddc134ca2ba7209803f8013b4%29%3B%0A%20%20%20%20%20%20%20%20%0A%0A%20%20%20%20%20%20%20%20circle_marker_407055c4913649a0874f0676a5cf7bf7.bindPopup%28popup_777938fc1e56450cad16f70e2890bbcb%29%0A%20%20%20%20%20%20%20%20%3B%0A%0A%20%20%20%20%20%20%20%20%0A%20%20%20%20%0A%20%20%20%20%0A%20%20%20%20%20%20%20%20%20%20%20%20var%20circle_marker_7f58485203d74638bc14307fdaf45a3b%20%3D%20L.circleMarker%28%0A%20%20%20%20%20%20%20%20%20%20%20%20%20%20%20%20%5B43.67635739999999%2C%20-79.2930312%5D%2C%0A%20%20%20%20%20%20%20%20%20%20%20%20%20%20%20%20%7B%22bubblingMouseEvents%22%3A%20true%2C%20%22color%22%3A%20%22%23ff0000%22%2C%20%22dashArray%22%3A%20null%2C%20%22dashOffset%22%3A%20null%2C%20%22fill%22%3A%20true%2C%20%22fillColor%22%3A%20%22%23ff0000%22%2C%20%22fillOpacity%22%3A%200.7%2C%20%22fillRule%22%3A%20%22evenodd%22%2C%20%22lineCap%22%3A%20%22round%22%2C%20%22lineJoin%22%3A%20%22round%22%2C%20%22opacity%22%3A%201.0%2C%20%22radius%22%3A%205%2C%20%22stroke%22%3A%20true%2C%20%22weight%22%3A%203%7D%0A%20%20%20%20%20%20%20%20%20%20%20%20%29.addTo%28map_8f2ce8572d1c42fbadeaa75fa45da255%29%3B%0A%20%20%20%20%20%20%20%20%0A%20%20%20%20%0A%20%20%20%20%20%20%20%20var%20popup_1d57a870cd3543bba7d32bd5936e98b7%20%3D%20L.popup%28%7B%22maxWidth%22%3A%20%22100%25%22%7D%29%3B%0A%0A%20%20%20%20%20%20%20%20%0A%20%20%20%20%20%20%20%20%20%20%20%20var%20html_7fac526451714a9e852de070f1e5ee99%20%3D%20%24%28%60%3Cdiv%20id%3D%22html_7fac526451714a9e852de070f1e5ee99%22%20style%3D%22width%3A%20100.0%25%3B%20height%3A%20100.0%25%3B%22%3EThe%20Beaches%20Cluster%200%3C/div%3E%60%29%5B0%5D%3B%0A%20%20%20%20%20%20%20%20%20%20%20%20popup_1d57a870cd3543bba7d32bd5936e98b7.setContent%28html_7fac526451714a9e852de070f1e5ee99%29%3B%0A%20%20%20%20%20%20%20%20%0A%0A%20%20%20%20%20%20%20%20circle_marker_7f58485203d74638bc14307fdaf45a3b.bindPopup%28popup_1d57a870cd3543bba7d32bd5936e98b7%29%0A%20%20%20%20%20%20%20%20%3B%0A%0A%20%20%20%20%20%20%20%20%0A%20%20%20%20%0A%20%20%20%20%0A%20%20%20%20%20%20%20%20%20%20%20%20var%20circle_marker_98538f27f8df4142a4ffd16a264b0aed%20%3D%20L.circleMarker%28%0A%20%20%20%20%20%20%20%20%20%20%20%20%20%20%20%20%5B43.644770799999996%2C%20-79.3733064%5D%2C%0A%20%20%20%20%20%20%20%20%20%20%20%20%20%20%20%20%7B%22bubblingMouseEvents%22%3A%20true%2C%20%22color%22%3A%20%22%23ff0000%22%2C%20%22dashArray%22%3A%20null%2C%20%22dashOffset%22%3A%20null%2C%20%22fill%22%3A%20true%2C%20%22fillColor%22%3A%20%22%23ff0000%22%2C%20%22fillOpacity%22%3A%200.7%2C%20%22fillRule%22%3A%20%22evenodd%22%2C%20%22lineCap%22%3A%20%22round%22%2C%20%22lineJoin%22%3A%20%22round%22%2C%20%22opacity%22%3A%201.0%2C%20%22radius%22%3A%205%2C%20%22stroke%22%3A%20true%2C%20%22weight%22%3A%203%7D%0A%20%20%20%20%20%20%20%20%20%20%20%20%29.addTo%28map_8f2ce8572d1c42fbadeaa75fa45da255%29%3B%0A%20%20%20%20%20%20%20%20%0A%20%20%20%20%0A%20%20%20%20%20%20%20%20var%20popup_677f83a2fedf456db3a5dbbdbbbbb545%20%3D%20L.popup%28%7B%22maxWidth%22%3A%20%22100%25%22%7D%29%3B%0A%0A%20%20%20%20%20%20%20%20%0A%20%20%20%20%20%20%20%20%20%20%20%20var%20html_31d71c4030bc460aa485c19d637d5226%20%3D%20%24%28%60%3Cdiv%20id%3D%22html_31d71c4030bc460aa485c19d637d5226%22%20style%3D%22width%3A%20100.0%25%3B%20height%3A%20100.0%25%3B%22%3EBerczy%20Park%20Cluster%200%3C/div%3E%60%29%5B0%5D%3B%0A%20%20%20%20%20%20%20%20%20%20%20%20popup_677f83a2fedf456db3a5dbbdbbbbb545.setContent%28html_31d71c4030bc460aa485c19d637d5226%29%3B%0A%20%20%20%20%20%20%20%20%0A%0A%20%20%20%20%20%20%20%20circle_marker_98538f27f8df4142a4ffd16a264b0aed.bindPopup%28popup_677f83a2fedf456db3a5dbbdbbbbb545%29%0A%20%20%20%20%20%20%20%20%3B%0A%0A%20%20%20%20%20%20%20%20%0A%20%20%20%20%0A%20%20%20%20%0A%20%20%20%20%20%20%20%20%20%20%20%20var%20circle_marker_424024a43f5e46258eda8cf5934bd3ae%20%3D%20L.circleMarker%28%0A%20%20%20%20%20%20%20%20%20%20%20%20%20%20%20%20%5B43.6579524%2C%20-79.3873826%5D%2C%0A%20%20%20%20%20%20%20%20%20%20%20%20%20%20%20%20%7B%22bubblingMouseEvents%22%3A%20true%2C%20%22color%22%3A%20%22%23ff0000%22%2C%20%22dashArray%22%3A%20null%2C%20%22dashOffset%22%3A%20null%2C%20%22fill%22%3A%20true%2C%20%22fillColor%22%3A%20%22%23ff0000%22%2C%20%22fillOpacity%22%3A%200.7%2C%20%22fillRule%22%3A%20%22evenodd%22%2C%20%22lineCap%22%3A%20%22round%22%2C%20%22lineJoin%22%3A%20%22round%22%2C%20%22opacity%22%3A%201.0%2C%20%22radius%22%3A%205%2C%20%22stroke%22%3A%20true%2C%20%22weight%22%3A%203%7D%0A%20%20%20%20%20%20%20%20%20%20%20%20%29.addTo%28map_8f2ce8572d1c42fbadeaa75fa45da255%29%3B%0A%20%20%20%20%20%20%20%20%0A%20%20%20%20%0A%20%20%20%20%20%20%20%20var%20popup_b3ee8cf93f6b474cb7727b09effaa99d%20%3D%20L.popup%28%7B%22maxWidth%22%3A%20%22100%25%22%7D%29%3B%0A%0A%20%20%20%20%20%20%20%20%0A%20%20%20%20%20%20%20%20%20%20%20%20var%20html_3ffc5fa904f34fc098ebbb3a900860ec%20%3D%20%24%28%60%3Cdiv%20id%3D%22html_3ffc5fa904f34fc098ebbb3a900860ec%22%20style%3D%22width%3A%20100.0%25%3B%20height%3A%20100.0%25%3B%22%3ECentral%20Bay%20Street%20Cluster%200%3C/div%3E%60%29%5B0%5D%3B%0A%20%20%20%20%20%20%20%20%20%20%20%20popup_b3ee8cf93f6b474cb7727b09effaa99d.setContent%28html_3ffc5fa904f34fc098ebbb3a900860ec%29%3B%0A%20%20%20%20%20%20%20%20%0A%0A%20%20%20%20%20%20%20%20circle_marker_424024a43f5e46258eda8cf5934bd3ae.bindPopup%28popup_b3ee8cf93f6b474cb7727b09effaa99d%29%0A%20%20%20%20%20%20%20%20%3B%0A%0A%20%20%20%20%20%20%20%20%0A%20%20%20%20%0A%20%20%20%20%0A%20%20%20%20%20%20%20%20%20%20%20%20var%20circle_marker_8e71949aec6b48c19a5bae9bf6603554%20%3D%20L.circleMarker%28%0A%20%20%20%20%20%20%20%20%20%20%20%20%20%20%20%20%5B43.669542%2C%20-79.4225637%5D%2C%0A%20%20%20%20%20%20%20%20%20%20%20%20%20%20%20%20%7B%22bubblingMouseEvents%22%3A%20true%2C%20%22color%22%3A%20%22%23ff0000%22%2C%20%22dashArray%22%3A%20null%2C%20%22dashOffset%22%3A%20null%2C%20%22fill%22%3A%20true%2C%20%22fillColor%22%3A%20%22%23ff0000%22%2C%20%22fillOpacity%22%3A%200.7%2C%20%22fillRule%22%3A%20%22evenodd%22%2C%20%22lineCap%22%3A%20%22round%22%2C%20%22lineJoin%22%3A%20%22round%22%2C%20%22opacity%22%3A%201.0%2C%20%22radius%22%3A%205%2C%20%22stroke%22%3A%20true%2C%20%22weight%22%3A%203%7D%0A%20%20%20%20%20%20%20%20%20%20%20%20%29.addTo%28map_8f2ce8572d1c42fbadeaa75fa45da255%29%3B%0A%20%20%20%20%20%20%20%20%0A%20%20%20%20%0A%20%20%20%20%20%20%20%20var%20popup_927bd5bbf4924227b4262b6959594a83%20%3D%20L.popup%28%7B%22maxWidth%22%3A%20%22100%25%22%7D%29%3B%0A%0A%20%20%20%20%20%20%20%20%0A%20%20%20%20%20%20%20%20%20%20%20%20var%20html_05bfa8e2d15f442e9cbe96590be59407%20%3D%20%24%28%60%3Cdiv%20id%3D%22html_05bfa8e2d15f442e9cbe96590be59407%22%20style%3D%22width%3A%20100.0%25%3B%20height%3A%20100.0%25%3B%22%3EChristie%20Cluster%200%3C/div%3E%60%29%5B0%5D%3B%0A%20%20%20%20%20%20%20%20%20%20%20%20popup_927bd5bbf4924227b4262b6959594a83.setContent%28html_05bfa8e2d15f442e9cbe96590be59407%29%3B%0A%20%20%20%20%20%20%20%20%0A%0A%20%20%20%20%20%20%20%20circle_marker_8e71949aec6b48c19a5bae9bf6603554.bindPopup%28popup_927bd5bbf4924227b4262b6959594a83%29%0A%20%20%20%20%20%20%20%20%3B%0A%0A%20%20%20%20%20%20%20%20%0A%20%20%20%20%0A%20%20%20%20%0A%20%20%20%20%20%20%20%20%20%20%20%20var%20circle_marker_82c0b7ab07af492fa72e2605a8c5814a%20%3D%20L.circleMarker%28%0A%20%20%20%20%20%20%20%20%20%20%20%20%20%20%20%20%5B43.65057120000001%2C%20-79.3845675%5D%2C%0A%20%20%20%20%20%20%20%20%20%20%20%20%20%20%20%20%7B%22bubblingMouseEvents%22%3A%20true%2C%20%22color%22%3A%20%22%23ff0000%22%2C%20%22dashArray%22%3A%20null%2C%20%22dashOffset%22%3A%20null%2C%20%22fill%22%3A%20true%2C%20%22fillColor%22%3A%20%22%23ff0000%22%2C%20%22fillOpacity%22%3A%200.7%2C%20%22fillRule%22%3A%20%22evenodd%22%2C%20%22lineCap%22%3A%20%22round%22%2C%20%22lineJoin%22%3A%20%22round%22%2C%20%22opacity%22%3A%201.0%2C%20%22radius%22%3A%205%2C%20%22stroke%22%3A%20true%2C%20%22weight%22%3A%203%7D%0A%20%20%20%20%20%20%20%20%20%20%20%20%29.addTo%28map_8f2ce8572d1c42fbadeaa75fa45da255%29%3B%0A%20%20%20%20%20%20%20%20%0A%20%20%20%20%0A%20%20%20%20%20%20%20%20var%20popup_5854a9baa1f94877b252bd1f5b01eb08%20%3D%20L.popup%28%7B%22maxWidth%22%3A%20%22100%25%22%7D%29%3B%0A%0A%20%20%20%20%20%20%20%20%0A%20%20%20%20%20%20%20%20%20%20%20%20var%20html_b65b70ee54f34ca09a4e88a7cd3b6d03%20%3D%20%24%28%60%3Cdiv%20id%3D%22html_b65b70ee54f34ca09a4e88a7cd3b6d03%22%20style%3D%22width%3A%20100.0%25%3B%20height%3A%20100.0%25%3B%22%3ERichmond%20/%20Adelaide%20/%20King%20Cluster%200%3C/div%3E%60%29%5B0%5D%3B%0A%20%20%20%20%20%20%20%20%20%20%20%20popup_5854a9baa1f94877b252bd1f5b01eb08.setContent%28html_b65b70ee54f34ca09a4e88a7cd3b6d03%29%3B%0A%20%20%20%20%20%20%20%20%0A%0A%20%20%20%20%20%20%20%20circle_marker_82c0b7ab07af492fa72e2605a8c5814a.bindPopup%28popup_5854a9baa1f94877b252bd1f5b01eb08%29%0A%20%20%20%20%20%20%20%20%3B%0A%0A%20%20%20%20%20%20%20%20%0A%20%20%20%20%0A%20%20%20%20%0A%20%20%20%20%20%20%20%20%20%20%20%20var%20circle_marker_1cfdfb4d0f6a421aa098bf2b426bde1e%20%3D%20L.circleMarker%28%0A%20%20%20%20%20%20%20%20%20%20%20%20%20%20%20%20%5B43.66900510000001%2C%20-79.4422593%5D%2C%0A%20%20%20%20%20%20%20%20%20%20%20%20%20%20%20%20%7B%22bubblingMouseEvents%22%3A%20true%2C%20%22color%22%3A%20%22%23ff0000%22%2C%20%22dashArray%22%3A%20null%2C%20%22dashOffset%22%3A%20null%2C%20%22fill%22%3A%20true%2C%20%22fillColor%22%3A%20%22%23ff0000%22%2C%20%22fillOpacity%22%3A%200.7%2C%20%22fillRule%22%3A%20%22evenodd%22%2C%20%22lineCap%22%3A%20%22round%22%2C%20%22lineJoin%22%3A%20%22round%22%2C%20%22opacity%22%3A%201.0%2C%20%22radius%22%3A%205%2C%20%22stroke%22%3A%20true%2C%20%22weight%22%3A%203%7D%0A%20%20%20%20%20%20%20%20%20%20%20%20%29.addTo%28map_8f2ce8572d1c42fbadeaa75fa45da255%29%3B%0A%20%20%20%20%20%20%20%20%0A%20%20%20%20%0A%20%20%20%20%20%20%20%20var%20popup_7eed9d7cfba347ecab78d68669b30450%20%3D%20L.popup%28%7B%22maxWidth%22%3A%20%22100%25%22%7D%29%3B%0A%0A%20%20%20%20%20%20%20%20%0A%20%20%20%20%20%20%20%20%20%20%20%20var%20html_a356b744f6d44126889fea1df579ee1c%20%3D%20%24%28%60%3Cdiv%20id%3D%22html_a356b744f6d44126889fea1df579ee1c%22%20style%3D%22width%3A%20100.0%25%3B%20height%3A%20100.0%25%3B%22%3EDufferin%20/%20Dovercourt%20Village%20Cluster%200%3C/div%3E%60%29%5B0%5D%3B%0A%20%20%20%20%20%20%20%20%20%20%20%20popup_7eed9d7cfba347ecab78d68669b30450.setContent%28html_a356b744f6d44126889fea1df579ee1c%29%3B%0A%20%20%20%20%20%20%20%20%0A%0A%20%20%20%20%20%20%20%20circle_marker_1cfdfb4d0f6a421aa098bf2b426bde1e.bindPopup%28popup_7eed9d7cfba347ecab78d68669b30450%29%0A%20%20%20%20%20%20%20%20%3B%0A%0A%20%20%20%20%20%20%20%20%0A%20%20%20%20%0A%20%20%20%20%0A%20%20%20%20%20%20%20%20%20%20%20%20var%20circle_marker_4a907e182df04c939b5b1b41e9ddfe4b%20%3D%20L.circleMarker%28%0A%20%20%20%20%20%20%20%20%20%20%20%20%20%20%20%20%5B43.685347%2C%20-79.3381065%5D%2C%0A%20%20%20%20%20%20%20%20%20%20%20%20%20%20%20%20%7B%22bubblingMouseEvents%22%3A%20true%2C%20%22color%22%3A%20%22%2300b5eb%22%2C%20%22dashArray%22%3A%20null%2C%20%22dashOffset%22%3A%20null%2C%20%22fill%22%3A%20true%2C%20%22fillColor%22%3A%20%22%2300b5eb%22%2C%20%22fillOpacity%22%3A%200.7%2C%20%22fillRule%22%3A%20%22evenodd%22%2C%20%22lineCap%22%3A%20%22round%22%2C%20%22lineJoin%22%3A%20%22round%22%2C%20%22opacity%22%3A%201.0%2C%20%22radius%22%3A%205%2C%20%22stroke%22%3A%20true%2C%20%22weight%22%3A%203%7D%0A%20%20%20%20%20%20%20%20%20%20%20%20%29.addTo%28map_8f2ce8572d1c42fbadeaa75fa45da255%29%3B%0A%20%20%20%20%20%20%20%20%0A%20%20%20%20%0A%20%20%20%20%20%20%20%20var%20popup_372c1fccf103444995f8c627b60b0007%20%3D%20L.popup%28%7B%22maxWidth%22%3A%20%22100%25%22%7D%29%3B%0A%0A%20%20%20%20%20%20%20%20%0A%20%20%20%20%20%20%20%20%20%20%20%20var%20html_d6d49f854f57482dafa7e2596e80e449%20%3D%20%24%28%60%3Cdiv%20id%3D%22html_d6d49f854f57482dafa7e2596e80e449%22%20style%3D%22width%3A%20100.0%25%3B%20height%3A%20100.0%25%3B%22%3EThe%20Danforth%20%20East%20Cluster%202%3C/div%3E%60%29%5B0%5D%3B%0A%20%20%20%20%20%20%20%20%20%20%20%20popup_372c1fccf103444995f8c627b60b0007.setContent%28html_d6d49f854f57482dafa7e2596e80e449%29%3B%0A%20%20%20%20%20%20%20%20%0A%0A%20%20%20%20%20%20%20%20circle_marker_4a907e182df04c939b5b1b41e9ddfe4b.bindPopup%28popup_372c1fccf103444995f8c627b60b0007%29%0A%20%20%20%20%20%20%20%20%3B%0A%0A%20%20%20%20%20%20%20%20%0A%20%20%20%20%0A%20%20%20%20%0A%20%20%20%20%20%20%20%20%20%20%20%20var%20circle_marker_f5a7fd9b459a45b99f0f0f8d127171b7%20%3D%20L.circleMarker%28%0A%20%20%20%20%20%20%20%20%20%20%20%20%20%20%20%20%5B43.6408157%2C%20-79.38175229999999%5D%2C%0A%20%20%20%20%20%20%20%20%20%20%20%20%20%20%20%20%7B%22bubblingMouseEvents%22%3A%20true%2C%20%22color%22%3A%20%22%23ff0000%22%2C%20%22dashArray%22%3A%20null%2C%20%22dashOffset%22%3A%20null%2C%20%22fill%22%3A%20true%2C%20%22fillColor%22%3A%20%22%23ff0000%22%2C%20%22fillOpacity%22%3A%200.7%2C%20%22fillRule%22%3A%20%22evenodd%22%2C%20%22lineCap%22%3A%20%22round%22%2C%20%22lineJoin%22%3A%20%22round%22%2C%20%22opacity%22%3A%201.0%2C%20%22radius%22%3A%205%2C%20%22stroke%22%3A%20true%2C%20%22weight%22%3A%203%7D%0A%20%20%20%20%20%20%20%20%20%20%20%20%29.addTo%28map_8f2ce8572d1c42fbadeaa75fa45da255%29%3B%0A%20%20%20%20%20%20%20%20%0A%20%20%20%20%0A%20%20%20%20%20%20%20%20var%20popup_98e27dd4f7324de0a97f49748d462e25%20%3D%20L.popup%28%7B%22maxWidth%22%3A%20%22100%25%22%7D%29%3B%0A%0A%20%20%20%20%20%20%20%20%0A%20%20%20%20%20%20%20%20%20%20%20%20var%20html_86081f91cbf44b828112232ffc265588%20%3D%20%24%28%60%3Cdiv%20id%3D%22html_86081f91cbf44b828112232ffc265588%22%20style%3D%22width%3A%20100.0%25%3B%20height%3A%20100.0%25%3B%22%3EHarbourfront%20East%20/%20Union%20Station%20/%20Toronto%20Islands%20Cluster%200%3C/div%3E%60%29%5B0%5D%3B%0A%20%20%20%20%20%20%20%20%20%20%20%20popup_98e27dd4f7324de0a97f49748d462e25.setContent%28html_86081f91cbf44b828112232ffc265588%29%3B%0A%20%20%20%20%20%20%20%20%0A%0A%20%20%20%20%20%20%20%20circle_marker_f5a7fd9b459a45b99f0f0f8d127171b7.bindPopup%28popup_98e27dd4f7324de0a97f49748d462e25%29%0A%20%20%20%20%20%20%20%20%3B%0A%0A%20%20%20%20%20%20%20%20%0A%20%20%20%20%0A%20%20%20%20%0A%20%20%20%20%20%20%20%20%20%20%20%20var%20circle_marker_fb9eebd9bd3146efa6c18a3267fa2561%20%3D%20L.circleMarker%28%0A%20%20%20%20%20%20%20%20%20%20%20%20%20%20%20%20%5B43.647926700000006%2C%20-79.4197497%5D%2C%0A%20%20%20%20%20%20%20%20%20%20%20%20%20%20%20%20%7B%22bubblingMouseEvents%22%3A%20true%2C%20%22color%22%3A%20%22%23ff0000%22%2C%20%22dashArray%22%3A%20null%2C%20%22dashOffset%22%3A%20null%2C%20%22fill%22%3A%20true%2C%20%22fillColor%22%3A%20%22%23ff0000%22%2C%20%22fillOpacity%22%3A%200.7%2C%20%22fillRule%22%3A%20%22evenodd%22%2C%20%22lineCap%22%3A%20%22round%22%2C%20%22lineJoin%22%3A%20%22round%22%2C%20%22opacity%22%3A%201.0%2C%20%22radius%22%3A%205%2C%20%22stroke%22%3A%20true%2C%20%22weight%22%3A%203%7D%0A%20%20%20%20%20%20%20%20%20%20%20%20%29.addTo%28map_8f2ce8572d1c42fbadeaa75fa45da255%29%3B%0A%20%20%20%20%20%20%20%20%0A%20%20%20%20%0A%20%20%20%20%20%20%20%20var%20popup_a0ae7bcee2f64f16838f177f08a23f71%20%3D%20L.popup%28%7B%22maxWidth%22%3A%20%22100%25%22%7D%29%3B%0A%0A%20%20%20%20%20%20%20%20%0A%20%20%20%20%20%20%20%20%20%20%20%20var%20html_d19d83065fea4c538630b35c4620120b%20%3D%20%24%28%60%3Cdiv%20id%3D%22html_d19d83065fea4c538630b35c4620120b%22%20style%3D%22width%3A%20100.0%25%3B%20height%3A%20100.0%25%3B%22%3ELittle%20Portugal%20/%20Trinity%20Cluster%200%3C/div%3E%60%29%5B0%5D%3B%0A%20%20%20%20%20%20%20%20%20%20%20%20popup_a0ae7bcee2f64f16838f177f08a23f71.setContent%28html_d19d83065fea4c538630b35c4620120b%29%3B%0A%20%20%20%20%20%20%20%20%0A%0A%20%20%20%20%20%20%20%20circle_marker_fb9eebd9bd3146efa6c18a3267fa2561.bindPopup%28popup_a0ae7bcee2f64f16838f177f08a23f71%29%0A%20%20%20%20%20%20%20%20%3B%0A%0A%20%20%20%20%20%20%20%20%0A%20%20%20%20%0A%20%20%20%20%0A%20%20%20%20%20%20%20%20%20%20%20%20var%20circle_marker_4f73fd88897647c1bc4e86fc59d5d131%20%3D%20L.circleMarker%28%0A%20%20%20%20%20%20%20%20%20%20%20%20%20%20%20%20%5B43.6795571%2C%20-79.352188%5D%2C%0A%20%20%20%20%20%20%20%20%20%20%20%20%20%20%20%20%7B%22bubblingMouseEvents%22%3A%20true%2C%20%22color%22%3A%20%22%23ff0000%22%2C%20%22dashArray%22%3A%20null%2C%20%22dashOffset%22%3A%20null%2C%20%22fill%22%3A%20true%2C%20%22fillColor%22%3A%20%22%23ff0000%22%2C%20%22fillOpacity%22%3A%200.7%2C%20%22fillRule%22%3A%20%22evenodd%22%2C%20%22lineCap%22%3A%20%22round%22%2C%20%22lineJoin%22%3A%20%22round%22%2C%20%22opacity%22%3A%201.0%2C%20%22radius%22%3A%205%2C%20%22stroke%22%3A%20true%2C%20%22weight%22%3A%203%7D%0A%20%20%20%20%20%20%20%20%20%20%20%20%29.addTo%28map_8f2ce8572d1c42fbadeaa75fa45da255%29%3B%0A%20%20%20%20%20%20%20%20%0A%20%20%20%20%0A%20%20%20%20%20%20%20%20var%20popup_74802a7e741441a999d9bf49c7d219fc%20%3D%20L.popup%28%7B%22maxWidth%22%3A%20%22100%25%22%7D%29%3B%0A%0A%20%20%20%20%20%20%20%20%0A%20%20%20%20%20%20%20%20%20%20%20%20var%20html_4f49e979d9da49ca8e7d326fd9a591a6%20%3D%20%24%28%60%3Cdiv%20id%3D%22html_4f49e979d9da49ca8e7d326fd9a591a6%22%20style%3D%22width%3A%20100.0%25%3B%20height%3A%20100.0%25%3B%22%3EThe%20Danforth%20West%20/%20Riverdale%20Cluster%200%3C/div%3E%60%29%5B0%5D%3B%0A%20%20%20%20%20%20%20%20%20%20%20%20popup_74802a7e741441a999d9bf49c7d219fc.setContent%28html_4f49e979d9da49ca8e7d326fd9a591a6%29%3B%0A%20%20%20%20%20%20%20%20%0A%0A%20%20%20%20%20%20%20%20circle_marker_4f73fd88897647c1bc4e86fc59d5d131.bindPopup%28popup_74802a7e741441a999d9bf49c7d219fc%29%0A%20%20%20%20%20%20%20%20%3B%0A%0A%20%20%20%20%20%20%20%20%0A%20%20%20%20%0A%20%20%20%20%0A%20%20%20%20%20%20%20%20%20%20%20%20var%20circle_marker_fad438dd23704e518853c2b0c47fe263%20%3D%20L.circleMarker%28%0A%20%20%20%20%20%20%20%20%20%20%20%20%20%20%20%20%5B43.6471768%2C%20-79.38157640000001%5D%2C%0A%20%20%20%20%20%20%20%20%20%20%20%20%20%20%20%20%7B%22bubblingMouseEvents%22%3A%20true%2C%20%22color%22%3A%20%22%23ff0000%22%2C%20%22dashArray%22%3A%20null%2C%20%22dashOffset%22%3A%20null%2C%20%22fill%22%3A%20true%2C%20%22fillColor%22%3A%20%22%23ff0000%22%2C%20%22fillOpacity%22%3A%200.7%2C%20%22fillRule%22%3A%20%22evenodd%22%2C%20%22lineCap%22%3A%20%22round%22%2C%20%22lineJoin%22%3A%20%22round%22%2C%20%22opacity%22%3A%201.0%2C%20%22radius%22%3A%205%2C%20%22stroke%22%3A%20true%2C%20%22weight%22%3A%203%7D%0A%20%20%20%20%20%20%20%20%20%20%20%20%29.addTo%28map_8f2ce8572d1c42fbadeaa75fa45da255%29%3B%0A%20%20%20%20%20%20%20%20%0A%20%20%20%20%0A%20%20%20%20%20%20%20%20var%20popup_d684b6b31b96434887c405aa5f129e12%20%3D%20L.popup%28%7B%22maxWidth%22%3A%20%22100%25%22%7D%29%3B%0A%0A%20%20%20%20%20%20%20%20%0A%20%20%20%20%20%20%20%20%20%20%20%20var%20html_d3ec2dc977f14c0a9c0ca820c83c924c%20%3D%20%24%28%60%3Cdiv%20id%3D%22html_d3ec2dc977f14c0a9c0ca820c83c924c%22%20style%3D%22width%3A%20100.0%25%3B%20height%3A%20100.0%25%3B%22%3EToronto%20Dominion%20Centre%20/%20Design%20Exchange%20Cluster%200%3C/div%3E%60%29%5B0%5D%3B%0A%20%20%20%20%20%20%20%20%20%20%20%20popup_d684b6b31b96434887c405aa5f129e12.setContent%28html_d3ec2dc977f14c0a9c0ca820c83c924c%29%3B%0A%20%20%20%20%20%20%20%20%0A%0A%20%20%20%20%20%20%20%20circle_marker_fad438dd23704e518853c2b0c47fe263.bindPopup%28popup_d684b6b31b96434887c405aa5f129e12%29%0A%20%20%20%20%20%20%20%20%3B%0A%0A%20%20%20%20%20%20%20%20%0A%20%20%20%20%0A%20%20%20%20%0A%20%20%20%20%20%20%20%20%20%20%20%20var%20circle_marker_d07386f24a19464c8b426b6a45a8732c%20%3D%20L.circleMarker%28%0A%20%20%20%20%20%20%20%20%20%20%20%20%20%20%20%20%5B43.6368472%2C%20-79.42819140000002%5D%2C%0A%20%20%20%20%20%20%20%20%20%20%20%20%20%20%20%20%7B%22bubblingMouseEvents%22%3A%20true%2C%20%22color%22%3A%20%22%23ff0000%22%2C%20%22dashArray%22%3A%20null%2C%20%22dashOffset%22%3A%20null%2C%20%22fill%22%3A%20true%2C%20%22fillColor%22%3A%20%22%23ff0000%22%2C%20%22fillOpacity%22%3A%200.7%2C%20%22fillRule%22%3A%20%22evenodd%22%2C%20%22lineCap%22%3A%20%22round%22%2C%20%22lineJoin%22%3A%20%22round%22%2C%20%22opacity%22%3A%201.0%2C%20%22radius%22%3A%205%2C%20%22stroke%22%3A%20true%2C%20%22weight%22%3A%203%7D%0A%20%20%20%20%20%20%20%20%20%20%20%20%29.addTo%28map_8f2ce8572d1c42fbadeaa75fa45da255%29%3B%0A%20%20%20%20%20%20%20%20%0A%20%20%20%20%0A%20%20%20%20%20%20%20%20var%20popup_5efc7a38d2034fad8c3299577bbc4e95%20%3D%20L.popup%28%7B%22maxWidth%22%3A%20%22100%25%22%7D%29%3B%0A%0A%20%20%20%20%20%20%20%20%0A%20%20%20%20%20%20%20%20%20%20%20%20var%20html_79d4e0c7fa344a8c857f198058b67404%20%3D%20%24%28%60%3Cdiv%20id%3D%22html_79d4e0c7fa344a8c857f198058b67404%22%20style%3D%22width%3A%20100.0%25%3B%20height%3A%20100.0%25%3B%22%3EBrockton%20/%20Parkdale%20Village%20/%20Exhibition%20Place%20Cluster%200%3C/div%3E%60%29%5B0%5D%3B%0A%20%20%20%20%20%20%20%20%20%20%20%20popup_5efc7a38d2034fad8c3299577bbc4e95.setContent%28html_79d4e0c7fa344a8c857f198058b67404%29%3B%0A%20%20%20%20%20%20%20%20%0A%0A%20%20%20%20%20%20%20%20circle_marker_d07386f24a19464c8b426b6a45a8732c.bindPopup%28popup_5efc7a38d2034fad8c3299577bbc4e95%29%0A%20%20%20%20%20%20%20%20%3B%0A%0A%20%20%20%20%20%20%20%20%0A%20%20%20%20%0A%20%20%20%20%0A%20%20%20%20%20%20%20%20%20%20%20%20var%20circle_marker_bcdbd47652114a0c8fa8552440933489%20%3D%20L.circleMarker%28%0A%20%20%20%20%20%20%20%20%20%20%20%20%20%20%20%20%5B43.6689985%2C%20-79.31557159999998%5D%2C%0A%20%20%20%20%20%20%20%20%20%20%20%20%20%20%20%20%7B%22bubblingMouseEvents%22%3A%20true%2C%20%22color%22%3A%20%22%23ff0000%22%2C%20%22dashArray%22%3A%20null%2C%20%22dashOffset%22%3A%20null%2C%20%22fill%22%3A%20true%2C%20%22fillColor%22%3A%20%22%23ff0000%22%2C%20%22fillOpacity%22%3A%200.7%2C%20%22fillRule%22%3A%20%22evenodd%22%2C%20%22lineCap%22%3A%20%22round%22%2C%20%22lineJoin%22%3A%20%22round%22%2C%20%22opacity%22%3A%201.0%2C%20%22radius%22%3A%205%2C%20%22stroke%22%3A%20true%2C%20%22weight%22%3A%203%7D%0A%20%20%20%20%20%20%20%20%20%20%20%20%29.addTo%28map_8f2ce8572d1c42fbadeaa75fa45da255%29%3B%0A%20%20%20%20%20%20%20%20%0A%20%20%20%20%0A%20%20%20%20%20%20%20%20var%20popup_67eb5a6576b9444689b20c0286e0f49d%20%3D%20L.popup%28%7B%22maxWidth%22%3A%20%22100%25%22%7D%29%3B%0A%0A%20%20%20%20%20%20%20%20%0A%20%20%20%20%20%20%20%20%20%20%20%20var%20html_23369b4015374b9980f9c28bfd48cfc3%20%3D%20%24%28%60%3Cdiv%20id%3D%22html_23369b4015374b9980f9c28bfd48cfc3%22%20style%3D%22width%3A%20100.0%25%3B%20height%3A%20100.0%25%3B%22%3EIndia%20Bazaar%20/%20The%20Beaches%20West%20Cluster%200%3C/div%3E%60%29%5B0%5D%3B%0A%20%20%20%20%20%20%20%20%20%20%20%20popup_67eb5a6576b9444689b20c0286e0f49d.setContent%28html_23369b4015374b9980f9c28bfd48cfc3%29%3B%0A%20%20%20%20%20%20%20%20%0A%0A%20%20%20%20%20%20%20%20circle_marker_bcdbd47652114a0c8fa8552440933489.bindPopup%28popup_67eb5a6576b9444689b20c0286e0f49d%29%0A%20%20%20%20%20%20%20%20%3B%0A%0A%20%20%20%20%20%20%20%20%0A%20%20%20%20%0A%20%20%20%20%0A%20%20%20%20%20%20%20%20%20%20%20%20var%20circle_marker_dba2d054e8364c3787640ce94af9dbe5%20%3D%20L.circleMarker%28%0A%20%20%20%20%20%20%20%20%20%20%20%20%20%20%20%20%5B43.6481985%2C%20-79.37981690000001%5D%2C%0A%20%20%20%20%20%20%20%20%20%20%20%20%20%20%20%20%7B%22bubblingMouseEvents%22%3A%20true%2C%20%22color%22%3A%20%22%23ff0000%22%2C%20%22dashArray%22%3A%20null%2C%20%22dashOffset%22%3A%20null%2C%20%22fill%22%3A%20true%2C%20%22fillColor%22%3A%20%22%23ff0000%22%2C%20%22fillOpacity%22%3A%200.7%2C%20%22fillRule%22%3A%20%22evenodd%22%2C%20%22lineCap%22%3A%20%22round%22%2C%20%22lineJoin%22%3A%20%22round%22%2C%20%22opacity%22%3A%201.0%2C%20%22radius%22%3A%205%2C%20%22stroke%22%3A%20true%2C%20%22weight%22%3A%203%7D%0A%20%20%20%20%20%20%20%20%20%20%20%20%29.addTo%28map_8f2ce8572d1c42fbadeaa75fa45da255%29%3B%0A%20%20%20%20%20%20%20%20%0A%20%20%20%20%0A%20%20%20%20%20%20%20%20var%20popup_1c7f80af9ba34e2e83c1c28579132679%20%3D%20L.popup%28%7B%22maxWidth%22%3A%20%22100%25%22%7D%29%3B%0A%0A%20%20%20%20%20%20%20%20%0A%20%20%20%20%20%20%20%20%20%20%20%20var%20html_9957ea59ac40463c8374a42ac68bfc3d%20%3D%20%24%28%60%3Cdiv%20id%3D%22html_9957ea59ac40463c8374a42ac68bfc3d%22%20style%3D%22width%3A%20100.0%25%3B%20height%3A%20100.0%25%3B%22%3ECommerce%20Court%20/%20Victoria%20Hotel%20Cluster%200%3C/div%3E%60%29%5B0%5D%3B%0A%20%20%20%20%20%20%20%20%20%20%20%20popup_1c7f80af9ba34e2e83c1c28579132679.setContent%28html_9957ea59ac40463c8374a42ac68bfc3d%29%3B%0A%20%20%20%20%20%20%20%20%0A%0A%20%20%20%20%20%20%20%20circle_marker_dba2d054e8364c3787640ce94af9dbe5.bindPopup%28popup_1c7f80af9ba34e2e83c1c28579132679%29%0A%20%20%20%20%20%20%20%20%3B%0A%0A%20%20%20%20%20%20%20%20%0A%20%20%20%20%0A%20%20%20%20%0A%20%20%20%20%20%20%20%20%20%20%20%20var%20circle_marker_710d3fc3100f46f6923d0d522a0454c5%20%3D%20L.circleMarker%28%0A%20%20%20%20%20%20%20%20%20%20%20%20%20%20%20%20%5B43.6595255%2C%20-79.340923%5D%2C%0A%20%20%20%20%20%20%20%20%20%20%20%20%20%20%20%20%7B%22bubblingMouseEvents%22%3A%20true%2C%20%22color%22%3A%20%22%23ff0000%22%2C%20%22dashArray%22%3A%20null%2C%20%22dashOffset%22%3A%20null%2C%20%22fill%22%3A%20true%2C%20%22fillColor%22%3A%20%22%23ff0000%22%2C%20%22fillOpacity%22%3A%200.7%2C%20%22fillRule%22%3A%20%22evenodd%22%2C%20%22lineCap%22%3A%20%22round%22%2C%20%22lineJoin%22%3A%20%22round%22%2C%20%22opacity%22%3A%201.0%2C%20%22radius%22%3A%205%2C%20%22stroke%22%3A%20true%2C%20%22weight%22%3A%203%7D%0A%20%20%20%20%20%20%20%20%20%20%20%20%29.addTo%28map_8f2ce8572d1c42fbadeaa75fa45da255%29%3B%0A%20%20%20%20%20%20%20%20%0A%20%20%20%20%0A%20%20%20%20%20%20%20%20var%20popup_72187a9bff1c4a9d932e6aa2a905313c%20%3D%20L.popup%28%7B%22maxWidth%22%3A%20%22100%25%22%7D%29%3B%0A%0A%20%20%20%20%20%20%20%20%0A%20%20%20%20%20%20%20%20%20%20%20%20var%20html_996932f9881c44b89c3b455582bcf2ba%20%3D%20%24%28%60%3Cdiv%20id%3D%22html_996932f9881c44b89c3b455582bcf2ba%22%20style%3D%22width%3A%20100.0%25%3B%20height%3A%20100.0%25%3B%22%3EStudio%20District%20Cluster%200%3C/div%3E%60%29%5B0%5D%3B%0A%20%20%20%20%20%20%20%20%20%20%20%20popup_72187a9bff1c4a9d932e6aa2a905313c.setContent%28html_996932f9881c44b89c3b455582bcf2ba%29%3B%0A%20%20%20%20%20%20%20%20%0A%0A%20%20%20%20%20%20%20%20circle_marker_710d3fc3100f46f6923d0d522a0454c5.bindPopup%28popup_72187a9bff1c4a9d932e6aa2a905313c%29%0A%20%20%20%20%20%20%20%20%3B%0A%0A%20%20%20%20%20%20%20%20%0A%20%20%20%20%0A%20%20%20%20%0A%20%20%20%20%20%20%20%20%20%20%20%20var%20circle_marker_2296ebffb8794a6d929ada5580026f09%20%3D%20L.circleMarker%28%0A%20%20%20%20%20%20%20%20%20%20%20%20%20%20%20%20%5B43.7280205%2C%20-79.3887901%5D%2C%0A%20%20%20%20%20%20%20%20%20%20%20%20%20%20%20%20%7B%22bubblingMouseEvents%22%3A%20true%2C%20%22color%22%3A%20%22%238000ff%22%2C%20%22dashArray%22%3A%20null%2C%20%22dashOffset%22%3A%20null%2C%20%22fill%22%3A%20true%2C%20%22fillColor%22%3A%20%22%238000ff%22%2C%20%22fillOpacity%22%3A%200.7%2C%20%22fillRule%22%3A%20%22evenodd%22%2C%20%22lineCap%22%3A%20%22round%22%2C%20%22lineJoin%22%3A%20%22round%22%2C%20%22opacity%22%3A%201.0%2C%20%22radius%22%3A%205%2C%20%22stroke%22%3A%20true%2C%20%22weight%22%3A%203%7D%0A%20%20%20%20%20%20%20%20%20%20%20%20%29.addTo%28map_8f2ce8572d1c42fbadeaa75fa45da255%29%3B%0A%20%20%20%20%20%20%20%20%0A%20%20%20%20%0A%20%20%20%20%20%20%20%20var%20popup_f6aaf1e2305547c89461141fe8d6d267%20%3D%20L.popup%28%7B%22maxWidth%22%3A%20%22100%25%22%7D%29%3B%0A%0A%20%20%20%20%20%20%20%20%0A%20%20%20%20%20%20%20%20%20%20%20%20var%20html_08326d46b29c42b0af159682fb53775e%20%3D%20%24%28%60%3Cdiv%20id%3D%22html_08326d46b29c42b0af159682fb53775e%22%20style%3D%22width%3A%20100.0%25%3B%20height%3A%20100.0%25%3B%22%3ELawrence%20Park%20Cluster%201%3C/div%3E%60%29%5B0%5D%3B%0A%20%20%20%20%20%20%20%20%20%20%20%20popup_f6aaf1e2305547c89461141fe8d6d267.setContent%28html_08326d46b29c42b0af159682fb53775e%29%3B%0A%20%20%20%20%20%20%20%20%0A%0A%20%20%20%20%20%20%20%20circle_marker_2296ebffb8794a6d929ada5580026f09.bindPopup%28popup_f6aaf1e2305547c89461141fe8d6d267%29%0A%20%20%20%20%20%20%20%20%3B%0A%0A%20%20%20%20%20%20%20%20%0A%20%20%20%20%0A%20%20%20%20%0A%20%20%20%20%20%20%20%20%20%20%20%20var%20circle_marker_70a187b114084a06b4bf1030dd7cff19%20%3D%20L.circleMarker%28%0A%20%20%20%20%20%20%20%20%20%20%20%20%20%20%20%20%5B43.7116948%2C%20-79.41693559999999%5D%2C%0A%20%20%20%20%20%20%20%20%20%20%20%20%20%20%20%20%7B%22bubblingMouseEvents%22%3A%20true%2C%20%22color%22%3A%20%22%23ffb360%22%2C%20%22dashArray%22%3A%20null%2C%20%22dashOffset%22%3A%20null%2C%20%22fill%22%3A%20true%2C%20%22fillColor%22%3A%20%22%23ffb360%22%2C%20%22fillOpacity%22%3A%200.7%2C%20%22fillRule%22%3A%20%22evenodd%22%2C%20%22lineCap%22%3A%20%22round%22%2C%20%22lineJoin%22%3A%20%22round%22%2C%20%22opacity%22%3A%201.0%2C%20%22radius%22%3A%205%2C%20%22stroke%22%3A%20true%2C%20%22weight%22%3A%203%7D%0A%20%20%20%20%20%20%20%20%20%20%20%20%29.addTo%28map_8f2ce8572d1c42fbadeaa75fa45da255%29%3B%0A%20%20%20%20%20%20%20%20%0A%20%20%20%20%0A%20%20%20%20%20%20%20%20var%20popup_e3051fed9e7e45ae86ad4ea088d9385a%20%3D%20L.popup%28%7B%22maxWidth%22%3A%20%22100%25%22%7D%29%3B%0A%0A%20%20%20%20%20%20%20%20%0A%20%20%20%20%20%20%20%20%20%20%20%20var%20html_e796aaa7724147adaf4a98b2ecd4fd70%20%3D%20%24%28%60%3Cdiv%20id%3D%22html_e796aaa7724147adaf4a98b2ecd4fd70%22%20style%3D%22width%3A%20100.0%25%3B%20height%3A%20100.0%25%3B%22%3ERoselawn%20Cluster%204%3C/div%3E%60%29%5B0%5D%3B%0A%20%20%20%20%20%20%20%20%20%20%20%20popup_e3051fed9e7e45ae86ad4ea088d9385a.setContent%28html_e796aaa7724147adaf4a98b2ecd4fd70%29%3B%0A%20%20%20%20%20%20%20%20%0A%0A%20%20%20%20%20%20%20%20circle_marker_70a187b114084a06b4bf1030dd7cff19.bindPopup%28popup_e3051fed9e7e45ae86ad4ea088d9385a%29%0A%20%20%20%20%20%20%20%20%3B%0A%0A%20%20%20%20%20%20%20%20%0A%20%20%20%20%0A%20%20%20%20%0A%20%20%20%20%20%20%20%20%20%20%20%20var%20circle_marker_3624edaff6bd48a4bca2c8138a2fd82f%20%3D%20L.circleMarker%28%0A%20%20%20%20%20%20%20%20%20%20%20%20%20%20%20%20%5B43.7127511%2C%20-79.3901975%5D%2C%0A%20%20%20%20%20%20%20%20%20%20%20%20%20%20%20%20%7B%22bubblingMouseEvents%22%3A%20true%2C%20%22color%22%3A%20%22%23ff0000%22%2C%20%22dashArray%22%3A%20null%2C%20%22dashOffset%22%3A%20null%2C%20%22fill%22%3A%20true%2C%20%22fillColor%22%3A%20%22%23ff0000%22%2C%20%22fillOpacity%22%3A%200.7%2C%20%22fillRule%22%3A%20%22evenodd%22%2C%20%22lineCap%22%3A%20%22round%22%2C%20%22lineJoin%22%3A%20%22round%22%2C%20%22opacity%22%3A%201.0%2C%20%22radius%22%3A%205%2C%20%22stroke%22%3A%20true%2C%20%22weight%22%3A%203%7D%0A%20%20%20%20%20%20%20%20%20%20%20%20%29.addTo%28map_8f2ce8572d1c42fbadeaa75fa45da255%29%3B%0A%20%20%20%20%20%20%20%20%0A%20%20%20%20%0A%20%20%20%20%20%20%20%20var%20popup_63eea87f607e4a5a85da7684933dfc31%20%3D%20L.popup%28%7B%22maxWidth%22%3A%20%22100%25%22%7D%29%3B%0A%0A%20%20%20%20%20%20%20%20%0A%20%20%20%20%20%20%20%20%20%20%20%20var%20html_04c3a8b1abdb4c589716442f492bebb1%20%3D%20%24%28%60%3Cdiv%20id%3D%22html_04c3a8b1abdb4c589716442f492bebb1%22%20style%3D%22width%3A%20100.0%25%3B%20height%3A%20100.0%25%3B%22%3EDavisville%20North%20Cluster%200%3C/div%3E%60%29%5B0%5D%3B%0A%20%20%20%20%20%20%20%20%20%20%20%20popup_63eea87f607e4a5a85da7684933dfc31.setContent%28html_04c3a8b1abdb4c589716442f492bebb1%29%3B%0A%20%20%20%20%20%20%20%20%0A%0A%20%20%20%20%20%20%20%20circle_marker_3624edaff6bd48a4bca2c8138a2fd82f.bindPopup%28popup_63eea87f607e4a5a85da7684933dfc31%29%0A%20%20%20%20%20%20%20%20%3B%0A%0A%20%20%20%20%20%20%20%20%0A%20%20%20%20%0A%20%20%20%20%0A%20%20%20%20%20%20%20%20%20%20%20%20var%20circle_marker_1f7e7eb213cf4236ae71012c977b5bf0%20%3D%20L.circleMarker%28%0A%20%20%20%20%20%20%20%20%20%20%20%20%20%20%20%20%5B43.6969476%2C%20-79.41130720000001%5D%2C%0A%20%20%20%20%20%20%20%20%20%20%20%20%20%20%20%20%7B%22bubblingMouseEvents%22%3A%20true%2C%20%22color%22%3A%20%22%2380ffb4%22%2C%20%22dashArray%22%3A%20null%2C%20%22dashOffset%22%3A%20null%2C%20%22fill%22%3A%20true%2C%20%22fillColor%22%3A%20%22%2380ffb4%22%2C%20%22fillOpacity%22%3A%200.7%2C%20%22fillRule%22%3A%20%22evenodd%22%2C%20%22lineCap%22%3A%20%22round%22%2C%20%22lineJoin%22%3A%20%22round%22%2C%20%22opacity%22%3A%201.0%2C%20%22radius%22%3A%205%2C%20%22stroke%22%3A%20true%2C%20%22weight%22%3A%203%7D%0A%20%20%20%20%20%20%20%20%20%20%20%20%29.addTo%28map_8f2ce8572d1c42fbadeaa75fa45da255%29%3B%0A%20%20%20%20%20%20%20%20%0A%20%20%20%20%0A%20%20%20%20%20%20%20%20var%20popup_b83c55a373df45ff936ed35bd9f1bea2%20%3D%20L.popup%28%7B%22maxWidth%22%3A%20%22100%25%22%7D%29%3B%0A%0A%20%20%20%20%20%20%20%20%0A%20%20%20%20%20%20%20%20%20%20%20%20var%20html_335b5dd4f01f47d5beb7bb33e0d10f79%20%3D%20%24%28%60%3Cdiv%20id%3D%22html_335b5dd4f01f47d5beb7bb33e0d10f79%22%20style%3D%22width%3A%20100.0%25%3B%20height%3A%20100.0%25%3B%22%3EForest%20Hill%20North%20%26amp%3B%20West%20Cluster%203%3C/div%3E%60%29%5B0%5D%3B%0A%20%20%20%20%20%20%20%20%20%20%20%20popup_b83c55a373df45ff936ed35bd9f1bea2.setContent%28html_335b5dd4f01f47d5beb7bb33e0d10f79%29%3B%0A%20%20%20%20%20%20%20%20%0A%0A%20%20%20%20%20%20%20%20circle_marker_1f7e7eb213cf4236ae71012c977b5bf0.bindPopup%28popup_b83c55a373df45ff936ed35bd9f1bea2%29%0A%20%20%20%20%20%20%20%20%3B%0A%0A%20%20%20%20%20%20%20%20%0A%20%20%20%20%0A%20%20%20%20%0A%20%20%20%20%20%20%20%20%20%20%20%20var%20circle_marker_0485d9c6d9234dee97b4e18b8d60cf8e%20%3D%20L.circleMarker%28%0A%20%20%20%20%20%20%20%20%20%20%20%20%20%20%20%20%5B43.6616083%2C%20-79.46476329999999%5D%2C%0A%20%20%20%20%20%20%20%20%20%20%20%20%20%20%20%20%7B%22bubblingMouseEvents%22%3A%20true%2C%20%22color%22%3A%20%22%23ff0000%22%2C%20%22dashArray%22%3A%20null%2C%20%22dashOffset%22%3A%20null%2C%20%22fill%22%3A%20true%2C%20%22fillColor%22%3A%20%22%23ff0000%22%2C%20%22fillOpacity%22%3A%200.7%2C%20%22fillRule%22%3A%20%22evenodd%22%2C%20%22lineCap%22%3A%20%22round%22%2C%20%22lineJoin%22%3A%20%22round%22%2C%20%22opacity%22%3A%201.0%2C%20%22radius%22%3A%205%2C%20%22stroke%22%3A%20true%2C%20%22weight%22%3A%203%7D%0A%20%20%20%20%20%20%20%20%20%20%20%20%29.addTo%28map_8f2ce8572d1c42fbadeaa75fa45da255%29%3B%0A%20%20%20%20%20%20%20%20%0A%20%20%20%20%0A%20%20%20%20%20%20%20%20var%20popup_f2506773d8da41b18258fab5a16ffe2c%20%3D%20L.popup%28%7B%22maxWidth%22%3A%20%22100%25%22%7D%29%3B%0A%0A%20%20%20%20%20%20%20%20%0A%20%20%20%20%20%20%20%20%20%20%20%20var%20html_b28ca84171524ff9a2c7a8ce419772ab%20%3D%20%24%28%60%3Cdiv%20id%3D%22html_b28ca84171524ff9a2c7a8ce419772ab%22%20style%3D%22width%3A%20100.0%25%3B%20height%3A%20100.0%25%3B%22%3EHigh%20Park%20/%20The%20Junction%20South%20Cluster%200%3C/div%3E%60%29%5B0%5D%3B%0A%20%20%20%20%20%20%20%20%20%20%20%20popup_f2506773d8da41b18258fab5a16ffe2c.setContent%28html_b28ca84171524ff9a2c7a8ce419772ab%29%3B%0A%20%20%20%20%20%20%20%20%0A%0A%20%20%20%20%20%20%20%20circle_marker_0485d9c6d9234dee97b4e18b8d60cf8e.bindPopup%28popup_f2506773d8da41b18258fab5a16ffe2c%29%0A%20%20%20%20%20%20%20%20%3B%0A%0A%20%20%20%20%20%20%20%20%0A%20%20%20%20%0A%20%20%20%20%0A%20%20%20%20%20%20%20%20%20%20%20%20var%20circle_marker_52f2c7c40be546e3877d28bf2ad367ee%20%3D%20L.circleMarker%28%0A%20%20%20%20%20%20%20%20%20%20%20%20%20%20%20%20%5B43.7153834%2C%20-79.40567840000001%5D%2C%0A%20%20%20%20%20%20%20%20%20%20%20%20%20%20%20%20%7B%22bubblingMouseEvents%22%3A%20true%2C%20%22color%22%3A%20%22%23ff0000%22%2C%20%22dashArray%22%3A%20null%2C%20%22dashOffset%22%3A%20null%2C%20%22fill%22%3A%20true%2C%20%22fillColor%22%3A%20%22%23ff0000%22%2C%20%22fillOpacity%22%3A%200.7%2C%20%22fillRule%22%3A%20%22evenodd%22%2C%20%22lineCap%22%3A%20%22round%22%2C%20%22lineJoin%22%3A%20%22round%22%2C%20%22opacity%22%3A%201.0%2C%20%22radius%22%3A%205%2C%20%22stroke%22%3A%20true%2C%20%22weight%22%3A%203%7D%0A%20%20%20%20%20%20%20%20%20%20%20%20%29.addTo%28map_8f2ce8572d1c42fbadeaa75fa45da255%29%3B%0A%20%20%20%20%20%20%20%20%0A%20%20%20%20%0A%20%20%20%20%20%20%20%20var%20popup_a1d2c2c54c3f4e7bac7a50ec6009aa84%20%3D%20L.popup%28%7B%22maxWidth%22%3A%20%22100%25%22%7D%29%3B%0A%0A%20%20%20%20%20%20%20%20%0A%20%20%20%20%20%20%20%20%20%20%20%20var%20html_9bc181d509eb4da8be012ec23c924603%20%3D%20%24%28%60%3Cdiv%20id%3D%22html_9bc181d509eb4da8be012ec23c924603%22%20style%3D%22width%3A%20100.0%25%3B%20height%3A%20100.0%25%3B%22%3ENorth%20Toronto%20West%20Cluster%200%3C/div%3E%60%29%5B0%5D%3B%0A%20%20%20%20%20%20%20%20%20%20%20%20popup_a1d2c2c54c3f4e7bac7a50ec6009aa84.setContent%28html_9bc181d509eb4da8be012ec23c924603%29%3B%0A%20%20%20%20%20%20%20%20%0A%0A%20%20%20%20%20%20%20%20circle_marker_52f2c7c40be546e3877d28bf2ad367ee.bindPopup%28popup_a1d2c2c54c3f4e7bac7a50ec6009aa84%29%0A%20%20%20%20%20%20%20%20%3B%0A%0A%20%20%20%20%20%20%20%20%0A%20%20%20%20%0A%20%20%20%20%0A%20%20%20%20%20%20%20%20%20%20%20%20var%20circle_marker_f36cb3ecb7df407eaa0bcb1cb61fb94e%20%3D%20L.circleMarker%28%0A%20%20%20%20%20%20%20%20%20%20%20%20%20%20%20%20%5B43.6727097%2C%20-79.40567840000001%5D%2C%0A%20%20%20%20%20%20%20%20%20%20%20%20%20%20%20%20%7B%22bubblingMouseEvents%22%3A%20true%2C%20%22color%22%3A%20%22%23ff0000%22%2C%20%22dashArray%22%3A%20null%2C%20%22dashOffset%22%3A%20null%2C%20%22fill%22%3A%20true%2C%20%22fillColor%22%3A%20%22%23ff0000%22%2C%20%22fillOpacity%22%3A%200.7%2C%20%22fillRule%22%3A%20%22evenodd%22%2C%20%22lineCap%22%3A%20%22round%22%2C%20%22lineJoin%22%3A%20%22round%22%2C%20%22opacity%22%3A%201.0%2C%20%22radius%22%3A%205%2C%20%22stroke%22%3A%20true%2C%20%22weight%22%3A%203%7D%0A%20%20%20%20%20%20%20%20%20%20%20%20%29.addTo%28map_8f2ce8572d1c42fbadeaa75fa45da255%29%3B%0A%20%20%20%20%20%20%20%20%0A%20%20%20%20%0A%20%20%20%20%20%20%20%20var%20popup_20e411f06af340e4844b954c92e21dd1%20%3D%20L.popup%28%7B%22maxWidth%22%3A%20%22100%25%22%7D%29%3B%0A%0A%20%20%20%20%20%20%20%20%0A%20%20%20%20%20%20%20%20%20%20%20%20var%20html_7d3b7be0847d45f0a23c6c1a2c80f56c%20%3D%20%24%28%60%3Cdiv%20id%3D%22html_7d3b7be0847d45f0a23c6c1a2c80f56c%22%20style%3D%22width%3A%20100.0%25%3B%20height%3A%20100.0%25%3B%22%3EThe%20Annex%20/%20North%20Midtown%20/%20Yorkville%20Cluster%200%3C/div%3E%60%29%5B0%5D%3B%0A%20%20%20%20%20%20%20%20%20%20%20%20popup_20e411f06af340e4844b954c92e21dd1.setContent%28html_7d3b7be0847d45f0a23c6c1a2c80f56c%29%3B%0A%20%20%20%20%20%20%20%20%0A%0A%20%20%20%20%20%20%20%20circle_marker_f36cb3ecb7df407eaa0bcb1cb61fb94e.bindPopup%28popup_20e411f06af340e4844b954c92e21dd1%29%0A%20%20%20%20%20%20%20%20%3B%0A%0A%20%20%20%20%20%20%20%20%0A%20%20%20%20%0A%20%20%20%20%0A%20%20%20%20%20%20%20%20%20%20%20%20var%20circle_marker_b185cb94882348a688b3142dc7c507e4%20%3D%20L.circleMarker%28%0A%20%20%20%20%20%20%20%20%20%20%20%20%20%20%20%20%5B43.6489597%2C%20-79.456325%5D%2C%0A%20%20%20%20%20%20%20%20%20%20%20%20%20%20%20%20%7B%22bubblingMouseEvents%22%3A%20true%2C%20%22color%22%3A%20%22%23ff0000%22%2C%20%22dashArray%22%3A%20null%2C%20%22dashOffset%22%3A%20null%2C%20%22fill%22%3A%20true%2C%20%22fillColor%22%3A%20%22%23ff0000%22%2C%20%22fillOpacity%22%3A%200.7%2C%20%22fillRule%22%3A%20%22evenodd%22%2C%20%22lineCap%22%3A%20%22round%22%2C%20%22lineJoin%22%3A%20%22round%22%2C%20%22opacity%22%3A%201.0%2C%20%22radius%22%3A%205%2C%20%22stroke%22%3A%20true%2C%20%22weight%22%3A%203%7D%0A%20%20%20%20%20%20%20%20%20%20%20%20%29.addTo%28map_8f2ce8572d1c42fbadeaa75fa45da255%29%3B%0A%20%20%20%20%20%20%20%20%0A%20%20%20%20%0A%20%20%20%20%20%20%20%20var%20popup_54108698863d400cb496df98cf209b0c%20%3D%20L.popup%28%7B%22maxWidth%22%3A%20%22100%25%22%7D%29%3B%0A%0A%20%20%20%20%20%20%20%20%0A%20%20%20%20%20%20%20%20%20%20%20%20var%20html_ef181dc3c2f5491483078ba0dfe9365b%20%3D%20%24%28%60%3Cdiv%20id%3D%22html_ef181dc3c2f5491483078ba0dfe9365b%22%20style%3D%22width%3A%20100.0%25%3B%20height%3A%20100.0%25%3B%22%3EParkdale%20/%20Roncesvalles%20Cluster%200%3C/div%3E%60%29%5B0%5D%3B%0A%20%20%20%20%20%20%20%20%20%20%20%20popup_54108698863d400cb496df98cf209b0c.setContent%28html_ef181dc3c2f5491483078ba0dfe9365b%29%3B%0A%20%20%20%20%20%20%20%20%0A%0A%20%20%20%20%20%20%20%20circle_marker_b185cb94882348a688b3142dc7c507e4.bindPopup%28popup_54108698863d400cb496df98cf209b0c%29%0A%20%20%20%20%20%20%20%20%3B%0A%0A%20%20%20%20%20%20%20%20%0A%20%20%20%20%0A%20%20%20%20%0A%20%20%20%20%20%20%20%20%20%20%20%20var%20circle_marker_341ec2e2cefc4968a2d6153383a8026c%20%3D%20L.circleMarker%28%0A%20%20%20%20%20%20%20%20%20%20%20%20%20%20%20%20%5B43.7043244%2C%20-79.3887901%5D%2C%0A%20%20%20%20%20%20%20%20%20%20%20%20%20%20%20%20%7B%22bubblingMouseEvents%22%3A%20true%2C%20%22color%22%3A%20%22%23ff0000%22%2C%20%22dashArray%22%3A%20null%2C%20%22dashOffset%22%3A%20null%2C%20%22fill%22%3A%20true%2C%20%22fillColor%22%3A%20%22%23ff0000%22%2C%20%22fillOpacity%22%3A%200.7%2C%20%22fillRule%22%3A%20%22evenodd%22%2C%20%22lineCap%22%3A%20%22round%22%2C%20%22lineJoin%22%3A%20%22round%22%2C%20%22opacity%22%3A%201.0%2C%20%22radius%22%3A%205%2C%20%22stroke%22%3A%20true%2C%20%22weight%22%3A%203%7D%0A%20%20%20%20%20%20%20%20%20%20%20%20%29.addTo%28map_8f2ce8572d1c42fbadeaa75fa45da255%29%3B%0A%20%20%20%20%20%20%20%20%0A%20%20%20%20%0A%20%20%20%20%20%20%20%20var%20popup_d85bb2b352dc401ba60ad06465ddb777%20%3D%20L.popup%28%7B%22maxWidth%22%3A%20%22100%25%22%7D%29%3B%0A%0A%20%20%20%20%20%20%20%20%0A%20%20%20%20%20%20%20%20%20%20%20%20var%20html_b009dd6ce8144844807d32acd34e593f%20%3D%20%24%28%60%3Cdiv%20id%3D%22html_b009dd6ce8144844807d32acd34e593f%22%20style%3D%22width%3A%20100.0%25%3B%20height%3A%20100.0%25%3B%22%3EDavisville%20Cluster%200%3C/div%3E%60%29%5B0%5D%3B%0A%20%20%20%20%20%20%20%20%20%20%20%20popup_d85bb2b352dc401ba60ad06465ddb777.setContent%28html_b009dd6ce8144844807d32acd34e593f%29%3B%0A%20%20%20%20%20%20%20%20%0A%0A%20%20%20%20%20%20%20%20circle_marker_341ec2e2cefc4968a2d6153383a8026c.bindPopup%28popup_d85bb2b352dc401ba60ad06465ddb777%29%0A%20%20%20%20%20%20%20%20%3B%0A%0A%20%20%20%20%20%20%20%20%0A%20%20%20%20%0A%20%20%20%20%0A%20%20%20%20%20%20%20%20%20%20%20%20var%20circle_marker_9af9c84938164ea3adaa9d7951a09679%20%3D%20L.circleMarker%28%0A%20%20%20%20%20%20%20%20%20%20%20%20%20%20%20%20%5B43.6626956%2C%20-79.4000493%5D%2C%0A%20%20%20%20%20%20%20%20%20%20%20%20%20%20%20%20%7B%22bubblingMouseEvents%22%3A%20true%2C%20%22color%22%3A%20%22%23ff0000%22%2C%20%22dashArray%22%3A%20null%2C%20%22dashOffset%22%3A%20null%2C%20%22fill%22%3A%20true%2C%20%22fillColor%22%3A%20%22%23ff0000%22%2C%20%22fillOpacity%22%3A%200.7%2C%20%22fillRule%22%3A%20%22evenodd%22%2C%20%22lineCap%22%3A%20%22round%22%2C%20%22lineJoin%22%3A%20%22round%22%2C%20%22opacity%22%3A%201.0%2C%20%22radius%22%3A%205%2C%20%22stroke%22%3A%20true%2C%20%22weight%22%3A%203%7D%0A%20%20%20%20%20%20%20%20%20%20%20%20%29.addTo%28map_8f2ce8572d1c42fbadeaa75fa45da255%29%3B%0A%20%20%20%20%20%20%20%20%0A%20%20%20%20%0A%20%20%20%20%20%20%20%20var%20popup_6844c07f15f440749a40e5d775ec7d00%20%3D%20L.popup%28%7B%22maxWidth%22%3A%20%22100%25%22%7D%29%3B%0A%0A%20%20%20%20%20%20%20%20%0A%20%20%20%20%20%20%20%20%20%20%20%20var%20html_3b48bd8cfda349aca9a2d6e59686ba00%20%3D%20%24%28%60%3Cdiv%20id%3D%22html_3b48bd8cfda349aca9a2d6e59686ba00%22%20style%3D%22width%3A%20100.0%25%3B%20height%3A%20100.0%25%3B%22%3EUniversity%20of%20Toronto%20/%20Harbord%20Cluster%200%3C/div%3E%60%29%5B0%5D%3B%0A%20%20%20%20%20%20%20%20%20%20%20%20popup_6844c07f15f440749a40e5d775ec7d00.setContent%28html_3b48bd8cfda349aca9a2d6e59686ba00%29%3B%0A%20%20%20%20%20%20%20%20%0A%0A%20%20%20%20%20%20%20%20circle_marker_9af9c84938164ea3adaa9d7951a09679.bindPopup%28popup_6844c07f15f440749a40e5d775ec7d00%29%0A%20%20%20%20%20%20%20%20%3B%0A%0A%20%20%20%20%20%20%20%20%0A%20%20%20%20%0A%20%20%20%20%0A%20%20%20%20%20%20%20%20%20%20%20%20var%20circle_marker_6cc25825ec034025bf4ba8c0e432e03b%20%3D%20L.circleMarker%28%0A%20%20%20%20%20%20%20%20%20%20%20%20%20%20%20%20%5B43.6515706%2C%20-79.4844499%5D%2C%0A%20%20%20%20%20%20%20%20%20%20%20%20%20%20%20%20%7B%22bubblingMouseEvents%22%3A%20true%2C%20%22color%22%3A%20%22%23ff0000%22%2C%20%22dashArray%22%3A%20null%2C%20%22dashOffset%22%3A%20null%2C%20%22fill%22%3A%20true%2C%20%22fillColor%22%3A%20%22%23ff0000%22%2C%20%22fillOpacity%22%3A%200.7%2C%20%22fillRule%22%3A%20%22evenodd%22%2C%20%22lineCap%22%3A%20%22round%22%2C%20%22lineJoin%22%3A%20%22round%22%2C%20%22opacity%22%3A%201.0%2C%20%22radius%22%3A%205%2C%20%22stroke%22%3A%20true%2C%20%22weight%22%3A%203%7D%0A%20%20%20%20%20%20%20%20%20%20%20%20%29.addTo%28map_8f2ce8572d1c42fbadeaa75fa45da255%29%3B%0A%20%20%20%20%20%20%20%20%0A%20%20%20%20%0A%20%20%20%20%20%20%20%20var%20popup_f808c63591a1425e8d864d886274d134%20%3D%20L.popup%28%7B%22maxWidth%22%3A%20%22100%25%22%7D%29%3B%0A%0A%20%20%20%20%20%20%20%20%0A%20%20%20%20%20%20%20%20%20%20%20%20var%20html_f4953b294da444a1ae6cee8d8278165a%20%3D%20%24%28%60%3Cdiv%20id%3D%22html_f4953b294da444a1ae6cee8d8278165a%22%20style%3D%22width%3A%20100.0%25%3B%20height%3A%20100.0%25%3B%22%3ERunnymede%20/%20Swansea%20Cluster%200%3C/div%3E%60%29%5B0%5D%3B%0A%20%20%20%20%20%20%20%20%20%20%20%20popup_f808c63591a1425e8d864d886274d134.setContent%28html_f4953b294da444a1ae6cee8d8278165a%29%3B%0A%20%20%20%20%20%20%20%20%0A%0A%20%20%20%20%20%20%20%20circle_marker_6cc25825ec034025bf4ba8c0e432e03b.bindPopup%28popup_f808c63591a1425e8d864d886274d134%29%0A%20%20%20%20%20%20%20%20%3B%0A%0A%20%20%20%20%20%20%20%20%0A%20%20%20%20%0A%20%20%20%20%0A%20%20%20%20%20%20%20%20%20%20%20%20var%20circle_marker_eb44f5465f8748d8b502582f133e572f%20%3D%20L.circleMarker%28%0A%20%20%20%20%20%20%20%20%20%20%20%20%20%20%20%20%5B43.6895743%2C%20-79.38315990000001%5D%2C%0A%20%20%20%20%20%20%20%20%20%20%20%20%20%20%20%20%7B%22bubblingMouseEvents%22%3A%20true%2C%20%22color%22%3A%20%22%238000ff%22%2C%20%22dashArray%22%3A%20null%2C%20%22dashOffset%22%3A%20null%2C%20%22fill%22%3A%20true%2C%20%22fillColor%22%3A%20%22%238000ff%22%2C%20%22fillOpacity%22%3A%200.7%2C%20%22fillRule%22%3A%20%22evenodd%22%2C%20%22lineCap%22%3A%20%22round%22%2C%20%22lineJoin%22%3A%20%22round%22%2C%20%22opacity%22%3A%201.0%2C%20%22radius%22%3A%205%2C%20%22stroke%22%3A%20true%2C%20%22weight%22%3A%203%7D%0A%20%20%20%20%20%20%20%20%20%20%20%20%29.addTo%28map_8f2ce8572d1c42fbadeaa75fa45da255%29%3B%0A%20%20%20%20%20%20%20%20%0A%20%20%20%20%0A%20%20%20%20%20%20%20%20var%20popup_608914fc46224cf99937c10cbeb63a3a%20%3D%20L.popup%28%7B%22maxWidth%22%3A%20%22100%25%22%7D%29%3B%0A%0A%20%20%20%20%20%20%20%20%0A%20%20%20%20%20%20%20%20%20%20%20%20var%20html_8e321a50041d4b8997ccbcb07cc44a85%20%3D%20%24%28%60%3Cdiv%20id%3D%22html_8e321a50041d4b8997ccbcb07cc44a85%22%20style%3D%22width%3A%20100.0%25%3B%20height%3A%20100.0%25%3B%22%3EMoore%20Park%20/%20Summerhill%20East%20Cluster%201%3C/div%3E%60%29%5B0%5D%3B%0A%20%20%20%20%20%20%20%20%20%20%20%20popup_608914fc46224cf99937c10cbeb63a3a.setContent%28html_8e321a50041d4b8997ccbcb07cc44a85%29%3B%0A%20%20%20%20%20%20%20%20%0A%0A%20%20%20%20%20%20%20%20circle_marker_eb44f5465f8748d8b502582f133e572f.bindPopup%28popup_608914fc46224cf99937c10cbeb63a3a%29%0A%20%20%20%20%20%20%20%20%3B%0A%0A%20%20%20%20%20%20%20%20%0A%20%20%20%20%0A%20%20%20%20%0A%20%20%20%20%20%20%20%20%20%20%20%20var%20circle_marker_ada465ed446b4dd59af2ae2e1c88981c%20%3D%20L.circleMarker%28%0A%20%20%20%20%20%20%20%20%20%20%20%20%20%20%20%20%5B43.6532057%2C%20-79.4000493%5D%2C%0A%20%20%20%20%20%20%20%20%20%20%20%20%20%20%20%20%7B%22bubblingMouseEvents%22%3A%20true%2C%20%22color%22%3A%20%22%23ff0000%22%2C%20%22dashArray%22%3A%20null%2C%20%22dashOffset%22%3A%20null%2C%20%22fill%22%3A%20true%2C%20%22fillColor%22%3A%20%22%23ff0000%22%2C%20%22fillOpacity%22%3A%200.7%2C%20%22fillRule%22%3A%20%22evenodd%22%2C%20%22lineCap%22%3A%20%22round%22%2C%20%22lineJoin%22%3A%20%22round%22%2C%20%22opacity%22%3A%201.0%2C%20%22radius%22%3A%205%2C%20%22stroke%22%3A%20true%2C%20%22weight%22%3A%203%7D%0A%20%20%20%20%20%20%20%20%20%20%20%20%29.addTo%28map_8f2ce8572d1c42fbadeaa75fa45da255%29%3B%0A%20%20%20%20%20%20%20%20%0A%20%20%20%20%0A%20%20%20%20%20%20%20%20var%20popup_c3696f0b82f746eb9e0e595247226e03%20%3D%20L.popup%28%7B%22maxWidth%22%3A%20%22100%25%22%7D%29%3B%0A%0A%20%20%20%20%20%20%20%20%0A%20%20%20%20%20%20%20%20%20%20%20%20var%20html_c7495207668c494d9de9dfc759130a48%20%3D%20%24%28%60%3Cdiv%20id%3D%22html_c7495207668c494d9de9dfc759130a48%22%20style%3D%22width%3A%20100.0%25%3B%20height%3A%20100.0%25%3B%22%3EKensington%20Market%20/%20Chinatown%20/%20Grange%20Park%20Cluster%200%3C/div%3E%60%29%5B0%5D%3B%0A%20%20%20%20%20%20%20%20%20%20%20%20popup_c3696f0b82f746eb9e0e595247226e03.setContent%28html_c7495207668c494d9de9dfc759130a48%29%3B%0A%20%20%20%20%20%20%20%20%0A%0A%20%20%20%20%20%20%20%20circle_marker_ada465ed446b4dd59af2ae2e1c88981c.bindPopup%28popup_c3696f0b82f746eb9e0e595247226e03%29%0A%20%20%20%20%20%20%20%20%3B%0A%0A%20%20%20%20%20%20%20%20%0A%20%20%20%20%0A%20%20%20%20%0A%20%20%20%20%20%20%20%20%20%20%20%20var%20circle_marker_76040b67a35145079da55401faaf30eb%20%3D%20L.circleMarker%28%0A%20%20%20%20%20%20%20%20%20%20%20%20%20%20%20%20%5B43.68641229999999%2C%20-79.4000493%5D%2C%0A%20%20%20%20%20%20%20%20%20%20%20%20%20%20%20%20%7B%22bubblingMouseEvents%22%3A%20true%2C%20%22color%22%3A%20%22%23ff0000%22%2C%20%22dashArray%22%3A%20null%2C%20%22dashOffset%22%3A%20null%2C%20%22fill%22%3A%20true%2C%20%22fillColor%22%3A%20%22%23ff0000%22%2C%20%22fillOpacity%22%3A%200.7%2C%20%22fillRule%22%3A%20%22evenodd%22%2C%20%22lineCap%22%3A%20%22round%22%2C%20%22lineJoin%22%3A%20%22round%22%2C%20%22opacity%22%3A%201.0%2C%20%22radius%22%3A%205%2C%20%22stroke%22%3A%20true%2C%20%22weight%22%3A%203%7D%0A%20%20%20%20%20%20%20%20%20%20%20%20%29.addTo%28map_8f2ce8572d1c42fbadeaa75fa45da255%29%3B%0A%20%20%20%20%20%20%20%20%0A%20%20%20%20%0A%20%20%20%20%20%20%20%20var%20popup_5370e9515360400196c92486094272a3%20%3D%20L.popup%28%7B%22maxWidth%22%3A%20%22100%25%22%7D%29%3B%0A%0A%20%20%20%20%20%20%20%20%0A%20%20%20%20%20%20%20%20%20%20%20%20var%20html_8e3b9e0819db4d9d806f4fc043033a70%20%3D%20%24%28%60%3Cdiv%20id%3D%22html_8e3b9e0819db4d9d806f4fc043033a70%22%20style%3D%22width%3A%20100.0%25%3B%20height%3A%20100.0%25%3B%22%3ESummerhill%20West%20/%20Rathnelly%20/%20South%20Hill%20/%20Forest%20Hill%20SE%20/%20Deer%20Park%20Cluster%200%3C/div%3E%60%29%5B0%5D%3B%0A%20%20%20%20%20%20%20%20%20%20%20%20popup_5370e9515360400196c92486094272a3.setContent%28html_8e3b9e0819db4d9d806f4fc043033a70%29%3B%0A%20%20%20%20%20%20%20%20%0A%0A%20%20%20%20%20%20%20%20circle_marker_76040b67a35145079da55401faaf30eb.bindPopup%28popup_5370e9515360400196c92486094272a3%29%0A%20%20%20%20%20%20%20%20%3B%0A%0A%20%20%20%20%20%20%20%20%0A%20%20%20%20%0A%20%20%20%20%0A%20%20%20%20%20%20%20%20%20%20%20%20var%20circle_marker_0833b6bab67e4bea9493acff1c369015%20%3D%20L.circleMarker%28%0A%20%20%20%20%20%20%20%20%20%20%20%20%20%20%20%20%5B43.6289467%2C%20-79.3944199%5D%2C%0A%20%20%20%20%20%20%20%20%20%20%20%20%20%20%20%20%7B%22bubblingMouseEvents%22%3A%20true%2C%20%22color%22%3A%20%22%23ff0000%22%2C%20%22dashArray%22%3A%20null%2C%20%22dashOffset%22%3A%20null%2C%20%22fill%22%3A%20true%2C%20%22fillColor%22%3A%20%22%23ff0000%22%2C%20%22fillOpacity%22%3A%200.7%2C%20%22fillRule%22%3A%20%22evenodd%22%2C%20%22lineCap%22%3A%20%22round%22%2C%20%22lineJoin%22%3A%20%22round%22%2C%20%22opacity%22%3A%201.0%2C%20%22radius%22%3A%205%2C%20%22stroke%22%3A%20true%2C%20%22weight%22%3A%203%7D%0A%20%20%20%20%20%20%20%20%20%20%20%20%29.addTo%28map_8f2ce8572d1c42fbadeaa75fa45da255%29%3B%0A%20%20%20%20%20%20%20%20%0A%20%20%20%20%0A%20%20%20%20%20%20%20%20var%20popup_f2e22a1b21cd4ed79caa9303f8bd7569%20%3D%20L.popup%28%7B%22maxWidth%22%3A%20%22100%25%22%7D%29%3B%0A%0A%20%20%20%20%20%20%20%20%0A%20%20%20%20%20%20%20%20%20%20%20%20var%20html_4505574a9f494c7d97964559ddc2ded2%20%3D%20%24%28%60%3Cdiv%20id%3D%22html_4505574a9f494c7d97964559ddc2ded2%22%20style%3D%22width%3A%20100.0%25%3B%20height%3A%20100.0%25%3B%22%3ECN%20Tower%20/%20King%20and%20Spadina%20/%20Railway%20Lands%20/%20Harbourfront%20West%20/%20Bathurst%20Quay%20/%20South%20Niagara%20/%20Island%20airport%20Cluster%200%3C/div%3E%60%29%5B0%5D%3B%0A%20%20%20%20%20%20%20%20%20%20%20%20popup_f2e22a1b21cd4ed79caa9303f8bd7569.setContent%28html_4505574a9f494c7d97964559ddc2ded2%29%3B%0A%20%20%20%20%20%20%20%20%0A%0A%20%20%20%20%20%20%20%20circle_marker_0833b6bab67e4bea9493acff1c369015.bindPopup%28popup_f2e22a1b21cd4ed79caa9303f8bd7569%29%0A%20%20%20%20%20%20%20%20%3B%0A%0A%20%20%20%20%20%20%20%20%0A%20%20%20%20%0A%20%20%20%20%0A%20%20%20%20%20%20%20%20%20%20%20%20var%20circle_marker_207519de6cb34976b923dffa09c5a1f0%20%3D%20L.circleMarker%28%0A%20%20%20%20%20%20%20%20%20%20%20%20%20%20%20%20%5B43.6795626%2C%20-79.37752940000001%5D%2C%0A%20%20%20%20%20%20%20%20%20%20%20%20%20%20%20%20%7B%22bubblingMouseEvents%22%3A%20true%2C%20%22color%22%3A%20%22%238000ff%22%2C%20%22dashArray%22%3A%20null%2C%20%22dashOffset%22%3A%20null%2C%20%22fill%22%3A%20true%2C%20%22fillColor%22%3A%20%22%238000ff%22%2C%20%22fillOpacity%22%3A%200.7%2C%20%22fillRule%22%3A%20%22evenodd%22%2C%20%22lineCap%22%3A%20%22round%22%2C%20%22lineJoin%22%3A%20%22round%22%2C%20%22opacity%22%3A%201.0%2C%20%22radius%22%3A%205%2C%20%22stroke%22%3A%20true%2C%20%22weight%22%3A%203%7D%0A%20%20%20%20%20%20%20%20%20%20%20%20%29.addTo%28map_8f2ce8572d1c42fbadeaa75fa45da255%29%3B%0A%20%20%20%20%20%20%20%20%0A%20%20%20%20%0A%20%20%20%20%20%20%20%20var%20popup_51cae50a021947a3b59b5404b072a0f4%20%3D%20L.popup%28%7B%22maxWidth%22%3A%20%22100%25%22%7D%29%3B%0A%0A%20%20%20%20%20%20%20%20%0A%20%20%20%20%20%20%20%20%20%20%20%20var%20html_3f546661c059430992a50d8a92373a3a%20%3D%20%24%28%60%3Cdiv%20id%3D%22html_3f546661c059430992a50d8a92373a3a%22%20style%3D%22width%3A%20100.0%25%3B%20height%3A%20100.0%25%3B%22%3ERosedale%20Cluster%201%3C/div%3E%60%29%5B0%5D%3B%0A%20%20%20%20%20%20%20%20%20%20%20%20popup_51cae50a021947a3b59b5404b072a0f4.setContent%28html_3f546661c059430992a50d8a92373a3a%29%3B%0A%20%20%20%20%20%20%20%20%0A%0A%20%20%20%20%20%20%20%20circle_marker_207519de6cb34976b923dffa09c5a1f0.bindPopup%28popup_51cae50a021947a3b59b5404b072a0f4%29%0A%20%20%20%20%20%20%20%20%3B%0A%0A%20%20%20%20%20%20%20%20%0A%20%20%20%20%0A%20%20%20%20%0A%20%20%20%20%20%20%20%20%20%20%20%20var%20circle_marker_c400952914ce432b9267e7bceedff50f%20%3D%20L.circleMarker%28%0A%20%20%20%20%20%20%20%20%20%20%20%20%20%20%20%20%5B43.6464352%2C%20-79.37484599999999%5D%2C%0A%20%20%20%20%20%20%20%20%20%20%20%20%20%20%20%20%7B%22bubblingMouseEvents%22%3A%20true%2C%20%22color%22%3A%20%22%23ff0000%22%2C%20%22dashArray%22%3A%20null%2C%20%22dashOffset%22%3A%20null%2C%20%22fill%22%3A%20true%2C%20%22fillColor%22%3A%20%22%23ff0000%22%2C%20%22fillOpacity%22%3A%200.7%2C%20%22fillRule%22%3A%20%22evenodd%22%2C%20%22lineCap%22%3A%20%22round%22%2C%20%22lineJoin%22%3A%20%22round%22%2C%20%22opacity%22%3A%201.0%2C%20%22radius%22%3A%205%2C%20%22stroke%22%3A%20true%2C%20%22weight%22%3A%203%7D%0A%20%20%20%20%20%20%20%20%20%20%20%20%29.addTo%28map_8f2ce8572d1c42fbadeaa75fa45da255%29%3B%0A%20%20%20%20%20%20%20%20%0A%20%20%20%20%0A%20%20%20%20%20%20%20%20var%20popup_932684dd6240433fad91fdae1c5a7725%20%3D%20L.popup%28%7B%22maxWidth%22%3A%20%22100%25%22%7D%29%3B%0A%0A%20%20%20%20%20%20%20%20%0A%20%20%20%20%20%20%20%20%20%20%20%20var%20html_8dd6608aaee54d6f9b61f175c2454ed3%20%3D%20%24%28%60%3Cdiv%20id%3D%22html_8dd6608aaee54d6f9b61f175c2454ed3%22%20style%3D%22width%3A%20100.0%25%3B%20height%3A%20100.0%25%3B%22%3EEnclave%20of%20M5E%20Cluster%200%3C/div%3E%60%29%5B0%5D%3B%0A%20%20%20%20%20%20%20%20%20%20%20%20popup_932684dd6240433fad91fdae1c5a7725.setContent%28html_8dd6608aaee54d6f9b61f175c2454ed3%29%3B%0A%20%20%20%20%20%20%20%20%0A%0A%20%20%20%20%20%20%20%20circle_marker_c400952914ce432b9267e7bceedff50f.bindPopup%28popup_932684dd6240433fad91fdae1c5a7725%29%0A%20%20%20%20%20%20%20%20%3B%0A%0A%20%20%20%20%20%20%20%20%0A%20%20%20%20%0A%20%20%20%20%0A%20%20%20%20%20%20%20%20%20%20%20%20var%20circle_marker_c7909709c4814635ba19163cf208a80c%20%3D%20L.circleMarker%28%0A%20%20%20%20%20%20%20%20%20%20%20%20%20%20%20%20%5B43.667967%2C%20-79.3676753%5D%2C%0A%20%20%20%20%20%20%20%20%20%20%20%20%20%20%20%20%7B%22bubblingMouseEvents%22%3A%20true%2C%20%22color%22%3A%20%22%23ff0000%22%2C%20%22dashArray%22%3A%20null%2C%20%22dashOffset%22%3A%20null%2C%20%22fill%22%3A%20true%2C%20%22fillColor%22%3A%20%22%23ff0000%22%2C%20%22fillOpacity%22%3A%200.7%2C%20%22fillRule%22%3A%20%22evenodd%22%2C%20%22lineCap%22%3A%20%22round%22%2C%20%22lineJoin%22%3A%20%22round%22%2C%20%22opacity%22%3A%201.0%2C%20%22radius%22%3A%205%2C%20%22stroke%22%3A%20true%2C%20%22weight%22%3A%203%7D%0A%20%20%20%20%20%20%20%20%20%20%20%20%29.addTo%28map_8f2ce8572d1c42fbadeaa75fa45da255%29%3B%0A%20%20%20%20%20%20%20%20%0A%20%20%20%20%0A%20%20%20%20%20%20%20%20var%20popup_d4d32593cb514df2a60bac9880bdff55%20%3D%20L.popup%28%7B%22maxWidth%22%3A%20%22100%25%22%7D%29%3B%0A%0A%20%20%20%20%20%20%20%20%0A%20%20%20%20%20%20%20%20%20%20%20%20var%20html_6c33a78d5a4e43f58c3aaf552005ae6c%20%3D%20%24%28%60%3Cdiv%20id%3D%22html_6c33a78d5a4e43f58c3aaf552005ae6c%22%20style%3D%22width%3A%20100.0%25%3B%20height%3A%20100.0%25%3B%22%3ESt.%20James%20Town%20/%20Cabbagetown%20Cluster%200%3C/div%3E%60%29%5B0%5D%3B%0A%20%20%20%20%20%20%20%20%20%20%20%20popup_d4d32593cb514df2a60bac9880bdff55.setContent%28html_6c33a78d5a4e43f58c3aaf552005ae6c%29%3B%0A%20%20%20%20%20%20%20%20%0A%0A%20%20%20%20%20%20%20%20circle_marker_c7909709c4814635ba19163cf208a80c.bindPopup%28popup_d4d32593cb514df2a60bac9880bdff55%29%0A%20%20%20%20%20%20%20%20%3B%0A%0A%20%20%20%20%20%20%20%20%0A%20%20%20%20%0A%20%20%20%20%0A%20%20%20%20%20%20%20%20%20%20%20%20var%20circle_marker_6ab4506e0b6840e6bbed1c1aa1273937%20%3D%20L.circleMarker%28%0A%20%20%20%20%20%20%20%20%20%20%20%20%20%20%20%20%5B43.6484292%2C%20-79.3822802%5D%2C%0A%20%20%20%20%20%20%20%20%20%20%20%20%20%20%20%20%7B%22bubblingMouseEvents%22%3A%20true%2C%20%22color%22%3A%20%22%23ff0000%22%2C%20%22dashArray%22%3A%20null%2C%20%22dashOffset%22%3A%20null%2C%20%22fill%22%3A%20true%2C%20%22fillColor%22%3A%20%22%23ff0000%22%2C%20%22fillOpacity%22%3A%200.7%2C%20%22fillRule%22%3A%20%22evenodd%22%2C%20%22lineCap%22%3A%20%22round%22%2C%20%22lineJoin%22%3A%20%22round%22%2C%20%22opacity%22%3A%201.0%2C%20%22radius%22%3A%205%2C%20%22stroke%22%3A%20true%2C%20%22weight%22%3A%203%7D%0A%20%20%20%20%20%20%20%20%20%20%20%20%29.addTo%28map_8f2ce8572d1c42fbadeaa75fa45da255%29%3B%0A%20%20%20%20%20%20%20%20%0A%20%20%20%20%0A%20%20%20%20%20%20%20%20var%20popup_4e33bc24aa3042e19fe0af933fe9de15%20%3D%20L.popup%28%7B%22maxWidth%22%3A%20%22100%25%22%7D%29%3B%0A%0A%20%20%20%20%20%20%20%20%0A%20%20%20%20%20%20%20%20%20%20%20%20var%20html_6634bff39a104551b74d655433e6e25d%20%3D%20%24%28%60%3Cdiv%20id%3D%22html_6634bff39a104551b74d655433e6e25d%22%20style%3D%22width%3A%20100.0%25%3B%20height%3A%20100.0%25%3B%22%3EFirst%20Canadian%20Place%20/%20Underground%20city%20Cluster%200%3C/div%3E%60%29%5B0%5D%3B%0A%20%20%20%20%20%20%20%20%20%20%20%20popup_4e33bc24aa3042e19fe0af933fe9de15.setContent%28html_6634bff39a104551b74d655433e6e25d%29%3B%0A%20%20%20%20%20%20%20%20%0A%0A%20%20%20%20%20%20%20%20circle_marker_6ab4506e0b6840e6bbed1c1aa1273937.bindPopup%28popup_4e33bc24aa3042e19fe0af933fe9de15%29%0A%20%20%20%20%20%20%20%20%3B%0A%0A%20%20%20%20%20%20%20%20%0A%20%20%20%20%0A%20%20%20%20%0A%20%20%20%20%20%20%20%20%20%20%20%20var%20circle_marker_89a4d0d8a8c24624a9d1844ba7c68a01%20%3D%20L.circleMarker%28%0A%20%20%20%20%20%20%20%20%20%20%20%20%20%20%20%20%5B43.6658599%2C%20-79.38315990000001%5D%2C%0A%20%20%20%20%20%20%20%20%20%20%20%20%20%20%20%20%7B%22bubblingMouseEvents%22%3A%20true%2C%20%22color%22%3A%20%22%23ff0000%22%2C%20%22dashArray%22%3A%20null%2C%20%22dashOffset%22%3A%20null%2C%20%22fill%22%3A%20true%2C%20%22fillColor%22%3A%20%22%23ff0000%22%2C%20%22fillOpacity%22%3A%200.7%2C%20%22fillRule%22%3A%20%22evenodd%22%2C%20%22lineCap%22%3A%20%22round%22%2C%20%22lineJoin%22%3A%20%22round%22%2C%20%22opacity%22%3A%201.0%2C%20%22radius%22%3A%205%2C%20%22stroke%22%3A%20true%2C%20%22weight%22%3A%203%7D%0A%20%20%20%20%20%20%20%20%20%20%20%20%29.addTo%28map_8f2ce8572d1c42fbadeaa75fa45da255%29%3B%0A%20%20%20%20%20%20%20%20%0A%20%20%20%20%0A%20%20%20%20%20%20%20%20var%20popup_777b81f8a629460cbb282b2905450cd1%20%3D%20L.popup%28%7B%22maxWidth%22%3A%20%22100%25%22%7D%29%3B%0A%0A%20%20%20%20%20%20%20%20%0A%20%20%20%20%20%20%20%20%20%20%20%20var%20html_0d375c33d2364d5eb4b14a045a98afb3%20%3D%20%24%28%60%3Cdiv%20id%3D%22html_0d375c33d2364d5eb4b14a045a98afb3%22%20style%3D%22width%3A%20100.0%25%3B%20height%3A%20100.0%25%3B%22%3EChurch%20and%20Wellesley%20Cluster%200%3C/div%3E%60%29%5B0%5D%3B%0A%20%20%20%20%20%20%20%20%20%20%20%20popup_777b81f8a629460cbb282b2905450cd1.setContent%28html_0d375c33d2364d5eb4b14a045a98afb3%29%3B%0A%20%20%20%20%20%20%20%20%0A%0A%20%20%20%20%20%20%20%20circle_marker_89a4d0d8a8c24624a9d1844ba7c68a01.bindPopup%28popup_777b81f8a629460cbb282b2905450cd1%29%0A%20%20%20%20%20%20%20%20%3B%0A%0A%20%20%20%20%20%20%20%20%0A%20%20%20%20%0A%20%20%20%20%0A%20%20%20%20%20%20%20%20%20%20%20%20var%20circle_marker_e5bd87dc1c41471eb1e4e89b4c5b11be%20%3D%20L.circleMarker%28%0A%20%20%20%20%20%20%20%20%20%20%20%20%20%20%20%20%5B43.6627439%2C%20-79.321558%5D%2C%0A%20%20%20%20%20%20%20%20%20%20%20%20%20%20%20%20%7B%22bubblingMouseEvents%22%3A%20true%2C%20%22color%22%3A%20%22%23ff0000%22%2C%20%22dashArray%22%3A%20null%2C%20%22dashOffset%22%3A%20null%2C%20%22fill%22%3A%20true%2C%20%22fillColor%22%3A%20%22%23ff0000%22%2C%20%22fillOpacity%22%3A%200.7%2C%20%22fillRule%22%3A%20%22evenodd%22%2C%20%22lineCap%22%3A%20%22round%22%2C%20%22lineJoin%22%3A%20%22round%22%2C%20%22opacity%22%3A%201.0%2C%20%22radius%22%3A%205%2C%20%22stroke%22%3A%20true%2C%20%22weight%22%3A%203%7D%0A%20%20%20%20%20%20%20%20%20%20%20%20%29.addTo%28map_8f2ce8572d1c42fbadeaa75fa45da255%29%3B%0A%20%20%20%20%20%20%20%20%0A%20%20%20%20%0A%20%20%20%20%20%20%20%20var%20popup_12351bac23904470ab511df1abba8514%20%3D%20L.popup%28%7B%22maxWidth%22%3A%20%22100%25%22%7D%29%3B%0A%0A%20%20%20%20%20%20%20%20%0A%20%20%20%20%20%20%20%20%20%20%20%20var%20html_ead127f816724d759d7fe90262b13702%20%3D%20%24%28%60%3Cdiv%20id%3D%22html_ead127f816724d759d7fe90262b13702%22%20style%3D%22width%3A%20100.0%25%3B%20height%3A%20100.0%25%3B%22%3EEnclave%20of%20M4L%20Cluster%200%3C/div%3E%60%29%5B0%5D%3B%0A%20%20%20%20%20%20%20%20%20%20%20%20popup_12351bac23904470ab511df1abba8514.setContent%28html_ead127f816724d759d7fe90262b13702%29%3B%0A%20%20%20%20%20%20%20%20%0A%0A%20%20%20%20%20%20%20%20circle_marker_e5bd87dc1c41471eb1e4e89b4c5b11be.bindPopup%28popup_12351bac23904470ab511df1abba8514%29%0A%20%20%20%20%20%20%20%20%3B%0A%0A%20%20%20%20%20%20%20%20%0A%20%20%20%20%0A%3C/script%3E onload=\"this.contentDocument.open();this.contentDocument.write(    decodeURIComponent(this.getAttribute('data-html')));this.contentDocument.close();\" allowfullscreen webkitallowfullscreen mozallowfullscreen></iframe></div></div>"
     },
     "metadata": {},
     "execution_count": 127
    }
   ],
   "source": [
    "# create map\n",
    "map_clusters = folium.Map(location=[latitude, longitude], zoom_start=11)\n",
    "\n",
    "# set color scheme for the clusters\n",
    "x = np.arange(kclusters)\n",
    "ys = [i + x + (i*x)**2 for i in range(kclusters)]\n",
    "colors_array = cm.rainbow(np.linspace(0, 1, len(ys)))\n",
    "rainbow = [colors.rgb2hex(i) for i in colors_array]\n",
    "\n",
    "# add markers to the map\n",
    "markers_colors = []\n",
    "for lat, lon, poi, cluster in zip(toronto_merged['Latitude'], toronto_merged['Longitude'], toronto_merged['Neighborhood'], toronto_merged['Cluster Labels']):\n",
    "    label = folium.Popup(str(poi) + ' Cluster ' + str(cluster), parse_html=True)\n",
    "    folium.CircleMarker(\n",
    "        [lat, lon],\n",
    "        radius=5,\n",
    "        popup=label,\n",
    "        color=rainbow[cluster-1],\n",
    "        fill=True,\n",
    "        fill_color=rainbow[cluster-1],\n",
    "        fill_opacity=0.7).add_to(map_clusters)\n",
    "       \n",
    "map_clusters"
   ]
  },
  {
   "source": [
    "### EXAMINE EACH CLUSTER"
   ],
   "cell_type": "markdown",
   "metadata": {}
  },
  {
   "source": [
    "CLUSTER 0"
   ],
   "cell_type": "markdown",
   "metadata": {}
  },
  {
   "cell_type": "code",
   "execution_count": 128,
   "metadata": {},
   "outputs": [
    {
     "output_type": "execute_result",
     "data": {
      "text/plain": [
       "                                              Borough  Cluster Labels  \\\n",
       "0                                    Downtown Toronto               0   \n",
       "1                                    Downtown Toronto               0   \n",
       "2                                    Downtown Toronto               0   \n",
       "3                                        East Toronto               0   \n",
       "4                                    Downtown Toronto               0   \n",
       "5                                    Downtown Toronto               0   \n",
       "6                                    Downtown Toronto               0   \n",
       "7                                    Downtown Toronto               0   \n",
       "8                                        West Toronto               0   \n",
       "10                                   Downtown Toronto               0   \n",
       "11                                       West Toronto               0   \n",
       "12                                       East Toronto               0   \n",
       "13                                   Downtown Toronto               0   \n",
       "14                                       West Toronto               0   \n",
       "15                                       East Toronto               0   \n",
       "16                                   Downtown Toronto               0   \n",
       "17                                       East Toronto               0   \n",
       "20                                    Central Toronto               0   \n",
       "22                                       West Toronto               0   \n",
       "23                                    Central Toronto               0   \n",
       "24                                    Central Toronto               0   \n",
       "25                                       West Toronto               0   \n",
       "26                                    Central Toronto               0   \n",
       "27                                   Downtown Toronto               0   \n",
       "28                                       West Toronto               0   \n",
       "30                                   Downtown Toronto               0   \n",
       "31                                    Central Toronto               0   \n",
       "32                                   Downtown Toronto               0   \n",
       "34     Downtown TorontoStn A PO Boxes25 The Esplanade               0   \n",
       "35                                   Downtown Toronto               0   \n",
       "36                                   Downtown Toronto               0   \n",
       "37                                   Downtown Toronto               0   \n",
       "38  East TorontoBusiness reply mail Processing Cen...               0   \n",
       "\n",
       "   1st Most Common Venue 2nd Most Common Venue  3rd Most Common Venue  \\\n",
       "0            Coffee Shop                Bakery                   Park   \n",
       "1            Coffee Shop        Clothing Store     Italian Restaurant   \n",
       "2            Coffee Shop                  Café              Gastropub   \n",
       "3      Health Food Store                 Trail                    Pub   \n",
       "4            Coffee Shop          Cocktail Bar                 Bakery   \n",
       "5            Coffee Shop        Sandwich Place                   Café   \n",
       "6          Grocery Store                  Café                   Park   \n",
       "7            Coffee Shop                  Café        Thai Restaurant   \n",
       "8                 Bakery              Pharmacy           Liquor Store   \n",
       "10           Coffee Shop              Aquarium                  Hotel   \n",
       "11                   Bar           Men's Store             Restaurant   \n",
       "12      Greek Restaurant           Coffee Shop     Italian Restaurant   \n",
       "13           Coffee Shop                 Hotel                   Café   \n",
       "14                  Café           Coffee Shop         Breakfast Spot   \n",
       "15                  Park        Sandwich Place   Fast Food Restaurant   \n",
       "16           Coffee Shop            Restaurant                  Hotel   \n",
       "17           Coffee Shop   American Restaurant                 Bakery   \n",
       "20  Gym / Fitness Center                  Park         Sandwich Place   \n",
       "22                  Café    Mexican Restaurant        Thai Restaurant   \n",
       "23        Clothing Store           Coffee Shop         Cosmetics Shop   \n",
       "24                  Café        Sandwich Place            Coffee Shop   \n",
       "25        Breakfast Spot             Gift Shop             Restaurant   \n",
       "26        Sandwich Place          Dessert Shop            Pizza Place   \n",
       "27                  Café             Bookstore                 Bakery   \n",
       "28           Coffee Shop           Pizza Place                   Café   \n",
       "30                  Café           Coffee Shop  Vietnamese Restaurant   \n",
       "31           Coffee Shop                   Pub    American Restaurant   \n",
       "32       Airport Service        Airport Lounge       Airport Terminal   \n",
       "34           Coffee Shop    Seafood Restaurant           Cocktail Bar   \n",
       "35                  Café           Pizza Place            Coffee Shop   \n",
       "36           Coffee Shop                  Café                  Hotel   \n",
       "37           Coffee Shop   Japanese Restaurant       Sushi Restaurant   \n",
       "38           Yoga Studio         Garden Center             Skate Park   \n",
       "\n",
       "            4th Most Common Venue        5th Most Common Venue  \\\n",
       "0                  Breakfast Spot                      Theater   \n",
       "1                            Café              Bubble Tea Shop   \n",
       "2                    Cocktail Bar                   Restaurant   \n",
       "3                     Yoga Studio                   Donut Shop   \n",
       "4              Seafood Restaurant                     Beer Bar   \n",
       "5              Italian Restaurant                  Salad Place   \n",
       "6                       Nightclub           Italian Restaurant   \n",
       "7                      Restaurant                          Gym   \n",
       "8                     Supermarket                         Bank   \n",
       "10                           Café           Italian Restaurant   \n",
       "11                           Café             Asian Restaurant   \n",
       "12                 Ice Cream Shop       Furniture / Home Store   \n",
       "13             Italian Restaurant                   Restaurant   \n",
       "14                      Pet Store                       Bakery   \n",
       "15                            Pub                      Brewery   \n",
       "16                           Café                          Gym   \n",
       "17                    Music Store                      Brewery   \n",
       "20               Department Store               Breakfast Spot   \n",
       "22                  Grocery Store       Furniture / Home Store   \n",
       "23                    Yoga Studio           Chinese Restaurant   \n",
       "24                 History Museum                 Burger Joint   \n",
       "25                   Dessert Shop  Eastern European Restaurant   \n",
       "26                    Coffee Shop           Italian Restaurant   \n",
       "27                            Bar          Japanese Restaurant   \n",
       "28               Sushi Restaurant           Italian Restaurant   \n",
       "30  Vegetarian / Vegan Restaurant                  Gaming Cafe   \n",
       "31               Sushi Restaurant                   Bagel Shop   \n",
       "32                  Boat or Ferry             Sculpture Garden   \n",
       "34                          Hotel                       Bakery   \n",
       "35                     Restaurant           Italian Restaurant   \n",
       "36                     Restaurant                          Gym   \n",
       "37                     Restaurant                      Gay Bar   \n",
       "38                     Restaurant             Recording Studio   \n",
       "\n",
       "        6th Most Common Venue      7th Most Common Venue  \\\n",
       "0                         Pub                       Café   \n",
       "1   Middle Eastern Restaurant        Japanese Restaurant   \n",
       "2                         Gym             Lingerie Store   \n",
       "3              Discount Store        Distribution Center   \n",
       "4              Farmers Market                   Pharmacy   \n",
       "5                 Pizza Place               Burger Joint   \n",
       "6                  Baby Store                 Restaurant   \n",
       "7              Clothing Store              Deli / Bodega   \n",
       "8                         Bar  Middle Eastern Restaurant   \n",
       "10        Sporting Goods Shop             Scenic Lookout   \n",
       "11                Coffee Shop      Vietnamese Restaurant   \n",
       "12            Bubble Tea Shop          Indian Restaurant   \n",
       "13         Seafood Restaurant                Salad Place   \n",
       "14      Performing Arts Venue                  Nightclub   \n",
       "15         Italian Restaurant                 Restaurant   \n",
       "16         Italian Restaurant        Japanese Restaurant   \n",
       "17                       Café                  Gastropub   \n",
       "20                      Hotel               Dance Studio   \n",
       "22                  Bookstore       Fast Food Restaurant   \n",
       "23                      Diner             Ice Cream Shop   \n",
       "24                  BBQ Joint               Liquor Store   \n",
       "25                        Bar         Italian Restaurant   \n",
       "26                       Café           Sushi Restaurant   \n",
       "27             Sandwich Place                       Bank   \n",
       "28                        Pub                 Comic Shop   \n",
       "30        Arts & Crafts Store             Farmers Market   \n",
       "31         Light Rail Station        Fried Chicken Joint   \n",
       "32                    Airport         Airport Food Court   \n",
       "34                       Café                 Restaurant   \n",
       "35                        Pub                     Bakery   \n",
       "36        Japanese Restaurant              Deli / Bodega   \n",
       "37                        Pub                Men's Store   \n",
       "38                Pizza Place                       Park   \n",
       "\n",
       "            8th Most Common Venue      9th Most Common Venue  \\\n",
       "0               French Restaurant          Health Food Store   \n",
       "1                           Hotel             Cosmetics Shop   \n",
       "2                  Farmers Market         Seafood Restaurant   \n",
       "3                         Dog Run           Doner Restaurant   \n",
       "4                     Cheese Shop                 Restaurant   \n",
       "5                 Bubble Tea Shop        Japanese Restaurant   \n",
       "6                     Candy Store         Athletics & Sports   \n",
       "7                           Hotel                Salad Place   \n",
       "8                            Café                Music Venue   \n",
       "10            Fried Chicken Joint                 Restaurant   \n",
       "11  Vegetarian / Vegan Restaurant          French Restaurant   \n",
       "12                            Spa                  Juice Bar   \n",
       "13            Japanese Restaurant             Breakfast Spot   \n",
       "14                   Climbing Gym                 Restaurant   \n",
       "15              Fish & Chips Shop                 Steakhouse   \n",
       "16                  Deli / Bodega         Seafood Restaurant   \n",
       "17                    Yoga Studio                Fish Market   \n",
       "20              Food & Drink Shop                 Donut Shop   \n",
       "22                    Flea Market  Cajun / Creole Restaurant   \n",
       "23                           Café         Mexican Restaurant   \n",
       "24                            Pub  Middle Eastern Restaurant   \n",
       "25                        Dog Run              Movie Theater   \n",
       "26                            Gym               Dance Studio   \n",
       "27             Italian Restaurant                   Beer Bar   \n",
       "28                     Restaurant              Smoothie Shop   \n",
       "30             Mexican Restaurant               Burger Joint   \n",
       "31                           Bank                 Restaurant   \n",
       "32                   Airport Gate                   Boutique   \n",
       "34                       Beer Bar        Japanese Restaurant   \n",
       "35             Chinese Restaurant          Outdoor Sculpture   \n",
       "36                    Salad Place                 Steakhouse   \n",
       "37       Mediterranean Restaurant                      Hotel   \n",
       "38             Light Rail Station                     Garden   \n",
       "\n",
       "         10th Most Common Venue  \n",
       "0                 Historic Site  \n",
       "1              Ramen Restaurant  \n",
       "2           American Restaurant  \n",
       "3   Eastern European Restaurant  \n",
       "4                     Jazz Club  \n",
       "5                    Poke Place  \n",
       "6                   Coffee Shop  \n",
       "7            Seafood Restaurant  \n",
       "8              Recording Studio  \n",
       "10                      Brewery  \n",
       "11                         Park  \n",
       "12                    Bookstore  \n",
       "13          Sporting Goods Shop  \n",
       "14                Burrito Place  \n",
       "15               Ice Cream Shop  \n",
       "16                 Cocktail Bar  \n",
       "17                    Pet Store  \n",
       "20             Doner Restaurant  \n",
       "22                    Speakeasy  \n",
       "23         Fast Food Restaurant  \n",
       "24            Indian Restaurant  \n",
       "25                    Bookstore  \n",
       "26           Seafood Restaurant  \n",
       "27                   Beer Store  \n",
       "28           Falafel Restaurant  \n",
       "30                         Park  \n",
       "31                  Supermarket  \n",
       "32              Harbor / Marina  \n",
       "34           Italian Restaurant  \n",
       "35                         Park  \n",
       "36             Asian Restaurant  \n",
       "37                  Yoga Studio  \n",
       "38                          Spa  "
      ],
      "text/html": "<div>\n<style scoped>\n    .dataframe tbody tr th:only-of-type {\n        vertical-align: middle;\n    }\n\n    .dataframe tbody tr th {\n        vertical-align: top;\n    }\n\n    .dataframe thead th {\n        text-align: right;\n    }\n</style>\n<table border=\"1\" class=\"dataframe\">\n  <thead>\n    <tr style=\"text-align: right;\">\n      <th></th>\n      <th>Borough</th>\n      <th>Cluster Labels</th>\n      <th>1st Most Common Venue</th>\n      <th>2nd Most Common Venue</th>\n      <th>3rd Most Common Venue</th>\n      <th>4th Most Common Venue</th>\n      <th>5th Most Common Venue</th>\n      <th>6th Most Common Venue</th>\n      <th>7th Most Common Venue</th>\n      <th>8th Most Common Venue</th>\n      <th>9th Most Common Venue</th>\n      <th>10th Most Common Venue</th>\n    </tr>\n  </thead>\n  <tbody>\n    <tr>\n      <th>0</th>\n      <td>Downtown Toronto</td>\n      <td>0</td>\n      <td>Coffee Shop</td>\n      <td>Bakery</td>\n      <td>Park</td>\n      <td>Breakfast Spot</td>\n      <td>Theater</td>\n      <td>Pub</td>\n      <td>Café</td>\n      <td>French Restaurant</td>\n      <td>Health Food Store</td>\n      <td>Historic Site</td>\n    </tr>\n    <tr>\n      <th>1</th>\n      <td>Downtown Toronto</td>\n      <td>0</td>\n      <td>Coffee Shop</td>\n      <td>Clothing Store</td>\n      <td>Italian Restaurant</td>\n      <td>Café</td>\n      <td>Bubble Tea Shop</td>\n      <td>Middle Eastern Restaurant</td>\n      <td>Japanese Restaurant</td>\n      <td>Hotel</td>\n      <td>Cosmetics Shop</td>\n      <td>Ramen Restaurant</td>\n    </tr>\n    <tr>\n      <th>2</th>\n      <td>Downtown Toronto</td>\n      <td>0</td>\n      <td>Coffee Shop</td>\n      <td>Café</td>\n      <td>Gastropub</td>\n      <td>Cocktail Bar</td>\n      <td>Restaurant</td>\n      <td>Gym</td>\n      <td>Lingerie Store</td>\n      <td>Farmers Market</td>\n      <td>Seafood Restaurant</td>\n      <td>American Restaurant</td>\n    </tr>\n    <tr>\n      <th>3</th>\n      <td>East Toronto</td>\n      <td>0</td>\n      <td>Health Food Store</td>\n      <td>Trail</td>\n      <td>Pub</td>\n      <td>Yoga Studio</td>\n      <td>Donut Shop</td>\n      <td>Discount Store</td>\n      <td>Distribution Center</td>\n      <td>Dog Run</td>\n      <td>Doner Restaurant</td>\n      <td>Eastern European Restaurant</td>\n    </tr>\n    <tr>\n      <th>4</th>\n      <td>Downtown Toronto</td>\n      <td>0</td>\n      <td>Coffee Shop</td>\n      <td>Cocktail Bar</td>\n      <td>Bakery</td>\n      <td>Seafood Restaurant</td>\n      <td>Beer Bar</td>\n      <td>Farmers Market</td>\n      <td>Pharmacy</td>\n      <td>Cheese Shop</td>\n      <td>Restaurant</td>\n      <td>Jazz Club</td>\n    </tr>\n    <tr>\n      <th>5</th>\n      <td>Downtown Toronto</td>\n      <td>0</td>\n      <td>Coffee Shop</td>\n      <td>Sandwich Place</td>\n      <td>Café</td>\n      <td>Italian Restaurant</td>\n      <td>Salad Place</td>\n      <td>Pizza Place</td>\n      <td>Burger Joint</td>\n      <td>Bubble Tea Shop</td>\n      <td>Japanese Restaurant</td>\n      <td>Poke Place</td>\n    </tr>\n    <tr>\n      <th>6</th>\n      <td>Downtown Toronto</td>\n      <td>0</td>\n      <td>Grocery Store</td>\n      <td>Café</td>\n      <td>Park</td>\n      <td>Nightclub</td>\n      <td>Italian Restaurant</td>\n      <td>Baby Store</td>\n      <td>Restaurant</td>\n      <td>Candy Store</td>\n      <td>Athletics &amp; Sports</td>\n      <td>Coffee Shop</td>\n    </tr>\n    <tr>\n      <th>7</th>\n      <td>Downtown Toronto</td>\n      <td>0</td>\n      <td>Coffee Shop</td>\n      <td>Café</td>\n      <td>Thai Restaurant</td>\n      <td>Restaurant</td>\n      <td>Gym</td>\n      <td>Clothing Store</td>\n      <td>Deli / Bodega</td>\n      <td>Hotel</td>\n      <td>Salad Place</td>\n      <td>Seafood Restaurant</td>\n    </tr>\n    <tr>\n      <th>8</th>\n      <td>West Toronto</td>\n      <td>0</td>\n      <td>Bakery</td>\n      <td>Pharmacy</td>\n      <td>Liquor Store</td>\n      <td>Supermarket</td>\n      <td>Bank</td>\n      <td>Bar</td>\n      <td>Middle Eastern Restaurant</td>\n      <td>Café</td>\n      <td>Music Venue</td>\n      <td>Recording Studio</td>\n    </tr>\n    <tr>\n      <th>10</th>\n      <td>Downtown Toronto</td>\n      <td>0</td>\n      <td>Coffee Shop</td>\n      <td>Aquarium</td>\n      <td>Hotel</td>\n      <td>Café</td>\n      <td>Italian Restaurant</td>\n      <td>Sporting Goods Shop</td>\n      <td>Scenic Lookout</td>\n      <td>Fried Chicken Joint</td>\n      <td>Restaurant</td>\n      <td>Brewery</td>\n    </tr>\n    <tr>\n      <th>11</th>\n      <td>West Toronto</td>\n      <td>0</td>\n      <td>Bar</td>\n      <td>Men's Store</td>\n      <td>Restaurant</td>\n      <td>Café</td>\n      <td>Asian Restaurant</td>\n      <td>Coffee Shop</td>\n      <td>Vietnamese Restaurant</td>\n      <td>Vegetarian / Vegan Restaurant</td>\n      <td>French Restaurant</td>\n      <td>Park</td>\n    </tr>\n    <tr>\n      <th>12</th>\n      <td>East Toronto</td>\n      <td>0</td>\n      <td>Greek Restaurant</td>\n      <td>Coffee Shop</td>\n      <td>Italian Restaurant</td>\n      <td>Ice Cream Shop</td>\n      <td>Furniture / Home Store</td>\n      <td>Bubble Tea Shop</td>\n      <td>Indian Restaurant</td>\n      <td>Spa</td>\n      <td>Juice Bar</td>\n      <td>Bookstore</td>\n    </tr>\n    <tr>\n      <th>13</th>\n      <td>Downtown Toronto</td>\n      <td>0</td>\n      <td>Coffee Shop</td>\n      <td>Hotel</td>\n      <td>Café</td>\n      <td>Italian Restaurant</td>\n      <td>Restaurant</td>\n      <td>Seafood Restaurant</td>\n      <td>Salad Place</td>\n      <td>Japanese Restaurant</td>\n      <td>Breakfast Spot</td>\n      <td>Sporting Goods Shop</td>\n    </tr>\n    <tr>\n      <th>14</th>\n      <td>West Toronto</td>\n      <td>0</td>\n      <td>Café</td>\n      <td>Coffee Shop</td>\n      <td>Breakfast Spot</td>\n      <td>Pet Store</td>\n      <td>Bakery</td>\n      <td>Performing Arts Venue</td>\n      <td>Nightclub</td>\n      <td>Climbing Gym</td>\n      <td>Restaurant</td>\n      <td>Burrito Place</td>\n    </tr>\n    <tr>\n      <th>15</th>\n      <td>East Toronto</td>\n      <td>0</td>\n      <td>Park</td>\n      <td>Sandwich Place</td>\n      <td>Fast Food Restaurant</td>\n      <td>Pub</td>\n      <td>Brewery</td>\n      <td>Italian Restaurant</td>\n      <td>Restaurant</td>\n      <td>Fish &amp; Chips Shop</td>\n      <td>Steakhouse</td>\n      <td>Ice Cream Shop</td>\n    </tr>\n    <tr>\n      <th>16</th>\n      <td>Downtown Toronto</td>\n      <td>0</td>\n      <td>Coffee Shop</td>\n      <td>Restaurant</td>\n      <td>Hotel</td>\n      <td>Café</td>\n      <td>Gym</td>\n      <td>Italian Restaurant</td>\n      <td>Japanese Restaurant</td>\n      <td>Deli / Bodega</td>\n      <td>Seafood Restaurant</td>\n      <td>Cocktail Bar</td>\n    </tr>\n    <tr>\n      <th>17</th>\n      <td>East Toronto</td>\n      <td>0</td>\n      <td>Coffee Shop</td>\n      <td>American Restaurant</td>\n      <td>Bakery</td>\n      <td>Music Store</td>\n      <td>Brewery</td>\n      <td>Café</td>\n      <td>Gastropub</td>\n      <td>Yoga Studio</td>\n      <td>Fish Market</td>\n      <td>Pet Store</td>\n    </tr>\n    <tr>\n      <th>20</th>\n      <td>Central Toronto</td>\n      <td>0</td>\n      <td>Gym / Fitness Center</td>\n      <td>Park</td>\n      <td>Sandwich Place</td>\n      <td>Department Store</td>\n      <td>Breakfast Spot</td>\n      <td>Hotel</td>\n      <td>Dance Studio</td>\n      <td>Food &amp; Drink Shop</td>\n      <td>Donut Shop</td>\n      <td>Doner Restaurant</td>\n    </tr>\n    <tr>\n      <th>22</th>\n      <td>West Toronto</td>\n      <td>0</td>\n      <td>Café</td>\n      <td>Mexican Restaurant</td>\n      <td>Thai Restaurant</td>\n      <td>Grocery Store</td>\n      <td>Furniture / Home Store</td>\n      <td>Bookstore</td>\n      <td>Fast Food Restaurant</td>\n      <td>Flea Market</td>\n      <td>Cajun / Creole Restaurant</td>\n      <td>Speakeasy</td>\n    </tr>\n    <tr>\n      <th>23</th>\n      <td>Central Toronto</td>\n      <td>0</td>\n      <td>Clothing Store</td>\n      <td>Coffee Shop</td>\n      <td>Cosmetics Shop</td>\n      <td>Yoga Studio</td>\n      <td>Chinese Restaurant</td>\n      <td>Diner</td>\n      <td>Ice Cream Shop</td>\n      <td>Café</td>\n      <td>Mexican Restaurant</td>\n      <td>Fast Food Restaurant</td>\n    </tr>\n    <tr>\n      <th>24</th>\n      <td>Central Toronto</td>\n      <td>0</td>\n      <td>Café</td>\n      <td>Sandwich Place</td>\n      <td>Coffee Shop</td>\n      <td>History Museum</td>\n      <td>Burger Joint</td>\n      <td>BBQ Joint</td>\n      <td>Liquor Store</td>\n      <td>Pub</td>\n      <td>Middle Eastern Restaurant</td>\n      <td>Indian Restaurant</td>\n    </tr>\n    <tr>\n      <th>25</th>\n      <td>West Toronto</td>\n      <td>0</td>\n      <td>Breakfast Spot</td>\n      <td>Gift Shop</td>\n      <td>Restaurant</td>\n      <td>Dessert Shop</td>\n      <td>Eastern European Restaurant</td>\n      <td>Bar</td>\n      <td>Italian Restaurant</td>\n      <td>Dog Run</td>\n      <td>Movie Theater</td>\n      <td>Bookstore</td>\n    </tr>\n    <tr>\n      <th>26</th>\n      <td>Central Toronto</td>\n      <td>0</td>\n      <td>Sandwich Place</td>\n      <td>Dessert Shop</td>\n      <td>Pizza Place</td>\n      <td>Coffee Shop</td>\n      <td>Italian Restaurant</td>\n      <td>Café</td>\n      <td>Sushi Restaurant</td>\n      <td>Gym</td>\n      <td>Dance Studio</td>\n      <td>Seafood Restaurant</td>\n    </tr>\n    <tr>\n      <th>27</th>\n      <td>Downtown Toronto</td>\n      <td>0</td>\n      <td>Café</td>\n      <td>Bookstore</td>\n      <td>Bakery</td>\n      <td>Bar</td>\n      <td>Japanese Restaurant</td>\n      <td>Sandwich Place</td>\n      <td>Bank</td>\n      <td>Italian Restaurant</td>\n      <td>Beer Bar</td>\n      <td>Beer Store</td>\n    </tr>\n    <tr>\n      <th>28</th>\n      <td>West Toronto</td>\n      <td>0</td>\n      <td>Coffee Shop</td>\n      <td>Pizza Place</td>\n      <td>Café</td>\n      <td>Sushi Restaurant</td>\n      <td>Italian Restaurant</td>\n      <td>Pub</td>\n      <td>Comic Shop</td>\n      <td>Restaurant</td>\n      <td>Smoothie Shop</td>\n      <td>Falafel Restaurant</td>\n    </tr>\n    <tr>\n      <th>30</th>\n      <td>Downtown Toronto</td>\n      <td>0</td>\n      <td>Café</td>\n      <td>Coffee Shop</td>\n      <td>Vietnamese Restaurant</td>\n      <td>Vegetarian / Vegan Restaurant</td>\n      <td>Gaming Cafe</td>\n      <td>Arts &amp; Crafts Store</td>\n      <td>Farmers Market</td>\n      <td>Mexican Restaurant</td>\n      <td>Burger Joint</td>\n      <td>Park</td>\n    </tr>\n    <tr>\n      <th>31</th>\n      <td>Central Toronto</td>\n      <td>0</td>\n      <td>Coffee Shop</td>\n      <td>Pub</td>\n      <td>American Restaurant</td>\n      <td>Sushi Restaurant</td>\n      <td>Bagel Shop</td>\n      <td>Light Rail Station</td>\n      <td>Fried Chicken Joint</td>\n      <td>Bank</td>\n      <td>Restaurant</td>\n      <td>Supermarket</td>\n    </tr>\n    <tr>\n      <th>32</th>\n      <td>Downtown Toronto</td>\n      <td>0</td>\n      <td>Airport Service</td>\n      <td>Airport Lounge</td>\n      <td>Airport Terminal</td>\n      <td>Boat or Ferry</td>\n      <td>Sculpture Garden</td>\n      <td>Airport</td>\n      <td>Airport Food Court</td>\n      <td>Airport Gate</td>\n      <td>Boutique</td>\n      <td>Harbor / Marina</td>\n    </tr>\n    <tr>\n      <th>34</th>\n      <td>Downtown TorontoStn A PO Boxes25 The Esplanade</td>\n      <td>0</td>\n      <td>Coffee Shop</td>\n      <td>Seafood Restaurant</td>\n      <td>Cocktail Bar</td>\n      <td>Hotel</td>\n      <td>Bakery</td>\n      <td>Café</td>\n      <td>Restaurant</td>\n      <td>Beer Bar</td>\n      <td>Japanese Restaurant</td>\n      <td>Italian Restaurant</td>\n    </tr>\n    <tr>\n      <th>35</th>\n      <td>Downtown Toronto</td>\n      <td>0</td>\n      <td>Café</td>\n      <td>Pizza Place</td>\n      <td>Coffee Shop</td>\n      <td>Restaurant</td>\n      <td>Italian Restaurant</td>\n      <td>Pub</td>\n      <td>Bakery</td>\n      <td>Chinese Restaurant</td>\n      <td>Outdoor Sculpture</td>\n      <td>Park</td>\n    </tr>\n    <tr>\n      <th>36</th>\n      <td>Downtown Toronto</td>\n      <td>0</td>\n      <td>Coffee Shop</td>\n      <td>Café</td>\n      <td>Hotel</td>\n      <td>Restaurant</td>\n      <td>Gym</td>\n      <td>Japanese Restaurant</td>\n      <td>Deli / Bodega</td>\n      <td>Salad Place</td>\n      <td>Steakhouse</td>\n      <td>Asian Restaurant</td>\n    </tr>\n    <tr>\n      <th>37</th>\n      <td>Downtown Toronto</td>\n      <td>0</td>\n      <td>Coffee Shop</td>\n      <td>Japanese Restaurant</td>\n      <td>Sushi Restaurant</td>\n      <td>Restaurant</td>\n      <td>Gay Bar</td>\n      <td>Pub</td>\n      <td>Men's Store</td>\n      <td>Mediterranean Restaurant</td>\n      <td>Hotel</td>\n      <td>Yoga Studio</td>\n    </tr>\n    <tr>\n      <th>38</th>\n      <td>East TorontoBusiness reply mail Processing Cen...</td>\n      <td>0</td>\n      <td>Yoga Studio</td>\n      <td>Garden Center</td>\n      <td>Skate Park</td>\n      <td>Restaurant</td>\n      <td>Recording Studio</td>\n      <td>Pizza Place</td>\n      <td>Park</td>\n      <td>Light Rail Station</td>\n      <td>Garden</td>\n      <td>Spa</td>\n    </tr>\n  </tbody>\n</table>\n</div>"
     },
     "metadata": {},
     "execution_count": 128
    }
   ],
   "source": [
    "toronto_merged.loc[toronto_merged['Cluster Labels'] == 0, toronto_merged.columns[[1] + list(range(5, toronto_merged.shape[1]))]]"
   ]
  },
  {
   "source": [
    "CLUSTER 1"
   ],
   "cell_type": "markdown",
   "metadata": {}
  },
  {
   "cell_type": "code",
   "execution_count": 129,
   "metadata": {},
   "outputs": [
    {
     "output_type": "execute_result",
     "data": {
      "text/plain": [
       "             Borough  Cluster Labels 1st Most Common Venue  \\\n",
       "18   Central Toronto               1                  Park   \n",
       "29   Central Toronto               1                  Park   \n",
       "33  Downtown Toronto               1                  Park   \n",
       "\n",
       "   2nd Most Common Venue 3rd Most Common Venue 4th Most Common Venue  \\\n",
       "18           Swim School              Bus Line           Yoga Studio   \n",
       "29          Tennis Court           Yoga Studio                 Diner   \n",
       "33            Playground                 Trail           Yoga Studio   \n",
       "\n",
       "   5th Most Common Venue 6th Most Common Venue 7th Most Common Venue  \\\n",
       "18        Discount Store           Event Space  Ethiopian Restaurant   \n",
       "29    Falafel Restaurant           Event Space  Ethiopian Restaurant   \n",
       "33          Dessert Shop  Ethiopian Restaurant           Escape Room   \n",
       "\n",
       "   8th Most Common Venue        9th Most Common Venue  \\\n",
       "18           Escape Room            Electronics Store   \n",
       "29           Escape Room            Electronics Store   \n",
       "33     Electronics Store  Eastern European Restaurant   \n",
       "\n",
       "         10th Most Common Venue  \n",
       "18  Eastern European Restaurant  \n",
       "29  Eastern European Restaurant  \n",
       "33          Dumpling Restaurant  "
      ],
      "text/html": "<div>\n<style scoped>\n    .dataframe tbody tr th:only-of-type {\n        vertical-align: middle;\n    }\n\n    .dataframe tbody tr th {\n        vertical-align: top;\n    }\n\n    .dataframe thead th {\n        text-align: right;\n    }\n</style>\n<table border=\"1\" class=\"dataframe\">\n  <thead>\n    <tr style=\"text-align: right;\">\n      <th></th>\n      <th>Borough</th>\n      <th>Cluster Labels</th>\n      <th>1st Most Common Venue</th>\n      <th>2nd Most Common Venue</th>\n      <th>3rd Most Common Venue</th>\n      <th>4th Most Common Venue</th>\n      <th>5th Most Common Venue</th>\n      <th>6th Most Common Venue</th>\n      <th>7th Most Common Venue</th>\n      <th>8th Most Common Venue</th>\n      <th>9th Most Common Venue</th>\n      <th>10th Most Common Venue</th>\n    </tr>\n  </thead>\n  <tbody>\n    <tr>\n      <th>18</th>\n      <td>Central Toronto</td>\n      <td>1</td>\n      <td>Park</td>\n      <td>Swim School</td>\n      <td>Bus Line</td>\n      <td>Yoga Studio</td>\n      <td>Discount Store</td>\n      <td>Event Space</td>\n      <td>Ethiopian Restaurant</td>\n      <td>Escape Room</td>\n      <td>Electronics Store</td>\n      <td>Eastern European Restaurant</td>\n    </tr>\n    <tr>\n      <th>29</th>\n      <td>Central Toronto</td>\n      <td>1</td>\n      <td>Park</td>\n      <td>Tennis Court</td>\n      <td>Yoga Studio</td>\n      <td>Diner</td>\n      <td>Falafel Restaurant</td>\n      <td>Event Space</td>\n      <td>Ethiopian Restaurant</td>\n      <td>Escape Room</td>\n      <td>Electronics Store</td>\n      <td>Eastern European Restaurant</td>\n    </tr>\n    <tr>\n      <th>33</th>\n      <td>Downtown Toronto</td>\n      <td>1</td>\n      <td>Park</td>\n      <td>Playground</td>\n      <td>Trail</td>\n      <td>Yoga Studio</td>\n      <td>Dessert Shop</td>\n      <td>Ethiopian Restaurant</td>\n      <td>Escape Room</td>\n      <td>Electronics Store</td>\n      <td>Eastern European Restaurant</td>\n      <td>Dumpling Restaurant</td>\n    </tr>\n  </tbody>\n</table>\n</div>"
     },
     "metadata": {},
     "execution_count": 129
    }
   ],
   "source": [
    "toronto_merged.loc[toronto_merged['Cluster Labels'] == 1, toronto_merged.columns[[1] + list(range(5, toronto_merged.shape[1]))]]"
   ]
  },
  {
   "source": [
    "CLUSTER 2"
   ],
   "cell_type": "markdown",
   "metadata": {}
  },
  {
   "cell_type": "code",
   "execution_count": 130,
   "metadata": {},
   "outputs": [
    {
     "output_type": "execute_result",
     "data": {
      "text/plain": [
       "                 Borough  Cluster Labels 1st Most Common Venue  \\\n",
       "9  East YorkEast Toronto               2                  Park   \n",
       "\n",
       "  2nd Most Common Venue 3rd Most Common Venue 4th Most Common Venue  \\\n",
       "9     Convenience Store           Yoga Studio        Discount Store   \n",
       "\n",
       "  5th Most Common Venue 6th Most Common Venue 7th Most Common Venue  \\\n",
       "9    Falafel Restaurant           Event Space  Ethiopian Restaurant   \n",
       "\n",
       "  8th Most Common Venue 9th Most Common Venue       10th Most Common Venue  \n",
       "9           Escape Room     Electronics Store  Eastern European Restaurant  "
      ],
      "text/html": "<div>\n<style scoped>\n    .dataframe tbody tr th:only-of-type {\n        vertical-align: middle;\n    }\n\n    .dataframe tbody tr th {\n        vertical-align: top;\n    }\n\n    .dataframe thead th {\n        text-align: right;\n    }\n</style>\n<table border=\"1\" class=\"dataframe\">\n  <thead>\n    <tr style=\"text-align: right;\">\n      <th></th>\n      <th>Borough</th>\n      <th>Cluster Labels</th>\n      <th>1st Most Common Venue</th>\n      <th>2nd Most Common Venue</th>\n      <th>3rd Most Common Venue</th>\n      <th>4th Most Common Venue</th>\n      <th>5th Most Common Venue</th>\n      <th>6th Most Common Venue</th>\n      <th>7th Most Common Venue</th>\n      <th>8th Most Common Venue</th>\n      <th>9th Most Common Venue</th>\n      <th>10th Most Common Venue</th>\n    </tr>\n  </thead>\n  <tbody>\n    <tr>\n      <th>9</th>\n      <td>East YorkEast Toronto</td>\n      <td>2</td>\n      <td>Park</td>\n      <td>Convenience Store</td>\n      <td>Yoga Studio</td>\n      <td>Discount Store</td>\n      <td>Falafel Restaurant</td>\n      <td>Event Space</td>\n      <td>Ethiopian Restaurant</td>\n      <td>Escape Room</td>\n      <td>Electronics Store</td>\n      <td>Eastern European Restaurant</td>\n    </tr>\n  </tbody>\n</table>\n</div>"
     },
     "metadata": {},
     "execution_count": 130
    }
   ],
   "source": [
    "toronto_merged.loc[toronto_merged['Cluster Labels'] == 2, toronto_merged.columns[[1] + list(range(5, toronto_merged.shape[1]))]]"
   ]
  },
  {
   "source": [
    "CLUSTER 4"
   ],
   "cell_type": "markdown",
   "metadata": {}
  },
  {
   "cell_type": "code",
   "execution_count": 131,
   "metadata": {},
   "outputs": [
    {
     "output_type": "execute_result",
     "data": {
      "text/plain": [
       "            Borough  Cluster Labels 1st Most Common Venue  \\\n",
       "21  Central Toronto               3         Jewelry Store   \n",
       "\n",
       "   2nd Most Common Venue 3rd Most Common Venue 4th Most Common Venue  \\\n",
       "21                 Trail      Sushi Restaurant              Bus Line   \n",
       "\n",
       "   5th Most Common Venue 6th Most Common Venue 7th Most Common Venue  \\\n",
       "21           Yoga Studio        Discount Store           Event Space   \n",
       "\n",
       "   8th Most Common Venue 9th Most Common Venue 10th Most Common Venue  \n",
       "21  Ethiopian Restaurant           Escape Room      Electronics Store  "
      ],
      "text/html": "<div>\n<style scoped>\n    .dataframe tbody tr th:only-of-type {\n        vertical-align: middle;\n    }\n\n    .dataframe tbody tr th {\n        vertical-align: top;\n    }\n\n    .dataframe thead th {\n        text-align: right;\n    }\n</style>\n<table border=\"1\" class=\"dataframe\">\n  <thead>\n    <tr style=\"text-align: right;\">\n      <th></th>\n      <th>Borough</th>\n      <th>Cluster Labels</th>\n      <th>1st Most Common Venue</th>\n      <th>2nd Most Common Venue</th>\n      <th>3rd Most Common Venue</th>\n      <th>4th Most Common Venue</th>\n      <th>5th Most Common Venue</th>\n      <th>6th Most Common Venue</th>\n      <th>7th Most Common Venue</th>\n      <th>8th Most Common Venue</th>\n      <th>9th Most Common Venue</th>\n      <th>10th Most Common Venue</th>\n    </tr>\n  </thead>\n  <tbody>\n    <tr>\n      <th>21</th>\n      <td>Central Toronto</td>\n      <td>3</td>\n      <td>Jewelry Store</td>\n      <td>Trail</td>\n      <td>Sushi Restaurant</td>\n      <td>Bus Line</td>\n      <td>Yoga Studio</td>\n      <td>Discount Store</td>\n      <td>Event Space</td>\n      <td>Ethiopian Restaurant</td>\n      <td>Escape Room</td>\n      <td>Electronics Store</td>\n    </tr>\n  </tbody>\n</table>\n</div>"
     },
     "metadata": {},
     "execution_count": 131
    }
   ],
   "source": [
    "toronto_merged.loc[toronto_merged['Cluster Labels'] == 3, toronto_merged.columns[[1] + list(range(5, toronto_merged.shape[1]))]]"
   ]
  },
  {
   "source": [
    "CLUSTER 4"
   ],
   "cell_type": "markdown",
   "metadata": {}
  },
  {
   "cell_type": "code",
   "execution_count": 132,
   "metadata": {},
   "outputs": [
    {
     "output_type": "execute_result",
     "data": {
      "text/plain": [
       "            Borough  Cluster Labels 1st Most Common Venue  \\\n",
       "19  Central Toronto               4          Home Service   \n",
       "\n",
       "   2nd Most Common Venue 3rd Most Common Venue 4th Most Common Venue  \\\n",
       "19                Garden  Fast Food Restaurant           Yoga Studio   \n",
       "\n",
       "   5th Most Common Venue 6th Most Common Venue 7th Most Common Venue  \\\n",
       "19        Discount Store    Falafel Restaurant           Event Space   \n",
       "\n",
       "   8th Most Common Venue 9th Most Common Venue 10th Most Common Venue  \n",
       "19  Ethiopian Restaurant           Escape Room      Electronics Store  "
      ],
      "text/html": "<div>\n<style scoped>\n    .dataframe tbody tr th:only-of-type {\n        vertical-align: middle;\n    }\n\n    .dataframe tbody tr th {\n        vertical-align: top;\n    }\n\n    .dataframe thead th {\n        text-align: right;\n    }\n</style>\n<table border=\"1\" class=\"dataframe\">\n  <thead>\n    <tr style=\"text-align: right;\">\n      <th></th>\n      <th>Borough</th>\n      <th>Cluster Labels</th>\n      <th>1st Most Common Venue</th>\n      <th>2nd Most Common Venue</th>\n      <th>3rd Most Common Venue</th>\n      <th>4th Most Common Venue</th>\n      <th>5th Most Common Venue</th>\n      <th>6th Most Common Venue</th>\n      <th>7th Most Common Venue</th>\n      <th>8th Most Common Venue</th>\n      <th>9th Most Common Venue</th>\n      <th>10th Most Common Venue</th>\n    </tr>\n  </thead>\n  <tbody>\n    <tr>\n      <th>19</th>\n      <td>Central Toronto</td>\n      <td>4</td>\n      <td>Home Service</td>\n      <td>Garden</td>\n      <td>Fast Food Restaurant</td>\n      <td>Yoga Studio</td>\n      <td>Discount Store</td>\n      <td>Falafel Restaurant</td>\n      <td>Event Space</td>\n      <td>Ethiopian Restaurant</td>\n      <td>Escape Room</td>\n      <td>Electronics Store</td>\n    </tr>\n  </tbody>\n</table>\n</div>"
     },
     "metadata": {},
     "execution_count": 132
    }
   ],
   "source": [
    "toronto_merged.loc[toronto_merged['Cluster Labels'] == 4, toronto_merged.columns[[1] + list(range(5, toronto_merged.shape[1]))]]"
   ]
  }
 ]
}